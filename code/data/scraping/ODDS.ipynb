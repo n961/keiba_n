{
 "cells": [
  {
   "cell_type": "code",
   "execution_count": 6,
   "metadata": {},
   "outputs": [],
   "source": [
    "from selenium import webdriver\n",
    "from selenium.webdriver.chrome.options import Options\n",
    "from selenium.webdriver.support import expected_conditions\n",
    "from selenium.webdriver.support.ui import WebDriverWait\n",
    "from selenium.webdriver.common.by import By\n",
    "import pandas as pd\n",
    "import re\n",
    "import time\n",
    "from tqdm import tqdm"
   ]
  },
  {
   "cell_type": "code",
   "execution_count": 85,
   "metadata": {},
   "outputs": [
    {
     "name": "stderr",
     "output_type": "stream",
     "text": [
      "<ipython-input-85-e03bfc11aade>:4: DeprecationWarning: use options instead of chrome_options\n",
      "  driver = webdriver.Chrome(executable_path=\"/Users/k-yasumoto/downloads/chromedriver\", chrome_options=options)\n"
     ]
    }
   ],
   "source": [
    "#Chromeを操作\n",
    "options = Options()\n",
    "options.add_argument('--headless')\n",
    "driver = webdriver.Chrome(executable_path=\"/Users/k-yasumoto/downloads/chromedriver\", chrome_options=options)"
   ]
  },
  {
   "cell_type": "code",
   "execution_count": 86,
   "metadata": {},
   "outputs": [],
   "source": [
    "nothing_odds_race_id_list = []"
   ]
  },
  {
   "cell_type": "code",
   "execution_count": 87,
   "metadata": {},
   "outputs": [],
   "source": [
    "def getOdds(race_id):\n",
    "    driver.set_script_timeout(10)\n",
    "    driver.implicitly_wait(10)\n",
    "\n",
    "#     # 単勝と複勝\n",
    "#     url = f'https://race.netkeiba.com/odds/index.html?type=b1&race_id={race_id}'\n",
    "#     driver.get(url)\n",
    "#     try:\n",
    "#         if \"取消\" not in driver.find_element_by_class_name('RaceOdds_HorseList_Table').find_elements_by_tag_name('tr')[1].text and \"除外\" not in driver.find_element_by_class_name('RaceOdds_HorseList_Table').find_elements_by_tag_name('tr')[1].text:\n",
    "#             while True:\n",
    "#                 if driver.find_element_by_id('odds-1_01').text != '---.-' :\n",
    "#                     break\n",
    "#         elif \"取消\" not in driver.find_element_by_class_name('RaceOdds_HorseList_Table').find_elements_by_tag_name('tr')[2].text and \"除外\" not in driver.find_element_by_class_name('RaceOdds_HorseList_Table').find_elements_by_tag_name('tr')[2].text:\n",
    "#             while True:\n",
    "#                 if driver.find_element_by_id('odds-1_02').text != '---.-' :\n",
    "#                     break\n",
    "#         else:\n",
    "#             while True:\n",
    "#                 if driver.find_element_by_id('odds-1_03').text != '---.-' :\n",
    "#                     break\n",
    "#     except Exception:\n",
    "#         return None\n",
    "\n",
    "#     html = driver.page_source\n",
    "#     dfs = pd.read_html(html)\n",
    "\n",
    "# #     df_tansho = dfs[0]\n",
    "#     df_hukusho = dfs[1]\n",
    "#     df_hukusho['race_id'] = race_id\n",
    "#     return df_hukusho\n",
    "\n",
    "#     # 馬連\n",
    "#     url = f'https://race.netkeiba.com/odds/index.html?type=b4&race_id={race_id}&housiki=c1'\n",
    "#     driver.get(url)\n",
    "\n",
    "#     driver.find_elements_by_class_name('All_Action_Button')[0].click()\n",
    "#     driver.find_elements_by_class_name('All_Action_Button')[1].click()\n",
    "#     driver.find_element_by_class_name('Kaime_Selected_Btn').find_elements_by_tag_name('button')[0].click()\n",
    "\n",
    "#     table = driver.find_element_by_class_name('RaceOdds_Result_Table02')\n",
    "\n",
    "#     html = driver.page_source\n",
    "#     dfs = pd.read_html(html)\n",
    "#     df_umaren = dfs[2]\n",
    "\n",
    "#     # ワイド\n",
    "#     url = f'https://race.netkeiba.com/odds/index.html?type=b5&race_id={race_id}&housiki=c1'\n",
    "#     driver.get(url)\n",
    "\n",
    "#     driver.find_elements_by_class_name('All_Action_Button')[0].click()\n",
    "#     driver.find_elements_by_class_name('All_Action_Button')[1].click()\n",
    "#     driver.find_element_by_class_name('Kaime_Selected_Btn').find_elements_by_tag_name('button')[0].click()\n",
    "\n",
    "#     table = driver.find_element_by_class_name('RaceOdds_Result_Table02')\n",
    "\n",
    "#     html = driver.page_source\n",
    "#     dfs = pd.read_html(html)\n",
    "#     df_wide = dfs[2]\n",
    "\n",
    "#     # 馬単\n",
    "#     url = f'https://race.netkeiba.com/odds/index.html?type=b6&race_id={race_id}&housiki=c1'\n",
    "#     driver.get(url)\n",
    "\n",
    "#     driver.find_elements_by_class_name('All_Action_Button')[0].click()\n",
    "#     driver.find_elements_by_class_name('All_Action_Button')[1].click()\n",
    "#     driver.find_element_by_class_name('Kaime_Selected_Btn').find_elements_by_tag_name('button')[0].click()\n",
    "\n",
    "#     table = driver.find_element_by_class_name('RaceOdds_Result_Table02')\n",
    "\n",
    "#     html = driver.page_source\n",
    "#     dfs = pd.read_html(html)\n",
    "#     df_umatan = dfs[2]\n",
    "\n",
    "    # 3連複\n",
    "    url = f'https://race.netkeiba.com/odds/index.html?type=b7&race_id={race_id}&housiki=c1'\n",
    "    driver.get(url)\n",
    "\n",
    "    try:\n",
    "        driver.find_elements_by_class_name('All_Action_Button')[0].click()\n",
    "        driver.find_elements_by_class_name('All_Action_Button')[1].click()\n",
    "        driver.find_elements_by_class_name('All_Action_Button')[2].click()\n",
    "        driver.find_element_by_class_name('Kaime_Selected_Btn').find_elements_by_tag_name('button')[0].click()\n",
    "\n",
    "        table = driver.find_element_by_class_name('RaceOdds_Result_Table02')\n",
    "\n",
    "        html = driver.page_source\n",
    "        dfs = pd.read_html(html)\n",
    "        df_sanrenpuku= dfs[2]\n",
    "        df_sanrenpuku['race_id'] = race_id\n",
    "        return df_sanrenpuku\n",
    "    except:\n",
    "        return None\n",
    "\n",
    "#     # 3連単\n",
    "#     url = f'https://race.netkeiba.com/odds/index.html?type=b8&race_id={race_id}&housiki=c1'\n",
    "#     driver.get(url)\n",
    "\n",
    "#     driver.find_elements_by_class_name('All_Action_Button')[0].click()\n",
    "#     driver.find_elements_by_class_name('All_Action_Button')[1].click()\n",
    "#     driver.find_elements_by_class_name('All_Action_Button')[2].click()\n",
    "#     driver.find_element_by_class_name('Kaime_Selected_Btn').find_elements_by_tag_name('button')[0].click()\n",
    "\n",
    "#     table = driver.find_element_by_class_name('RaceOdds_Result_Table02')\n",
    "\n",
    "#     html = driver.page_source\n",
    "#     dfs = pd.read_html(html)\n",
    "#     df_sanrentan= dfs[2]\n",
    "    \n",
    "#     return df_tansho, df_hukusho, df_wide, df_umaren, df_umatan, df_sanrenpuku, df_sanrentan"
   ]
  },
  {
   "cell_type": "code",
   "execution_count": 88,
   "metadata": {},
   "outputs": [],
   "source": [
    "race_ids = pd.read_csv('/Users/k-yasumoto/Desktop/workspace/keiba/resource/model_build/features/WinHorse_all_new.csv')['race_id'].unique()"
   ]
  },
  {
   "cell_type": "code",
   "execution_count": 89,
   "metadata": {
    "scrolled": true
   },
   "outputs": [
    {
     "name": "stderr",
     "output_type": "stream",
     "text": [
      "100%|██████████| 10469/10469 [5:21:10<00:00,  1.84s/it]  \n"
     ]
    }
   ],
   "source": [
    "df_sanrenpuku_list = []\n",
    "\n",
    "for race_id in tqdm(race_ids):\n",
    "    df_sanrenpuku = getOdds(race_id)\n",
    "    \n",
    "    if not df_hukusho is None:\n",
    "        df_sanrenpuku_list.append(df_sanrenpuku)\n",
    "    else:\n",
    "        nothing_odds_race_id_list.append(race_id)\n",
    "\n",
    "pd.concat(df_sanrenpuku_list).to_csv('/Users/k-yasumoto/Desktop/workspace/keiba/resource/common/raw_result/odds/sanrenpuku_odds.csv')"
   ]
  },
  {
   "cell_type": "code",
   "execution_count": 50,
   "metadata": {},
   "outputs": [
    {
     "data": {
      "text/plain": [
       "201406020110"
      ]
     },
     "execution_count": 50,
     "metadata": {},
     "output_type": "execute_result"
    }
   ],
   "source": [
    "race_ids[99]"
   ]
  },
  {
   "cell_type": "code",
   "execution_count": 49,
   "metadata": {},
   "outputs": [
    {
     "data": {
      "text/html": [
       "<div>\n",
       "<style scoped>\n",
       "    .dataframe tbody tr th:only-of-type {\n",
       "        vertical-align: middle;\n",
       "    }\n",
       "\n",
       "    .dataframe tbody tr th {\n",
       "        vertical-align: top;\n",
       "    }\n",
       "\n",
       "    .dataframe thead th {\n",
       "        text-align: right;\n",
       "    }\n",
       "</style>\n",
       "<table border=\"1\" class=\"dataframe\">\n",
       "  <thead>\n",
       "    <tr style=\"text-align: right;\">\n",
       "      <th></th>\n",
       "      <th>枠</th>\n",
       "      <th>馬番</th>\n",
       "      <th>印</th>\n",
       "      <th>選択</th>\n",
       "      <th>馬名</th>\n",
       "      <th>オッズ</th>\n",
       "      <th>race_id</th>\n",
       "    </tr>\n",
       "  </thead>\n",
       "  <tbody>\n",
       "    <tr>\n",
       "      <th>11</th>\n",
       "      <td>6</td>\n",
       "      <td>12</td>\n",
       "      <td>NaN</td>\n",
       "      <td>NaN</td>\n",
       "      <td>スマートオリオン</td>\n",
       "      <td>1.3 - 1.5</td>\n",
       "      <td>201406020110</td>\n",
       "    </tr>\n",
       "    <tr>\n",
       "      <th>12</th>\n",
       "      <td>7</td>\n",
       "      <td>13</td>\n",
       "      <td>NaN</td>\n",
       "      <td>NaN</td>\n",
       "      <td>フレデフォート</td>\n",
       "      <td>8.2 - 12.6</td>\n",
       "      <td>201406020110</td>\n",
       "    </tr>\n",
       "    <tr>\n",
       "      <th>13</th>\n",
       "      <td>7</td>\n",
       "      <td>14</td>\n",
       "      <td>NaN</td>\n",
       "      <td>NaN</td>\n",
       "      <td>ラディアーレ</td>\n",
       "      <td>24.4 - 38.2</td>\n",
       "      <td>201406020110</td>\n",
       "    </tr>\n",
       "    <tr>\n",
       "      <th>14</th>\n",
       "      <td>8</td>\n",
       "      <td>15</td>\n",
       "      <td>NaN</td>\n",
       "      <td>NaN</td>\n",
       "      <td>テイエムタイホー</td>\n",
       "      <td>2.3 - 3.3</td>\n",
       "      <td>201406020110</td>\n",
       "    </tr>\n",
       "    <tr>\n",
       "      <th>15</th>\n",
       "      <td>8</td>\n",
       "      <td>16</td>\n",
       "      <td>NaN</td>\n",
       "      <td>NaN</td>\n",
       "      <td>ターニングポイント</td>\n",
       "      <td>28.9 - 45.3</td>\n",
       "      <td>201406020110</td>\n",
       "    </tr>\n",
       "  </tbody>\n",
       "</table>\n",
       "</div>"
      ],
      "text/plain": [
       "    枠  馬番   印   選択         馬名          オッズ       race_id\n",
       "11  6  12 NaN  NaN   スマートオリオン    1.3 - 1.5  201406020110\n",
       "12  7  13 NaN  NaN    フレデフォート   8.2 - 12.6  201406020110\n",
       "13  7  14 NaN  NaN     ラディアーレ  24.4 - 38.2  201406020110\n",
       "14  8  15 NaN  NaN   テイエムタイホー    2.3 - 3.3  201406020110\n",
       "15  8  16 NaN  NaN  ターニングポイント  28.9 - 45.3  201406020110"
      ]
     },
     "execution_count": 49,
     "metadata": {},
     "output_type": "execute_result"
    }
   ],
   "source": [
    "pd.concat(df_hukusho_list).tail()"
   ]
  },
  {
   "cell_type": "code",
   "execution_count": 45,
   "metadata": {},
   "outputs": [
    {
     "data": {
      "text/plain": [
       "[201406010712,\n",
       " 201407010211,\n",
       " 201408010705,\n",
       " 201407010210,\n",
       " 201407010212,\n",
       " 201406010710,\n",
       " 201407010205,\n",
       " 201408010710]"
      ]
     },
     "execution_count": 45,
     "metadata": {},
     "output_type": "execute_result"
    }
   ],
   "source": [
    "nothing_odds_race_id_list"
   ]
  },
  {
   "cell_type": "code",
   "execution_count": 47,
   "metadata": {},
   "outputs": [
    {
     "data": {
      "text/plain": [
       "201510020809"
      ]
     },
     "execution_count": 47,
     "metadata": {},
     "output_type": "execute_result"
    }
   ],
   "source": [
    "race_ids[2239]"
   ]
  },
  {
   "cell_type": "code",
   "execution_count": 31,
   "metadata": {},
   "outputs": [
    {
     "data": {
      "text/html": [
       "<div>\n",
       "<style scoped>\n",
       "    .dataframe tbody tr th:only-of-type {\n",
       "        vertical-align: middle;\n",
       "    }\n",
       "\n",
       "    .dataframe tbody tr th {\n",
       "        vertical-align: top;\n",
       "    }\n",
       "\n",
       "    .dataframe thead th {\n",
       "        text-align: right;\n",
       "    }\n",
       "</style>\n",
       "<table border=\"1\" class=\"dataframe\">\n",
       "  <thead>\n",
       "    <tr style=\"text-align: right;\">\n",
       "      <th></th>\n",
       "      <th>Unnamed: 0</th>\n",
       "      <th>枠</th>\n",
       "      <th>馬番</th>\n",
       "      <th>印</th>\n",
       "      <th>選択</th>\n",
       "      <th>馬名</th>\n",
       "      <th>オッズ</th>\n",
       "      <th>race_id</th>\n",
       "    </tr>\n",
       "  </thead>\n",
       "  <tbody>\n",
       "    <tr>\n",
       "      <th>0</th>\n",
       "      <td>0</td>\n",
       "      <td>1</td>\n",
       "      <td>1</td>\n",
       "      <td>NaN</td>\n",
       "      <td>NaN</td>\n",
       "      <td>アーネストリー</td>\n",
       "      <td>1.4 - 2.1</td>\n",
       "      <td>201209030111</td>\n",
       "    </tr>\n",
       "    <tr>\n",
       "      <th>1</th>\n",
       "      <td>1</td>\n",
       "      <td>2</td>\n",
       "      <td>2</td>\n",
       "      <td>NaN</td>\n",
       "      <td>NaN</td>\n",
       "      <td>ロードニュースター</td>\n",
       "      <td>22.2 - 37.2</td>\n",
       "      <td>201209030111</td>\n",
       "    </tr>\n",
       "    <tr>\n",
       "      <th>2</th>\n",
       "      <td>2</td>\n",
       "      <td>3</td>\n",
       "      <td>3</td>\n",
       "      <td>NaN</td>\n",
       "      <td>NaN</td>\n",
       "      <td>ナカヤマナイト</td>\n",
       "      <td>1.5 - 2.1</td>\n",
       "      <td>201209030111</td>\n",
       "    </tr>\n",
       "    <tr>\n",
       "      <th>3</th>\n",
       "      <td>3</td>\n",
       "      <td>4</td>\n",
       "      <td>4</td>\n",
       "      <td>NaN</td>\n",
       "      <td>NaN</td>\n",
       "      <td>スマートギア</td>\n",
       "      <td>3.3 - 5.3</td>\n",
       "      <td>201209030111</td>\n",
       "    </tr>\n",
       "    <tr>\n",
       "      <th>4</th>\n",
       "      <td>4</td>\n",
       "      <td>5</td>\n",
       "      <td>5</td>\n",
       "      <td>NaN</td>\n",
       "      <td>NaN</td>\n",
       "      <td>アドマイヤメジャー</td>\n",
       "      <td>7.8 - 13.0</td>\n",
       "      <td>201209030111</td>\n",
       "    </tr>\n",
       "    <tr>\n",
       "      <th>...</th>\n",
       "      <td>...</td>\n",
       "      <td>...</td>\n",
       "      <td>...</td>\n",
       "      <td>...</td>\n",
       "      <td>...</td>\n",
       "      <td>...</td>\n",
       "      <td>...</td>\n",
       "      <td>...</td>\n",
       "    </tr>\n",
       "    <tr>\n",
       "      <th>32657</th>\n",
       "      <td>8</td>\n",
       "      <td>6</td>\n",
       "      <td>9</td>\n",
       "      <td>NaN</td>\n",
       "      <td>NaN</td>\n",
       "      <td>ピークトラム</td>\n",
       "      <td>1.2 - 1.7</td>\n",
       "      <td>201408010609</td>\n",
       "    </tr>\n",
       "    <tr>\n",
       "      <th>32658</th>\n",
       "      <td>9</td>\n",
       "      <td>7</td>\n",
       "      <td>10</td>\n",
       "      <td>NaN</td>\n",
       "      <td>NaN</td>\n",
       "      <td>コウエイワンマン</td>\n",
       "      <td>7.2 - 15.0</td>\n",
       "      <td>201408010609</td>\n",
       "    </tr>\n",
       "    <tr>\n",
       "      <th>32659</th>\n",
       "      <td>10</td>\n",
       "      <td>7</td>\n",
       "      <td>11</td>\n",
       "      <td>NaN</td>\n",
       "      <td>NaN</td>\n",
       "      <td>ヴァイスフェッター</td>\n",
       "      <td>5.6 - 11.5</td>\n",
       "      <td>201408010609</td>\n",
       "    </tr>\n",
       "    <tr>\n",
       "      <th>32660</th>\n",
       "      <td>11</td>\n",
       "      <td>8</td>\n",
       "      <td>12</td>\n",
       "      <td>NaN</td>\n",
       "      <td>NaN</td>\n",
       "      <td>オースミチャド</td>\n",
       "      <td>4.0 - 8.1</td>\n",
       "      <td>201408010609</td>\n",
       "    </tr>\n",
       "    <tr>\n",
       "      <th>32661</th>\n",
       "      <td>12</td>\n",
       "      <td>8</td>\n",
       "      <td>13</td>\n",
       "      <td>NaN</td>\n",
       "      <td>NaN</td>\n",
       "      <td>ラディウス</td>\n",
       "      <td>2.4 - 4.7</td>\n",
       "      <td>201408010609</td>\n",
       "    </tr>\n",
       "  </tbody>\n",
       "</table>\n",
       "<p>32662 rows × 8 columns</p>\n",
       "</div>"
      ],
      "text/plain": [
       "       Unnamed: 0  枠  馬番   印   選択         馬名          オッズ       race_id\n",
       "0               0  1   1 NaN  NaN    アーネストリー    1.4 - 2.1  201209030111\n",
       "1               1  2   2 NaN  NaN  ロードニュースター  22.2 - 37.2  201209030111\n",
       "2               2  3   3 NaN  NaN    ナカヤマナイト    1.5 - 2.1  201209030111\n",
       "3               3  4   4 NaN  NaN     スマートギア    3.3 - 5.3  201209030111\n",
       "4               4  5   5 NaN  NaN  アドマイヤメジャー   7.8 - 13.0  201209030111\n",
       "...           ... ..  ..  ..  ...        ...          ...           ...\n",
       "32657           8  6   9 NaN  NaN     ピークトラム    1.2 - 1.7  201408010609\n",
       "32658           9  7  10 NaN  NaN   コウエイワンマン   7.2 - 15.0  201408010609\n",
       "32659          10  7  11 NaN  NaN  ヴァイスフェッター   5.6 - 11.5  201408010609\n",
       "32660          11  8  12 NaN  NaN    オースミチャド    4.0 - 8.1  201408010609\n",
       "32661          12  8  13 NaN  NaN      ラディウス    2.4 - 4.7  201408010609\n",
       "\n",
       "[32662 rows x 8 columns]"
      ]
     },
     "execution_count": 31,
     "metadata": {},
     "output_type": "execute_result"
    }
   ],
   "source": [
    "pd.read_csv('/Users/k-yasumoto/Desktop/workspace/keiba/resource/common/raw_result/odds/hukusho_odds01.csv')"
   ]
  },
  {
   "cell_type": "code",
   "execution_count": null,
   "metadata": {},
   "outputs": [],
   "source": [
    "# # [201406010712,\n",
    "#  201407010211,\n",
    "#  201408010705,\n",
    "#  201407010210,\n",
    "#  201407010212,\n",
    "#  201406010710,\n",
    "#  201407010205,\n",
    "#  201408010710]"
   ]
  },
  {
   "cell_type": "code",
   "execution_count": 64,
   "metadata": {},
   "outputs": [],
   "source": [
    "pd.concat(df_hukusho_list).to_csv('/Users/k-yasumoto/Desktop/workspace/keiba/resource/common/raw_result/odds/hukusho_odds03.csv')"
   ]
  },
  {
   "cell_type": "code",
   "execution_count": 72,
   "metadata": {},
   "outputs": [],
   "source": [
    "df1 = pd.read_csv('/Users/k-yasumoto/Desktop/workspace/keiba/resource/common/raw_result/odds/hukusho_odds01.csv')\n",
    "df2 = pd.read_csv('/Users/k-yasumoto/Desktop/workspace/keiba/resource/common/raw_result/odds/hukusho_odds02.csv')\n",
    "df3 = pd.read_csv('/Users/k-yasumoto/Desktop/workspace/keiba/resource/common/raw_result/odds/hukusho_odds03.csv')"
   ]
  },
  {
   "cell_type": "code",
   "execution_count": 73,
   "metadata": {},
   "outputs": [],
   "source": [
    "df4 = pd.concat([df1,df2,df3])"
   ]
  },
  {
   "cell_type": "code",
   "execution_count": 75,
   "metadata": {},
   "outputs": [
    {
     "data": {
      "text/plain": [
       "10459"
      ]
     },
     "execution_count": 75,
     "metadata": {},
     "output_type": "execute_result"
    }
   ],
   "source": [
    "len(df4['race_id'].unique())"
   ]
  },
  {
   "cell_type": "code",
   "execution_count": 77,
   "metadata": {},
   "outputs": [],
   "source": [
    "df4.to_csv('/Users/k-yasumoto/Desktop/workspace/keiba/resource/common/raw_result/odds/hukusho_odds.csv')"
   ]
  },
  {
   "cell_type": "code",
   "execution_count": null,
   "metadata": {},
   "outputs": [],
   "source": []
  }
 ],
 "metadata": {
  "kernelspec": {
   "display_name": "Python 3",
   "language": "python",
   "name": "python3"
  },
  "language_info": {
   "codemirror_mode": {
    "name": "ipython",
    "version": 3
   },
   "file_extension": ".py",
   "mimetype": "text/x-python",
   "name": "python",
   "nbconvert_exporter": "python",
   "pygments_lexer": "ipython3",
   "version": "3.8.2"
  },
  "toc": {
   "base_numbering": 1,
   "nav_menu": {},
   "number_sections": true,
   "sideBar": true,
   "skip_h1_title": false,
   "title_cell": "Table of Contents",
   "title_sidebar": "Contents",
   "toc_cell": false,
   "toc_position": {},
   "toc_section_display": true,
   "toc_window_display": false
  }
 },
 "nbformat": 4,
 "nbformat_minor": 4
}
