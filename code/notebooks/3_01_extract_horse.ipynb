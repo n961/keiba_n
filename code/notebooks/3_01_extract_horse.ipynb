{
 "cells": [
  {
   "cell_type": "code",
   "execution_count": 1,
   "metadata": {
    "ExecuteTime": {
     "end_time": "2020-12-07T16:53:29.821429Z",
     "start_time": "2020-12-07T16:53:28.177636Z"
    }
   },
   "outputs": [
    {
     "name": "stdout",
     "output_type": "stream",
     "text": [
      "RENEWAL_RESULT\n"
     ]
    }
   ],
   "source": [
    "import sys\n",
    "sys.path.append('../settings')\n",
    "from setting import *\n",
    "print(MODE)\n",
    "assert MODE != 'UPDATE_MODEL', '実行スクリプトが間違っているよ'"
   ]
  },
  {
   "cell_type": "code",
   "execution_count": 2,
   "metadata": {
    "ExecuteTime": {
     "end_time": "2020-12-07T16:53:29.845838Z",
     "start_time": "2020-12-07T16:53:29.826313Z"
    }
   },
   "outputs": [
    {
     "data": {
      "text/plain": [
       "['../../data/scraped\\\\race_result.csv',\n",
       " '../../data/scraped\\\\race_result2.csv',\n",
       " '../../data/scraped\\\\race_result3.csv',\n",
       " '../../data/scraped\\\\race_result4.csv']"
      ]
     },
     "metadata": {},
     "output_type": "display_data"
    },
    {
     "data": {
      "text/plain": [
       "['../../data/scraped\\\\race_info.csv',\n",
       " '../../data/scraped\\\\race_info2.csv',\n",
       " '../../data/scraped\\\\race_info3.csv',\n",
       " '../../data/scraped\\\\race_info4.csv']"
      ]
     },
     "metadata": {},
     "output_type": "display_data"
    }
   ],
   "source": [
    "# input\n",
    "file_horse = list(glob.glob(config['SCRAPED_RESULT']))\n",
    "display(file_horse)\n",
    "file_race_info = list(glob.glob(config['SCRAPED_INFO']))\n",
    "display(file_race_info)"
   ]
  },
  {
   "cell_type": "code",
   "execution_count": 3,
   "metadata": {
    "ExecuteTime": {
     "end_time": "2020-12-07T16:53:29.873183Z",
     "start_time": "2020-12-07T16:53:29.867317Z"
    }
   },
   "outputs": [],
   "source": [
    "# master\n",
    "file_master = config['HORSE_MASTER']"
   ]
  },
  {
   "cell_type": "code",
   "execution_count": 4,
   "metadata": {
    "ExecuteTime": {
     "end_time": "2020-12-07T16:53:29.885870Z",
     "start_time": "2020-12-07T16:53:29.879034Z"
    }
   },
   "outputs": [],
   "source": [
    "# output\n",
    "file_use_id = config['RACE_HORSE_ID']"
   ]
  },
  {
   "cell_type": "code",
   "execution_count": 5,
   "metadata": {
    "ExecuteTime": {
     "end_time": "2020-12-07T16:53:29.895631Z",
     "start_time": "2020-12-07T16:53:29.890750Z"
    }
   },
   "outputs": [],
   "source": [
    "judge_cols = ['馬名', 'gender', 'born_year']"
   ]
  },
  {
   "cell_type": "markdown",
   "metadata": {},
   "source": [
    "# 読み込み"
   ]
  },
  {
   "cell_type": "code",
   "execution_count": 6,
   "metadata": {
    "ExecuteTime": {
     "end_time": "2020-12-07T16:53:31.019991Z",
     "start_time": "2020-12-07T16:53:29.898564Z"
    },
    "scrolled": true
   },
   "outputs": [
    {
     "name": "stdout",
     "output_type": "stream",
     "text": [
      "../../data/scraped\\race_result.csv\n",
      "(35371, 3)\n",
      "../../data/scraped\\race_result2.csv\n",
      "(183678, 3)\n",
      "../../data/scraped\\race_result3.csv\n",
      "(102959, 3)\n",
      "../../data/scraped\\race_result4.csv\n",
      "(81209, 3)\n",
      "(403217, 3)\n"
     ]
    },
    {
     "data": {
      "text/html": [
       "<div>\n",
       "<style scoped>\n",
       "    .dataframe tbody tr th:only-of-type {\n",
       "        vertical-align: middle;\n",
       "    }\n",
       "\n",
       "    .dataframe tbody tr th {\n",
       "        vertical-align: top;\n",
       "    }\n",
       "\n",
       "    .dataframe thead th {\n",
       "        text-align: right;\n",
       "    }\n",
       "</style>\n",
       "<table border=\"1\" class=\"dataframe\">\n",
       "  <thead>\n",
       "    <tr style=\"text-align: right;\">\n",
       "      <th></th>\n",
       "      <th>馬名</th>\n",
       "      <th>性齢</th>\n",
       "      <th>race_id</th>\n",
       "    </tr>\n",
       "  </thead>\n",
       "  <tbody>\n",
       "    <tr>\n",
       "      <th>0</th>\n",
       "      <td>マイネルギブソン</td>\n",
       "      <td>牡2</td>\n",
       "      <td>201001020110</td>\n",
       "    </tr>\n",
       "  </tbody>\n",
       "</table>\n",
       "</div>"
      ],
      "text/plain": [
       "         馬名  性齢       race_id\n",
       "0  マイネルギブソン  牡2  201001020110"
      ]
     },
     "execution_count": 6,
     "metadata": {},
     "output_type": "execute_result"
    }
   ],
   "source": [
    "df_list = [] \n",
    "for file in file_horse:\n",
    "    print(file)\n",
    "    df = pd.read_csv(file, usecols=['race_id', '馬名', '性齢'] )\n",
    "    print(df.shape)\n",
    "    df_list.append(df)\n",
    "\n",
    "df_horse = pd.concat(df_list, ignore_index=True)\n",
    "print(df_horse.shape)\n",
    "df_horse.head(1)"
   ]
  },
  {
   "cell_type": "code",
   "execution_count": 7,
   "metadata": {
    "ExecuteTime": {
     "end_time": "2020-12-07T16:53:31.138131Z",
     "start_time": "2020-12-07T16:53:31.025849Z"
    }
   },
   "outputs": [
    {
     "name": "stdout",
     "output_type": "stream",
     "text": [
      "../../data/scraped\\race_info.csv\n",
      "(2509, 2)\n",
      "../../data/scraped\\race_info2.csv\n",
      "(12645, 2)\n",
      "../../data/scraped\\race_info3.csv\n",
      "(7170, 2)\n",
      "../../data/scraped\\race_info4.csv\n",
      "(5826, 2)\n",
      "(28150, 2)\n"
     ]
    },
    {
     "data": {
      "text/html": [
       "<div>\n",
       "<style scoped>\n",
       "    .dataframe tbody tr th:only-of-type {\n",
       "        vertical-align: middle;\n",
       "    }\n",
       "\n",
       "    .dataframe tbody tr th {\n",
       "        vertical-align: top;\n",
       "    }\n",
       "\n",
       "    .dataframe thead th {\n",
       "        text-align: right;\n",
       "    }\n",
       "</style>\n",
       "<table border=\"1\" class=\"dataframe\">\n",
       "  <thead>\n",
       "    <tr style=\"text-align: right;\">\n",
       "      <th></th>\n",
       "      <th>race_id</th>\n",
       "      <th>race_date</th>\n",
       "    </tr>\n",
       "  </thead>\n",
       "  <tbody>\n",
       "    <tr>\n",
       "      <th>0</th>\n",
       "      <td>201001020110</td>\n",
       "      <td>2010年9月11日</td>\n",
       "    </tr>\n",
       "  </tbody>\n",
       "</table>\n",
       "</div>"
      ],
      "text/plain": [
       "        race_id   race_date\n",
       "0  201001020110  2010年9月11日"
      ]
     },
     "execution_count": 7,
     "metadata": {},
     "output_type": "execute_result"
    }
   ],
   "source": [
    "df_list = [] \n",
    "for file in file_race_info:\n",
    "    print(file)\n",
    "    df = pd.read_csv(file, usecols=['race_id', 'race_date'])\n",
    "    print(df.shape)\n",
    "    df_list.append(df)\n",
    "\n",
    "df_info = pd.concat(df_list, ignore_index=True)\n",
    "print(df_info.shape)\n",
    "df_info.head(1)"
   ]
  },
  {
   "cell_type": "markdown",
   "metadata": {},
   "source": [
    "# 加工"
   ]
  },
  {
   "cell_type": "code",
   "execution_count": 8,
   "metadata": {
    "ExecuteTime": {
     "end_time": "2020-12-07T16:53:31.733860Z",
     "start_time": "2020-12-07T16:53:31.143986Z"
    }
   },
   "outputs": [],
   "source": [
    "# 性齢\n",
    "df_horse['gender'] = df_horse['性齢'].str[0]\n",
    "df_horse['age'] = df_horse['性齢'].str[1:].astype(np.int16)"
   ]
  },
  {
   "cell_type": "code",
   "execution_count": 9,
   "metadata": {
    "ExecuteTime": {
     "end_time": "2020-12-07T16:53:32.138095Z",
     "start_time": "2020-12-07T16:53:31.736787Z"
    }
   },
   "outputs": [],
   "source": [
    "# 結合\n",
    "df_horse_merged = df_horse[['race_id', '馬名', 'age', 'gender']].merge(df_info[['race_id', 'race_date']])\n",
    "df_horse_merged.race_date = pd.to_datetime(df_horse_merged.race_date, format='%Y年%m月%d日')"
   ]
  },
  {
   "cell_type": "code",
   "execution_count": 10,
   "metadata": {
    "ExecuteTime": {
     "end_time": "2020-12-07T16:53:32.619237Z",
     "start_time": "2020-12-07T16:53:32.143918Z"
    }
   },
   "outputs": [],
   "source": [
    "# 生まれ年\n",
    "df_horse_merged['born_year'] = df_horse_merged.race_date.dt.year - df_horse_merged.age\n",
    "df_horse_merged = df_horse_merged.replace('セ', '牡').drop_duplicates(subset=judge_cols)"
   ]
  },
  {
   "cell_type": "code",
   "execution_count": 11,
   "metadata": {
    "ExecuteTime": {
     "end_time": "2020-12-07T16:53:32.633854Z",
     "start_time": "2020-12-07T16:53:32.622132Z"
    }
   },
   "outputs": [],
   "source": [
    "df_horse_merged.drop(['age', 'race_date'], axis=1, inplace=True)"
   ]
  },
  {
   "cell_type": "markdown",
   "metadata": {},
   "source": [
    "# 重複削除"
   ]
  },
  {
   "cell_type": "code",
   "execution_count": 12,
   "metadata": {
    "ExecuteTime": {
     "end_time": "2020-12-07T16:53:32.746126Z",
     "start_time": "2020-12-07T16:53:32.637750Z"
    },
    "scrolled": true
   },
   "outputs": [
    {
     "name": "stdout",
     "output_type": "stream",
     "text": [
      "MODE:  RENEWAL_RESULT\n",
      "重複数:  194\n",
      "マスター件数:  46414\n"
     ]
    }
   ],
   "source": [
    "print('MODE: ', MODE)\n",
    "if MODE == \"RENEWAL_RESULT\":\n",
    "    df_horse_dupl = df_horse_merged.loc[\n",
    "        df_horse_merged.duplicated('馬名', keep=False)\n",
    "    ].sort_values(['馬名', 'born_year'])\n",
    "    df_horse_merged = df_horse_merged.loc[~df_horse_merged.馬名.isin(df_horse_dupl.馬名)]\n",
    "\n",
    "    df_horse_dupl['born_year_diff'] = df_horse_dupl.groupby('馬名').born_year.diff()\n",
    "    print('重複数: ', df_horse_dupl.shape[0])\n",
    "    if len(df_horse_dupl) > 0:\n",
    "        assert df_horse_dupl.born_year_diff.min() > 3, '同名の馬の年齢が近すぎません？'\n",
    "    df_horse_dupl.drop('born_year_diff', axis=1, inplace=True)\n",
    "\n",
    "    df_horse_master = pd.concat(\n",
    "        [df_horse_merged, df_horse_dupl],\n",
    "        ignore_index=True\n",
    "    ).drop('race_id', axis=1)\n",
    "    \n",
    "    print('マスター件数: ', df_horse_master.shape[0])\n",
    "\n",
    "    df_horse_master.reset_index(drop=True, inplace=True)\n",
    "    df_horse_master['horse_id'] = df_horse_master.index + 1\n",
    "    \n",
    "elif MODE == \"SCORING_PREPARATION\":\n",
    "    df_horse_master = pd.read_csv(file_master)\n",
    "    \n",
    "    df_horse_tmp = df_horse_merged.replace({'セ':'牡'}).merge(\n",
    "        df_horse_master,\n",
    "        how='left',\n",
    "        on=judge_cols\n",
    "    )\n",
    "    \n",
    "    df_horse_new = df_horse_tmp.loc[df_horse_tmp.horse_id.isnull()]\n",
    "    print('新しい子の数: ', df_horse_new.shape[0])\n",
    "    df_horse_new.reset_index(drop=True, inplace=True)\n",
    "    df_horse_new['horse_id'] = df_horse_master.horse_id.max() + df_horse_new.index + 1\n",
    "    df_horse_master = pd.concat([df_horse_master, df_horse_new[df_horse_master.columns]])\n",
    "    assert df_horse_master.shape[0] == df_horse_master.horse_id.nunique(), 'horse_idが間違っている'"
   ]
  },
  {
   "cell_type": "code",
   "execution_count": 13,
   "metadata": {
    "ExecuteTime": {
     "end_time": "2020-12-07T16:53:33.084965Z",
     "start_time": "2020-12-07T16:53:32.750029Z"
    }
   },
   "outputs": [],
   "source": [
    "df_horse_out = df_horse_merged.replace({'セ':'牡'}).merge(\n",
    "    df_horse_master,\n",
    "    how='left',\n",
    "    on=['馬名', 'born_year', 'gender']\n",
    ")\n",
    "assert df_horse_out.shape[0] == df_horse_merged.shape[0], '結合ミス'\n",
    "df_horse_out[['race_id', 'horse_id', '馬名']].to_csv(file_use_id, index=False)"
   ]
  },
  {
   "cell_type": "code",
   "execution_count": 14,
   "metadata": {
    "ExecuteTime": {
     "end_time": "2020-12-07T16:53:33.344153Z",
     "start_time": "2020-12-07T16:53:33.092723Z"
    }
   },
   "outputs": [],
   "source": [
    "df_horse_master.to_csv(file_master, index=False)"
   ]
  }
 ],
 "metadata": {
  "kernelspec": {
   "display_name": "Python 3",
   "language": "python",
   "name": "python3"
  },
  "language_info": {
   "codemirror_mode": {
    "name": "ipython",
    "version": 3
   },
   "file_extension": ".py",
   "mimetype": "text/x-python",
   "name": "python",
   "nbconvert_exporter": "python",
   "pygments_lexer": "ipython3",
   "version": "3.8.6"
  },
  "toc": {
   "base_numbering": 1,
   "nav_menu": {},
   "number_sections": true,
   "sideBar": true,
   "skip_h1_title": false,
   "title_cell": "Table of Contents",
   "title_sidebar": "Contents",
   "toc_cell": false,
   "toc_position": {},
   "toc_section_display": true,
   "toc_window_display": true
  }
 },
 "nbformat": 4,
 "nbformat_minor": 4
}
