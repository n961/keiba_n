{
 "cells": [
  {
   "cell_type": "markdown",
   "metadata": {},
   "source": [
    "# library"
   ]
  },
  {
   "cell_type": "code",
   "execution_count": 1,
   "metadata": {
    "ExecuteTime": {
     "end_time": "2020-12-21T15:47:21.753619Z",
     "start_time": "2020-12-21T15:47:15.454104Z"
    }
   },
   "outputs": [],
   "source": [
    "# from sklearn.preprocessing import StandardScaler, MinMaxScaler\n",
    "from sklearn.model_selection import train_test_split\n",
    "from sklearn.linear_model import LogisticRegression\n",
    "from sklearn.calibration import calibration_curve\n",
    "from sklearn.metrics import roc_curve,recall_score, confusion_matrix, accuracy_score, precision_score, f1_score\n",
    "from sklearn.metrics import roc_auc_score\n",
    "import xgboost as xgb\n",
    "import json\n",
    "import pickle\n",
    "import csv\n",
    "\n",
    "\n",
    "import pandas as pd\n",
    "import numpy as np\n",
    "import matplotlib.pyplot as plt\n",
    "# import seaborn as sns\n",
    "\n",
    "pd.options.display.max_columns = 100\n",
    "pd.options.display.max_rows = 100\n",
    "plt.rcParams['figure.dpi'] = 100\n",
    "plt.rcParams['font.family'] = 'Yu mincho'\n",
    "\n",
    "import os\n",
    "import gc\n",
    "import sys\n",
    "import glob\n",
    "# import tqdm\n",
    "import pickle\n",
    "import json\n",
    "import pathlib\n",
    "import datetime\n",
    "import configparser\n",
    "import warnings\n",
    "warnings.simplefilter('ignore')"
   ]
  },
  {
   "cell_type": "code",
   "execution_count": 2,
   "metadata": {
    "ExecuteTime": {
     "end_time": "2020-12-21T15:47:22.565911Z",
     "start_time": "2020-12-21T15:47:21.756532Z"
    }
   },
   "outputs": [],
   "source": [
    "from plot_helper import *\n",
    "from read_df import df_from_csv\n",
    "import balance_target\n",
    "import scale_feature"
   ]
  },
  {
   "cell_type": "markdown",
   "metadata": {},
   "source": [
    "# config"
   ]
  },
  {
   "cell_type": "code",
   "execution_count": 3,
   "metadata": {
    "ExecuteTime": {
     "end_time": "2020-12-21T15:47:22.615704Z",
     "start_time": "2020-12-21T15:47:22.594227Z"
    }
   },
   "outputs": [],
   "source": [
    "TARGET_VALUE = 3\n",
    "FILL_VALUE = -2\n",
    "num_round = 200\n",
    "params = {\n",
    "        'objective': 'binary:logistic',\n",
    "        'silent':0,\n",
    "        'gamma':10,\n",
    "        'random_state':0,\n",
    "        # 学習用の指標 (RMSE)\n",
    "        'eval_metric': 'logloss',\n",
    "}\n",
    "\n",
    "key_cols = ['race_id', 'horse_id', 'race_date', 'arrival']\n",
    "not_z_col = [\n",
    "    'weight_null_flg',\n",
    "    'is_same_place',\n",
    "    'same_cluster_flg',\n",
    "    'gender_セ',\n",
    "    'gender_牝',\n",
    "    'gender_牡',\n",
    "    'place_なし',\n",
    "    'place_地',\n",
    "#     'place_外',\n",
    "    'place_東',\n",
    "    'place_西',\n",
    "    'first_data_flg',\n",
    "    'is_first_in_prize',\n",
    "    'last_turf_flg',\n",
    "    'last_weather_int',\n",
    "    'last_condition_int',\n",
    "    'course_num',\n",
    "    'race_month',\n",
    "    'age',\n",
    "    'last_got_prize_sum_rank',\n",
    "    'abs_weight_change_rate',\n",
    "    'abs_weight_change_rate_rank',\n",
    "    'interval_days_diff',\n",
    "    'last_uphill_rank',\n",
    "    'race_class_prize_1勝クラス',\n",
    "    'race_class_prize_2勝クラス',\n",
    "    'race_class_prize_3勝クラス', \n",
    "    'race_class_prize_未勝利'\n",
    "]\n",
    "\n",
    "## 標準化\n",
    "ss_col = [\n",
    "    'weight',\n",
    "    'weight_change_rate',\n",
    "    'handy_rate',\n",
    "    'handy_weight',\n",
    "    'age_ss',\n",
    "    'interval_days',\n",
    "    'abs_distance_diff',\n",
    "    'last_speed',\n",
    "    'last_uphill_speed',\n",
    "    'last_uphill',\n",
    "    'last_uphill_samecc',\n",
    "    'last_weight_3_mean',\n",
    "    'abs_weight_change',\n",
    "    'last_got_prize',\n",
    "    'last_got_prize_sum',\n",
    "    'm_rate',\n",
    "]\n",
    "\n",
    "mm_col = [\n",
    "    'last_arrival',\n",
    "    'p2_arrival',\n",
    "    'p3_arrival',\n",
    "]\n",
    "\n",
    "# X_cols = ss_col + mm_col + not_z_col\n",
    "# print('len(X_cols): ', len(X_cols))\n",
    "# dt_now = datetime.datetime.now().strftime('%Y%m%d%H%M')\n",
    "\n",
    "# log_path = resource_path /'model_build/logs/wh' /dt_now\n",
    "# os.makedirs(log_path/'image', exist_ok=True)\n",
    "\n"
   ]
  },
  {
   "cell_type": "markdown",
   "metadata": {},
   "source": [
    "# method"
   ]
  },
  {
   "cell_type": "code",
   "execution_count": 4,
   "metadata": {
    "ExecuteTime": {
     "end_time": "2020-12-21T15:47:28.757440Z",
     "start_time": "2020-12-21T15:47:28.714482Z"
    }
   },
   "outputs": [],
   "source": [
    "\n",
    "def split_data(df_use):\n",
    "    ## モデル\n",
    "    valid_id = np.random.choice(df_use.race_id.unique(), size=int(df_use.race_id.nunique() * 0.1), replace=False)\n",
    "    print('valid_id len: ',len(valid_id))\n",
    "\n",
    "    df_test = df_use.query('race_id in @valid_id')\n",
    "    print('df_test:  shape/race_id num', df_test.shape, df_test.race_id.nunique())\n",
    "    df_train = df_use.query('race_id not in @valid_id')\n",
    "    print('df_train: shape/race_id num', df_train.shape, df_train.race_id.nunique())\n",
    "\n",
    "    target_size = df_train.target.sum()\n",
    "    df_train_0 = df_train[df_train.target==0]\n",
    "    df_train_use = df_train_0.sample(target_size, random_state=0)\n",
    "    df_train_use = pd.concat([df_train_use, df_train[df_train.target==1]])\n",
    "\n",
    "    df_sampling = balance_target.get_df_sampling(df_train_use['target'], df_test['target'], 'target')\n",
    "    df_sampling.loc['test', 'num_id'] = len(valid_id)\n",
    "    df_sampling.loc['All', 'num_id'] = df_use.race_id.nunique()\n",
    "    df_sampling.to_csv(log_path/'data_num.csv', encoding='utf-8-sig')\n",
    "    return df_train_use, df_test\n",
    "\n",
    "\n",
    "def build_model(df_train):\n",
    "    X_train = df_train[X_cols]\n",
    "    y_train = df_train['target']\n",
    "    dtrain = xgb.DMatrix(X_train, label=y_train)\n",
    "    # dvalid = xgb.DMatrix(X_test, label=y_test)\n",
    "    # watchlist = [(dtrain, 'train'), (dvalid, 'eval')]\n",
    "    model = xgb.train(\n",
    "        params,\n",
    "        dtrain,#訓練データ\n",
    "        num_round,#設定した学習回数\n",
    "        # early_stopping_rounds=20,\n",
    "        # evals=watchlist,\n",
    "    )\n",
    "    return model\n",
    "\n",
    "\n",
    "def output_model(model, y_test, prob2, s_rate):\n",
    "    pickle.dump(model,open(log_path/'model.pickle', 'wb'))\n",
    "#     model.trees_to_dataframe().to_csv(log_path/'model_trees.csv', encoding='utf-8-sig', index=False)\n",
    "    pd.DataFrame([model.feature_importances_], columns=X_cols).T.to_csv(log_path/'feature_importances.csv', encoding='utf-8-sig', index=False)\n",
    "\n",
    "    xgb.plot_importance(\n",
    "        model,\n",
    "    #     cls_rdn.best_estimator_,\n",
    "        importance_type='gain',\n",
    "        show_values=False,\n",
    "        max_num_features=40\n",
    "    )\n",
    "    plt.savefig(log_path/'image/feature_importance.png', pad_inches=.05, bbox_inches='tight')\n",
    "\n",
    "    get_score_plot(get_scores(y_test, prob2), log_path/'image/score_by_th.png')\n",
    "    plot_calibration(y_test, prob2, log_path/'image/calibration_plot.png')\n",
    "    plot_roc(y_test, prob2, log_path/'image/roc_plot.png')\n",
    "    with open(log_path/'model_config.json', 'w') as f:\n",
    "        json.dump({\n",
    "                'ss_col': ss_col, \n",
    "                'mm_col': mm_col,\n",
    "                'not_z_col':not_z_col,\n",
    "                'X_cols': X_cols,\n",
    "                'TARGET_VALUE': TARGET_VALUE,\n",
    "                'FILL_VALUE': FILL_VALUE,\n",
    "                'params': model.get_params(),\n",
    "#                 'num_round': num_round,\n",
    "                's_rate': s_rate\n",
    "            },\n",
    "            f,\n",
    "            indent=4\n",
    "        )\n",
    "    with open(log_path/'AUC.csv', 'a') as f:\n",
    "        writer = csv.writer(f, lineterminator='\\n') # 行末は改行\n",
    "        writer.writerow([dt_now, roc_auc_score(y_test, prob2), TARGET_VALUE, COMMENT])\n",
    "\n",
    "\n",
    "def predict(model, s_rate, df_test, df_use):\n",
    "#     dtest = xgb.DMatrix(df_test[X_cols])\n",
    "    prob2 = balance_target.adjusted_prob(model.predict_proba(df_test[X_cols])[:, 1], s_rate)\n",
    "    df_test['pred_prob'] = prob2\n",
    "    df_test[['arrival', 'horse_id', 'race_id', 'pred_prob']].to_csv(log_path/f'score.csv', index=False)\n",
    "\n",
    "    prob3 = balance_target.adjusted_prob(model.predict_proba(df_use[X_cols])[:, 1], s_rate)\n",
    "    df_use['pred_prob'] = prob3\n",
    "    df_use[['arrival', 'horse_id', 'race_id', 'pred_prob']].to_csv(log_path/f'score_all.csv', index=False)\n",
    "    return prob2\n",
    " \n",
    "\n",
    "def main(filename):\n",
    "    file_input = resource_path/f'model_build/features/WinHorse_all_{filename}.csv'\n",
    "    df_main = df_from_csv(file_input)\n",
    "    df_main.race_date = pd.to_datetime(df_main.race_date)\n",
    "    df_main['race_month'] = df_main.race_date.dt.month\n",
    "    df_use = scale_feature.scale_by_race_id(df_main, ss_col, mm_col, key_cols+not_z_col)\n",
    "    df_use['target'] = 0\n",
    "    df_use.loc[df_use.arrival<=TARGET_VALUE, 'target'] = 1\n",
    "    \n",
    "    df_use.fillna(FILL_VALUE, inplace=True)\n",
    "    df_train, df_test = split_data(df_use)\n",
    "    y_test = df_test['target']\n",
    "    \n",
    "    s_rate = balance_target.get_srate(y_test)\n",
    "    model = build_model(df_train)\n",
    "    prob2 = predict(model, s_rate, df_test, df_use)\n",
    "    AUC = roc_auc_score(y_test, prob2)\n",
    "    print('AUC: ', AUC)\n",
    "#     print('出力フォルダ: ', log_path)\n",
    "#     output_model(model, y_test, prob2, s_rate, AUC)"
   ]
  },
  {
   "cell_type": "markdown",
   "metadata": {},
   "source": [
    "# read data"
   ]
  },
  {
   "cell_type": "markdown",
   "metadata": {},
   "source": [
    "## features"
   ]
  },
  {
   "cell_type": "code",
   "execution_count": 36,
   "metadata": {
    "ExecuteTime": {
     "end_time": "2020-12-21T15:54:27.156306Z",
     "start_time": "2020-12-21T15:54:25.775775Z"
    }
   },
   "outputs": [
    {
     "data": {
      "text/html": [
       "<div>\n",
       "<style scoped>\n",
       "    .dataframe tbody tr th:only-of-type {\n",
       "        vertical-align: middle;\n",
       "    }\n",
       "\n",
       "    .dataframe tbody tr th {\n",
       "        vertical-align: top;\n",
       "    }\n",
       "\n",
       "    .dataframe thead th {\n",
       "        text-align: right;\n",
       "    }\n",
       "</style>\n",
       "<table border=\"1\" class=\"dataframe\">\n",
       "  <thead>\n",
       "    <tr style=\"text-align: right;\">\n",
       "      <th></th>\n",
       "      <th>arrival</th>\n",
       "      <th>race_id</th>\n",
       "      <th>horse_id</th>\n",
       "      <th>race_date</th>\n",
       "      <th>age</th>\n",
       "      <th>first_data_flg</th>\n",
       "      <th>last_weight_3_mean</th>\n",
       "      <th>interval_days</th>\n",
       "      <th>last_turf_flg</th>\n",
       "      <th>distance_diff</th>\n",
       "      <th>last_weather_int</th>\n",
       "      <th>last_condition_int</th>\n",
       "      <th>is_first_in_prize</th>\n",
       "      <th>last_arrival</th>\n",
       "      <th>p2_arrival</th>\n",
       "      <th>p3_arrival</th>\n",
       "      <th>last_speed</th>\n",
       "      <th>last_uphill</th>\n",
       "      <th>last_uphill_speed</th>\n",
       "      <th>last_uphill_samecc</th>\n",
       "      <th>same_cluster_flg</th>\n",
       "      <th>is_same_place</th>\n",
       "      <th>last_got_prize</th>\n",
       "      <th>last_got_prize_sum</th>\n",
       "      <th>course_num</th>\n",
       "      <th>weight</th>\n",
       "      <th>abs_weight_change</th>\n",
       "      <th>weight_null_flg</th>\n",
       "      <th>weight_change_rate</th>\n",
       "      <th>handy_weight</th>\n",
       "      <th>handy_rate</th>\n",
       "      <th>abs_distance_diff</th>\n",
       "      <th>last_got_prize_sum.1</th>\n",
       "      <th>last_got_prize_sum_rank</th>\n",
       "      <th>abs_weight_change_rate</th>\n",
       "      <th>abs_weight_change_rate_rank</th>\n",
       "      <th>last_uphill_rank</th>\n",
       "      <th>interval_days_diff</th>\n",
       "      <th>interval_days_diff_rank</th>\n",
       "      <th>m_rate</th>\n",
       "      <th>gender_セ</th>\n",
       "      <th>gender_牝</th>\n",
       "      <th>gender_牡</th>\n",
       "      <th>place_なし</th>\n",
       "      <th>place_地</th>\n",
       "      <th>place_外</th>\n",
       "      <th>place_東</th>\n",
       "      <th>place_西</th>\n",
       "      <th>race_class_prize_1勝クラス</th>\n",
       "      <th>race_class_prize_2勝クラス</th>\n",
       "      <th>race_class_prize_3勝クラス</th>\n",
       "      <th>race_class_prize_未勝利</th>\n",
       "      <th>race_month</th>\n",
       "    </tr>\n",
       "  </thead>\n",
       "  <tbody>\n",
       "    <tr>\n",
       "      <th>0</th>\n",
       "      <td>2</td>\n",
       "      <td>201209030106</td>\n",
       "      <td>5301</td>\n",
       "      <td>2012-06-02</td>\n",
       "      <td>3</td>\n",
       "      <td>0</td>\n",
       "      <td>NaN</td>\n",
       "      <td>28.0</td>\n",
       "      <td>1</td>\n",
       "      <td>0.0</td>\n",
       "      <td>1.0</td>\n",
       "      <td>2.0</td>\n",
       "      <td>0</td>\n",
       "      <td>2.0</td>\n",
       "      <td>NaN</td>\n",
       "      <td>NaN</td>\n",
       "      <td>250.0</td>\n",
       "      <td>36.0</td>\n",
       "      <td>0.1440</td>\n",
       "      <td>NaN</td>\n",
       "      <td>0</td>\n",
       "      <td>1</td>\n",
       "      <td>200.0</td>\n",
       "      <td>480.0</td>\n",
       "      <td>9</td>\n",
       "      <td>430.0</td>\n",
       "      <td>8.0</td>\n",
       "      <td>0</td>\n",
       "      <td>NaN</td>\n",
       "      <td>54.0</td>\n",
       "      <td>0.125581</td>\n",
       "      <td>0.0</td>\n",
       "      <td>480.0</td>\n",
       "      <td>1.0</td>\n",
       "      <td>NaN</td>\n",
       "      <td>NaN</td>\n",
       "      <td>8.0</td>\n",
       "      <td>8.0</td>\n",
       "      <td>7.0</td>\n",
       "      <td>0.182247</td>\n",
       "      <td>0</td>\n",
       "      <td>1</td>\n",
       "      <td>0</td>\n",
       "      <td>0</td>\n",
       "      <td>0</td>\n",
       "      <td>0</td>\n",
       "      <td>0</td>\n",
       "      <td>1</td>\n",
       "      <td>0</td>\n",
       "      <td>0</td>\n",
       "      <td>0</td>\n",
       "      <td>1</td>\n",
       "      <td>6</td>\n",
       "    </tr>\n",
       "    <tr>\n",
       "      <th>1</th>\n",
       "      <td>16</td>\n",
       "      <td>201205030103</td>\n",
       "      <td>15346</td>\n",
       "      <td>2012-06-02</td>\n",
       "      <td>3</td>\n",
       "      <td>0</td>\n",
       "      <td>NaN</td>\n",
       "      <td>97.0</td>\n",
       "      <td>1</td>\n",
       "      <td>-400.0</td>\n",
       "      <td>2.0</td>\n",
       "      <td>3.0</td>\n",
       "      <td>1</td>\n",
       "      <td>9.0</td>\n",
       "      <td>NaN</td>\n",
       "      <td>NaN</td>\n",
       "      <td>200.0</td>\n",
       "      <td>37.5</td>\n",
       "      <td>0.1875</td>\n",
       "      <td>NaN</td>\n",
       "      <td>0</td>\n",
       "      <td>1</td>\n",
       "      <td>NaN</td>\n",
       "      <td>0.0</td>\n",
       "      <td>10</td>\n",
       "      <td>428.0</td>\n",
       "      <td>8.0</td>\n",
       "      <td>0</td>\n",
       "      <td>NaN</td>\n",
       "      <td>54.0</td>\n",
       "      <td>0.126168</td>\n",
       "      <td>400.0</td>\n",
       "      <td>0.0</td>\n",
       "      <td>8.0</td>\n",
       "      <td>NaN</td>\n",
       "      <td>NaN</td>\n",
       "      <td>11.0</td>\n",
       "      <td>77.0</td>\n",
       "      <td>14.0</td>\n",
       "      <td>0.182247</td>\n",
       "      <td>0</td>\n",
       "      <td>1</td>\n",
       "      <td>0</td>\n",
       "      <td>0</td>\n",
       "      <td>0</td>\n",
       "      <td>0</td>\n",
       "      <td>1</td>\n",
       "      <td>0</td>\n",
       "      <td>0</td>\n",
       "      <td>0</td>\n",
       "      <td>0</td>\n",
       "      <td>1</td>\n",
       "      <td>6</td>\n",
       "    </tr>\n",
       "  </tbody>\n",
       "</table>\n",
       "</div>"
      ],
      "text/plain": [
       "   arrival       race_id  horse_id  race_date  age  first_data_flg  \\\n",
       "0        2  201209030106      5301 2012-06-02    3               0   \n",
       "1       16  201205030103     15346 2012-06-02    3               0   \n",
       "\n",
       "   last_weight_3_mean  interval_days  last_turf_flg  distance_diff  \\\n",
       "0                 NaN           28.0              1            0.0   \n",
       "1                 NaN           97.0              1         -400.0   \n",
       "\n",
       "   last_weather_int  last_condition_int  is_first_in_prize  last_arrival  \\\n",
       "0               1.0                 2.0                  0           2.0   \n",
       "1               2.0                 3.0                  1           9.0   \n",
       "\n",
       "   p2_arrival  p3_arrival  last_speed  last_uphill  last_uphill_speed  \\\n",
       "0         NaN         NaN       250.0         36.0             0.1440   \n",
       "1         NaN         NaN       200.0         37.5             0.1875   \n",
       "\n",
       "   last_uphill_samecc  same_cluster_flg  is_same_place  last_got_prize  \\\n",
       "0                 NaN                 0              1           200.0   \n",
       "1                 NaN                 0              1             NaN   \n",
       "\n",
       "   last_got_prize_sum  course_num  weight  abs_weight_change  weight_null_flg  \\\n",
       "0               480.0           9   430.0                8.0                0   \n",
       "1                 0.0          10   428.0                8.0                0   \n",
       "\n",
       "   weight_change_rate  handy_weight  handy_rate  abs_distance_diff  \\\n",
       "0                 NaN          54.0    0.125581                0.0   \n",
       "1                 NaN          54.0    0.126168              400.0   \n",
       "\n",
       "   last_got_prize_sum.1  last_got_prize_sum_rank  abs_weight_change_rate  \\\n",
       "0                 480.0                      1.0                     NaN   \n",
       "1                   0.0                      8.0                     NaN   \n",
       "\n",
       "   abs_weight_change_rate_rank  last_uphill_rank  interval_days_diff  \\\n",
       "0                          NaN               8.0                 8.0   \n",
       "1                          NaN              11.0                77.0   \n",
       "\n",
       "   interval_days_diff_rank    m_rate  gender_セ  gender_牝  gender_牡  place_なし  \\\n",
       "0                      7.0  0.182247         0         1         0         0   \n",
       "1                     14.0  0.182247         0         1         0         0   \n",
       "\n",
       "   place_地  place_外  place_東  place_西  race_class_prize_1勝クラス  \\\n",
       "0        0        0        0        1                       0   \n",
       "1        0        0        1        0                       0   \n",
       "\n",
       "   race_class_prize_2勝クラス  race_class_prize_3勝クラス  race_class_prize_未勝利  \\\n",
       "0                       0                       0                     1   \n",
       "1                       0                       0                     1   \n",
       "\n",
       "  race_month  \n",
       "0          6  \n",
       "1          6  "
      ]
     },
     "execution_count": 36,
     "metadata": {},
     "output_type": "execute_result"
    }
   ],
   "source": [
    "filename = 'new'\n",
    "file_input = resource_path/f'model_build/features/WinHorse_all_{filename}.csv'\n",
    "df_main = df_from_csv(file_input)\n",
    "df_main.race_date = pd.to_datetime(df_main.race_date)\n",
    "df_main['race_month'] = df_main.race_date.dt.month.astype(str)\n",
    "df_main.head(2)"
   ]
  },
  {
   "cell_type": "markdown",
   "metadata": {},
   "source": [
    "## race_master"
   ]
  },
  {
   "cell_type": "code",
   "execution_count": 6,
   "metadata": {
    "ExecuteTime": {
     "end_time": "2020-12-21T15:47:33.270727Z",
     "start_time": "2020-12-21T15:47:33.151613Z"
    }
   },
   "outputs": [
    {
     "name": "stdout",
     "output_type": "stream",
     "text": [
      "(27125, 4)\n"
     ]
    },
    {
     "data": {
      "text/html": [
       "<div>\n",
       "<style scoped>\n",
       "    .dataframe tbody tr th:only-of-type {\n",
       "        vertical-align: middle;\n",
       "    }\n",
       "\n",
       "    .dataframe tbody tr th {\n",
       "        vertical-align: top;\n",
       "    }\n",
       "\n",
       "    .dataframe thead th {\n",
       "        text-align: right;\n",
       "    }\n",
       "</style>\n",
       "<table border=\"1\" class=\"dataframe\">\n",
       "  <thead>\n",
       "    <tr style=\"text-align: right;\">\n",
       "      <th></th>\n",
       "      <th>race_date</th>\n",
       "      <th>race_class_prize</th>\n",
       "      <th>condition_int</th>\n",
       "      <th>weather_int</th>\n",
       "    </tr>\n",
       "    <tr>\n",
       "      <th>race_id</th>\n",
       "      <th></th>\n",
       "      <th></th>\n",
       "      <th></th>\n",
       "      <th></th>\n",
       "    </tr>\n",
       "  </thead>\n",
       "  <tbody>\n",
       "    <tr>\n",
       "      <th>201001020110</th>\n",
       "      <td>2010-09-11</td>\n",
       "      <td>オープン</td>\n",
       "      <td>1</td>\n",
       "      <td>2</td>\n",
       "    </tr>\n",
       "    <tr>\n",
       "      <th>201001020111</th>\n",
       "      <td>2010-09-11</td>\n",
       "      <td>2勝クラス</td>\n",
       "      <td>1</td>\n",
       "      <td>2</td>\n",
       "    </tr>\n",
       "  </tbody>\n",
       "</table>\n",
       "</div>"
      ],
      "text/plain": [
       "              race_date race_class_prize  condition_int  weather_int\n",
       "race_id                                                             \n",
       "201001020110 2010-09-11             オープン              1            2\n",
       "201001020111 2010-09-11            2勝クラス              1            2"
      ]
     },
     "execution_count": 6,
     "metadata": {},
     "output_type": "execute_result"
    }
   ],
   "source": [
    "file_race_master = resource_path/'common/race_info_master.csv'\n",
    "df_info = pd.read_csv(\n",
    "    file_race_master,\n",
    "    usecols=['condition_int', 'weather_int', 'race_id', 'race_date', 'race_class_prize']\n",
    ").set_index('race_id')\n",
    "df_info.race_date = pd.to_datetime(df_info.race_date)\n",
    "print(df_info.shape)\n",
    "df_info.head(2)"
   ]
  },
  {
   "cell_type": "markdown",
   "metadata": {},
   "source": [
    "# add m_rate"
   ]
  },
  {
   "cell_type": "code",
   "execution_count": 57,
   "metadata": {
    "ExecuteTime": {
     "end_time": "2020-12-21T16:02:55.271526Z",
     "start_time": "2020-12-21T16:02:54.351820Z"
    },
    "scrolled": true
   },
   "outputs": [
    {
     "name": "stdout",
     "output_type": "stream",
     "text": [
      "入門 53664\n",
      "初心者 46010\n",
      "見習い 30685\n"
     ]
    }
   ],
   "source": [
    "class_dict = {\n",
    "    '入門': {'未勝利'},\n",
    "    '初心者': {'1勝クラス'},\n",
    "    '見習い':{'2勝クラス', '3勝クラス'},\n",
    "#     'プロ':{'オープン','G3','G2','G1'}\n",
    "}\n",
    "\n",
    "rate_dict = {}\n",
    "for k,v in class_dict.items():\n",
    "    df_tmp = df_main.loc[df_main.race_id.isin(df_info.query('race_class_prize in @v').index)]\n",
    "    df_tmp['target'] = 0\n",
    "    df_tmp.loc[df_tmp.arrival >= TARGET_VALUE, 'target'] = 1\n",
    "    print(k, df_tmp.shape[0])\n",
    "    tmp_f = pd.crosstab(df_tmp.query('gender_牝==1').race_month, df_tmp.query('gender_牝==1').target, margins=True)\n",
    "    tmp_f['rate'] = tmp_f[1] / tmp_f.All\n",
    "\n",
    "    tmp_m = pd.crosstab(df_tmp.query('gender_牡==1').race_month, df_tmp.query('gender_牡==1').target, margins=True)\n",
    "    tmp_m['rate'] = tmp_m[1] / tmp_m.All\n",
    "\n",
    "    tmp_s = pd.crosstab(df_tmp.query('gender_セ==1').race_month, df_tmp.query('gender_セ==1').target, margins=True)\n",
    "    tmp_s['rate'] = tmp_s[1] / tmp_s.All\n",
    "\n",
    "    tmp = pd.concat([tmp_f.rate, tmp_m.rate, tmp_s.rate], axis=1)\n",
    "    tmp.columns = ['牝', '牡', 'セ']\n",
    "    rate_dict[k] = tmp"
   ]
  },
  {
   "cell_type": "code",
   "execution_count": 37,
   "metadata": {
    "ExecuteTime": {
     "end_time": "2020-12-21T15:54:43.795214Z",
     "start_time": "2020-12-21T15:54:43.706347Z"
    }
   },
   "outputs": [],
   "source": [
    "df_main = df_main.merge(df_info[['race_class_prize']], how='left', left_on='race_id', right_index=True)"
   ]
  },
  {
   "cell_type": "raw",
   "metadata": {
    "ExecuteTime": {
     "end_time": "2020-12-21T15:53:40.389846Z",
     "start_time": "2020-12-21T15:53:39.796239Z"
    }
   },
   "source": [
    "rate_dict = {}\n",
    "file_rate_path = str(resource_path/'common/model/WinHorse/gender_rate/{}_rate.csv')\n",
    "for k in class_dict.keys():\n",
    "    rate_dict[k] = pd.read_csv(file_rate_path.format(k), index_col=0)\n",
    "\n",
    "df_list = []\n",
    "for k,v in class_dict.items():\n",
    "    df_rate = rate_dict[k]\n",
    "    for col in df_rate.columns:\n",
    "        df_use = df_main.loc[(df_main.race_class_prize.isin(v))&(df_main['gender_'+col]==1)]\n",
    "        df_use = df_use.merge(df_rate[[col]].rename(columns={col:'m_rate'}), how='left', left_on='race_month', right_index=True)\n",
    "        df_list.append(df_use)\n",
    "\n",
    "df_main2 = pd.concat(df_list)\n",
    "df_main2.shape"
   ]
  },
  {
   "cell_type": "code",
   "execution_count": 12,
   "metadata": {
    "ExecuteTime": {
     "end_time": "2020-12-20T07:47:06.177913Z",
     "start_time": "2020-12-20T07:47:05.033651Z"
    },
    "scrolled": true
   },
   "outputs": [
    {
     "data": {
      "image/png": "[encoded data removed]",
      "text/plain": [
       "<Figure size 600x400 with 1 Axes>"
      ]
     },
     "metadata": {
      "needs_background": "light"
     },
     "output_type": "display_data"
    },
    {
     "data": {
      "text/plain": [
       "<Figure size 600x400 with 0 Axes>"
      ]
     },
     "metadata": {},
     "output_type": "display_data"
    },
    {
     "data": {
      "image/png": "[encoded data removed]",
      "text/plain": [
       "<Figure size 600x400 with 1 Axes>"
      ]
     },
     "metadata": {
      "needs_background": "light"
     },
     "output_type": "display_data"
    },
    {
     "data": {
      "text/plain": [
       "<Figure size 600x400 with 0 Axes>"
      ]
     },
     "metadata": {},
     "output_type": "display_data"
    },
    {
     "data": {
      "image/png": "[encoded data removed]",
      "text/plain": [
       "<Figure size 600x400 with 1 Axes>"
      ]
     },
     "metadata": {
      "needs_background": "light"
     },
     "output_type": "display_data"
    },
    {
     "data": {
      "text/plain": [
       "<Figure size 600x400 with 0 Axes>"
      ]
     },
     "metadata": {},
     "output_type": "display_data"
    }
   ],
   "source": [
    "for k,tmp in d.items():\n",
    "    tmp.drop('All').plot(grid=True)\n",
    "#     plt.plot([1,12], [0.22, 0.22], color='c')\n",
    "#     plt.plot([1,12], [0.20, 0.20], color='c')\n",
    "#     plt.plot([1,12], [0.18, 0.18], color='c')\n",
    "    plt.title(k)\n",
    "    plt.show()\n",
    "    plt.clf()\n",
    "    # plt.plot([1,12], [0.17, 0.17], color='c')"
   ]
  },
  {
   "cell_type": "markdown",
   "metadata": {
    "heading_collapsed": true
   },
   "source": [
    "# add features"
   ]
  },
  {
   "cell_type": "code",
   "execution_count": 224,
   "metadata": {
    "ExecuteTime": {
     "end_time": "2020-12-20T11:20:15.091011Z",
     "start_time": "2020-12-20T11:20:14.849804Z"
    },
    "hidden": true
   },
   "outputs": [],
   "source": [
    "df_main2['age_ss'] = df_main2['age'].copy()\n",
    "df_main2['abs_distance_diff'] = abs(df_main2['distance_diff'])\n",
    "df_main2['last_got_prize_sum'] = df_main2['last_got_prize_sum'].fillna(0)\n",
    "df_main2['last_got_prize_sum_rank'] = df_main2.groupby('race_id').last_got_prize_sum.rank(ascending=False, method='min')\n",
    "df_main2['abs_weight_chenge_rate'] = abs(df_main2['weight_change_rate']-1)\n",
    "df_main2['abs_weight_change_rate_rank'] = df_main2.groupby('race_id').abs_weight_chenge_rate.rank(method='min')\n",
    "df_main2['last_uphill_rank'] = df_main2.groupby('race_id').last_uphill.rank(method='min')\n",
    "df_main2['interval_days_diff'] = abs(df_main2.interval_days - 20)\n",
    "df_main2['interval_days_diff_rank'] = df_main2.groupby('race_id').interval_days_diff.rank(method='max')"
   ]
  },
  {
   "cell_type": "code",
   "execution_count": 225,
   "metadata": {
    "ExecuteTime": {
     "end_time": "2020-12-20T11:20:15.649595Z",
     "start_time": "2020-12-20T11:20:15.625183Z"
    },
    "hidden": true,
    "scrolled": true
   },
   "outputs": [
    {
     "ename": "KeyError",
     "evalue": "\"None of [Index(['race_class_prize'], dtype='object')] are in the [columns]\"",
     "output_type": "error",
     "traceback": [
      "\u001b[1;31m---------------------------------------------------------------------------\u001b[0m",
      "\u001b[1;31mKeyError\u001b[0m                                  Traceback (most recent call last)",
      "\u001b[1;32m<ipython-input-225-12e1767b3527>\u001b[0m in \u001b[0;36m<module>\u001b[1;34m\u001b[0m\n\u001b[1;32m----> 1\u001b[1;33m \u001b[0mdf_main2\u001b[0m \u001b[1;33m=\u001b[0m \u001b[0mpd\u001b[0m\u001b[1;33m.\u001b[0m\u001b[0mget_dummies\u001b[0m\u001b[1;33m(\u001b[0m\u001b[0mdf_main2\u001b[0m\u001b[1;33m,\u001b[0m \u001b[0mcolumns\u001b[0m\u001b[1;33m=\u001b[0m\u001b[1;33m[\u001b[0m\u001b[1;34m'race_class_prize'\u001b[0m\u001b[1;33m]\u001b[0m\u001b[1;33m)\u001b[0m\u001b[1;33m\u001b[0m\u001b[1;33m\u001b[0m\u001b[0m\n\u001b[0m",
      "\u001b[1;32mc:\\users\\nishina\\appdata\\local\\programs\\python\\python38\\lib\\site-packages\\pandas\\core\\reshape\\reshape.py\u001b[0m in \u001b[0;36mget_dummies\u001b[1;34m(data, prefix, prefix_sep, dummy_na, columns, sparse, drop_first, dtype)\u001b[0m\n\u001b[0;32m    841\u001b[0m             \u001b[1;32mraise\u001b[0m \u001b[0mTypeError\u001b[0m\u001b[1;33m(\u001b[0m\u001b[1;34m\"Input must be a list-like for parameter `columns`\"\u001b[0m\u001b[1;33m)\u001b[0m\u001b[1;33m\u001b[0m\u001b[1;33m\u001b[0m\u001b[0m\n\u001b[0;32m    842\u001b[0m         \u001b[1;32melse\u001b[0m\u001b[1;33m:\u001b[0m\u001b[1;33m\u001b[0m\u001b[1;33m\u001b[0m\u001b[0m\n\u001b[1;32m--> 843\u001b[1;33m             \u001b[0mdata_to_encode\u001b[0m \u001b[1;33m=\u001b[0m \u001b[0mdata\u001b[0m\u001b[1;33m[\u001b[0m\u001b[0mcolumns\u001b[0m\u001b[1;33m]\u001b[0m\u001b[1;33m\u001b[0m\u001b[1;33m\u001b[0m\u001b[0m\n\u001b[0m\u001b[0;32m    844\u001b[0m \u001b[1;33m\u001b[0m\u001b[0m\n\u001b[0;32m    845\u001b[0m         \u001b[1;31m# validate prefixes and separator to avoid silently dropping cols\u001b[0m\u001b[1;33m\u001b[0m\u001b[1;33m\u001b[0m\u001b[1;33m\u001b[0m\u001b[0m\n",
      "\u001b[1;32mc:\\users\\nishina\\appdata\\local\\programs\\python\\python38\\lib\\site-packages\\pandas\\core\\frame.py\u001b[0m in \u001b[0;36m__getitem__\u001b[1;34m(self, key)\u001b[0m\n\u001b[0;32m   2910\u001b[0m             \u001b[1;32mif\u001b[0m \u001b[0mis_iterator\u001b[0m\u001b[1;33m(\u001b[0m\u001b[0mkey\u001b[0m\u001b[1;33m)\u001b[0m\u001b[1;33m:\u001b[0m\u001b[1;33m\u001b[0m\u001b[1;33m\u001b[0m\u001b[0m\n\u001b[0;32m   2911\u001b[0m                 \u001b[0mkey\u001b[0m \u001b[1;33m=\u001b[0m \u001b[0mlist\u001b[0m\u001b[1;33m(\u001b[0m\u001b[0mkey\u001b[0m\u001b[1;33m)\u001b[0m\u001b[1;33m\u001b[0m\u001b[1;33m\u001b[0m\u001b[0m\n\u001b[1;32m-> 2912\u001b[1;33m             \u001b[0mindexer\u001b[0m \u001b[1;33m=\u001b[0m \u001b[0mself\u001b[0m\u001b[1;33m.\u001b[0m\u001b[0mloc\u001b[0m\u001b[1;33m.\u001b[0m\u001b[0m_get_listlike_indexer\u001b[0m\u001b[1;33m(\u001b[0m\u001b[0mkey\u001b[0m\u001b[1;33m,\u001b[0m \u001b[0maxis\u001b[0m\u001b[1;33m=\u001b[0m\u001b[1;36m1\u001b[0m\u001b[1;33m,\u001b[0m \u001b[0mraise_missing\u001b[0m\u001b[1;33m=\u001b[0m\u001b[1;32mTrue\u001b[0m\u001b[1;33m)\u001b[0m\u001b[1;33m[\u001b[0m\u001b[1;36m1\u001b[0m\u001b[1;33m]\u001b[0m\u001b[1;33m\u001b[0m\u001b[1;33m\u001b[0m\u001b[0m\n\u001b[0m\u001b[0;32m   2913\u001b[0m \u001b[1;33m\u001b[0m\u001b[0m\n\u001b[0;32m   2914\u001b[0m         \u001b[1;31m# take() does not accept boolean indexers\u001b[0m\u001b[1;33m\u001b[0m\u001b[1;33m\u001b[0m\u001b[1;33m\u001b[0m\u001b[0m\n",
      "\u001b[1;32mc:\\users\\nishina\\appdata\\local\\programs\\python\\python38\\lib\\site-packages\\pandas\\core\\indexing.py\u001b[0m in \u001b[0;36m_get_listlike_indexer\u001b[1;34m(self, key, axis, raise_missing)\u001b[0m\n\u001b[0;32m   1252\u001b[0m             \u001b[0mkeyarr\u001b[0m\u001b[1;33m,\u001b[0m \u001b[0mindexer\u001b[0m\u001b[1;33m,\u001b[0m \u001b[0mnew_indexer\u001b[0m \u001b[1;33m=\u001b[0m \u001b[0max\u001b[0m\u001b[1;33m.\u001b[0m\u001b[0m_reindex_non_unique\u001b[0m\u001b[1;33m(\u001b[0m\u001b[0mkeyarr\u001b[0m\u001b[1;33m)\u001b[0m\u001b[1;33m\u001b[0m\u001b[1;33m\u001b[0m\u001b[0m\n\u001b[0;32m   1253\u001b[0m \u001b[1;33m\u001b[0m\u001b[0m\n\u001b[1;32m-> 1254\u001b[1;33m         \u001b[0mself\u001b[0m\u001b[1;33m.\u001b[0m\u001b[0m_validate_read_indexer\u001b[0m\u001b[1;33m(\u001b[0m\u001b[0mkeyarr\u001b[0m\u001b[1;33m,\u001b[0m \u001b[0mindexer\u001b[0m\u001b[1;33m,\u001b[0m \u001b[0maxis\u001b[0m\u001b[1;33m,\u001b[0m \u001b[0mraise_missing\u001b[0m\u001b[1;33m=\u001b[0m\u001b[0mraise_missing\u001b[0m\u001b[1;33m)\u001b[0m\u001b[1;33m\u001b[0m\u001b[1;33m\u001b[0m\u001b[0m\n\u001b[0m\u001b[0;32m   1255\u001b[0m         \u001b[1;32mreturn\u001b[0m \u001b[0mkeyarr\u001b[0m\u001b[1;33m,\u001b[0m \u001b[0mindexer\u001b[0m\u001b[1;33m\u001b[0m\u001b[1;33m\u001b[0m\u001b[0m\n\u001b[0;32m   1256\u001b[0m \u001b[1;33m\u001b[0m\u001b[0m\n",
      "\u001b[1;32mc:\\users\\nishina\\appdata\\local\\programs\\python\\python38\\lib\\site-packages\\pandas\\core\\indexing.py\u001b[0m in \u001b[0;36m_validate_read_indexer\u001b[1;34m(self, key, indexer, axis, raise_missing)\u001b[0m\n\u001b[0;32m   1296\u001b[0m             \u001b[1;32mif\u001b[0m \u001b[0mmissing\u001b[0m \u001b[1;33m==\u001b[0m \u001b[0mlen\u001b[0m\u001b[1;33m(\u001b[0m\u001b[0mindexer\u001b[0m\u001b[1;33m)\u001b[0m\u001b[1;33m:\u001b[0m\u001b[1;33m\u001b[0m\u001b[1;33m\u001b[0m\u001b[0m\n\u001b[0;32m   1297\u001b[0m                 \u001b[0maxis_name\u001b[0m \u001b[1;33m=\u001b[0m \u001b[0mself\u001b[0m\u001b[1;33m.\u001b[0m\u001b[0mobj\u001b[0m\u001b[1;33m.\u001b[0m\u001b[0m_get_axis_name\u001b[0m\u001b[1;33m(\u001b[0m\u001b[0maxis\u001b[0m\u001b[1;33m)\u001b[0m\u001b[1;33m\u001b[0m\u001b[1;33m\u001b[0m\u001b[0m\n\u001b[1;32m-> 1298\u001b[1;33m                 \u001b[1;32mraise\u001b[0m \u001b[0mKeyError\u001b[0m\u001b[1;33m(\u001b[0m\u001b[1;34mf\"None of [{key}] are in the [{axis_name}]\"\u001b[0m\u001b[1;33m)\u001b[0m\u001b[1;33m\u001b[0m\u001b[1;33m\u001b[0m\u001b[0m\n\u001b[0m\u001b[0;32m   1299\u001b[0m \u001b[1;33m\u001b[0m\u001b[0m\n\u001b[0;32m   1300\u001b[0m             \u001b[1;31m# We (temporarily) allow for some missing keys with .loc, except in\u001b[0m\u001b[1;33m\u001b[0m\u001b[1;33m\u001b[0m\u001b[1;33m\u001b[0m\u001b[0m\n",
      "\u001b[1;31mKeyError\u001b[0m: \"None of [Index(['race_class_prize'], dtype='object')] are in the [columns]\""
     ]
    }
   ],
   "source": [
    "df_main2 = pd.get_dummies(df_main2, columns=['race_class_prize'])"
   ]
  },
  {
   "cell_type": "markdown",
   "metadata": {},
   "source": [
    "# scale features"
   ]
  },
  {
   "cell_type": "code",
   "execution_count": 38,
   "metadata": {
    "ExecuteTime": {
     "end_time": "2020-12-21T15:54:52.995191Z",
     "start_time": "2020-12-21T15:54:52.988356Z"
    }
   },
   "outputs": [],
   "source": [
    "df_main['age_ss'] = df_main['age'].copy()"
   ]
  },
  {
   "cell_type": "code",
   "execution_count": 60,
   "metadata": {
    "ExecuteTime": {
     "end_time": "2020-12-21T16:03:36.396650Z",
     "start_time": "2020-12-21T16:03:36.322449Z"
    }
   },
   "outputs": [
    {
     "data": {
      "text/plain": [
       "arrival                        0.000000\n",
       "race_id                        0.000000\n",
       "horse_id                       0.000000\n",
       "race_date                      0.000000\n",
       "age                            0.000000\n",
       "first_data_flg                 0.000000\n",
       "last_weight_3_mean             0.240612\n",
       "interval_days                  0.019745\n",
       "last_turf_flg                  0.000000\n",
       "distance_diff                  0.019745\n",
       "last_weather_int               0.056475\n",
       "last_condition_int             0.056475\n",
       "is_first_in_prize              0.000000\n",
       "last_arrival                   0.056475\n",
       "p2_arrival                     0.431179\n",
       "p3_arrival                     0.557622\n",
       "last_speed                     0.056475\n",
       "last_uphill                    0.056482\n",
       "last_uphill_speed              0.056482\n",
       "last_uphill_samecc             0.311110\n",
       "same_cluster_flg               0.000000\n",
       "is_same_place                  0.000000\n",
       "last_got_prize                 0.624974\n",
       "last_got_prize_sum             0.000000\n",
       "course_num                     0.000000\n",
       "weight                         0.000008\n",
       "abs_weight_change              0.000015\n",
       "weight_null_flg                0.000000\n",
       "weight_change_rate             0.240612\n",
       "handy_weight                   0.000000\n",
       "handy_rate                     0.000008\n",
       "abs_distance_diff              0.019745\n",
       "last_got_prize_sum.1           0.000000\n",
       "last_got_prize_sum_rank        0.000000\n",
       "abs_weight_change_rate         0.240612\n",
       "abs_weight_change_rate_rank    0.240612\n",
       "last_uphill_rank               0.056482\n",
       "interval_days_diff             0.019745\n",
       "interval_days_diff_rank        0.019745\n",
       "m_rate                         0.000000\n",
       "gender_セ                       0.000000\n",
       "gender_牝                       0.000000\n",
       "gender_牡                       0.000000\n",
       "place_なし                       0.000000\n",
       "place_地                        0.000000\n",
       "place_外                        0.000000\n",
       "place_東                        0.000000\n",
       "place_西                        0.000000\n",
       "race_class_prize_1勝クラス         0.000000\n",
       "race_class_prize_2勝クラス         0.000000\n",
       "race_class_prize_3勝クラス         0.000000\n",
       "race_class_prize_未勝利           0.000000\n",
       "race_month                     0.000000\n",
       "race_class_prize               0.000000\n",
       "age_ss                         0.000000\n",
       "dtype: float64"
      ]
     },
     "execution_count": 60,
     "metadata": {},
     "output_type": "execute_result"
    }
   ],
   "source": [
    "df_main.isnull().sum() / df_main.shape[0]"
   ]
  },
  {
   "cell_type": "code",
   "execution_count": 39,
   "metadata": {
    "ExecuteTime": {
     "end_time": "2020-12-21T15:57:28.386265Z",
     "start_time": "2020-12-21T15:54:54.130517Z"
    }
   },
   "outputs": [],
   "source": [
    "df_use = scale_feature.scale_by_race_id(df_main, ss_col, mm_col, key_cols+not_z_col)"
   ]
  },
  {
   "cell_type": "code",
   "execution_count": 40,
   "metadata": {
    "ExecuteTime": {
     "end_time": "2020-12-21T15:57:28.492687Z",
     "start_time": "2020-12-21T15:57:28.389193Z"
    }
   },
   "outputs": [],
   "source": [
    "df_use['target'] = 0\n",
    "df_use.loc[df_use.arrival<=TARGET_VALUE, 'target'] = 1\n",
    "\n",
    "df_use.fillna(FILL_VALUE, inplace=True)\n",
    "# df_train, df_test = split_data(df_use)\n",
    "# y_test = df_test['target']\n",
    "\n",
    "# s_rate = balance_target.get_srate(y_test)"
   ]
  },
  {
   "cell_type": "code",
   "execution_count": 42,
   "metadata": {
    "ExecuteTime": {
     "end_time": "2020-12-21T15:57:44.674032Z",
     "start_time": "2020-12-21T15:57:44.667197Z"
    }
   },
   "outputs": [
    {
     "data": {
      "text/plain": [
       "(130359, 51)"
      ]
     },
     "execution_count": 42,
     "metadata": {},
     "output_type": "execute_result"
    }
   ],
   "source": [
    "df_use.shape"
   ]
  },
  {
   "cell_type": "markdown",
   "metadata": {},
   "source": [
    "# train"
   ]
  },
  {
   "cell_type": "code",
   "execution_count": 43,
   "metadata": {
    "ExecuteTime": {
     "end_time": "2020-12-21T15:57:48.987525Z",
     "start_time": "2020-12-21T15:57:48.982624Z"
    }
   },
   "outputs": [],
   "source": [
    "from xgboost import XGBClassifier\n",
    "from sklearn.model_selection import GridSearchCV"
   ]
  },
  {
   "cell_type": "code",
   "execution_count": 44,
   "metadata": {
    "ExecuteTime": {
     "end_time": "2020-12-21T15:57:49.972072Z",
     "start_time": "2020-12-21T15:57:49.640119Z"
    }
   },
   "outputs": [],
   "source": [
    "df_train, df_test = train_test_split(df_use, stratify=df_use['target'], random_state=0)"
   ]
  },
  {
   "cell_type": "code",
   "execution_count": 45,
   "metadata": {
    "ExecuteTime": {
     "end_time": "2020-12-21T15:57:51.337621Z",
     "start_time": "2020-12-21T15:57:51.329811Z"
    }
   },
   "outputs": [],
   "source": [
    "X_cols = [\n",
    "    'last_got_prize',\n",
    "    'last_got_prize_sum',\n",
    "    'last_got_prize_sum_rank',\n",
    "    'last_arrival',\n",
    "    'p2_arrival',\n",
    "    'p3_arrival',\n",
    "    'age_ss',\n",
    "    'age',\n",
    "    'course_num',\n",
    "    'last_turf_flg',\n",
    "    'weight',\n",
    "    'last_weight_3_mean',\n",
    "    'abs_weight_change_rate',\n",
    "    'abs_weight_change_rate_rank',\n",
    "    'handy_weight',\n",
    "    'handy_rate',\n",
    "    'interval_days',\n",
    "    'interval_days_diff',\n",
    "#     'race_month',\n",
    "    'is_first_in_prize',\n",
    "    'abs_distance_diff',\n",
    "    'is_same_place',\n",
    "    'same_cluster_flg',\n",
    "    'last_speed',\n",
    "    'last_uphill',\n",
    "    'last_uphill_samecc',\n",
    "    'last_uphill_speed',\n",
    "    'last_uphill_rank',\n",
    "#     'last_weather_int',\n",
    "    'last_condition_int',\n",
    "    'm_rate',\n",
    "#     'gender_セ',\n",
    "#     'gender_牝',\n",
    "    'gender_牡',\n",
    "    'place_地',\n",
    "    'place_西',\n",
    "#     'place_東',\n",
    "    'race_class_prize_1勝クラス',\n",
    "#     'race_class_prize_2勝クラス',\n",
    "    'race_class_prize_3勝クラス',\n",
    "    'race_class_prize_未勝利', \n",
    "]"
   ]
  },
  {
   "cell_type": "code",
   "execution_count": 46,
   "metadata": {
    "ExecuteTime": {
     "end_time": "2020-12-21T15:57:52.080609Z",
     "start_time": "2020-12-21T15:57:52.040581Z"
    }
   },
   "outputs": [],
   "source": [
    "X_train = df_train[X_cols]\n",
    "y_train = df_train['target']\n",
    "X_test = df_test[X_cols]\n",
    "y_test = df_test['target']"
   ]
  },
  {
   "cell_type": "markdown",
   "metadata": {
    "heading_collapsed": true
   },
   "source": [
    "## search"
   ]
  },
  {
   "cell_type": "markdown",
   "metadata": {
    "hidden": true
   },
   "source": [
    "### GridSearch"
   ]
  },
  {
   "cell_type": "raw",
   "metadata": {
    "ExecuteTime": {
     "end_time": "2020-12-19T13:50:53.137227Z",
     "start_time": "2020-12-19T12:35:10.066332Z"
    },
    "hidden": true
   },
   "source": [
    "gsc = GridSearchCV(\n",
    "    #estimator=XGBClassifier(scale_pos_weight=1),\n",
    "    estimator=XGBClassifier(\n",
    "        scale_pos_weight= (len(y_train)-sum(y_train)) / sum(y_train),\n",
    "        random_state=0,\n",
    "        metric='logloss'\n",
    "    ),\n",
    "    param_grid={\n",
    "#         \"max_depth\":[3,6,8],\n",
    "        \"subsample\":[0.5,0.8,1],\n",
    "        \"colsample_bytree\":[0.5,0.8,1],\n",
    "#         \"learning_rate\":[0.01,0.1,0.3,0.5],\n",
    "#         'gamma':[10,50,100, 150]\n",
    "    },\n",
    "    cv=3,n_jobs=5\n",
    ")\n",
    "grid_result = gsc.fit(X_train, y_train)\n",
    "\n",
    "print(\"Best parameters : %s\" % grid_result.best_params_)"
   ]
  },
  {
   "cell_type": "raw",
   "metadata": {
    "hidden": true
   },
   "source": [
    "Best parameters : {'colsample_bytree': 1, 'gamma': 10, 'max_depth': 8, 'subsample': 0.8}"
   ]
  },
  {
   "cell_type": "markdown",
   "metadata": {
    "hidden": true
   },
   "source": [
    "### backward"
   ]
  },
  {
   "cell_type": "code",
   "execution_count": 112,
   "metadata": {
    "ExecuteTime": {
     "end_time": "2020-12-20T09:08:23.800328Z",
     "start_time": "2020-12-20T08:27:36.763606Z"
    },
    "hidden": true
   },
   "outputs": [
    {
     "name": "stdout",
     "output_type": "stream",
     "text": [
      "k  44 : score 76.05\n",
      "k  43 : score 76.07\n",
      "\n",
      "[MAX SCORE] : k 43 : score 0.7606679178395495\n",
      "race_class_prize_未勝利,race_class_prize_3勝クラス,race_class_prize_2勝クラス,race_class_prize_1勝クラス,last_uphill_rank,interval_days_diff,abs_weight_change_rate_rank,last_got_prize_sum_rank,age,race_month,course_num,last_condition_int,last_weather_int,last_turf_flg,is_first_in_prize,first_data_flg,place_西,place_東,place_地,place_なし,gender_牡,gender_牝,gender_セ,same_cluster_flg,is_same_place,weight_null_flg,p3_arrival,p2_arrival,last_arrival,m_rate,last_got_prize_sum,last_got_prize,last_weight_3_mean,last_uphill_samecc,last_uphill,last_uphill_speed,last_speed,abs_distance_diff,interval_days,age_ss,handy_weight,handy_rate,weight\n"
     ]
    },
    {
     "data": {
      "text/html": [
       "<div>\n",
       "<style scoped>\n",
       "    .dataframe tbody tr th:only-of-type {\n",
       "        vertical-align: middle;\n",
       "    }\n",
       "\n",
       "    .dataframe tbody tr th {\n",
       "        vertical-align: top;\n",
       "    }\n",
       "\n",
       "    .dataframe thead th {\n",
       "        text-align: right;\n",
       "    }\n",
       "</style>\n",
       "<table border=\"1\" class=\"dataframe\">\n",
       "  <thead>\n",
       "    <tr style=\"text-align: right;\">\n",
       "      <th></th>\n",
       "      <th>n_variable</th>\n",
       "      <th>score</th>\n",
       "      <th>selected_col_name</th>\n",
       "    </tr>\n",
       "  </thead>\n",
       "  <tbody>\n",
       "    <tr>\n",
       "      <th>0</th>\n",
       "      <td>44</td>\n",
       "      <td>0.760518</td>\n",
       "      <td>race_class_prize_未勝利,race_class_prize_3勝クラス,ra...</td>\n",
       "    </tr>\n",
       "    <tr>\n",
       "      <th>1</th>\n",
       "      <td>43</td>\n",
       "      <td>0.760668</td>\n",
       "      <td>race_class_prize_未勝利,race_class_prize_3勝クラス,ra...</td>\n",
       "    </tr>\n",
       "  </tbody>\n",
       "</table>\n",
       "</div>"
      ],
      "text/plain": [
       "  n_variable     score                                  selected_col_name\n",
       "0         44  0.760518  race_class_prize_未勝利,race_class_prize_3勝クラス,ra...\n",
       "1         43  0.760668  race_class_prize_未勝利,race_class_prize_3勝クラス,ra..."
      ]
     },
     "execution_count": 112,
     "metadata": {},
     "output_type": "execute_result"
    }
   ],
   "source": [
    "# 変数減少法\n",
    "train_x_data = X_train.copy()\n",
    "train_y_data = y_train.copy()\n",
    "test_x_data = X_test.copy()\n",
    "test_y_data = y_test.copy()\n",
    " \n",
    "col_names = train_x_data.columns.tolist()\n",
    "\n",
    "model = XGBClassifier(\n",
    "    scale_pos_weight=(len(y_train)-sum(y_train)) / sum(y_train),\n",
    "    max_depth=3,\n",
    "    gamma=10,\n",
    "    subsample=0.8,\n",
    "    random_state=0,\n",
    "    eval_metric='logloss'\n",
    ")\n",
    "\n",
    "\n",
    "# 列名を減少させていくことで、入力データをヘンス指定で取得する\n",
    "target_col_names = col_names.copy()\n",
    "target_col_names = target_col_names[::-1]\n",
    "\n",
    "base_score = -1       # 前ループの正答率\n",
    "loop_max_score = 0    # 現ループの最大正答率\n",
    "del_col_name = ''     # 削除変数\n",
    "\n",
    "selected_col_names = []\n",
    "scores = []\n",
    "\n",
    "selected_k = 0\n",
    "selected_score = 0\n",
    "\n",
    "# 現ループの最大正答率が前ループより大きいかつ、選択できる変数があるならば続行\n",
    "while (base_score < loop_max_score) and len(target_col_names) > 0:\n",
    "\n",
    "    base_score = loop_max_score\n",
    "\n",
    "    for target_col_name in target_col_names:\n",
    "        col_names_ = target_col_names.copy()\n",
    "        col_names_.remove(target_col_name)\n",
    "\n",
    "        # 入力データから変数の選択\n",
    "        train_x_data_ = train_x_data.loc[:, col_names_]\n",
    "        test_x_data_ = test_x_data.loc[:, col_names_]\n",
    "\n",
    "        model.fit(train_x_data_, train_y_data)\n",
    "        pred = model.predict_proba(test_x_data_)[:, 1]\n",
    "        score = roc_auc_score(test_y_data, pred)\n",
    "\n",
    "        if score > loop_max_score:\n",
    "            loop_max_score = score\n",
    "            del_col_name = target_col_name\n",
    "\n",
    "    if loop_max_score <= base_score:\n",
    "        break\n",
    "\n",
    "    if del_col_name in target_col_names:\n",
    "        # 正答率を最も改善する変数を削除\n",
    "        target_col_names.remove(del_col_name)\n",
    "        selected_col_names.append(','.join(target_col_names))\n",
    "        scores.append(loop_max_score)\n",
    "        print('k {:3} : score {:5.2f}'.format(len(target_col_names), loop_max_score * 100), del_col_name)\n",
    "\n",
    "print('')\n",
    "print('[MAX SCORE] : k {} : score {}'.format(len(selected_col_names[int(np.argmax(scores))].split(',')),\n",
    "                                              loop_max_score))\n",
    "print(selected_col_names[int(np.argmax(scores))])\n",
    "\n",
    "\n",
    "ks = [len(cols.split(',')) for cols in selected_col_names]\n",
    "results = pd.DataFrame([ks,\n",
    "                        scores,\n",
    "                        selected_col_names]).T\n",
    "results.columns = ['n_variable', 'score', 'selected_col_name']\n",
    "results"
   ]
  },
  {
   "cell_type": "code",
   "execution_count": 113,
   "metadata": {
    "ExecuteTime": {
     "end_time": "2020-12-20T09:29:34.698170Z",
     "start_time": "2020-12-20T09:29:34.664002Z"
    },
    "hidden": true,
    "scrolled": true
   },
   "outputs": [
    {
     "data": {
      "text/plain": [
       "['race_class_prize_未勝利',\n",
       " 'race_class_prize_3勝クラス',\n",
       " 'race_class_prize_2勝クラス',\n",
       " 'race_class_prize_1勝クラス',\n",
       " 'last_uphill_rank',\n",
       " 'interval_days_diff',\n",
       " 'abs_weight_change_rate_rank',\n",
       " 'last_got_prize_sum_rank',\n",
       " 'age',\n",
       " 'race_month',\n",
       " 'course_num',\n",
       " 'last_condition_int',\n",
       " 'last_weather_int',\n",
       " 'last_turf_flg',\n",
       " 'is_first_in_prize',\n",
       " 'first_data_flg',\n",
       " 'place_西',\n",
       " 'place_東',\n",
       " 'place_地',\n",
       " 'place_なし',\n",
       " 'gender_牡',\n",
       " 'gender_牝',\n",
       " 'gender_セ',\n",
       " 'same_cluster_flg',\n",
       " 'is_same_place',\n",
       " 'weight_null_flg',\n",
       " 'p3_arrival',\n",
       " 'p2_arrival',\n",
       " 'last_arrival',\n",
       " 'm_rate',\n",
       " 'last_got_prize_sum',\n",
       " 'last_got_prize',\n",
       " 'last_weight_3_mean',\n",
       " 'last_uphill_samecc',\n",
       " 'last_uphill',\n",
       " 'last_uphill_speed',\n",
       " 'last_speed',\n",
       " 'abs_distance_diff',\n",
       " 'interval_days',\n",
       " 'age_ss',\n",
       " 'handy_weight',\n",
       " 'handy_rate',\n",
       " 'weight']"
      ]
     },
     "execution_count": 113,
     "metadata": {},
     "output_type": "execute_result"
    }
   ],
   "source": [
    "selected_col_names[int(np.argmax(scores))].split(',')"
   ]
  },
  {
   "cell_type": "code",
   "execution_count": 28,
   "metadata": {
    "ExecuteTime": {
     "end_time": "2020-12-20T14:20:15.048792Z",
     "start_time": "2020-12-20T14:20:15.040980Z"
    },
    "hidden": true
   },
   "outputs": [],
   "source": [
    "backward_cols = ['race_class_prize_未勝利',\n",
    " 'race_class_prize_3勝クラス',\n",
    " 'race_class_prize_2勝クラス',\n",
    " 'race_class_prize_1勝クラス',\n",
    " 'last_uphill_rank',\n",
    " 'interval_days_diff',\n",
    " 'abs_weight_change_rate_rank',\n",
    " 'last_got_prize_sum_rank',\n",
    " 'age',\n",
    " 'race_month',\n",
    " 'course_num',\n",
    " 'last_condition_int',\n",
    " 'last_weather_int',\n",
    " 'last_turf_flg',\n",
    " 'is_first_in_prize',\n",
    " 'first_data_flg',\n",
    " 'place_西',\n",
    " 'place_東',\n",
    " 'place_地',\n",
    " 'place_なし',\n",
    " 'gender_牡',\n",
    " 'gender_牝',\n",
    " 'gender_セ',\n",
    " 'same_cluster_flg',\n",
    " 'is_same_place',\n",
    " 'weight_null_flg',\n",
    " 'p3_arrival',\n",
    " 'p2_arrival',\n",
    " 'last_arrival',\n",
    " 'm_rate',\n",
    " 'last_got_prize_sum',\n",
    " 'last_got_prize',\n",
    " 'last_weight_3_mean',\n",
    " 'last_uphill_samecc',\n",
    " 'last_uphill',\n",
    " 'last_uphill_speed',\n",
    " 'last_speed',\n",
    " 'abs_distance_diff',\n",
    " 'interval_days',\n",
    " 'age_ss',\n",
    " 'handy_weight',\n",
    " 'handy_rate',\n",
    " 'weight']"
   ]
  },
  {
   "cell_type": "code",
   "execution_count": 29,
   "metadata": {
    "ExecuteTime": {
     "end_time": "2020-12-20T14:20:24.664822Z",
     "start_time": "2020-12-20T14:20:24.657989Z"
    },
    "hidden": true
   },
   "outputs": [
    {
     "data": {
      "text/plain": [
       "{'first_data_flg',\n",
       " 'last_weather_int',\n",
       " 'place_なし',\n",
       " 'place_東',\n",
       " 'weight_null_flg'}"
      ]
     },
     "execution_count": 29,
     "metadata": {},
     "output_type": "execute_result"
    }
   ],
   "source": [
    "set(backward_cols) - set(X_cols)"
   ]
  },
  {
   "cell_type": "markdown",
   "metadata": {
    "hidden": true
   },
   "source": [
    "### forward"
   ]
  },
  {
   "cell_type": "code",
   "execution_count": null,
   "metadata": {
    "hidden": true
   },
   "outputs": [],
   "source": []
  },
  {
   "cell_type": "code",
   "execution_count": 115,
   "metadata": {
    "ExecuteTime": {
     "end_time": "2020-12-20T10:27:07.617983Z",
     "start_time": "2020-12-20T09:30:48.348025Z"
    },
    "hidden": true
   },
   "outputs": [
    {
     "name": "stdout",
     "output_type": "stream",
     "text": [
      "k   1 : score 70.26%\n",
      "k   2 : score 72.95%\n",
      "k   3 : score 73.95%\n",
      "k   4 : score 74.48%\n",
      "k   5 : score 74.84%\n",
      "k   6 : score 75.03%\n",
      "k   7 : score 75.24%\n",
      "k   8 : score 75.32%\n",
      "k   9 : score 75.49%\n",
      "k  10 : score 75.54%\n",
      "k  11 : score 75.64%\n",
      "k  12 : score 75.73%\n",
      "k  13 : score 75.79%\n",
      "k  14 : score 75.86%\n",
      "k  15 : score 75.93%\n",
      "k  16 : score 75.94%\n",
      "k  17 : score 75.97%\n",
      "\n",
      "[MAX SCORE] : k 17 : score 0.7597429761070901%\n",
      "last_arrival,last_got_prize_sum_rank,age_ss,p2_arrival,last_uphill_rank,weight,interval_days_diff,p3_arrival,course_num,last_turf_flg,last_got_prize,abs_weight_change_rate_rank,race_month,place_東,age,is_first_in_prize,race_class_prize_1勝クラス\n"
     ]
    },
    {
     "ename": "NameError",
     "evalue": "name 'output_dir_path' is not defined",
     "output_type": "error",
     "traceback": [
      "\u001b[1;31m---------------------------------------------------------------------------\u001b[0m",
      "\u001b[1;31mNameError\u001b[0m                                 Traceback (most recent call last)",
      "\u001b[1;32m<ipython-input-115-921180abe600>\u001b[0m in \u001b[0;36m<module>\u001b[1;34m\u001b[0m\n\u001b[0;32m     71\u001b[0m \u001b[0mresults\u001b[0m\u001b[1;33m.\u001b[0m\u001b[0mcolumns\u001b[0m \u001b[1;33m=\u001b[0m \u001b[1;33m[\u001b[0m\u001b[1;34m'n_variable'\u001b[0m\u001b[1;33m,\u001b[0m \u001b[1;34m'score'\u001b[0m\u001b[1;33m,\u001b[0m \u001b[1;34m'selected_col_name'\u001b[0m\u001b[1;33m]\u001b[0m\u001b[1;33m\u001b[0m\u001b[1;33m\u001b[0m\u001b[0m\n\u001b[0;32m     72\u001b[0m \u001b[1;33m\u001b[0m\u001b[0m\n\u001b[1;32m---> 73\u001b[1;33m results.to_csv(output_dir_path.joinpath('forward_selection.tsv'),\n\u001b[0m\u001b[0;32m     74\u001b[0m                \u001b[0msep\u001b[0m\u001b[1;33m=\u001b[0m\u001b[1;34m'\\t'\u001b[0m\u001b[1;33m,\u001b[0m\u001b[1;33m\u001b[0m\u001b[1;33m\u001b[0m\u001b[0m\n\u001b[0;32m     75\u001b[0m                \u001b[0mencoding\u001b[0m\u001b[1;33m=\u001b[0m\u001b[1;34m'utf-8'\u001b[0m\u001b[1;33m,\u001b[0m\u001b[1;33m\u001b[0m\u001b[1;33m\u001b[0m\u001b[0m\n",
      "\u001b[1;31mNameError\u001b[0m: name 'output_dir_path' is not defined"
     ]
    }
   ],
   "source": [
    "train_x_data = X_train.copy()\n",
    "train_y_data = y_train.copy()\n",
    "test_x_data = X_test.copy()\n",
    "test_y_data = y_test.copy()\n",
    "\n",
    "col_names = train_x_data.columns.tolist()\n",
    "\n",
    "model = XGBClassifier(\n",
    "    scale_pos_weight=(len(y_train)-sum(y_train)) / sum(y_train),\n",
    "    max_depth=3,\n",
    "    gamma=10,\n",
    "    subsample=0.8,\n",
    "    random_state=0,\n",
    "    eval_metric='logloss'\n",
    ")\n",
    "\n",
    "target_col_names = []              # 選択変数の格納\n",
    "loop_col_names = col_names.copy()  # 未選択変数を格納\n",
    "\n",
    "base_score = -1\n",
    "loop_max_score = 0\n",
    "additional_col_name = ''\n",
    "\n",
    "selected_col_names = []\n",
    "scores = []\n",
    "\n",
    "selected_k = 0\n",
    "selected_score = 0\n",
    "\n",
    "# 現ループが前ループより正答率が高くかつ、未選択変数が残されているならば続行\n",
    "while (base_score < loop_max_score) and len(loop_col_names) > 0:\n",
    "\n",
    "    base_score = loop_max_score\n",
    "\n",
    "    for target_col_name in loop_col_names:\n",
    "        col_names_ = target_col_names.copy()\n",
    "        col_names_.append(target_col_name)\n",
    "\n",
    "        # 入力データから変数の選択\n",
    "        train_x_data_ = train_x_data.loc[:, col_names_]\n",
    "        test_x_data_ = test_x_data.loc[:, col_names_]\n",
    "\n",
    "        model.fit(train_x_data_, train_y_data)\n",
    "        pred = model.predict_proba(test_x_data_)[:, 1]\n",
    "        score = roc_auc_score(test_y_data, pred)\n",
    "\n",
    "        if score > loop_max_score:\n",
    "            loop_max_score = score\n",
    "            additional_col_name = target_col_name\n",
    "\n",
    "    if base_score >= loop_max_score:\n",
    "        break\n",
    "\n",
    "    # 未選択変数群から選択分数を削除\n",
    "    loop_col_names.remove(additional_col_name)\n",
    "    target_col_names.append(additional_col_name)\n",
    "    selected_col_names.append(','.join(target_col_names))\n",
    "    scores.append(loop_max_score)\n",
    "    print('k {:3} : score {:5.2f}%'.format(len(target_col_names), loop_max_score * 100), additional_col_name)\n",
    "\n",
    "print('')\n",
    "print('[MAX SCORE] : k {} : score {}%'.format(len(selected_col_names[int(np.argmax(scores))].split(',')),\n",
    "                                              loop_max_score))\n",
    "print(selected_col_names[int(np.argmax(scores))])\n",
    "\n",
    "\n",
    "ks = [len(cols.split(',')) for cols in selected_col_names]\n",
    "results = pd.DataFrame([ks,\n",
    "                        scores,\n",
    "                        selected_col_names]).T\n",
    "results.columns = ['n_variable', 'score', 'selected_col_name']\n",
    "\n",
    "# results.to_csv(output_dir_path.joinpath('forward_selection.tsv'),\n",
    "#                sep='\\t',\n",
    "#                encoding='utf-8',\n",
    "#                index=False)"
   ]
  },
  {
   "cell_type": "code",
   "execution_count": 116,
   "metadata": {
    "ExecuteTime": {
     "end_time": "2020-12-20T10:28:24.346829Z",
     "start_time": "2020-12-20T10:28:24.315586Z"
    },
    "hidden": true
   },
   "outputs": [
    {
     "data": {
      "text/plain": [
       "['last_arrival',\n",
       " 'last_got_prize_sum_rank',\n",
       " 'age_ss',\n",
       " 'p2_arrival',\n",
       " 'last_uphill_rank',\n",
       " 'weight',\n",
       " 'interval_days_diff',\n",
       " 'p3_arrival',\n",
       " 'course_num',\n",
       " 'last_turf_flg',\n",
       " 'last_got_prize',\n",
       " 'abs_weight_change_rate_rank',\n",
       " 'race_month',\n",
       " 'place_東',\n",
       " 'age',\n",
       " 'is_first_in_prize',\n",
       " 'race_class_prize_1勝クラス']"
      ]
     },
     "execution_count": 116,
     "metadata": {},
     "output_type": "execute_result"
    }
   ],
   "source": [
    "selected_col_names[int(np.argmax(scores))].split(',')"
   ]
  },
  {
   "cell_type": "code",
   "execution_count": 117,
   "metadata": {
    "ExecuteTime": {
     "end_time": "2020-12-20T10:28:46.756838Z",
     "start_time": "2020-12-20T10:28:46.745122Z"
    },
    "hidden": true
   },
   "outputs": [],
   "source": [
    "forward_cols = ['last_arrival',\n",
    " 'last_got_prize_sum_rank',\n",
    " 'age_ss',\n",
    " 'p2_arrival',\n",
    " 'last_uphill_rank',\n",
    " 'weight',\n",
    " 'interval_days_diff',\n",
    " 'p3_arrival',\n",
    " 'course_num',\n",
    " 'last_turf_flg',\n",
    " 'last_got_prize',\n",
    " 'abs_weight_change_rate_rank',\n",
    " 'race_month',\n",
    " 'place_東',\n",
    " 'age',\n",
    " 'is_first_in_prize',\n",
    " 'race_class_prize_1勝クラス']"
   ]
  },
  {
   "cell_type": "code",
   "execution_count": 232,
   "metadata": {
    "ExecuteTime": {
     "end_time": "2020-12-20T11:22:59.348847Z",
     "start_time": "2020-12-20T11:22:44.502725Z"
    },
    "hidden": true
   },
   "outputs": [
    {
     "name": "stdout",
     "output_type": "stream",
     "text": [
      "0.7576074688826107\n"
     ]
    }
   ],
   "source": [
    "clf = XGBClassifier(\n",
    "    scale_pos_weight=(len(y_train)-sum(y_train)) / sum(y_train),\n",
    "    max_depth=3,\n",
    "    gamma=10,\n",
    "    subsample=0.8,\n",
    "    random_state=0,\n",
    "    eval_metric='logloss'\n",
    ")\n",
    "\n",
    "clf.fit(df_train[backward_cols], y_train)\n",
    "pred = clf.predict_proba(df_test[backward_cols])[:, 1]\n",
    "print(roc_auc_score(y_test, pred))"
   ]
  },
  {
   "cell_type": "code",
   "execution_count": null,
   "metadata": {
    "hidden": true
   },
   "outputs": [],
   "source": [
    "0.7564074137712897"
   ]
  },
  {
   "cell_type": "markdown",
   "metadata": {},
   "source": [
    "## train"
   ]
  },
  {
   "cell_type": "code",
   "execution_count": 47,
   "metadata": {
    "ExecuteTime": {
     "end_time": "2020-12-21T15:58:10.562597Z",
     "start_time": "2020-12-21T15:57:57.025737Z"
    }
   },
   "outputs": [
    {
     "name": "stdout",
     "output_type": "stream",
     "text": [
      "0.755335140384809\n"
     ]
    }
   ],
   "source": [
    "clf = XGBClassifier(\n",
    "    scale_pos_weight=(len(y_train)-sum(y_train)) / sum(y_train),\n",
    "    max_depth=3,\n",
    "    gamma=10,\n",
    "    subsample=0.8,\n",
    "    random_state=0,\n",
    "    eval_metric='logloss'\n",
    ")\n",
    "\n",
    "clf.fit(X_train, y_train)\n",
    "\n",
    "pred = clf.predict_proba(X_test)[:, 1]\n",
    "print(roc_auc_score(y_test, pred))"
   ]
  },
  {
   "cell_type": "code",
   "execution_count": 48,
   "metadata": {
    "ExecuteTime": {
     "end_time": "2020-12-21T15:58:12.076879Z",
     "start_time": "2020-12-21T15:58:12.032942Z"
    }
   },
   "outputs": [
    {
     "data": {
      "text/html": [
       "<div>\n",
       "<style scoped>\n",
       "    .dataframe tbody tr th:only-of-type {\n",
       "        vertical-align: middle;\n",
       "    }\n",
       "\n",
       "    .dataframe tbody tr th {\n",
       "        vertical-align: top;\n",
       "    }\n",
       "\n",
       "    .dataframe thead th {\n",
       "        text-align: right;\n",
       "    }\n",
       "</style>\n",
       "<table border=\"1\" class=\"dataframe\">\n",
       "  <thead>\n",
       "    <tr style=\"text-align: right;\">\n",
       "      <th></th>\n",
       "      <th>0</th>\n",
       "    </tr>\n",
       "  </thead>\n",
       "  <tbody>\n",
       "    <tr>\n",
       "      <th>last_got_prize</th>\n",
       "      <td>0.335533</td>\n",
       "    </tr>\n",
       "    <tr>\n",
       "      <th>last_got_prize_sum</th>\n",
       "      <td>0.044478</td>\n",
       "    </tr>\n",
       "    <tr>\n",
       "      <th>last_got_prize_sum_rank</th>\n",
       "      <td>0.118656</td>\n",
       "    </tr>\n",
       "    <tr>\n",
       "      <th>last_arrival</th>\n",
       "      <td>0.059645</td>\n",
       "    </tr>\n",
       "    <tr>\n",
       "      <th>p2_arrival</th>\n",
       "      <td>0.039831</td>\n",
       "    </tr>\n",
       "    <tr>\n",
       "      <th>p3_arrival</th>\n",
       "      <td>0.021933</td>\n",
       "    </tr>\n",
       "    <tr>\n",
       "      <th>age_ss</th>\n",
       "      <td>0.034684</td>\n",
       "    </tr>\n",
       "    <tr>\n",
       "      <th>age</th>\n",
       "      <td>0.022922</td>\n",
       "    </tr>\n",
       "    <tr>\n",
       "      <th>course_num</th>\n",
       "      <td>0.017551</td>\n",
       "    </tr>\n",
       "    <tr>\n",
       "      <th>last_turf_flg</th>\n",
       "      <td>0.036377</td>\n",
       "    </tr>\n",
       "    <tr>\n",
       "      <th>weight</th>\n",
       "      <td>0.019193</td>\n",
       "    </tr>\n",
       "    <tr>\n",
       "      <th>last_weight_3_mean</th>\n",
       "      <td>0.008035</td>\n",
       "    </tr>\n",
       "    <tr>\n",
       "      <th>abs_weight_change_rate</th>\n",
       "      <td>0.008388</td>\n",
       "    </tr>\n",
       "    <tr>\n",
       "      <th>abs_weight_change_rate_rank</th>\n",
       "      <td>0.009712</td>\n",
       "    </tr>\n",
       "    <tr>\n",
       "      <th>handy_weight</th>\n",
       "      <td>0.010724</td>\n",
       "    </tr>\n",
       "    <tr>\n",
       "      <th>handy_rate</th>\n",
       "      <td>0.007140</td>\n",
       "    </tr>\n",
       "    <tr>\n",
       "      <th>interval_days</th>\n",
       "      <td>0.009316</td>\n",
       "    </tr>\n",
       "    <tr>\n",
       "      <th>interval_days_diff</th>\n",
       "      <td>0.010638</td>\n",
       "    </tr>\n",
       "    <tr>\n",
       "      <th>is_first_in_prize</th>\n",
       "      <td>0.010549</td>\n",
       "    </tr>\n",
       "    <tr>\n",
       "      <th>abs_distance_diff</th>\n",
       "      <td>0.008835</td>\n",
       "    </tr>\n",
       "    <tr>\n",
       "      <th>is_same_place</th>\n",
       "      <td>0.009189</td>\n",
       "    </tr>\n",
       "    <tr>\n",
       "      <th>same_cluster_flg</th>\n",
       "      <td>0.003981</td>\n",
       "    </tr>\n",
       "    <tr>\n",
       "      <th>last_speed</th>\n",
       "      <td>0.012123</td>\n",
       "    </tr>\n",
       "    <tr>\n",
       "      <th>last_uphill</th>\n",
       "      <td>0.008392</td>\n",
       "    </tr>\n",
       "    <tr>\n",
       "      <th>last_uphill_samecc</th>\n",
       "      <td>0.009233</td>\n",
       "    </tr>\n",
       "    <tr>\n",
       "      <th>last_uphill_speed</th>\n",
       "      <td>0.007480</td>\n",
       "    </tr>\n",
       "    <tr>\n",
       "      <th>last_uphill_rank</th>\n",
       "      <td>0.027682</td>\n",
       "    </tr>\n",
       "    <tr>\n",
       "      <th>last_condition_int</th>\n",
       "      <td>0.010631</td>\n",
       "    </tr>\n",
       "    <tr>\n",
       "      <th>m_rate</th>\n",
       "      <td>0.007807</td>\n",
       "    </tr>\n",
       "    <tr>\n",
       "      <th>gender_牡</th>\n",
       "      <td>0.004739</td>\n",
       "    </tr>\n",
       "    <tr>\n",
       "      <th>place_地</th>\n",
       "      <td>0.005187</td>\n",
       "    </tr>\n",
       "    <tr>\n",
       "      <th>place_西</th>\n",
       "      <td>0.013174</td>\n",
       "    </tr>\n",
       "    <tr>\n",
       "      <th>race_class_prize_1勝クラス</th>\n",
       "      <td>0.021817</td>\n",
       "    </tr>\n",
       "    <tr>\n",
       "      <th>race_class_prize_3勝クラス</th>\n",
       "      <td>0.010488</td>\n",
       "    </tr>\n",
       "    <tr>\n",
       "      <th>race_class_prize_未勝利</th>\n",
       "      <td>0.013936</td>\n",
       "    </tr>\n",
       "  </tbody>\n",
       "</table>\n",
       "</div>"
      ],
      "text/plain": [
       "                                    0\n",
       "last_got_prize               0.335533\n",
       "last_got_prize_sum           0.044478\n",
       "last_got_prize_sum_rank      0.118656\n",
       "last_arrival                 0.059645\n",
       "p2_arrival                   0.039831\n",
       "p3_arrival                   0.021933\n",
       "age_ss                       0.034684\n",
       "age                          0.022922\n",
       "course_num                   0.017551\n",
       "last_turf_flg                0.036377\n",
       "weight                       0.019193\n",
       "last_weight_3_mean           0.008035\n",
       "abs_weight_change_rate       0.008388\n",
       "abs_weight_change_rate_rank  0.009712\n",
       "handy_weight                 0.010724\n",
       "handy_rate                   0.007140\n",
       "interval_days                0.009316\n",
       "interval_days_diff           0.010638\n",
       "is_first_in_prize            0.010549\n",
       "abs_distance_diff            0.008835\n",
       "is_same_place                0.009189\n",
       "same_cluster_flg             0.003981\n",
       "last_speed                   0.012123\n",
       "last_uphill                  0.008392\n",
       "last_uphill_samecc           0.009233\n",
       "last_uphill_speed            0.007480\n",
       "last_uphill_rank             0.027682\n",
       "last_condition_int           0.010631\n",
       "m_rate                       0.007807\n",
       "gender_牡                     0.004739\n",
       "place_地                      0.005187\n",
       "place_西                      0.013174\n",
       "race_class_prize_1勝クラス       0.021817\n",
       "race_class_prize_3勝クラス       0.010488\n",
       "race_class_prize_未勝利         0.013936"
      ]
     },
     "execution_count": 48,
     "metadata": {},
     "output_type": "execute_result"
    }
   ],
   "source": [
    "pd.DataFrame([clf.feature_importances_], columns=X_cols).T"
   ]
  },
  {
   "cell_type": "markdown",
   "metadata": {},
   "source": [
    "## output"
   ]
  },
  {
   "cell_type": "code",
   "execution_count": 49,
   "metadata": {
    "ExecuteTime": {
     "end_time": "2020-12-21T15:58:15.407958Z",
     "start_time": "2020-12-21T15:58:15.403078Z"
    }
   },
   "outputs": [],
   "source": [
    "log_path = resource_path /'model_build/logs/wh/20201219'\n",
    "os.makedirs(log_path/'image', exist_ok=True)"
   ]
  },
  {
   "cell_type": "code",
   "execution_count": 50,
   "metadata": {
    "ExecuteTime": {
     "end_time": "2020-12-21T15:58:21.880202Z",
     "start_time": "2020-12-21T15:58:16.115932Z"
    },
    "scrolled": true
   },
   "outputs": [
    {
     "data": {
      "image/png": "[encoded data removed]",
      "text/plain": [
       "<Figure size 600x400 with 1 Axes>"
      ]
     },
     "metadata": {
      "needs_background": "light"
     },
     "output_type": "display_data"
    },
    {
     "data": {
      "image/png": "[encoded data removed]",
      "text/plain": [
       "<Figure size 600x400 with 1 Axes>"
      ]
     },
     "metadata": {
      "needs_background": "light"
     },
     "output_type": "display_data"
    },
    {
     "data": {
      "image/png": "[encoded data removed]",
      "text/plain": [
       "<Figure size 600x400 with 2 Axes>"
      ]
     },
     "metadata": {
      "needs_background": "light"
     },
     "output_type": "display_data"
    },
    {
     "data": {
      "image/png": "[encoded data removed]",
      "text/plain": [
       "<Figure size 600x400 with 1 Axes>"
      ]
     },
     "metadata": {
      "needs_background": "light"
     },
     "output_type": "display_data"
    }
   ],
   "source": [
    "COMMENT = ''\n",
    "s_rate = y_test.sum() / len(y_test)\n",
    "prob2 = predict(clf, s_rate, df_test, df_use)\n",
    "output_model(clf, y_test, prob2, s_rate)"
   ]
  },
  {
   "cell_type": "code",
   "execution_count": 51,
   "metadata": {
    "ExecuteTime": {
     "end_time": "2020-12-21T15:58:29.503576Z",
     "start_time": "2020-12-21T15:58:29.156004Z"
    }
   },
   "outputs": [],
   "source": [
    "prob3 = balance_target.adjusted_prob(clf.predict_proba(df_use[X_cols])[:, 1], s_rate)"
   ]
  },
  {
   "cell_type": "code",
   "execution_count": 54,
   "metadata": {
    "ExecuteTime": {
     "end_time": "2020-12-21T15:58:37.538144Z",
     "start_time": "2020-12-21T15:58:37.533264Z"
    }
   },
   "outputs": [],
   "source": [
    "df_use['pred_prob'] = prob3"
   ]
  },
  {
   "cell_type": "code",
   "execution_count": 55,
   "metadata": {
    "ExecuteTime": {
     "end_time": "2020-12-21T15:58:38.585844Z",
     "start_time": "2020-12-21T15:58:38.142569Z"
    }
   },
   "outputs": [
    {
     "data": {
      "image/png": "[encoded data removed]",
      "text/plain": [
       "<Figure size 600x400 with 2 Axes>"
      ]
     },
     "metadata": {
      "needs_background": "light"
     },
     "output_type": "display_data"
    }
   ],
   "source": [
    "plot_calibration(df_use.target, prob3)"
   ]
  },
  {
   "cell_type": "code",
   "execution_count": 56,
   "metadata": {
    "ExecuteTime": {
     "end_time": "2020-12-21T15:58:40.290971Z",
     "start_time": "2020-12-21T15:58:40.221658Z"
    }
   },
   "outputs": [
    {
     "data": {
      "text/plain": [
       "0.7747254842991675"
      ]
     },
     "execution_count": 56,
     "metadata": {},
     "output_type": "execute_result"
    }
   ],
   "source": [
    "roc_auc_score(df_use.target, prob3)"
   ]
  },
  {
   "cell_type": "markdown",
   "metadata": {},
   "source": [
    "# check acc_rate"
   ]
  },
  {
   "cell_type": "code",
   "execution_count": 46,
   "metadata": {
    "ExecuteTime": {
     "end_time": "2020-12-20T14:24:58.814713Z",
     "start_time": "2020-12-20T14:24:58.727820Z"
    }
   },
   "outputs": [],
   "source": [
    "df_pred = df_use[['arrival', 'race_id', 'horse_id', 'pred_prob']].copy()\n",
    "df_pred['pred_rank'] = df_pred.groupby('race_id').pred_prob.rank(ascending=False, method='min')"
   ]
  },
  {
   "cell_type": "code",
   "execution_count": 47,
   "metadata": {
    "ExecuteTime": {
     "end_time": "2020-12-20T14:24:59.324364Z",
     "start_time": "2020-12-20T14:24:59.300928Z"
    }
   },
   "outputs": [],
   "source": [
    "df_ac = pd.DataFrame(index=df_pred.race_id.unique())\n",
    "df_ac.index.name = 'race_id'\n",
    "tmp = df_pred.loc[(df_pred.pred_rank<=5)&(df_pred.arrival<=3)].race_id.value_counts()\n",
    "df_ac['三連複'] = 0\n",
    "df_ac.loc[df_ac.index.isin(tmp.loc[tmp>=3].index), '三連複'] = 1"
   ]
  },
  {
   "cell_type": "code",
   "execution_count": 48,
   "metadata": {
    "ExecuteTime": {
     "end_time": "2020-12-20T14:24:59.887703Z",
     "start_time": "2020-12-20T14:24:59.870130Z"
    }
   },
   "outputs": [],
   "source": [
    "tmp = df_pred.loc[(df_pred.pred_rank<=3)&(df_pred.arrival<=3)].race_id.value_counts()\n",
    "df_ac['三連複_123'] = 0\n",
    "df_ac.loc[df_ac.index.isin(tmp.loc[tmp==3].index), '三連複_123'] = 1"
   ]
  },
  {
   "cell_type": "code",
   "execution_count": 49,
   "metadata": {
    "ExecuteTime": {
     "end_time": "2020-12-20T14:25:00.457904Z",
     "start_time": "2020-12-20T14:25:00.441286Z"
    }
   },
   "outputs": [],
   "source": [
    "df_ac = df_ac.merge(df_info[['race_class_prize', 'race_date']], how='left', left_index=True, right_index=True)"
   ]
  },
  {
   "cell_type": "code",
   "execution_count": 50,
   "metadata": {
    "ExecuteTime": {
     "end_time": "2020-12-20T14:25:00.900537Z",
     "start_time": "2020-12-20T14:25:00.892720Z"
    }
   },
   "outputs": [
    {
     "data": {
      "text/plain": [
       "0.2714394682358069"
      ]
     },
     "execution_count": 50,
     "metadata": {},
     "output_type": "execute_result"
    }
   ],
   "source": [
    "df_ac.三連複.sum() / df_ac.shape[0]"
   ]
  },
  {
   "cell_type": "code",
   "execution_count": 51,
   "metadata": {
    "ExecuteTime": {
     "end_time": "2020-12-20T14:25:03.657458Z",
     "start_time": "2020-12-20T14:25:03.580329Z"
    }
   },
   "outputs": [
    {
     "data": {
      "text/html": [
       "<div>\n",
       "<style scoped>\n",
       "    .dataframe tbody tr th:only-of-type {\n",
       "        vertical-align: middle;\n",
       "    }\n",
       "\n",
       "    .dataframe tbody tr th {\n",
       "        vertical-align: top;\n",
       "    }\n",
       "\n",
       "    .dataframe thead th {\n",
       "        text-align: right;\n",
       "    }\n",
       "</style>\n",
       "<table border=\"1\" class=\"dataframe\">\n",
       "  <thead>\n",
       "    <tr style=\"text-align: right;\">\n",
       "      <th>三連複</th>\n",
       "      <th>0</th>\n",
       "      <th>1</th>\n",
       "      <th>All</th>\n",
       "      <th>rate</th>\n",
       "    </tr>\n",
       "    <tr>\n",
       "      <th>race_class_prize</th>\n",
       "      <th></th>\n",
       "      <th></th>\n",
       "      <th></th>\n",
       "      <th></th>\n",
       "    </tr>\n",
       "  </thead>\n",
       "  <tbody>\n",
       "    <tr>\n",
       "      <th>1勝クラス</th>\n",
       "      <td>2464</td>\n",
       "      <td>792</td>\n",
       "      <td>3256</td>\n",
       "      <td>0.243243</td>\n",
       "    </tr>\n",
       "    <tr>\n",
       "      <th>2勝クラス</th>\n",
       "      <td>1202</td>\n",
       "      <td>460</td>\n",
       "      <td>1662</td>\n",
       "      <td>0.276775</td>\n",
       "    </tr>\n",
       "    <tr>\n",
       "      <th>3勝クラス</th>\n",
       "      <td>550</td>\n",
       "      <td>179</td>\n",
       "      <td>729</td>\n",
       "      <td>0.245542</td>\n",
       "    </tr>\n",
       "    <tr>\n",
       "      <th>未勝利</th>\n",
       "      <td>2470</td>\n",
       "      <td>1060</td>\n",
       "      <td>3530</td>\n",
       "      <td>0.300283</td>\n",
       "    </tr>\n",
       "    <tr>\n",
       "      <th>All</th>\n",
       "      <td>6686</td>\n",
       "      <td>2491</td>\n",
       "      <td>9177</td>\n",
       "      <td>0.271439</td>\n",
       "    </tr>\n",
       "  </tbody>\n",
       "</table>\n",
       "</div>"
      ],
      "text/plain": [
       "三連複                  0     1   All      rate\n",
       "race_class_prize                            \n",
       "1勝クラス             2464   792  3256  0.243243\n",
       "2勝クラス             1202   460  1662  0.276775\n",
       "3勝クラス              550   179   729  0.245542\n",
       "未勝利               2470  1060  3530  0.300283\n",
       "All               6686  2491  9177  0.271439"
      ]
     },
     "execution_count": 51,
     "metadata": {},
     "output_type": "execute_result"
    }
   ],
   "source": [
    "tmp = pd.crosstab(df_ac.race_class_prize, df_ac.三連複, margins=True)\n",
    "tmp['rate'] = tmp[1] / tmp.All\n",
    "tmp"
   ]
  },
  {
   "cell_type": "code",
   "execution_count": 52,
   "metadata": {
    "ExecuteTime": {
     "end_time": "2020-12-20T14:25:05.425723Z",
     "start_time": "2020-12-20T14:25:05.353494Z"
    }
   },
   "outputs": [
    {
     "data": {
      "text/html": [
       "<div>\n",
       "<style scoped>\n",
       "    .dataframe tbody tr th:only-of-type {\n",
       "        vertical-align: middle;\n",
       "    }\n",
       "\n",
       "    .dataframe tbody tr th {\n",
       "        vertical-align: top;\n",
       "    }\n",
       "\n",
       "    .dataframe thead th {\n",
       "        text-align: right;\n",
       "    }\n",
       "</style>\n",
       "<table border=\"1\" class=\"dataframe\">\n",
       "  <thead>\n",
       "    <tr style=\"text-align: right;\">\n",
       "      <th>三連複_123</th>\n",
       "      <th>0</th>\n",
       "      <th>1</th>\n",
       "      <th>All</th>\n",
       "      <th>rate</th>\n",
       "    </tr>\n",
       "    <tr>\n",
       "      <th>race_class_prize</th>\n",
       "      <th></th>\n",
       "      <th></th>\n",
       "      <th></th>\n",
       "      <th></th>\n",
       "    </tr>\n",
       "  </thead>\n",
       "  <tbody>\n",
       "    <tr>\n",
       "      <th>1勝クラス</th>\n",
       "      <td>3092</td>\n",
       "      <td>164</td>\n",
       "      <td>3256</td>\n",
       "      <td>0.050369</td>\n",
       "    </tr>\n",
       "    <tr>\n",
       "      <th>2勝クラス</th>\n",
       "      <td>1564</td>\n",
       "      <td>98</td>\n",
       "      <td>1662</td>\n",
       "      <td>0.058965</td>\n",
       "    </tr>\n",
       "    <tr>\n",
       "      <th>3勝クラス</th>\n",
       "      <td>691</td>\n",
       "      <td>38</td>\n",
       "      <td>729</td>\n",
       "      <td>0.052126</td>\n",
       "    </tr>\n",
       "    <tr>\n",
       "      <th>未勝利</th>\n",
       "      <td>3297</td>\n",
       "      <td>233</td>\n",
       "      <td>3530</td>\n",
       "      <td>0.066006</td>\n",
       "    </tr>\n",
       "    <tr>\n",
       "      <th>All</th>\n",
       "      <td>8644</td>\n",
       "      <td>533</td>\n",
       "      <td>9177</td>\n",
       "      <td>0.058080</td>\n",
       "    </tr>\n",
       "  </tbody>\n",
       "</table>\n",
       "</div>"
      ],
      "text/plain": [
       "三連複_123              0    1   All      rate\n",
       "race_class_prize                           \n",
       "1勝クラス             3092  164  3256  0.050369\n",
       "2勝クラス             1564   98  1662  0.058965\n",
       "3勝クラス              691   38   729  0.052126\n",
       "未勝利               3297  233  3530  0.066006\n",
       "All               8644  533  9177  0.058080"
      ]
     },
     "execution_count": 52,
     "metadata": {},
     "output_type": "execute_result"
    }
   ],
   "source": [
    "tmp = pd.crosstab(df_ac.race_class_prize, df_ac.三連複_123, margins=True)\n",
    "tmp['rate'] = tmp[1] / tmp.All\n",
    "tmp"
   ]
  },
  {
   "cell_type": "code",
   "execution_count": 53,
   "metadata": {
    "ExecuteTime": {
     "end_time": "2020-12-20T14:25:10.214545Z",
     "start_time": "2020-12-20T14:25:10.146202Z"
    }
   },
   "outputs": [
    {
     "data": {
      "text/html": [
       "<div>\n",
       "<style scoped>\n",
       "    .dataframe tbody tr th:only-of-type {\n",
       "        vertical-align: middle;\n",
       "    }\n",
       "\n",
       "    .dataframe tbody tr th {\n",
       "        vertical-align: top;\n",
       "    }\n",
       "\n",
       "    .dataframe thead th {\n",
       "        text-align: right;\n",
       "    }\n",
       "</style>\n",
       "<table border=\"1\" class=\"dataframe\">\n",
       "  <thead>\n",
       "    <tr style=\"text-align: right;\">\n",
       "      <th>三連複</th>\n",
       "      <th>0</th>\n",
       "      <th>1</th>\n",
       "      <th>All</th>\n",
       "      <th>rate</th>\n",
       "    </tr>\n",
       "    <tr>\n",
       "      <th>year</th>\n",
       "      <th></th>\n",
       "      <th></th>\n",
       "      <th></th>\n",
       "      <th></th>\n",
       "    </tr>\n",
       "  </thead>\n",
       "  <tbody>\n",
       "    <tr>\n",
       "      <th>2012</th>\n",
       "      <td>531</td>\n",
       "      <td>209</td>\n",
       "      <td>740</td>\n",
       "      <td>0.282432</td>\n",
       "    </tr>\n",
       "    <tr>\n",
       "      <th>2013</th>\n",
       "      <td>899</td>\n",
       "      <td>288</td>\n",
       "      <td>1187</td>\n",
       "      <td>0.242628</td>\n",
       "    </tr>\n",
       "    <tr>\n",
       "      <th>2014</th>\n",
       "      <td>894</td>\n",
       "      <td>299</td>\n",
       "      <td>1193</td>\n",
       "      <td>0.250629</td>\n",
       "    </tr>\n",
       "    <tr>\n",
       "      <th>2015</th>\n",
       "      <td>901</td>\n",
       "      <td>315</td>\n",
       "      <td>1216</td>\n",
       "      <td>0.259046</td>\n",
       "    </tr>\n",
       "    <tr>\n",
       "      <th>2016</th>\n",
       "      <td>909</td>\n",
       "      <td>315</td>\n",
       "      <td>1224</td>\n",
       "      <td>0.257353</td>\n",
       "    </tr>\n",
       "    <tr>\n",
       "      <th>2017</th>\n",
       "      <td>877</td>\n",
       "      <td>327</td>\n",
       "      <td>1204</td>\n",
       "      <td>0.271595</td>\n",
       "    </tr>\n",
       "    <tr>\n",
       "      <th>2018</th>\n",
       "      <td>846</td>\n",
       "      <td>371</td>\n",
       "      <td>1217</td>\n",
       "      <td>0.304848</td>\n",
       "    </tr>\n",
       "    <tr>\n",
       "      <th>2019</th>\n",
       "      <td>829</td>\n",
       "      <td>367</td>\n",
       "      <td>1196</td>\n",
       "      <td>0.306856</td>\n",
       "    </tr>\n",
       "    <tr>\n",
       "      <th>All</th>\n",
       "      <td>6686</td>\n",
       "      <td>2491</td>\n",
       "      <td>9177</td>\n",
       "      <td>0.271439</td>\n",
       "    </tr>\n",
       "  </tbody>\n",
       "</table>\n",
       "</div>"
      ],
      "text/plain": [
       "三連複      0     1   All      rate\n",
       "year                            \n",
       "2012   531   209   740  0.282432\n",
       "2013   899   288  1187  0.242628\n",
       "2014   894   299  1193  0.250629\n",
       "2015   901   315  1216  0.259046\n",
       "2016   909   315  1224  0.257353\n",
       "2017   877   327  1204  0.271595\n",
       "2018   846   371  1217  0.304848\n",
       "2019   829   367  1196  0.306856\n",
       "All   6686  2491  9177  0.271439"
      ]
     },
     "execution_count": 53,
     "metadata": {},
     "output_type": "execute_result"
    }
   ],
   "source": [
    "df_ac['year'] = df_ac.race_date.dt.year\n",
    "tmp = pd.crosstab(df_ac.year, df_ac.三連複, margins=True)\n",
    "tmp['rate'] = tmp[1] / tmp.All\n",
    "tmp"
   ]
  },
  {
   "cell_type": "code",
   "execution_count": null,
   "metadata": {},
   "outputs": [],
   "source": []
  },
  {
   "cell_type": "code",
   "execution_count": null,
   "metadata": {},
   "outputs": [],
   "source": []
  },
  {
   "cell_type": "raw",
   "metadata": {
    "ExecuteTime": {
     "end_time": "2020-12-20T08:27:30.811919Z",
     "start_time": "2020-12-20T08:27:30.224145Z"
    }
   },
   "source": [
    "df_use[['arrival', 'race_id', 'horse_id', 'pred_prob']].to_csv('C:/Users/nishina/workspace/keiba_y/keiba/resource/model_build/logs/wh/20201219_all.csv', index=False)"
   ]
  },
  {
   "cell_type": "code",
   "execution_count": 192,
   "metadata": {
    "ExecuteTime": {
     "end_time": "2020-12-20T11:02:21.205661Z",
     "start_time": "2020-12-20T11:02:21.185160Z"
    }
   },
   "outputs": [],
   "source": [
    "AUC = roc_auc_score(y_test, prob2)"
   ]
  }
 ],
 "metadata": {
  "kernelspec": {
   "display_name": "Python 3",
   "language": "python",
   "name": "python3"
  },
  "language_info": {
   "codemirror_mode": {
    "name": "ipython",
    "version": 3
   },
   "file_extension": ".py",
   "mimetype": "text/x-python",
   "name": "python",
   "nbconvert_exporter": "python",
   "pygments_lexer": "ipython3",
   "version": "3.8.6"
  },
  "toc": {
   "base_numbering": 1,
   "nav_menu": {},
   "number_sections": true,
   "sideBar": true,
   "skip_h1_title": false,
   "title_cell": "Table of Contents",
   "title_sidebar": "Contents",
   "toc_cell": false,
   "toc_position": {},
   "toc_section_display": true,
   "toc_window_display": true
  }
 },
 "nbformat": 4,
 "nbformat_minor": 4
}
