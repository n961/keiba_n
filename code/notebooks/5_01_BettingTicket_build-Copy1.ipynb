{
 "cells": [
  {
   "cell_type": "code",
   "execution_count": 69,
   "metadata": {
    "ExecuteTime": {
     "end_time": "2020-12-12T18:26:56.730138Z",
     "start_time": "2020-12-12T18:26:56.719399Z"
    }
   },
   "outputs": [],
   "source": [
    "from sklearn.preprocessing import StandardScaler, MinMaxScaler\n",
    "from sklearn.model_selection import train_test_split\n",
    "from sklearn.linear_model import LogisticRegression\n",
    "from sklearn.calibration import calibration_curve\n",
    "from sklearn.metrics import roc_curve,recall_score, confusion_matrix, accuracy_score, precision_score, f1_score\n",
    "from sklearn.metrics import roc_auc_score\n",
    "# import xgboost as xgb\n",
    "import json\n",
    "import pickle\n",
    "import csv\n",
    "\n",
    "import pandas as pd\n",
    "import numpy as np\n",
    "import matplotlib.pyplot as plt\n",
    "# import seaborn as sns\n",
    "import warnings\n",
    "warnings.simplefilter('ignore')"
   ]
  },
  {
   "cell_type": "markdown",
   "metadata": {},
   "source": [
    "# ライブラリ"
   ]
  },
  {
   "cell_type": "code",
   "execution_count": 18,
   "metadata": {
    "ExecuteTime": {
     "end_time": "2020-12-06T10:35:52.126423Z",
     "start_time": "2020-12-06T10:35:52.097441Z"
    }
   },
   "outputs": [],
   "source": [
    "import sys\n",
    "sys.path.append('../')\n",
    "from setting import *"
   ]
  },
  {
   "cell_type": "markdown",
   "metadata": {},
   "source": [
    "# 入出力"
   ]
  },
  {
   "cell_type": "code",
   "execution_count": 102,
   "metadata": {
    "ExecuteTime": {
     "end_time": "2020-12-12T18:36:07.233303Z",
     "start_time": "2020-12-12T18:36:07.228422Z"
    }
   },
   "outputs": [],
   "source": [
    "# file_pred = data_path/'tmp/202012061919_all.csv'\n",
    "file_f = 'bt_features.csv'\n",
    "file_input_score = 'wh_score_all.csv'"
   ]
  },
  {
   "cell_type": "code",
   "execution_count": 5,
   "metadata": {
    "ExecuteTime": {
     "end_time": "2020-12-12T18:19:14.045014Z",
     "start_time": "2020-12-12T18:19:13.971792Z"
    }
   },
   "outputs": [
    {
     "name": "stdout",
     "output_type": "stream",
     "text": [
      "(10469, 13)\n"
     ]
    },
    {
     "data": {
      "text/html": [
       "<div>\n",
       "<style scoped>\n",
       "    .dataframe tbody tr th:only-of-type {\n",
       "        vertical-align: middle;\n",
       "    }\n",
       "\n",
       "    .dataframe tbody tr th {\n",
       "        vertical-align: top;\n",
       "    }\n",
       "\n",
       "    .dataframe thead th {\n",
       "        text-align: right;\n",
       "    }\n",
       "</style>\n",
       "<table border=\"1\" class=\"dataframe\">\n",
       "  <thead>\n",
       "    <tr style=\"text-align: right;\">\n",
       "      <th></th>\n",
       "      <th>race_id</th>\n",
       "      <th>odds</th>\n",
       "      <th>acc_flg</th>\n",
       "      <th>score1</th>\n",
       "      <th>score2</th>\n",
       "      <th>s_diff</th>\n",
       "      <th>EV</th>\n",
       "      <th>EV_diff</th>\n",
       "      <th>s_diff_rate</th>\n",
       "      <th>weather_int_2</th>\n",
       "      <th>weather_int_3</th>\n",
       "      <th>condition_int_2</th>\n",
       "      <th>condition_int_3</th>\n",
       "    </tr>\n",
       "  </thead>\n",
       "  <tbody>\n",
       "    <tr>\n",
       "      <th>0</th>\n",
       "      <td>201201010101</td>\n",
       "      <td>5.9</td>\n",
       "      <td>0</td>\n",
       "      <td>0.366473</td>\n",
       "      <td>0.329453</td>\n",
       "      <td>0.037019</td>\n",
       "      <td>2.162189</td>\n",
       "      <td>0.080043</td>\n",
       "      <td>0.013567</td>\n",
       "      <td>0</td>\n",
       "      <td>0</td>\n",
       "      <td>0</td>\n",
       "      <td>0</td>\n",
       "    </tr>\n",
       "    <tr>\n",
       "      <th>1</th>\n",
       "      <td>201201010104</td>\n",
       "      <td>3.7</td>\n",
       "      <td>1</td>\n",
       "      <td>0.483205</td>\n",
       "      <td>0.399544</td>\n",
       "      <td>0.083661</td>\n",
       "      <td>1.787858</td>\n",
       "      <td>0.149574</td>\n",
       "      <td>0.040425</td>\n",
       "      <td>0</td>\n",
       "      <td>0</td>\n",
       "      <td>0</td>\n",
       "      <td>0</td>\n",
       "    </tr>\n",
       "  </tbody>\n",
       "</table>\n",
       "</div>"
      ],
      "text/plain": [
       "        race_id  odds  acc_flg    score1    score2    s_diff        EV  \\\n",
       "0  201201010101   5.9        0  0.366473  0.329453  0.037019  2.162189   \n",
       "1  201201010104   3.7        1  0.483205  0.399544  0.083661  1.787858   \n",
       "\n",
       "    EV_diff  s_diff_rate  weather_int_2  weather_int_3  condition_int_2  \\\n",
       "0  0.080043     0.013567              0              0                0   \n",
       "1  0.149574     0.040425              0              0                0   \n",
       "\n",
       "   condition_int_3  \n",
       "0                0  \n",
       "1                0  "
      ]
     },
     "execution_count": 5,
     "metadata": {},
     "output_type": "execute_result"
    }
   ],
   "source": [
    "df_f = pd.read_csv(file_f)\n",
    "print(df_f.shape)\n",
    "df_f.head(2)"
   ]
  },
  {
   "cell_type": "markdown",
   "metadata": {},
   "source": [
    "# 読み込み"
   ]
  },
  {
   "cell_type": "code",
   "execution_count": 131,
   "metadata": {
    "ExecuteTime": {
     "end_time": "2020-12-12T18:41:56.323510Z",
     "start_time": "2020-12-12T18:41:56.247818Z"
    },
    "scrolled": true
   },
   "outputs": [
    {
     "name": "stdout",
     "output_type": "stream",
     "text": [
      "(27125, 2)\n"
     ]
    },
    {
     "data": {
      "text/html": [
       "<div>\n",
       "<style scoped>\n",
       "    .dataframe tbody tr th:only-of-type {\n",
       "        vertical-align: middle;\n",
       "    }\n",
       "\n",
       "    .dataframe tbody tr th {\n",
       "        vertical-align: top;\n",
       "    }\n",
       "\n",
       "    .dataframe thead th {\n",
       "        text-align: right;\n",
       "    }\n",
       "</style>\n",
       "<table border=\"1\" class=\"dataframe\">\n",
       "  <thead>\n",
       "    <tr style=\"text-align: right;\">\n",
       "      <th></th>\n",
       "      <th>condition_int</th>\n",
       "      <th>weather_int</th>\n",
       "    </tr>\n",
       "    <tr>\n",
       "      <th>race_id</th>\n",
       "      <th></th>\n",
       "      <th></th>\n",
       "    </tr>\n",
       "  </thead>\n",
       "  <tbody>\n",
       "    <tr>\n",
       "      <th>201001020110</th>\n",
       "      <td>1</td>\n",
       "      <td>2</td>\n",
       "    </tr>\n",
       "    <tr>\n",
       "      <th>201001020111</th>\n",
       "      <td>1</td>\n",
       "      <td>2</td>\n",
       "    </tr>\n",
       "  </tbody>\n",
       "</table>\n",
       "</div>"
      ],
      "text/plain": [
       "              condition_int  weather_int\n",
       "race_id                                 \n",
       "201001020110              1            2\n",
       "201001020111              1            2"
      ]
     },
     "execution_count": 131,
     "metadata": {},
     "output_type": "execute_result"
    }
   ],
   "source": [
    "file_race_master = '../../../resource/common/race_info_master.csv'\n",
    "df_info = pd.read_csv(\n",
    "    file_race_master,\n",
    "    usecols=['condition_int', 'weather_int', 'race_id']\n",
    ").set_index('race_id')\n",
    "print(df_info.shape)\n",
    "df_info.head(2)"
   ]
  },
  {
   "cell_type": "code",
   "execution_count": 132,
   "metadata": {
    "ExecuteTime": {
     "end_time": "2020-12-12T18:41:57.751540Z",
     "start_time": "2020-12-12T18:41:56.572598Z"
    },
    "scrolled": true
   },
   "outputs": [
    {
     "name": "stdout",
     "output_type": "stream",
     "text": [
      "(387828, 4)\n"
     ]
    },
    {
     "data": {
      "text/html": [
       "<div>\n",
       "<style scoped>\n",
       "    .dataframe tbody tr th:only-of-type {\n",
       "        vertical-align: middle;\n",
       "    }\n",
       "\n",
       "    .dataframe tbody tr th {\n",
       "        vertical-align: top;\n",
       "    }\n",
       "\n",
       "    .dataframe thead th {\n",
       "        text-align: right;\n",
       "    }\n",
       "</style>\n",
       "<table border=\"1\" class=\"dataframe\">\n",
       "  <thead>\n",
       "    <tr style=\"text-align: right;\">\n",
       "      <th></th>\n",
       "      <th>馬名</th>\n",
       "      <th>odds</th>\n",
       "      <th>race_id</th>\n",
       "      <th>horse_id</th>\n",
       "    </tr>\n",
       "  </thead>\n",
       "  <tbody>\n",
       "    <tr>\n",
       "      <th>0</th>\n",
       "      <td>マイネルギブソン</td>\n",
       "      <td>6.0</td>\n",
       "      <td>201001020110</td>\n",
       "      <td>46108</td>\n",
       "    </tr>\n",
       "    <tr>\n",
       "      <th>1</th>\n",
       "      <td>ロビンフット</td>\n",
       "      <td>2.7</td>\n",
       "      <td>201001020110</td>\n",
       "      <td>46109</td>\n",
       "    </tr>\n",
       "  </tbody>\n",
       "</table>\n",
       "</div>"
      ],
      "text/plain": [
       "         馬名  odds       race_id  horse_id\n",
       "0  マイネルギブソン   6.0  201001020110     46108\n",
       "1    ロビンフット   2.7  201001020110     46109"
      ]
     },
     "execution_count": 132,
     "metadata": {},
     "output_type": "execute_result"
    }
   ],
   "source": [
    "file_race_transaction = '../../../resource/common/race_result_transaction.csv'\n",
    "df_result = pd.read_csv(file_race_transaction, usecols=['race_id', '馬名', 'odds', 'horse_id'])\n",
    "print(df_result.shape)\n",
    "df_result.head(2)"
   ]
  },
  {
   "cell_type": "code",
   "execution_count": 133,
   "metadata": {
    "ExecuteTime": {
     "end_time": "2020-12-12T18:41:59.156519Z",
     "start_time": "2020-12-12T18:41:57.755443Z"
    }
   },
   "outputs": [
    {
     "data": {
      "text/html": [
       "<div>\n",
       "<style scoped>\n",
       "    .dataframe tbody tr th:only-of-type {\n",
       "        vertical-align: middle;\n",
       "    }\n",
       "\n",
       "    .dataframe tbody tr th {\n",
       "        vertical-align: top;\n",
       "    }\n",
       "\n",
       "    .dataframe thead th {\n",
       "        text-align: right;\n",
       "    }\n",
       "</style>\n",
       "<table border=\"1\" class=\"dataframe\">\n",
       "  <thead>\n",
       "    <tr style=\"text-align: right;\">\n",
       "      <th></th>\n",
       "      <th>arrival</th>\n",
       "      <th>horse_id</th>\n",
       "      <th>race_id</th>\n",
       "      <th>pred_prob</th>\n",
       "    </tr>\n",
       "  </thead>\n",
       "  <tbody>\n",
       "    <tr>\n",
       "      <th>0</th>\n",
       "      <td>9</td>\n",
       "      <td>59994</td>\n",
       "      <td>201201010101</td>\n",
       "      <td>0.064628</td>\n",
       "    </tr>\n",
       "    <tr>\n",
       "      <th>1</th>\n",
       "      <td>3</td>\n",
       "      <td>59988</td>\n",
       "      <td>201201010101</td>\n",
       "      <td>0.329453</td>\n",
       "    </tr>\n",
       "  </tbody>\n",
       "</table>\n",
       "</div>"
      ],
      "text/plain": [
       "   arrival  horse_id       race_id  pred_prob\n",
       "0        9     59994  201201010101   0.064628\n",
       "1        3     59988  201201010101   0.329453"
      ]
     },
     "execution_count": 133,
     "metadata": {},
     "output_type": "execute_result"
    }
   ],
   "source": [
    "df_pred = pd.read_csv(file_pred, engine='python', encoding='cp932')\n",
    "df_pred.head(2)"
   ]
  },
  {
   "cell_type": "code",
   "execution_count": 134,
   "metadata": {
    "ExecuteTime": {
     "end_time": "2020-12-12T18:41:59.543064Z",
     "start_time": "2020-12-12T18:41:59.161401Z"
    }
   },
   "outputs": [
    {
     "name": "stdout",
     "output_type": "stream",
     "text": [
      "(148567, 6)\n"
     ]
    },
    {
     "data": {
      "text/html": [
       "<div>\n",
       "<style scoped>\n",
       "    .dataframe tbody tr th:only-of-type {\n",
       "        vertical-align: middle;\n",
       "    }\n",
       "\n",
       "    .dataframe tbody tr th {\n",
       "        vertical-align: top;\n",
       "    }\n",
       "\n",
       "    .dataframe thead th {\n",
       "        text-align: right;\n",
       "    }\n",
       "</style>\n",
       "<table border=\"1\" class=\"dataframe\">\n",
       "  <thead>\n",
       "    <tr style=\"text-align: right;\">\n",
       "      <th></th>\n",
       "      <th>arrival</th>\n",
       "      <th>horse_id</th>\n",
       "      <th>race_id</th>\n",
       "      <th>pred_prob</th>\n",
       "      <th>馬名</th>\n",
       "      <th>odds</th>\n",
       "    </tr>\n",
       "  </thead>\n",
       "  <tbody>\n",
       "    <tr>\n",
       "      <th>0</th>\n",
       "      <td>9</td>\n",
       "      <td>59994</td>\n",
       "      <td>201201010101</td>\n",
       "      <td>0.064628</td>\n",
       "      <td>スリースペシャル</td>\n",
       "      <td>49.5</td>\n",
       "    </tr>\n",
       "    <tr>\n",
       "      <th>1</th>\n",
       "      <td>3</td>\n",
       "      <td>59988</td>\n",
       "      <td>201201010101</td>\n",
       "      <td>0.329453</td>\n",
       "      <td>マイネルゴスホーク</td>\n",
       "      <td>7.6</td>\n",
       "    </tr>\n",
       "  </tbody>\n",
       "</table>\n",
       "</div>"
      ],
      "text/plain": [
       "   arrival  horse_id       race_id  pred_prob         馬名  odds\n",
       "0        9     59994  201201010101   0.064628   スリースペシャル  49.5\n",
       "1        3     59988  201201010101   0.329453  マイネルゴスホーク   7.6"
      ]
     },
     "execution_count": 134,
     "metadata": {},
     "output_type": "execute_result"
    }
   ],
   "source": [
    "df_pred = df_pred.merge(df_result, how='left', on=['race_id', 'horse_id'])\n",
    "print(df_pred.shape)\n",
    "df_pred.head(2)"
   ]
  },
  {
   "cell_type": "code",
   "execution_count": null,
   "metadata": {},
   "outputs": [],
   "source": []
  },
  {
   "cell_type": "code",
   "execution_count": 111,
   "metadata": {
    "ExecuteTime": {
     "end_time": "2020-12-12T18:38:14.689837Z",
     "start_time": "2020-12-12T18:38:14.671276Z"
    }
   },
   "outputs": [],
   "source": [
    "def get_pred(file_input_score):\n",
    "    ## 読み込み\n",
    "    df_pred = pd.read_csv(\n",
    "        file_input_score,\n",
    "        usecols=['race_id', 'horse_id', 'pred_prob'],\n",
    "        # encoding='cp932'\n",
    "    )\n",
    "    df_pred['pred_rank'] = df_pred.groupby('race_id').pred_prob.rank(ascending=False, method='min')\n",
    "    return df_pred\n",
    "\n",
    "def make_cols(df_ac):\n",
    "    df_ac['EV'] = df_ac.odds * df_ac.score1\n",
    "    df_ac['EV_diff'] = df_ac.EV * df_ac.s_diff\n",
    "    df_ac['s_diff_rate'] = df_ac.s_diff * df_ac.score1\n",
    "    return df_ac\n",
    "\n",
    "def get_info_cols(df_ac, file_input_info):\n",
    "    df_info = pd.read_csv(\n",
    "        file_input_info, \n",
    "        usecols=['condition_int', 'weather_int', 'race_id']\n",
    "    )\n",
    "\n",
    "    df_ac = df_ac.merge(df_info, how=\"left\", on=['race_id'])\n",
    "    df_use = pd.get_dummies(df_ac, columns=['weather_int', 'condition_int'], drop_first=True)\n",
    "    return df_use\n",
    "\n",
    "\n",
    "def get_odds(df_pred):\n",
    "    num = len(df_pred)\n",
    "    # df_master = pd.read_csv(file_horse_master, usecols=['horse_id', '馬名'])\n",
    "    # df_pred = df_pred.merge(df_master, how='left', on='horse_id')\n",
    "    df_transaction = pd.read_csv(file_race_transaction, usecols=['race_id', '馬名', 'odds', 'arrival', 'horse_id'])\n",
    "    df_pred = df_pred.merge(df_transaction, how='left', on=['race_id', 'horse_id'])\n",
    "#     print(df_pred.head(10))\n",
    "    assert num == len(df_pred)\n",
    "    return df_pred\n"
   ]
  },
  {
   "cell_type": "code",
   "execution_count": 130,
   "metadata": {
    "ExecuteTime": {
     "end_time": "2020-12-12T18:41:46.872633Z",
     "start_time": "2020-12-12T18:41:45.304829Z"
    }
   },
   "outputs": [
    {
     "name": "stdout",
     "output_type": "stream",
     "text": [
      "(148567, 4)\n"
     ]
    }
   ],
   "source": [
    "# file_input_score = resource_path /f'model_build/logs/wh/202012130029/wh_score_all.csv'\n",
    "df_pred_tmp = get_pred(file_input_score)\n",
    "print(df_pred_tmp.shape)\n",
    "df_pred_tmp = get_odds(df_pred_tmp)\n",
    "df_ac_tmp = make_df_ac(df_pred_tmp)\n",
    "df_ac_tmp = add_acc_flg(df_pred_tmp, df_ac_tmp) # \n",
    "df_ac_tmp = agg_all(df_pred_tmp, df_ac_tmp)\n",
    "df_ac_tmp = make_cols(df_ac_tmp)\n",
    "df_ac_tmp = get_info_cols(df_ac_tmp, file_race_master)\n",
    "# df_ac_tmp.to_csv(resource_path /f'model_build/logs/wh/202012130029/bt_features.csv', index=False)"
   ]
  },
  {
   "cell_type": "code",
   "execution_count": 129,
   "metadata": {
    "ExecuteTime": {
     "end_time": "2020-12-12T18:40:07.058349Z",
     "start_time": "2020-12-12T18:40:07.021250Z"
    }
   },
   "outputs": [
    {
     "data": {
      "text/html": [
       "<div>\n",
       "<style scoped>\n",
       "    .dataframe tbody tr th:only-of-type {\n",
       "        vertical-align: middle;\n",
       "    }\n",
       "\n",
       "    .dataframe tbody tr th {\n",
       "        vertical-align: top;\n",
       "    }\n",
       "\n",
       "    .dataframe thead th {\n",
       "        text-align: right;\n",
       "    }\n",
       "</style>\n",
       "<table border=\"1\" class=\"dataframe\">\n",
       "  <thead>\n",
       "    <tr style=\"text-align: right;\">\n",
       "      <th></th>\n",
       "      <th>race_id</th>\n",
       "      <th>odds</th>\n",
       "      <th>acc_flg</th>\n",
       "      <th>score1</th>\n",
       "      <th>score2</th>\n",
       "      <th>s_diff</th>\n",
       "      <th>EV</th>\n",
       "      <th>EV_diff</th>\n",
       "      <th>s_diff_rate</th>\n",
       "      <th>weather_int_2</th>\n",
       "      <th>weather_int_3</th>\n",
       "      <th>condition_int_2</th>\n",
       "      <th>condition_int_3</th>\n",
       "    </tr>\n",
       "  </thead>\n",
       "  <tbody>\n",
       "    <tr>\n",
       "      <th>0</th>\n",
       "      <td>201201010101</td>\n",
       "      <td>5.9</td>\n",
       "      <td>0</td>\n",
       "      <td>0.366473</td>\n",
       "      <td>0.329453</td>\n",
       "      <td>0.037019</td>\n",
       "      <td>2.162189</td>\n",
       "      <td>0.080043</td>\n",
       "      <td>0.013567</td>\n",
       "      <td>0</td>\n",
       "      <td>0</td>\n",
       "      <td>0</td>\n",
       "      <td>0</td>\n",
       "    </tr>\n",
       "    <tr>\n",
       "      <th>1</th>\n",
       "      <td>201201010104</td>\n",
       "      <td>3.7</td>\n",
       "      <td>1</td>\n",
       "      <td>0.483205</td>\n",
       "      <td>0.399544</td>\n",
       "      <td>0.083661</td>\n",
       "      <td>1.787858</td>\n",
       "      <td>0.149574</td>\n",
       "      <td>0.040425</td>\n",
       "      <td>0</td>\n",
       "      <td>0</td>\n",
       "      <td>0</td>\n",
       "      <td>0</td>\n",
       "    </tr>\n",
       "    <tr>\n",
       "      <th>2</th>\n",
       "      <td>201201010108</td>\n",
       "      <td>2.7</td>\n",
       "      <td>0</td>\n",
       "      <td>0.495654</td>\n",
       "      <td>0.350361</td>\n",
       "      <td>0.145293</td>\n",
       "      <td>1.338265</td>\n",
       "      <td>0.194440</td>\n",
       "      <td>0.072015</td>\n",
       "      <td>0</td>\n",
       "      <td>0</td>\n",
       "      <td>0</td>\n",
       "      <td>0</td>\n",
       "    </tr>\n",
       "    <tr>\n",
       "      <th>3</th>\n",
       "      <td>201201010110</td>\n",
       "      <td>3.7</td>\n",
       "      <td>0</td>\n",
       "      <td>0.309313</td>\n",
       "      <td>0.268529</td>\n",
       "      <td>0.040784</td>\n",
       "      <td>1.144460</td>\n",
       "      <td>0.046676</td>\n",
       "      <td>0.012615</td>\n",
       "      <td>0</td>\n",
       "      <td>0</td>\n",
       "      <td>0</td>\n",
       "      <td>0</td>\n",
       "    </tr>\n",
       "    <tr>\n",
       "      <th>4</th>\n",
       "      <td>201201010112</td>\n",
       "      <td>2.2</td>\n",
       "      <td>0</td>\n",
       "      <td>0.503848</td>\n",
       "      <td>0.285949</td>\n",
       "      <td>0.217899</td>\n",
       "      <td>1.108466</td>\n",
       "      <td>0.241534</td>\n",
       "      <td>0.109788</td>\n",
       "      <td>0</td>\n",
       "      <td>0</td>\n",
       "      <td>0</td>\n",
       "      <td>0</td>\n",
       "    </tr>\n",
       "    <tr>\n",
       "      <th>...</th>\n",
       "      <td>...</td>\n",
       "      <td>...</td>\n",
       "      <td>...</td>\n",
       "      <td>...</td>\n",
       "      <td>...</td>\n",
       "      <td>...</td>\n",
       "      <td>...</td>\n",
       "      <td>...</td>\n",
       "      <td>...</td>\n",
       "      <td>...</td>\n",
       "      <td>...</td>\n",
       "      <td>...</td>\n",
       "      <td>...</td>\n",
       "    </tr>\n",
       "    <tr>\n",
       "      <th>10464</th>\n",
       "      <td>201910021206</td>\n",
       "      <td>1.8</td>\n",
       "      <td>0</td>\n",
       "      <td>0.557048</td>\n",
       "      <td>0.427142</td>\n",
       "      <td>0.129906</td>\n",
       "      <td>1.002687</td>\n",
       "      <td>0.130255</td>\n",
       "      <td>0.072364</td>\n",
       "      <td>0</td>\n",
       "      <td>1</td>\n",
       "      <td>0</td>\n",
       "      <td>1</td>\n",
       "    </tr>\n",
       "    <tr>\n",
       "      <th>10465</th>\n",
       "      <td>201910021208</td>\n",
       "      <td>8.1</td>\n",
       "      <td>0</td>\n",
       "      <td>0.395746</td>\n",
       "      <td>0.331567</td>\n",
       "      <td>0.064178</td>\n",
       "      <td>3.205542</td>\n",
       "      <td>0.205727</td>\n",
       "      <td>0.025398</td>\n",
       "      <td>0</td>\n",
       "      <td>1</td>\n",
       "      <td>0</td>\n",
       "      <td>1</td>\n",
       "    </tr>\n",
       "    <tr>\n",
       "      <th>10466</th>\n",
       "      <td>201910021209</td>\n",
       "      <td>4.2</td>\n",
       "      <td>0</td>\n",
       "      <td>0.386423</td>\n",
       "      <td>0.373529</td>\n",
       "      <td>0.012894</td>\n",
       "      <td>1.622976</td>\n",
       "      <td>0.020926</td>\n",
       "      <td>0.004982</td>\n",
       "      <td>0</td>\n",
       "      <td>1</td>\n",
       "      <td>0</td>\n",
       "      <td>1</td>\n",
       "    </tr>\n",
       "    <tr>\n",
       "      <th>10467</th>\n",
       "      <td>201910021211</td>\n",
       "      <td>4.5</td>\n",
       "      <td>0</td>\n",
       "      <td>0.442891</td>\n",
       "      <td>0.435563</td>\n",
       "      <td>0.007329</td>\n",
       "      <td>1.993012</td>\n",
       "      <td>0.014607</td>\n",
       "      <td>0.003246</td>\n",
       "      <td>1</td>\n",
       "      <td>0</td>\n",
       "      <td>0</td>\n",
       "      <td>1</td>\n",
       "    </tr>\n",
       "    <tr>\n",
       "      <th>10468</th>\n",
       "      <td>201910021212</td>\n",
       "      <td>4.4</td>\n",
       "      <td>1</td>\n",
       "      <td>0.374990</td>\n",
       "      <td>0.327813</td>\n",
       "      <td>0.047178</td>\n",
       "      <td>1.649957</td>\n",
       "      <td>0.077841</td>\n",
       "      <td>0.017691</td>\n",
       "      <td>1</td>\n",
       "      <td>0</td>\n",
       "      <td>0</td>\n",
       "      <td>1</td>\n",
       "    </tr>\n",
       "  </tbody>\n",
       "</table>\n",
       "<p>10469 rows × 13 columns</p>\n",
       "</div>"
      ],
      "text/plain": [
       "            race_id  odds  acc_flg    score1    score2    s_diff        EV  \\\n",
       "0      201201010101   5.9        0  0.366473  0.329453  0.037019  2.162189   \n",
       "1      201201010104   3.7        1  0.483205  0.399544  0.083661  1.787858   \n",
       "2      201201010108   2.7        0  0.495654  0.350361  0.145293  1.338265   \n",
       "3      201201010110   3.7        0  0.309313  0.268529  0.040784  1.144460   \n",
       "4      201201010112   2.2        0  0.503848  0.285949  0.217899  1.108466   \n",
       "...             ...   ...      ...       ...       ...       ...       ...   \n",
       "10464  201910021206   1.8        0  0.557048  0.427142  0.129906  1.002687   \n",
       "10465  201910021208   8.1        0  0.395746  0.331567  0.064178  3.205542   \n",
       "10466  201910021209   4.2        0  0.386423  0.373529  0.012894  1.622976   \n",
       "10467  201910021211   4.5        0  0.442891  0.435563  0.007329  1.993012   \n",
       "10468  201910021212   4.4        1  0.374990  0.327813  0.047178  1.649957   \n",
       "\n",
       "        EV_diff  s_diff_rate  weather_int_2  weather_int_3  condition_int_2  \\\n",
       "0      0.080043     0.013567              0              0                0   \n",
       "1      0.149574     0.040425              0              0                0   \n",
       "2      0.194440     0.072015              0              0                0   \n",
       "3      0.046676     0.012615              0              0                0   \n",
       "4      0.241534     0.109788              0              0                0   \n",
       "...         ...          ...            ...            ...              ...   \n",
       "10464  0.130255     0.072364              0              1                0   \n",
       "10465  0.205727     0.025398              0              1                0   \n",
       "10466  0.020926     0.004982              0              1                0   \n",
       "10467  0.014607     0.003246              1              0                0   \n",
       "10468  0.077841     0.017691              1              0                0   \n",
       "\n",
       "       condition_int_3  \n",
       "0                    0  \n",
       "1                    0  \n",
       "2                    0  \n",
       "3                    0  \n",
       "4                    0  \n",
       "...                ...  \n",
       "10464                1  \n",
       "10465                1  \n",
       "10466                1  \n",
       "10467                1  \n",
       "10468                1  \n",
       "\n",
       "[10469 rows x 13 columns]"
      ]
     },
     "execution_count": 129,
     "metadata": {},
     "output_type": "execute_result"
    }
   ],
   "source": [
    "df_ac_tmp"
   ]
  },
  {
   "cell_type": "code",
   "execution_count": 124,
   "metadata": {
    "ExecuteTime": {
     "end_time": "2020-12-12T18:39:26.157696Z",
     "start_time": "2020-12-12T18:39:26.123522Z"
    }
   },
   "outputs": [
    {
     "data": {
      "text/html": [
       "<div>\n",
       "<style scoped>\n",
       "    .dataframe tbody tr th:only-of-type {\n",
       "        vertical-align: middle;\n",
       "    }\n",
       "\n",
       "    .dataframe tbody tr th {\n",
       "        vertical-align: top;\n",
       "    }\n",
       "\n",
       "    .dataframe thead th {\n",
       "        text-align: right;\n",
       "    }\n",
       "</style>\n",
       "<table border=\"1\" class=\"dataframe\">\n",
       "  <thead>\n",
       "    <tr style=\"text-align: right;\">\n",
       "      <th></th>\n",
       "      <th>odds</th>\n",
       "      <th>acc_flg</th>\n",
       "      <th>score1</th>\n",
       "      <th>score2</th>\n",
       "      <th>s_diff</th>\n",
       "      <th>condition_int</th>\n",
       "      <th>weather_int</th>\n",
       "      <th>EV</th>\n",
       "      <th>EV_diff</th>\n",
       "      <th>s_diff_rate</th>\n",
       "    </tr>\n",
       "    <tr>\n",
       "      <th>race_id</th>\n",
       "      <th></th>\n",
       "      <th></th>\n",
       "      <th></th>\n",
       "      <th></th>\n",
       "      <th></th>\n",
       "      <th></th>\n",
       "      <th></th>\n",
       "      <th></th>\n",
       "      <th></th>\n",
       "      <th></th>\n",
       "    </tr>\n",
       "  </thead>\n",
       "  <tbody>\n",
       "    <tr>\n",
       "      <th>201201010101</th>\n",
       "      <td>1.7</td>\n",
       "      <td>0</td>\n",
       "      <td>0.366473</td>\n",
       "      <td>0.329453</td>\n",
       "      <td>0.037019</td>\n",
       "      <td>1</td>\n",
       "      <td>1</td>\n",
       "      <td>0.623004</td>\n",
       "      <td>0.023063</td>\n",
       "      <td>0.013567</td>\n",
       "    </tr>\n",
       "    <tr>\n",
       "      <th>201201010104</th>\n",
       "      <td>3.7</td>\n",
       "      <td>1</td>\n",
       "      <td>0.483205</td>\n",
       "      <td>0.399544</td>\n",
       "      <td>0.083661</td>\n",
       "      <td>1</td>\n",
       "      <td>1</td>\n",
       "      <td>1.787858</td>\n",
       "      <td>0.149574</td>\n",
       "      <td>0.040425</td>\n",
       "    </tr>\n",
       "    <tr>\n",
       "      <th>201201010108</th>\n",
       "      <td>4.9</td>\n",
       "      <td>0</td>\n",
       "      <td>0.495654</td>\n",
       "      <td>0.350361</td>\n",
       "      <td>0.145293</td>\n",
       "      <td>1</td>\n",
       "      <td>1</td>\n",
       "      <td>2.428703</td>\n",
       "      <td>0.352873</td>\n",
       "      <td>0.072015</td>\n",
       "    </tr>\n",
       "    <tr>\n",
       "      <th>201201010110</th>\n",
       "      <td>65.5</td>\n",
       "      <td>0</td>\n",
       "      <td>0.309313</td>\n",
       "      <td>0.268529</td>\n",
       "      <td>0.040784</td>\n",
       "      <td>1</td>\n",
       "      <td>1</td>\n",
       "      <td>20.260033</td>\n",
       "      <td>0.826290</td>\n",
       "      <td>0.012615</td>\n",
       "    </tr>\n",
       "    <tr>\n",
       "      <th>201201010112</th>\n",
       "      <td>28.5</td>\n",
       "      <td>0</td>\n",
       "      <td>0.503848</td>\n",
       "      <td>0.285949</td>\n",
       "      <td>0.217899</td>\n",
       "      <td>1</td>\n",
       "      <td>1</td>\n",
       "      <td>14.359675</td>\n",
       "      <td>3.128957</td>\n",
       "      <td>0.109788</td>\n",
       "    </tr>\n",
       "    <tr>\n",
       "      <th>...</th>\n",
       "      <td>...</td>\n",
       "      <td>...</td>\n",
       "      <td>...</td>\n",
       "      <td>...</td>\n",
       "      <td>...</td>\n",
       "      <td>...</td>\n",
       "      <td>...</td>\n",
       "      <td>...</td>\n",
       "      <td>...</td>\n",
       "      <td>...</td>\n",
       "    </tr>\n",
       "    <tr>\n",
       "      <th>201910021206</th>\n",
       "      <td>213.0</td>\n",
       "      <td>0</td>\n",
       "      <td>0.557048</td>\n",
       "      <td>0.427142</td>\n",
       "      <td>0.129906</td>\n",
       "      <td>3</td>\n",
       "      <td>3</td>\n",
       "      <td>118.651318</td>\n",
       "      <td>15.413564</td>\n",
       "      <td>0.072364</td>\n",
       "    </tr>\n",
       "    <tr>\n",
       "      <th>201910021208</th>\n",
       "      <td>14.0</td>\n",
       "      <td>0</td>\n",
       "      <td>0.395746</td>\n",
       "      <td>0.331567</td>\n",
       "      <td>0.064178</td>\n",
       "      <td>3</td>\n",
       "      <td>3</td>\n",
       "      <td>5.540443</td>\n",
       "      <td>0.355577</td>\n",
       "      <td>0.025398</td>\n",
       "    </tr>\n",
       "    <tr>\n",
       "      <th>201910021209</th>\n",
       "      <td>11.1</td>\n",
       "      <td>0</td>\n",
       "      <td>0.386423</td>\n",
       "      <td>0.373529</td>\n",
       "      <td>0.012894</td>\n",
       "      <td>3</td>\n",
       "      <td>3</td>\n",
       "      <td>4.289293</td>\n",
       "      <td>0.055305</td>\n",
       "      <td>0.004982</td>\n",
       "    </tr>\n",
       "    <tr>\n",
       "      <th>201910021211</th>\n",
       "      <td>6.2</td>\n",
       "      <td>0</td>\n",
       "      <td>0.442891</td>\n",
       "      <td>0.435563</td>\n",
       "      <td>0.007329</td>\n",
       "      <td>3</td>\n",
       "      <td>2</td>\n",
       "      <td>2.745927</td>\n",
       "      <td>0.020125</td>\n",
       "      <td>0.003246</td>\n",
       "    </tr>\n",
       "    <tr>\n",
       "      <th>201910021212</th>\n",
       "      <td>4.4</td>\n",
       "      <td>1</td>\n",
       "      <td>0.374990</td>\n",
       "      <td>0.327813</td>\n",
       "      <td>0.047178</td>\n",
       "      <td>3</td>\n",
       "      <td>2</td>\n",
       "      <td>1.649957</td>\n",
       "      <td>0.077841</td>\n",
       "      <td>0.017691</td>\n",
       "    </tr>\n",
       "  </tbody>\n",
       "</table>\n",
       "<p>10469 rows × 10 columns</p>\n",
       "</div>"
      ],
      "text/plain": [
       "               odds  acc_flg    score1    score2    s_diff  condition_int  \\\n",
       "race_id                                                                     \n",
       "201201010101    1.7        0  0.366473  0.329453  0.037019              1   \n",
       "201201010104    3.7        1  0.483205  0.399544  0.083661              1   \n",
       "201201010108    4.9        0  0.495654  0.350361  0.145293              1   \n",
       "201201010110   65.5        0  0.309313  0.268529  0.040784              1   \n",
       "201201010112   28.5        0  0.503848  0.285949  0.217899              1   \n",
       "...             ...      ...       ...       ...       ...            ...   \n",
       "201910021206  213.0        0  0.557048  0.427142  0.129906              3   \n",
       "201910021208   14.0        0  0.395746  0.331567  0.064178              3   \n",
       "201910021209   11.1        0  0.386423  0.373529  0.012894              3   \n",
       "201910021211    6.2        0  0.442891  0.435563  0.007329              3   \n",
       "201910021212    4.4        1  0.374990  0.327813  0.047178              3   \n",
       "\n",
       "              weather_int          EV    EV_diff  s_diff_rate  \n",
       "race_id                                                        \n",
       "201201010101            1    0.623004   0.023063     0.013567  \n",
       "201201010104            1    1.787858   0.149574     0.040425  \n",
       "201201010108            1    2.428703   0.352873     0.072015  \n",
       "201201010110            1   20.260033   0.826290     0.012615  \n",
       "201201010112            1   14.359675   3.128957     0.109788  \n",
       "...                   ...         ...        ...          ...  \n",
       "201910021206            3  118.651318  15.413564     0.072364  \n",
       "201910021208            3    5.540443   0.355577     0.025398  \n",
       "201910021209            3    4.289293   0.055305     0.004982  \n",
       "201910021211            2    2.745927   0.020125     0.003246  \n",
       "201910021212            2    1.649957   0.077841     0.017691  \n",
       "\n",
       "[10469 rows x 10 columns]"
      ]
     },
     "execution_count": 124,
     "metadata": {},
     "output_type": "execute_result"
    }
   ],
   "source": [
    "df_ac"
   ]
  },
  {
   "cell_type": "markdown",
   "metadata": {},
   "source": [
    "# 正解フラグ"
   ]
  },
  {
   "cell_type": "code",
   "execution_count": null,
   "metadata": {},
   "outputs": [],
   "source": [
    "df_pred['pred_rank'] = df_pred.groupby('race_id').pred_prob.rank(ascending=False, method='min')\n"
   ]
  },
  {
   "cell_type": "code",
   "execution_count": 135,
   "metadata": {
    "ExecuteTime": {
     "end_time": "2020-12-12T18:42:03.395778Z",
     "start_time": "2020-12-12T18:42:03.299122Z"
    }
   },
   "outputs": [],
   "source": [
    "df_pred['pred_rank'] = df_pred.groupby('race_id').pred_prob.rank(ascending=False, method='min')"
   ]
  },
  {
   "cell_type": "code",
   "execution_count": null,
   "metadata": {},
   "outputs": [],
   "source": [
    "def make_df_ac(df_pred):\n",
    "    df_ac = pd.DataFrame(index=df_pred.race_id.unique())\n",
    "    df_ac.index.name = 'race_id'\n",
    "    df_ac = df_ac.reset_index().merge(\n",
    "        df_pred.query('pred_rank==1')[['race_id', 'odds']].drop_duplicates('race_id'),\n",
    "        how='left',\n",
    "        on='race_id'\n",
    "    )\n",
    "    return df_ac"
   ]
  },
  {
   "cell_type": "code",
   "execution_count": null,
   "metadata": {},
   "outputs": [],
   "source": [
    "def get_pivot(df_pred):\n",
    "    tmp = pd.pivot_table(\n",
    "        df_pred.query('pred_rank <=2'),\n",
    "        values='pred_prob',\n",
    "        index='race_id',\n",
    "        columns='pred_rank'\n",
    "    )\n",
    "    tmp.columns = ['score1', 'score2']\n",
    "    tmp['s_diff'] = tmp.score1 - tmp.score2\n",
    "    return tmp.reset_index()"
   ]
  },
  {
   "cell_type": "code",
   "execution_count": null,
   "metadata": {},
   "outputs": [],
   "source": [
    "def agg_all(df_pred, df_ac):\n",
    "    df_pivot = get_pivot(df_pred)\n",
    "    df_ac = df_ac.merge(df_pivot, how='left', on='race_id')\n",
    "    return df_ac"
   ]
  },
  {
   "cell_type": "code",
   "execution_count": null,
   "metadata": {},
   "outputs": [],
   "source": [
    "def add_acc_flg(df_pred, df_ac):\n",
    "    ## 正解フラグ\n",
    "    accuracy_id = df_pred.query('(arrival==1) and (pred_rank==1)').race_id\n",
    "    df_ac['acc_flg'] = 0\n",
    "    df_ac.loc[df_ac.race_id.isin(accuracy_id), 'acc_flg'] = 1\n",
    "    return df_ac"
   ]
  },
  {
   "cell_type": "code",
   "execution_count": 146,
   "metadata": {
    "ExecuteTime": {
     "end_time": "2020-12-12T18:48:23.658230Z",
     "start_time": "2020-12-12T18:48:23.647492Z"
    }
   },
   "outputs": [],
   "source": [
    "df_ac = pd.DataFrame(index=df_pred.race_id.unique())\n",
    "df_ac.index.name = 'race_id'"
   ]
  },
  {
   "cell_type": "code",
   "execution_count": 150,
   "metadata": {
    "ExecuteTime": {
     "end_time": "2020-12-12T18:48:55.806144Z",
     "start_time": "2020-12-12T18:48:55.801262Z"
    }
   },
   "outputs": [],
   "source": [
    "tmp1 = df_ac.reset_index()"
   ]
  },
  {
   "cell_type": "code",
   "execution_count": 151,
   "metadata": {
    "ExecuteTime": {
     "end_time": "2020-12-12T18:49:03.316845Z",
     "start_time": "2020-12-12T18:49:03.311966Z"
    },
    "scrolled": true
   },
   "outputs": [],
   "source": [
    "tmp2 = df_ac.copy()"
   ]
  },
  {
   "cell_type": "code",
   "execution_count": 158,
   "metadata": {
    "ExecuteTime": {
     "end_time": "2020-12-12T18:52:05.979834Z",
     "start_time": "2020-12-12T18:52:05.945650Z"
    }
   },
   "outputs": [
    {
     "data": {
      "text/html": [
       "<div>\n",
       "<style scoped>\n",
       "    .dataframe tbody tr th:only-of-type {\n",
       "        vertical-align: middle;\n",
       "    }\n",
       "\n",
       "    .dataframe tbody tr th {\n",
       "        vertical-align: top;\n",
       "    }\n",
       "\n",
       "    .dataframe thead th {\n",
       "        text-align: right;\n",
       "    }\n",
       "</style>\n",
       "<table border=\"1\" class=\"dataframe\">\n",
       "  <thead>\n",
       "    <tr style=\"text-align: right;\">\n",
       "      <th></th>\n",
       "      <th>race_id</th>\n",
       "      <th>odds</th>\n",
       "    </tr>\n",
       "  </thead>\n",
       "  <tbody>\n",
       "    <tr>\n",
       "      <th>0</th>\n",
       "      <td>201201010101</td>\n",
       "      <td>5.9</td>\n",
       "    </tr>\n",
       "    <tr>\n",
       "      <th>1</th>\n",
       "      <td>201201010104</td>\n",
       "      <td>3.7</td>\n",
       "    </tr>\n",
       "    <tr>\n",
       "      <th>2</th>\n",
       "      <td>201201010108</td>\n",
       "      <td>2.7</td>\n",
       "    </tr>\n",
       "    <tr>\n",
       "      <th>3</th>\n",
       "      <td>201201010110</td>\n",
       "      <td>3.7</td>\n",
       "    </tr>\n",
       "    <tr>\n",
       "      <th>4</th>\n",
       "      <td>201201010112</td>\n",
       "      <td>2.2</td>\n",
       "    </tr>\n",
       "    <tr>\n",
       "      <th>...</th>\n",
       "      <td>...</td>\n",
       "      <td>...</td>\n",
       "    </tr>\n",
       "    <tr>\n",
       "      <th>10464</th>\n",
       "      <td>201910021206</td>\n",
       "      <td>1.8</td>\n",
       "    </tr>\n",
       "    <tr>\n",
       "      <th>10465</th>\n",
       "      <td>201910021208</td>\n",
       "      <td>8.1</td>\n",
       "    </tr>\n",
       "    <tr>\n",
       "      <th>10466</th>\n",
       "      <td>201910021209</td>\n",
       "      <td>4.2</td>\n",
       "    </tr>\n",
       "    <tr>\n",
       "      <th>10467</th>\n",
       "      <td>201910021211</td>\n",
       "      <td>4.5</td>\n",
       "    </tr>\n",
       "    <tr>\n",
       "      <th>10468</th>\n",
       "      <td>201910021212</td>\n",
       "      <td>4.4</td>\n",
       "    </tr>\n",
       "  </tbody>\n",
       "</table>\n",
       "<p>10469 rows × 2 columns</p>\n",
       "</div>"
      ],
      "text/plain": [
       "            race_id  odds\n",
       "0      201201010101   5.9\n",
       "1      201201010104   3.7\n",
       "2      201201010108   2.7\n",
       "3      201201010110   3.7\n",
       "4      201201010112   2.2\n",
       "...             ...   ...\n",
       "10464  201910021206   1.8\n",
       "10465  201910021208   8.1\n",
       "10466  201910021209   4.2\n",
       "10467  201910021211   4.5\n",
       "10468  201910021212   4.4\n",
       "\n",
       "[10469 rows x 2 columns]"
      ]
     },
     "execution_count": 158,
     "metadata": {},
     "output_type": "execute_result"
    }
   ],
   "source": [
    "tmp1.merge(\n",
    "    df_pred.query('pred_rank==1')[['race_id', 'odds']].drop_duplicates('race_id'),\n",
    "    how='left',\n",
    "    on='race_id'\n",
    ")"
   ]
  },
  {
   "cell_type": "code",
   "execution_count": 157,
   "metadata": {
    "ExecuteTime": {
     "end_time": "2020-12-12T18:51:55.663633Z",
     "start_time": "2020-12-12T18:51:55.633366Z"
    }
   },
   "outputs": [
    {
     "data": {
      "text/html": [
       "<div>\n",
       "<style scoped>\n",
       "    .dataframe tbody tr th:only-of-type {\n",
       "        vertical-align: middle;\n",
       "    }\n",
       "\n",
       "    .dataframe tbody tr th {\n",
       "        vertical-align: top;\n",
       "    }\n",
       "\n",
       "    .dataframe thead th {\n",
       "        text-align: right;\n",
       "    }\n",
       "</style>\n",
       "<table border=\"1\" class=\"dataframe\">\n",
       "  <thead>\n",
       "    <tr style=\"text-align: right;\">\n",
       "      <th></th>\n",
       "      <th>odds</th>\n",
       "    </tr>\n",
       "    <tr>\n",
       "      <th>race_id</th>\n",
       "      <th></th>\n",
       "    </tr>\n",
       "  </thead>\n",
       "  <tbody>\n",
       "    <tr>\n",
       "      <th>201201010101</th>\n",
       "      <td>5.9</td>\n",
       "    </tr>\n",
       "    <tr>\n",
       "      <th>201201010104</th>\n",
       "      <td>3.7</td>\n",
       "    </tr>\n",
       "    <tr>\n",
       "      <th>201201010108</th>\n",
       "      <td>2.7</td>\n",
       "    </tr>\n",
       "    <tr>\n",
       "      <th>201201010110</th>\n",
       "      <td>3.7</td>\n",
       "    </tr>\n",
       "    <tr>\n",
       "      <th>201201010112</th>\n",
       "      <td>2.2</td>\n",
       "    </tr>\n",
       "    <tr>\n",
       "      <th>...</th>\n",
       "      <td>...</td>\n",
       "    </tr>\n",
       "    <tr>\n",
       "      <th>201910021206</th>\n",
       "      <td>1.8</td>\n",
       "    </tr>\n",
       "    <tr>\n",
       "      <th>201910021208</th>\n",
       "      <td>8.1</td>\n",
       "    </tr>\n",
       "    <tr>\n",
       "      <th>201910021209</th>\n",
       "      <td>4.2</td>\n",
       "    </tr>\n",
       "    <tr>\n",
       "      <th>201910021211</th>\n",
       "      <td>4.5</td>\n",
       "    </tr>\n",
       "    <tr>\n",
       "      <th>201910021212</th>\n",
       "      <td>4.4</td>\n",
       "    </tr>\n",
       "  </tbody>\n",
       "</table>\n",
       "<p>10469 rows × 1 columns</p>\n",
       "</div>"
      ],
      "text/plain": [
       "              odds\n",
       "race_id           \n",
       "201201010101   5.9\n",
       "201201010104   3.7\n",
       "201201010108   2.7\n",
       "201201010110   3.7\n",
       "201201010112   2.2\n",
       "...            ...\n",
       "201910021206   1.8\n",
       "201910021208   8.1\n",
       "201910021209   4.2\n",
       "201910021211   4.5\n",
       "201910021212   4.4\n",
       "\n",
       "[10469 rows x 1 columns]"
      ]
     },
     "execution_count": 157,
     "metadata": {},
     "output_type": "execute_result"
    }
   ],
   "source": [
    "tmp2.merge(\n",
    "    df_pred.query('pred_rank==1')[['race_id', 'odds']].drop_duplicates('race_id').set_index('race_id'),\n",
    "    how='left',\n",
    "    left_index=True,\n",
    "    right_index=True\n",
    ")"
   ]
  },
  {
   "cell_type": "code",
   "execution_count": 142,
   "metadata": {
    "ExecuteTime": {
     "end_time": "2020-12-12T18:47:44.800229Z",
     "start_time": "2020-12-12T18:47:44.751856Z"
    }
   },
   "outputs": [
    {
     "data": {
      "text/html": [
       "<div>\n",
       "<style scoped>\n",
       "    .dataframe tbody tr th:only-of-type {\n",
       "        vertical-align: middle;\n",
       "    }\n",
       "\n",
       "    .dataframe tbody tr th {\n",
       "        vertical-align: top;\n",
       "    }\n",
       "\n",
       "    .dataframe thead th {\n",
       "        text-align: right;\n",
       "    }\n",
       "</style>\n",
       "<table border=\"1\" class=\"dataframe\">\n",
       "  <thead>\n",
       "    <tr style=\"text-align: right;\">\n",
       "      <th></th>\n",
       "      <th>race_id</th>\n",
       "      <th>odds</th>\n",
       "    </tr>\n",
       "  </thead>\n",
       "  <tbody>\n",
       "    <tr>\n",
       "      <th>0</th>\n",
       "      <td>201201010101</td>\n",
       "      <td>5.9</td>\n",
       "    </tr>\n",
       "    <tr>\n",
       "      <th>1</th>\n",
       "      <td>201201010104</td>\n",
       "      <td>3.7</td>\n",
       "    </tr>\n",
       "    <tr>\n",
       "      <th>2</th>\n",
       "      <td>201201010108</td>\n",
       "      <td>2.7</td>\n",
       "    </tr>\n",
       "    <tr>\n",
       "      <th>3</th>\n",
       "      <td>201201010110</td>\n",
       "      <td>3.7</td>\n",
       "    </tr>\n",
       "    <tr>\n",
       "      <th>4</th>\n",
       "      <td>201201010112</td>\n",
       "      <td>2.2</td>\n",
       "    </tr>\n",
       "    <tr>\n",
       "      <th>...</th>\n",
       "      <td>...</td>\n",
       "      <td>...</td>\n",
       "    </tr>\n",
       "    <tr>\n",
       "      <th>10464</th>\n",
       "      <td>201910021206</td>\n",
       "      <td>1.8</td>\n",
       "    </tr>\n",
       "    <tr>\n",
       "      <th>10465</th>\n",
       "      <td>201910021208</td>\n",
       "      <td>8.1</td>\n",
       "    </tr>\n",
       "    <tr>\n",
       "      <th>10466</th>\n",
       "      <td>201910021209</td>\n",
       "      <td>4.2</td>\n",
       "    </tr>\n",
       "    <tr>\n",
       "      <th>10467</th>\n",
       "      <td>201910021211</td>\n",
       "      <td>4.5</td>\n",
       "    </tr>\n",
       "    <tr>\n",
       "      <th>10468</th>\n",
       "      <td>201910021212</td>\n",
       "      <td>4.4</td>\n",
       "    </tr>\n",
       "  </tbody>\n",
       "</table>\n",
       "<p>10469 rows × 2 columns</p>\n",
       "</div>"
      ],
      "text/plain": [
       "            race_id  odds\n",
       "0      201201010101   5.9\n",
       "1      201201010104   3.7\n",
       "2      201201010108   2.7\n",
       "3      201201010110   3.7\n",
       "4      201201010112   2.2\n",
       "...             ...   ...\n",
       "10464  201910021206   1.8\n",
       "10465  201910021208   8.1\n",
       "10466  201910021209   4.2\n",
       "10467  201910021211   4.5\n",
       "10468  201910021212   4.4\n",
       "\n",
       "[10469 rows x 2 columns]"
      ]
     },
     "execution_count": 142,
     "metadata": {},
     "output_type": "execute_result"
    }
   ],
   "source": [
    "accuracy_id = df_pred.query('(arrival==1) and (pred_rank==1)').race_id\n",
    "\n",
    "df_ac = df_ac.reset_index().merge(\n",
    "    df_pred.query('pred_rank==1')[['race_id', 'odds']].drop_duplicates('race_id'),\n",
    "    how='left',\n",
    "    on='race_id'\n",
    ")\n",
    "df_ac"
   ]
  },
  {
   "cell_type": "code",
   "execution_count": 165,
   "metadata": {
    "ExecuteTime": {
     "end_time": "2020-12-12T18:53:40.194511Z",
     "start_time": "2020-12-12T18:53:40.165202Z"
    },
    "scrolled": true
   },
   "outputs": [
    {
     "data": {
      "text/html": [
       "<div>\n",
       "<style scoped>\n",
       "    .dataframe tbody tr th:only-of-type {\n",
       "        vertical-align: middle;\n",
       "    }\n",
       "\n",
       "    .dataframe tbody tr th {\n",
       "        vertical-align: top;\n",
       "    }\n",
       "\n",
       "    .dataframe thead th {\n",
       "        text-align: right;\n",
       "    }\n",
       "</style>\n",
       "<table border=\"1\" class=\"dataframe\">\n",
       "  <thead>\n",
       "    <tr style=\"text-align: right;\">\n",
       "      <th></th>\n",
       "      <th>race_id</th>\n",
       "      <th>odds</th>\n",
       "    </tr>\n",
       "  </thead>\n",
       "  <tbody>\n",
       "    <tr>\n",
       "      <th>3099</th>\n",
       "      <td>201204020212</td>\n",
       "      <td>3.6</td>\n",
       "    </tr>\n",
       "    <tr>\n",
       "      <th>3108</th>\n",
       "      <td>201204020212</td>\n",
       "      <td>2.9</td>\n",
       "    </tr>\n",
       "    <tr>\n",
       "      <th>8104</th>\n",
       "      <td>201207030411</td>\n",
       "      <td>4.1</td>\n",
       "    </tr>\n",
       "    <tr>\n",
       "      <th>8106</th>\n",
       "      <td>201207030411</td>\n",
       "      <td>24.0</td>\n",
       "    </tr>\n",
       "    <tr>\n",
       "      <th>32505</th>\n",
       "      <td>201401020311</td>\n",
       "      <td>5.1</td>\n",
       "    </tr>\n",
       "    <tr>\n",
       "      <th>32512</th>\n",
       "      <td>201401020311</td>\n",
       "      <td>15.6</td>\n",
       "    </tr>\n",
       "    <tr>\n",
       "      <th>56283</th>\n",
       "      <td>201504020709</td>\n",
       "      <td>2.9</td>\n",
       "    </tr>\n",
       "    <tr>\n",
       "      <th>56293</th>\n",
       "      <td>201504020709</td>\n",
       "      <td>5.7</td>\n",
       "    </tr>\n",
       "    <tr>\n",
       "      <th>60235</th>\n",
       "      <td>201505050909</td>\n",
       "      <td>5.1</td>\n",
       "    </tr>\n",
       "    <tr>\n",
       "      <th>60239</th>\n",
       "      <td>201505050909</td>\n",
       "      <td>2.8</td>\n",
       "    </tr>\n",
       "    <tr>\n",
       "      <th>73223</th>\n",
       "      <td>201602010406</td>\n",
       "      <td>1.8</td>\n",
       "    </tr>\n",
       "    <tr>\n",
       "      <th>73224</th>\n",
       "      <td>201602010406</td>\n",
       "      <td>4.8</td>\n",
       "    </tr>\n",
       "    <tr>\n",
       "      <th>86173</th>\n",
       "      <td>201608030704</td>\n",
       "      <td>1.9</td>\n",
       "    </tr>\n",
       "    <tr>\n",
       "      <th>86166</th>\n",
       "      <td>201608030704</td>\n",
       "      <td>11.2</td>\n",
       "    </tr>\n",
       "    <tr>\n",
       "      <th>93155</th>\n",
       "      <td>201702010108</td>\n",
       "      <td>15.2</td>\n",
       "    </tr>\n",
       "    <tr>\n",
       "      <th>93160</th>\n",
       "      <td>201702010108</td>\n",
       "      <td>10.4</td>\n",
       "    </tr>\n",
       "    <tr>\n",
       "      <th>93746</th>\n",
       "      <td>201702020303</td>\n",
       "      <td>3.2</td>\n",
       "    </tr>\n",
       "    <tr>\n",
       "      <th>93750</th>\n",
       "      <td>201702020303</td>\n",
       "      <td>10.2</td>\n",
       "    </tr>\n",
       "    <tr>\n",
       "      <th>116014</th>\n",
       "      <td>201804020712</td>\n",
       "      <td>3.6</td>\n",
       "    </tr>\n",
       "    <tr>\n",
       "      <th>116025</th>\n",
       "      <td>201804020712</td>\n",
       "      <td>9.5</td>\n",
       "    </tr>\n",
       "    <tr>\n",
       "      <th>117888</th>\n",
       "      <td>201805021208</td>\n",
       "      <td>8.0</td>\n",
       "    </tr>\n",
       "    <tr>\n",
       "      <th>117890</th>\n",
       "      <td>201805021208</td>\n",
       "      <td>1.9</td>\n",
       "    </tr>\n",
       "    <tr>\n",
       "      <th>131194</th>\n",
       "      <td>201901020601</td>\n",
       "      <td>3.6</td>\n",
       "    </tr>\n",
       "    <tr>\n",
       "      <th>131195</th>\n",
       "      <td>201901020601</td>\n",
       "      <td>2.7</td>\n",
       "    </tr>\n",
       "    <tr>\n",
       "      <th>144916</th>\n",
       "      <td>201909020509</td>\n",
       "      <td>2.1</td>\n",
       "    </tr>\n",
       "    <tr>\n",
       "      <th>144922</th>\n",
       "      <td>201909020509</td>\n",
       "      <td>9.0</td>\n",
       "    </tr>\n",
       "  </tbody>\n",
       "</table>\n",
       "</div>"
      ],
      "text/plain": [
       "             race_id  odds\n",
       "3099    201204020212   3.6\n",
       "3108    201204020212   2.9\n",
       "8104    201207030411   4.1\n",
       "8106    201207030411  24.0\n",
       "32505   201401020311   5.1\n",
       "32512   201401020311  15.6\n",
       "56283   201504020709   2.9\n",
       "56293   201504020709   5.7\n",
       "60235   201505050909   5.1\n",
       "60239   201505050909   2.8\n",
       "73223   201602010406   1.8\n",
       "73224   201602010406   4.8\n",
       "86173   201608030704   1.9\n",
       "86166   201608030704  11.2\n",
       "93155   201702010108  15.2\n",
       "93160   201702010108  10.4\n",
       "93746   201702020303   3.2\n",
       "93750   201702020303  10.2\n",
       "116014  201804020712   3.6\n",
       "116025  201804020712   9.5\n",
       "117888  201805021208   8.0\n",
       "117890  201805021208   1.9\n",
       "131194  201901020601   3.6\n",
       "131195  201901020601   2.7\n",
       "144916  201909020509   2.1\n",
       "144922  201909020509   9.0"
      ]
     },
     "execution_count": 165,
     "metadata": {},
     "output_type": "execute_result"
    }
   ],
   "source": [
    "aaa = df_pred.query('arrival==1')[['race_id', 'odds']]\n",
    "aaa.loc[aaa.duplicated('race_id', keep=False)].sort_values('race_id')"
   ]
  },
  {
   "cell_type": "code",
   "execution_count": 194,
   "metadata": {
    "ExecuteTime": {
     "end_time": "2020-12-12T18:59:55.747756Z",
     "start_time": "2020-12-12T18:59:55.681343Z"
    }
   },
   "outputs": [],
   "source": [
    "df_pred['odds_rank'] = df_pred.groupby('race_id').odds.rank(ascending=True, method='min')"
   ]
  },
  {
   "cell_type": "code",
   "execution_count": 195,
   "metadata": {
    "ExecuteTime": {
     "end_time": "2020-12-12T18:59:56.038569Z",
     "start_time": "2020-12-12T18:59:56.011229Z"
    }
   },
   "outputs": [],
   "source": [
    "df_ac = pd.DataFrame(index=df_pred.race_id.unique())\n",
    "df_ac.index.name = 'race_id'\n",
    "# df_ac = df_ac.merge(\n",
    "#     df_pred.query('odds_rank==1')[['race_id', 'odds']].drop_duplicates('race_id').set_index('race_id'),\n",
    "#     how='left',\n",
    "#     left_index=True,\n",
    "#     right_index=True\n",
    "# )"
   ]
  },
  {
   "cell_type": "code",
   "execution_count": 197,
   "metadata": {
    "ExecuteTime": {
     "end_time": "2020-12-12T19:00:01.199127Z",
     "start_time": "2020-12-12T19:00:01.139546Z"
    }
   },
   "outputs": [],
   "source": [
    "df_ac['acc_flg'] = 0\n",
    "df_ac.loc[df_ac.index.isin(accuracy_id), 'acc_flg'] = 1\n",
    "tmp = pd.pivot_table(\n",
    "    df_pred.query('pred_rank <=2'),\n",
    "    values='pred_prob',\n",
    "    index='race_id',\n",
    "    columns='pred_rank'\n",
    ")\n",
    "tmp.columns = ['score1', 'score2']\n",
    "df_ac = df_ac.merge(tmp, how='left', left_index=True, right_index=True)\n",
    "df_ac['s_diff'] = df_ac.score1 - df_ac.score2\n",
    "\n",
    "df_ac = df_ac.merge(df_info, how='left', left_index=True, right_index=True)\n",
    "\n",
    "df_ac['EV'] = df_ac.odds * df_ac.score1\n",
    "df_ac['EV_diff'] = df_ac.EV * df_ac.s_diff\n",
    "df_ac['s_diff_rate'] = df_ac.s_diff * df_ac.score1"
   ]
  },
  {
   "cell_type": "code",
   "execution_count": 198,
   "metadata": {
    "ExecuteTime": {
     "end_time": "2020-12-12T19:00:03.082796Z",
     "start_time": "2020-12-12T19:00:03.060339Z"
    },
    "scrolled": true
   },
   "outputs": [
    {
     "data": {
      "text/html": [
       "<div>\n",
       "<style scoped>\n",
       "    .dataframe tbody tr th:only-of-type {\n",
       "        vertical-align: middle;\n",
       "    }\n",
       "\n",
       "    .dataframe tbody tr th {\n",
       "        vertical-align: top;\n",
       "    }\n",
       "\n",
       "    .dataframe thead th {\n",
       "        text-align: right;\n",
       "    }\n",
       "</style>\n",
       "<table border=\"1\" class=\"dataframe\">\n",
       "  <thead>\n",
       "    <tr style=\"text-align: right;\">\n",
       "      <th></th>\n",
       "      <th>odds</th>\n",
       "      <th>acc_flg</th>\n",
       "      <th>score1</th>\n",
       "      <th>score2</th>\n",
       "      <th>s_diff</th>\n",
       "      <th>condition_int</th>\n",
       "      <th>weather_int</th>\n",
       "      <th>EV</th>\n",
       "      <th>EV_diff</th>\n",
       "      <th>s_diff_rate</th>\n",
       "    </tr>\n",
       "    <tr>\n",
       "      <th>race_id</th>\n",
       "      <th></th>\n",
       "      <th></th>\n",
       "      <th></th>\n",
       "      <th></th>\n",
       "      <th></th>\n",
       "      <th></th>\n",
       "      <th></th>\n",
       "      <th></th>\n",
       "      <th></th>\n",
       "      <th></th>\n",
       "    </tr>\n",
       "  </thead>\n",
       "  <tbody>\n",
       "    <tr>\n",
       "      <th>201201010101</th>\n",
       "      <td>1.7</td>\n",
       "      <td>0</td>\n",
       "      <td>0.366473</td>\n",
       "      <td>0.329453</td>\n",
       "      <td>0.037019</td>\n",
       "      <td>1</td>\n",
       "      <td>1</td>\n",
       "      <td>0.623004</td>\n",
       "      <td>0.023063</td>\n",
       "      <td>0.013567</td>\n",
       "    </tr>\n",
       "    <tr>\n",
       "      <th>201201010104</th>\n",
       "      <td>2.7</td>\n",
       "      <td>1</td>\n",
       "      <td>0.483205</td>\n",
       "      <td>0.399544</td>\n",
       "      <td>0.083661</td>\n",
       "      <td>1</td>\n",
       "      <td>1</td>\n",
       "      <td>1.304653</td>\n",
       "      <td>0.109149</td>\n",
       "      <td>0.040425</td>\n",
       "    </tr>\n",
       "    <tr>\n",
       "      <th>201201010108</th>\n",
       "      <td>2.7</td>\n",
       "      <td>0</td>\n",
       "      <td>0.495654</td>\n",
       "      <td>0.350361</td>\n",
       "      <td>0.145293</td>\n",
       "      <td>1</td>\n",
       "      <td>1</td>\n",
       "      <td>1.338265</td>\n",
       "      <td>0.194440</td>\n",
       "      <td>0.072015</td>\n",
       "    </tr>\n",
       "    <tr>\n",
       "      <th>201201010110</th>\n",
       "      <td>2.4</td>\n",
       "      <td>0</td>\n",
       "      <td>0.309313</td>\n",
       "      <td>0.268529</td>\n",
       "      <td>0.040784</td>\n",
       "      <td>1</td>\n",
       "      <td>1</td>\n",
       "      <td>0.742352</td>\n",
       "      <td>0.030276</td>\n",
       "      <td>0.012615</td>\n",
       "    </tr>\n",
       "    <tr>\n",
       "      <th>201201010112</th>\n",
       "      <td>2.2</td>\n",
       "      <td>0</td>\n",
       "      <td>0.503848</td>\n",
       "      <td>0.285949</td>\n",
       "      <td>0.217899</td>\n",
       "      <td>1</td>\n",
       "      <td>1</td>\n",
       "      <td>1.108466</td>\n",
       "      <td>0.241534</td>\n",
       "      <td>0.109788</td>\n",
       "    </tr>\n",
       "  </tbody>\n",
       "</table>\n",
       "</div>"
      ],
      "text/plain": [
       "              odds  acc_flg    score1    score2    s_diff  condition_int  \\\n",
       "race_id                                                                    \n",
       "201201010101   1.7        0  0.366473  0.329453  0.037019              1   \n",
       "201201010104   2.7        1  0.483205  0.399544  0.083661              1   \n",
       "201201010108   2.7        0  0.495654  0.350361  0.145293              1   \n",
       "201201010110   2.4        0  0.309313  0.268529  0.040784              1   \n",
       "201201010112   2.2        0  0.503848  0.285949  0.217899              1   \n",
       "\n",
       "              weather_int        EV   EV_diff  s_diff_rate  \n",
       "race_id                                                     \n",
       "201201010101            1  0.623004  0.023063     0.013567  \n",
       "201201010104            1  1.304653  0.109149     0.040425  \n",
       "201201010108            1  1.338265  0.194440     0.072015  \n",
       "201201010110            1  0.742352  0.030276     0.012615  \n",
       "201201010112            1  1.108466  0.241534     0.109788  "
      ]
     },
     "execution_count": 198,
     "metadata": {},
     "output_type": "execute_result"
    }
   ],
   "source": [
    "df_ac.head()"
   ]
  },
  {
   "cell_type": "markdown",
   "metadata": {},
   "source": [
    "# 購入閾値検索"
   ]
  },
  {
   "cell_type": "code",
   "execution_count": 123,
   "metadata": {
    "ExecuteTime": {
     "end_time": "2020-12-12T18:39:08.497496Z",
     "start_time": "2020-12-12T18:39:08.486759Z"
    }
   },
   "outputs": [],
   "source": [
    "def get_return(df, col, vmax=1, step=0.01, over=True, plot_min=0.8):\n",
    "    df_ret = pd.DataFrame(columns=['対象数', '回収率'])\n",
    "    if over:\n",
    "        op = '>'\n",
    "    else:\n",
    "        op = '<'\n",
    "    max_ret = -10000\n",
    "    max_th = -1\n",
    "    max_len = -1\n",
    "    for th in np.arange(0, vmax, step):\n",
    "        th = round(th, 2)\n",
    "        tmp = df.query(col + op + str(th))\n",
    "        ret = round((tmp.query('acc_flg==1').odds.sum()/tmp.shape[0]), 3)\n",
    "        if ret > max_ret:\n",
    "            max_ret = ret\n",
    "            max_th = th\n",
    "            max_len = len(tmp)\n",
    "        df_ret.loc[th] = [tmp.shape[0], ret]\n",
    "    print(f'対象カラム: {col}, 最大回収率: {max_ret}, 閾値: {max_th}, 対象数: {max_len}, 対象率: {round(max_len/df.shape[0], 3)}')\n",
    "    \n",
    "    df_ret['対象率'] = df_ret.対象数 / df.shape[0]\n",
    "    \n",
    "#     plt.scatter(max_th, max_ret, s=100, c='none', edgecolors='blue')\n",
    "    df_ret.回収率.plot()\n",
    "    plt.plot([0,vmax], [1,1])\n",
    "    plt.ylim(plot_min, )\n",
    "    plt.ylabel('回収率')\n",
    "    plt.xlabel(col)\n",
    "    plt.twinx()\n",
    "    df[col].hist(bins=20, alpha=.1, color='c', grid=False, range=(0, vmax))\n",
    "    plt.ylabel('件数')\n",
    "    plt.show()\n",
    "    return df_ret, max_th"
   ]
  },
  {
   "cell_type": "code",
   "execution_count": null,
   "metadata": {},
   "outputs": [],
   "source": []
  },
  {
   "cell_type": "code",
   "execution_count": null,
   "metadata": {},
   "outputs": [],
   "source": []
  },
  {
   "cell_type": "code",
   "execution_count": null,
   "metadata": {},
   "outputs": [],
   "source": []
  },
  {
   "cell_type": "raw",
   "metadata": {
    "ExecuteTime": {
     "end_time": "2020-12-12T18:26:22.445518Z",
     "start_time": "2020-12-12T18:26:22.160243Z"
    }
   },
   "source": [
    "df_ac.groupby('acc_flg').EV.hist(bins=50, histtype='step', range=(0, df_ac.EV.max()))"
   ]
  },
  {
   "cell_type": "raw",
   "metadata": {
    "ExecuteTime": {
     "end_time": "2020-12-12T18:26:22.852648Z",
     "start_time": "2020-12-12T18:26:22.524599Z"
    }
   },
   "source": [
    "df_ac.groupby('acc_flg').s_diff_rate.hist(bins=20, histtype='step')"
   ]
  },
  {
   "cell_type": "raw",
   "metadata": {
    "ExecuteTime": {
     "end_time": "2020-12-12T18:26:23.267144Z",
     "start_time": "2020-12-12T18:26:22.912206Z"
    }
   },
   "source": [
    "df_ac.groupby('acc_flg').s_diff.hist(bins=20, histtype='step')"
   ]
  },
  {
   "cell_type": "raw",
   "metadata": {
    "ExecuteTime": {
     "end_time": "2020-12-12T18:26:23.719863Z",
     "start_time": "2020-12-12T18:26:23.270072Z"
    }
   },
   "source": [
    "df_ac.groupby('acc_flg').odds.hist(bins=20, histtype='step', range=(0, df_ac.odds.max()))"
   ]
  },
  {
   "cell_type": "raw",
   "metadata": {
    "ExecuteTime": {
     "end_time": "2020-12-12T18:32:49.908595Z",
     "start_time": "2020-12-12T18:32:49.235904Z"
    }
   },
   "source": [
    "df_ret, max_th = get_return(df_ac, 'EV', 10, 1, over=False)"
   ]
  },
  {
   "cell_type": "raw",
   "metadata": {
    "ExecuteTime": {
     "end_time": "2020-12-12T18:28:47.516157Z",
     "start_time": "2020-12-12T18:28:46.691363Z"
    }
   },
   "source": [
    "df_ret, max_th = get_return(df_ac, 'EV_diff', 2, 0.05, over=False)"
   ]
  },
  {
   "cell_type": "raw",
   "metadata": {
    "ExecuteTime": {
     "end_time": "2020-12-12T18:33:17.754258Z",
     "start_time": "2020-12-12T18:33:00.721944Z"
    }
   },
   "source": [
    "df_ret, max_th = get_return(df_ac, 'odds', 20, 0.01, over=False)"
   ]
  },
  {
   "cell_type": "raw",
   "metadata": {
    "ExecuteTime": {
     "end_time": "2020-12-12T18:29:10.421672Z",
     "start_time": "2020-12-12T18:29:08.882016Z"
    }
   },
   "source": [
    "df_ret, max_th = get_return(df_ac, 'score1', 1, 0.01, over=True, plot_min=0.7)"
   ]
  },
  {
   "cell_type": "raw",
   "metadata": {
    "ExecuteTime": {
     "end_time": "2020-12-12T18:29:11.750974Z",
     "start_time": "2020-12-12T18:29:10.424597Z"
    }
   },
   "source": [
    "df_ret, max_th = get_return(df_ac, 's_diff', 1, 0.01, over=True, plot_min=0.7)"
   ]
  },
  {
   "cell_type": "raw",
   "metadata": {
    "ExecuteTime": {
     "end_time": "2020-12-12T18:27:11.732383Z",
     "start_time": "2020-12-12T18:27:10.563191Z"
    }
   },
   "source": [
    "df_ret, max_th = get_return(df_ac, 's_diff_rate', 1, 0.01, over=True, plot_min=0.5)"
   ]
  },
  {
   "cell_type": "markdown",
   "metadata": {},
   "source": [
    "# 購入モデル"
   ]
  },
  {
   "cell_type": "markdown",
   "metadata": {},
   "source": [
    "## ライブラリ"
   ]
  },
  {
   "cell_type": "raw",
   "metadata": {
    "ExecuteTime": {
     "end_time": "2020-12-06T11:51:15.563471Z",
     "start_time": "2020-12-06T11:51:15.558496Z"
    }
   },
   "source": [
    "import xgboost as xgb"
   ]
  },
  {
   "cell_type": "code",
   "execution_count": 71,
   "metadata": {
    "ExecuteTime": {
     "end_time": "2020-12-12T18:27:17.097229Z",
     "start_time": "2020-12-12T18:27:17.092355Z"
    }
   },
   "outputs": [],
   "source": [
    "from sklearn.model_selection import train_test_split\n",
    "from sklearn.linear_model import LogisticRegression\n",
    "from sklearn.calibration import calibration_curve\n",
    "from sklearn.metrics import roc_curve,recall_score, confusion_matrix, accuracy_score, precision_score, f1_score\n",
    "from sklearn.metrics import roc_auc_score"
   ]
  },
  {
   "cell_type": "markdown",
   "metadata": {},
   "source": [
    "## 学習データ作成"
   ]
  },
  {
   "cell_type": "code",
   "execution_count": 199,
   "metadata": {
    "ExecuteTime": {
     "end_time": "2020-12-12T19:00:12.146428Z",
     "start_time": "2020-12-12T19:00:12.124932Z"
    }
   },
   "outputs": [],
   "source": [
    "# one-hot\n",
    "df_use = pd.get_dummies(df_ac, columns=['weather_int', 'condition_int'], drop_first=True).dropna()\n",
    "\n",
    "# target\n",
    "df_use['target'] = df_use.acc_flg.copy()"
   ]
  },
  {
   "cell_type": "raw",
   "metadata": {
    "ExecuteTime": {
     "end_time": "2020-12-12T18:56:18.559906Z",
     "start_time": "2020-12-12T18:56:18.554048Z"
    }
   },
   "source": [
    "df_ac_tmp['target'] = df_ac_tmp.acc_flg.copy()"
   ]
  },
  {
   "cell_type": "raw",
   "metadata": {
    "ExecuteTime": {
     "end_time": "2020-12-12T18:56:24.820171Z",
     "start_time": "2020-12-12T18:56:24.815291Z"
    }
   },
   "source": [
    "df_use = df_ac_tmp"
   ]
  },
  {
   "cell_type": "code",
   "execution_count": 200,
   "metadata": {
    "ExecuteTime": {
     "end_time": "2020-12-12T19:00:19.622766Z",
     "start_time": "2020-12-12T19:00:19.610076Z"
    }
   },
   "outputs": [
    {
     "name": "stdout",
     "output_type": "stream",
     "text": [
      "(7851, 13)\n",
      "(2617, 13)\n"
     ]
    }
   ],
   "source": [
    "df_train, df_test = train_test_split(df_use)\n",
    "print(df_train.shape)\n",
    "print(df_test.shape)"
   ]
  },
  {
   "cell_type": "code",
   "execution_count": 201,
   "metadata": {
    "ExecuteTime": {
     "end_time": "2020-12-12T19:00:20.585553Z",
     "start_time": "2020-12-12T19:00:20.568957Z"
    }
   },
   "outputs": [],
   "source": [
    "# 不均衡データ調整\n",
    "target_size = (df_train.target==1).sum()\n",
    "\n",
    "df_train_0 = df_train[df_train.target==0]\n",
    "df_train_use = df_train_0.sample(target_size, random_state=0)\n",
    "df_train_use = pd.concat([df_train_use, df_train[df_train.target==1]])\n",
    "\n",
    "# X_train_use = X_train.loc[y_train_use.index]"
   ]
  },
  {
   "cell_type": "code",
   "execution_count": 202,
   "metadata": {
    "ExecuteTime": {
     "end_time": "2020-12-12T19:00:21.878331Z",
     "start_time": "2020-12-12T19:00:21.872474Z"
    }
   },
   "outputs": [
    {
     "name": "stdout",
     "output_type": "stream",
     "text": [
      "11\n"
     ]
    }
   ],
   "source": [
    "X_cols = [col for col in df_train.columns if col not in {'acc_flg', 'target', 'race_id'}]\n",
    "print(len(X_cols))"
   ]
  },
  {
   "cell_type": "raw",
   "metadata": {
    "ExecuteTime": {
     "end_time": "2020-12-12T18:27:34.164459Z",
     "start_time": "2020-12-12T18:27:34.129309Z"
    }
   },
   "source": [
    "df_f"
   ]
  },
  {
   "cell_type": "code",
   "execution_count": 203,
   "metadata": {
    "ExecuteTime": {
     "end_time": "2020-12-12T19:00:23.513453Z",
     "start_time": "2020-12-12T19:00:23.503691Z"
    }
   },
   "outputs": [],
   "source": [
    "X_train = df_train_use[X_cols]\n",
    "X_test = df_test[X_cols]\n",
    "y_train = df_train_use['target']\n",
    "y_test = df_test['target']\n",
    "\n",
    "# X_train = df_use[X_cols]\n",
    "# y_train = df_use['target']\n",
    "# X_test = df_use[X_cols]\n",
    "# y_test = df_use['target']"
   ]
  },
  {
   "cell_type": "code",
   "execution_count": 204,
   "metadata": {
    "ExecuteTime": {
     "end_time": "2020-12-12T19:00:24.819570Z",
     "start_time": "2020-12-12T19:00:24.747324Z"
    }
   },
   "outputs": [
    {
     "data": {
      "text/html": [
       "<div>\n",
       "<style scoped>\n",
       "    .dataframe tbody tr th:only-of-type {\n",
       "        vertical-align: middle;\n",
       "    }\n",
       "\n",
       "    .dataframe tbody tr th {\n",
       "        vertical-align: top;\n",
       "    }\n",
       "\n",
       "    .dataframe thead th {\n",
       "        text-align: right;\n",
       "    }\n",
       "</style>\n",
       "<table border=\"1\" class=\"dataframe\">\n",
       "  <thead>\n",
       "    <tr style=\"text-align: right;\">\n",
       "      <th>target</th>\n",
       "      <th>0</th>\n",
       "      <th>1</th>\n",
       "      <th>All</th>\n",
       "    </tr>\n",
       "    <tr>\n",
       "      <th>種類</th>\n",
       "      <th></th>\n",
       "      <th></th>\n",
       "      <th></th>\n",
       "    </tr>\n",
       "  </thead>\n",
       "  <tbody>\n",
       "    <tr>\n",
       "      <th>test</th>\n",
       "      <td>1954</td>\n",
       "      <td>663</td>\n",
       "      <td>2617</td>\n",
       "    </tr>\n",
       "    <tr>\n",
       "      <th>train</th>\n",
       "      <td>1833</td>\n",
       "      <td>1833</td>\n",
       "      <td>3666</td>\n",
       "    </tr>\n",
       "    <tr>\n",
       "      <th>All</th>\n",
       "      <td>3787</td>\n",
       "      <td>2496</td>\n",
       "      <td>6283</td>\n",
       "    </tr>\n",
       "  </tbody>\n",
       "</table>\n",
       "</div>"
      ],
      "text/plain": [
       "target     0     1   All\n",
       "種類                      \n",
       "test    1954   663  2617\n",
       "train   1833  1833  3666\n",
       "All     3787  2496  6283"
      ]
     },
     "execution_count": 204,
     "metadata": {},
     "output_type": "execute_result"
    }
   ],
   "source": [
    "tmp = y_train.to_frame()\n",
    "tmp['種類'] = 'train'\n",
    "tmp2 = y_test.to_frame()\n",
    "tmp2['種類'] = 'test'\n",
    "tmp3 = pd.concat([tmp, tmp2])\n",
    "df_sampling = pd.crosstab(tmp3.種類, tmp3.target, margins=True)\n",
    "df_sampling"
   ]
  },
  {
   "cell_type": "code",
   "execution_count": 205,
   "metadata": {
    "ExecuteTime": {
     "end_time": "2020-12-12T19:00:25.446560Z",
     "start_time": "2020-12-12T19:00:25.439724Z"
    }
   },
   "outputs": [
    {
     "data": {
      "text/plain": [
       "0.2533435231180741"
      ]
     },
     "execution_count": 205,
     "metadata": {},
     "output_type": "execute_result"
    }
   ],
   "source": [
    "s_rate = y_test.sum() / len(y_test)\n",
    "# s_rate = (y_test==1).sum() / y_test.shape[0]\n",
    "s_rate"
   ]
  },
  {
   "cell_type": "markdown",
   "metadata": {},
   "source": [
    "## 学習"
   ]
  },
  {
   "cell_type": "code",
   "execution_count": 206,
   "metadata": {
    "ExecuteTime": {
     "end_time": "2020-12-12T19:00:27.236363Z",
     "start_time": "2020-12-12T19:00:27.172902Z"
    }
   },
   "outputs": [
    {
     "data": {
      "text/plain": [
       "LogisticRegression(random_state=0)"
      ]
     },
     "execution_count": 206,
     "metadata": {},
     "output_type": "execute_result"
    }
   ],
   "source": [
    "clf = LogisticRegression(random_state=0)\n",
    "clf.fit(X_train, y_train)"
   ]
  },
  {
   "cell_type": "code",
   "execution_count": 207,
   "metadata": {
    "ExecuteTime": {
     "end_time": "2020-12-12T19:00:27.837263Z",
     "start_time": "2020-12-12T19:00:27.826570Z"
    }
   },
   "outputs": [
    {
     "data": {
      "text/html": [
       "<div>\n",
       "<style scoped>\n",
       "    .dataframe tbody tr th:only-of-type {\n",
       "        vertical-align: middle;\n",
       "    }\n",
       "\n",
       "    .dataframe tbody tr th {\n",
       "        vertical-align: top;\n",
       "    }\n",
       "\n",
       "    .dataframe thead th {\n",
       "        text-align: right;\n",
       "    }\n",
       "</style>\n",
       "<table border=\"1\" class=\"dataframe\">\n",
       "  <thead>\n",
       "    <tr style=\"text-align: right;\">\n",
       "      <th></th>\n",
       "      <th>0</th>\n",
       "    </tr>\n",
       "  </thead>\n",
       "  <tbody>\n",
       "    <tr>\n",
       "      <th>odds</th>\n",
       "      <td>-0.433609</td>\n",
       "    </tr>\n",
       "    <tr>\n",
       "      <th>score1</th>\n",
       "      <td>1.587320</td>\n",
       "    </tr>\n",
       "    <tr>\n",
       "      <th>score2</th>\n",
       "      <td>0.504533</td>\n",
       "    </tr>\n",
       "    <tr>\n",
       "      <th>s_diff</th>\n",
       "      <td>1.082787</td>\n",
       "    </tr>\n",
       "    <tr>\n",
       "      <th>EV</th>\n",
       "      <td>0.082186</td>\n",
       "    </tr>\n",
       "    <tr>\n",
       "      <th>EV_diff</th>\n",
       "      <td>-0.332268</td>\n",
       "    </tr>\n",
       "    <tr>\n",
       "      <th>s_diff_rate</th>\n",
       "      <td>0.754444</td>\n",
       "    </tr>\n",
       "    <tr>\n",
       "      <th>weather_int_2</th>\n",
       "      <td>0.090856</td>\n",
       "    </tr>\n",
       "    <tr>\n",
       "      <th>weather_int_3</th>\n",
       "      <td>0.345280</td>\n",
       "    </tr>\n",
       "    <tr>\n",
       "      <th>condition_int_2</th>\n",
       "      <td>-0.115885</td>\n",
       "    </tr>\n",
       "    <tr>\n",
       "      <th>condition_int_3</th>\n",
       "      <td>0.080424</td>\n",
       "    </tr>\n",
       "  </tbody>\n",
       "</table>\n",
       "</div>"
      ],
      "text/plain": [
       "                        0\n",
       "odds            -0.433609\n",
       "score1           1.587320\n",
       "score2           0.504533\n",
       "s_diff           1.082787\n",
       "EV               0.082186\n",
       "EV_diff         -0.332268\n",
       "s_diff_rate      0.754444\n",
       "weather_int_2    0.090856\n",
       "weather_int_3    0.345280\n",
       "condition_int_2 -0.115885\n",
       "condition_int_3  0.080424"
      ]
     },
     "execution_count": 207,
     "metadata": {},
     "output_type": "execute_result"
    }
   ],
   "source": [
    "pd.Series(clf.coef_[0], X_train.columns).to_frame()"
   ]
  },
  {
   "cell_type": "markdown",
   "metadata": {},
   "source": [
    "## 予測"
   ]
  },
  {
   "cell_type": "code",
   "execution_count": 208,
   "metadata": {
    "ExecuteTime": {
     "end_time": "2020-12-12T19:00:29.385712Z",
     "start_time": "2020-12-12T19:00:29.373975Z"
    }
   },
   "outputs": [],
   "source": [
    "y_pred = clf.predict(X_test)\n",
    "y_pred_prob = clf.predict_proba(X_test)[:, 1]"
   ]
  },
  {
   "cell_type": "code",
   "execution_count": 209,
   "metadata": {
    "ExecuteTime": {
     "end_time": "2020-12-12T19:00:29.746096Z",
     "start_time": "2020-12-12T19:00:29.742196Z"
    }
   },
   "outputs": [],
   "source": [
    "prob2 = y_pred_prob / (y_pred_prob + (1 - y_pred_prob) / s_rate)"
   ]
  },
  {
   "cell_type": "code",
   "execution_count": null,
   "metadata": {},
   "outputs": [],
   "source": []
  },
  {
   "cell_type": "code",
   "execution_count": 210,
   "metadata": {
    "ExecuteTime": {
     "end_time": "2020-12-12T19:00:30.933026Z",
     "start_time": "2020-12-12T19:00:30.495835Z"
    }
   },
   "outputs": [
    {
     "data": {
      "image/png": "[encoded data removed]",
      "text/plain": [
       "<Figure size 432x288 with 2 Axes>"
      ]
     },
     "metadata": {
      "needs_background": "light"
     },
     "output_type": "display_data"
    }
   ],
   "source": [
    "prob_true, prob_pred = calibration_curve(y_true=y_test, y_prob=prob2, n_bins=20)\n",
    "\n",
    "fig, ax1 = plt.subplots()\n",
    "ax1.plot(prob_pred, prob_true, marker='s', label='calibration plot', color='skyblue')\n",
    "ax1.plot([0, 1], [0, 1], linestyle='--', label='ideal', color='limegreen')\n",
    "ax1.legend(bbox_to_anchor=(1.12, 1), loc='upper left')\n",
    "ax2 = ax1.twinx()\n",
    "ax2.hist(prob2, bins=20, histtype='step', color='orangered')\n",
    "ax1.set_ylabel('accuracy')\n",
    "ax1.set_xlabel('score')\n",
    "ax2.set_ylabel('frequency')\n",
    "# fig.savefig(log_path/'image/calibration_plot.png', bbox_inches='tight', pad_inche=.05)\n",
    "plt.show()"
   ]
  },
  {
   "cell_type": "code",
   "execution_count": 211,
   "metadata": {
    "ExecuteTime": {
     "end_time": "2020-12-12T19:00:32.016502Z",
     "start_time": "2020-12-12T19:00:31.759281Z"
    }
   },
   "outputs": [
    {
     "data": {
      "image/png": "[encoded data removed]",
      "text/plain": [
       "<Figure size 432x288 with 1 Axes>"
      ]
     },
     "metadata": {
      "needs_background": "light"
     },
     "output_type": "display_data"
    }
   ],
   "source": [
    "fpr_all, tpr_all, thresholds_all = roc_curve(y_test, y_pred_prob, drop_intermediate=False)\n",
    "fig, ax = plt.subplots()\n",
    "ax.plot(fpr_all, tpr_all, marker='o', markersize=.01)\n",
    "ax.plot([0,1],[0,1], color='red', linewidth=.5)\n",
    "ax.set_xlabel('FPR: False positive rate')\n",
    "ax.set_ylabel('TPR: True positive rate')\n",
    "ax.grid()\n",
    "# fig.savefig(log_path/'image/roc_plot.png', bbox_inches='tight', pad_inche=.05)"
   ]
  },
  {
   "cell_type": "code",
   "execution_count": 212,
   "metadata": {
    "ExecuteTime": {
     "end_time": "2020-12-12T19:00:33.976789Z",
     "start_time": "2020-12-12T19:00:33.965077Z"
    }
   },
   "outputs": [
    {
     "data": {
      "text/plain": [
       "0.6040700824853995"
      ]
     },
     "execution_count": 212,
     "metadata": {},
     "output_type": "execute_result"
    }
   ],
   "source": [
    "roc_auc_score(y_test, y_pred_prob)"
   ]
  },
  {
   "cell_type": "markdown",
   "metadata": {},
   "source": [
    "## 閾値検索"
   ]
  },
  {
   "cell_type": "code",
   "execution_count": 213,
   "metadata": {
    "ExecuteTime": {
     "end_time": "2020-12-12T19:02:02.854824Z",
     "start_time": "2020-12-12T19:02:02.849946Z"
    }
   },
   "outputs": [],
   "source": [
    "df_test['pred'] = prob2"
   ]
  },
  {
   "cell_type": "code",
   "execution_count": 214,
   "metadata": {
    "ExecuteTime": {
     "end_time": "2020-12-12T19:02:04.524465Z",
     "start_time": "2020-12-12T19:02:03.277604Z"
    }
   },
   "outputs": [
    {
     "name": "stdout",
     "output_type": "stream",
     "text": [
      "対象カラム: pred, 最大回収率: 1.057, 閾値: 0.43, 対象数: 7, 対象率: 0.003\n"
     ]
    },
    {
     "data": {
      "image/png": "[encoded data removed]",
      "text/plain": [
       "<Figure size 432x288 with 2 Axes>"
      ]
     },
     "metadata": {
      "needs_background": "light"
     },
     "output_type": "display_data"
    }
   ],
   "source": [
    "df_ret, max_th = get_return(df_test, 'pred', 1, 0.01, over=True, plot_min=0.8)"
   ]
  },
  {
   "cell_type": "code",
   "execution_count": 215,
   "metadata": {
    "ExecuteTime": {
     "end_time": "2020-12-12T19:02:06.390724Z",
     "start_time": "2020-12-12T19:02:06.375102Z"
    }
   },
   "outputs": [
    {
     "data": {
      "text/html": [
       "<div>\n",
       "<style scoped>\n",
       "    .dataframe tbody tr th:only-of-type {\n",
       "        vertical-align: middle;\n",
       "    }\n",
       "\n",
       "    .dataframe tbody tr th {\n",
       "        vertical-align: top;\n",
       "    }\n",
       "\n",
       "    .dataframe thead th {\n",
       "        text-align: right;\n",
       "    }\n",
       "</style>\n",
       "<table border=\"1\" class=\"dataframe\">\n",
       "  <thead>\n",
       "    <tr style=\"text-align: right;\">\n",
       "      <th></th>\n",
       "      <th>対象数</th>\n",
       "      <th>回収率</th>\n",
       "      <th>対象率</th>\n",
       "    </tr>\n",
       "  </thead>\n",
       "  <tbody>\n",
       "    <tr>\n",
       "      <th>0.00</th>\n",
       "      <td>2617.0</td>\n",
       "      <td>0.635</td>\n",
       "      <td>1.0</td>\n",
       "    </tr>\n",
       "    <tr>\n",
       "      <th>0.01</th>\n",
       "      <td>2617.0</td>\n",
       "      <td>0.635</td>\n",
       "      <td>1.0</td>\n",
       "    </tr>\n",
       "    <tr>\n",
       "      <th>0.02</th>\n",
       "      <td>2617.0</td>\n",
       "      <td>0.635</td>\n",
       "      <td>1.0</td>\n",
       "    </tr>\n",
       "    <tr>\n",
       "      <th>0.03</th>\n",
       "      <td>2617.0</td>\n",
       "      <td>0.635</td>\n",
       "      <td>1.0</td>\n",
       "    </tr>\n",
       "    <tr>\n",
       "      <th>0.04</th>\n",
       "      <td>2617.0</td>\n",
       "      <td>0.635</td>\n",
       "      <td>1.0</td>\n",
       "    </tr>\n",
       "  </tbody>\n",
       "</table>\n",
       "</div>"
      ],
      "text/plain": [
       "         対象数    回収率  対象率\n",
       "0.00  2617.0  0.635  1.0\n",
       "0.01  2617.0  0.635  1.0\n",
       "0.02  2617.0  0.635  1.0\n",
       "0.03  2617.0  0.635  1.0\n",
       "0.04  2617.0  0.635  1.0"
      ]
     },
     "execution_count": 215,
     "metadata": {},
     "output_type": "execute_result"
    }
   ],
   "source": [
    "df_ret.head()"
   ]
  },
  {
   "cell_type": "code",
   "execution_count": 216,
   "metadata": {
    "ExecuteTime": {
     "end_time": "2020-12-12T19:02:06.743206Z",
     "start_time": "2020-12-12T19:02:06.722703Z"
    },
    "scrolled": true
   },
   "outputs": [
    {
     "data": {
      "text/html": [
       "<div>\n",
       "<style scoped>\n",
       "    .dataframe tbody tr th:only-of-type {\n",
       "        vertical-align: middle;\n",
       "    }\n",
       "\n",
       "    .dataframe tbody tr th {\n",
       "        vertical-align: top;\n",
       "    }\n",
       "\n",
       "    .dataframe thead th {\n",
       "        text-align: right;\n",
       "    }\n",
       "</style>\n",
       "<table border=\"1\" class=\"dataframe\">\n",
       "  <thead>\n",
       "    <tr style=\"text-align: right;\">\n",
       "      <th></th>\n",
       "      <th>対象数</th>\n",
       "      <th>回収率</th>\n",
       "      <th>対象率</th>\n",
       "    </tr>\n",
       "  </thead>\n",
       "  <tbody>\n",
       "    <tr>\n",
       "      <th>0.20</th>\n",
       "      <td>1282.0</td>\n",
       "      <td>0.647</td>\n",
       "      <td>0.489874</td>\n",
       "    </tr>\n",
       "    <tr>\n",
       "      <th>0.21</th>\n",
       "      <td>1143.0</td>\n",
       "      <td>0.623</td>\n",
       "      <td>0.436760</td>\n",
       "    </tr>\n",
       "    <tr>\n",
       "      <th>0.22</th>\n",
       "      <td>1010.0</td>\n",
       "      <td>0.616</td>\n",
       "      <td>0.385938</td>\n",
       "    </tr>\n",
       "    <tr>\n",
       "      <th>0.23</th>\n",
       "      <td>874.0</td>\n",
       "      <td>0.618</td>\n",
       "      <td>0.333970</td>\n",
       "    </tr>\n",
       "    <tr>\n",
       "      <th>0.24</th>\n",
       "      <td>759.0</td>\n",
       "      <td>0.638</td>\n",
       "      <td>0.290027</td>\n",
       "    </tr>\n",
       "    <tr>\n",
       "      <th>0.25</th>\n",
       "      <td>648.0</td>\n",
       "      <td>0.639</td>\n",
       "      <td>0.247612</td>\n",
       "    </tr>\n",
       "    <tr>\n",
       "      <th>0.26</th>\n",
       "      <td>543.0</td>\n",
       "      <td>0.636</td>\n",
       "      <td>0.207489</td>\n",
       "    </tr>\n",
       "    <tr>\n",
       "      <th>0.27</th>\n",
       "      <td>459.0</td>\n",
       "      <td>0.661</td>\n",
       "      <td>0.175392</td>\n",
       "    </tr>\n",
       "    <tr>\n",
       "      <th>0.28</th>\n",
       "      <td>388.0</td>\n",
       "      <td>0.666</td>\n",
       "      <td>0.148261</td>\n",
       "    </tr>\n",
       "    <tr>\n",
       "      <th>0.29</th>\n",
       "      <td>313.0</td>\n",
       "      <td>0.666</td>\n",
       "      <td>0.119603</td>\n",
       "    </tr>\n",
       "    <tr>\n",
       "      <th>0.30</th>\n",
       "      <td>269.0</td>\n",
       "      <td>0.669</td>\n",
       "      <td>0.102789</td>\n",
       "    </tr>\n",
       "    <tr>\n",
       "      <th>0.31</th>\n",
       "      <td>216.0</td>\n",
       "      <td>0.688</td>\n",
       "      <td>0.082537</td>\n",
       "    </tr>\n",
       "    <tr>\n",
       "      <th>0.32</th>\n",
       "      <td>175.0</td>\n",
       "      <td>0.710</td>\n",
       "      <td>0.066870</td>\n",
       "    </tr>\n",
       "    <tr>\n",
       "      <th>0.33</th>\n",
       "      <td>133.0</td>\n",
       "      <td>0.702</td>\n",
       "      <td>0.050822</td>\n",
       "    </tr>\n",
       "    <tr>\n",
       "      <th>0.34</th>\n",
       "      <td>107.0</td>\n",
       "      <td>0.654</td>\n",
       "      <td>0.040887</td>\n",
       "    </tr>\n",
       "    <tr>\n",
       "      <th>0.35</th>\n",
       "      <td>88.0</td>\n",
       "      <td>0.640</td>\n",
       "      <td>0.033626</td>\n",
       "    </tr>\n",
       "    <tr>\n",
       "      <th>0.36</th>\n",
       "      <td>67.0</td>\n",
       "      <td>0.575</td>\n",
       "      <td>0.025602</td>\n",
       "    </tr>\n",
       "    <tr>\n",
       "      <th>0.37</th>\n",
       "      <td>51.0</td>\n",
       "      <td>0.663</td>\n",
       "      <td>0.019488</td>\n",
       "    </tr>\n",
       "    <tr>\n",
       "      <th>0.38</th>\n",
       "      <td>35.0</td>\n",
       "      <td>0.571</td>\n",
       "      <td>0.013374</td>\n",
       "    </tr>\n",
       "    <tr>\n",
       "      <th>0.39</th>\n",
       "      <td>27.0</td>\n",
       "      <td>0.626</td>\n",
       "      <td>0.010317</td>\n",
       "    </tr>\n",
       "    <tr>\n",
       "      <th>0.40</th>\n",
       "      <td>19.0</td>\n",
       "      <td>0.674</td>\n",
       "      <td>0.007260</td>\n",
       "    </tr>\n",
       "    <tr>\n",
       "      <th>0.41</th>\n",
       "      <td>14.0</td>\n",
       "      <td>0.614</td>\n",
       "      <td>0.005350</td>\n",
       "    </tr>\n",
       "    <tr>\n",
       "      <th>0.42</th>\n",
       "      <td>10.0</td>\n",
       "      <td>0.860</td>\n",
       "      <td>0.003821</td>\n",
       "    </tr>\n",
       "    <tr>\n",
       "      <th>0.43</th>\n",
       "      <td>7.0</td>\n",
       "      <td>1.057</td>\n",
       "      <td>0.002675</td>\n",
       "    </tr>\n",
       "    <tr>\n",
       "      <th>0.44</th>\n",
       "      <td>5.0</td>\n",
       "      <td>0.920</td>\n",
       "      <td>0.001911</td>\n",
       "    </tr>\n",
       "    <tr>\n",
       "      <th>0.45</th>\n",
       "      <td>2.0</td>\n",
       "      <td>0.800</td>\n",
       "      <td>0.000764</td>\n",
       "    </tr>\n",
       "    <tr>\n",
       "      <th>0.46</th>\n",
       "      <td>1.0</td>\n",
       "      <td>0.000</td>\n",
       "      <td>0.000382</td>\n",
       "    </tr>\n",
       "    <tr>\n",
       "      <th>0.47</th>\n",
       "      <td>1.0</td>\n",
       "      <td>0.000</td>\n",
       "      <td>0.000382</td>\n",
       "    </tr>\n",
       "    <tr>\n",
       "      <th>0.48</th>\n",
       "      <td>1.0</td>\n",
       "      <td>0.000</td>\n",
       "      <td>0.000382</td>\n",
       "    </tr>\n",
       "    <tr>\n",
       "      <th>0.49</th>\n",
       "      <td>1.0</td>\n",
       "      <td>0.000</td>\n",
       "      <td>0.000382</td>\n",
       "    </tr>\n",
       "    <tr>\n",
       "      <th>0.50</th>\n",
       "      <td>1.0</td>\n",
       "      <td>0.000</td>\n",
       "      <td>0.000382</td>\n",
       "    </tr>\n",
       "  </tbody>\n",
       "</table>\n",
       "</div>"
      ],
      "text/plain": [
       "         対象数    回収率       対象率\n",
       "0.20  1282.0  0.647  0.489874\n",
       "0.21  1143.0  0.623  0.436760\n",
       "0.22  1010.0  0.616  0.385938\n",
       "0.23   874.0  0.618  0.333970\n",
       "0.24   759.0  0.638  0.290027\n",
       "0.25   648.0  0.639  0.247612\n",
       "0.26   543.0  0.636  0.207489\n",
       "0.27   459.0  0.661  0.175392\n",
       "0.28   388.0  0.666  0.148261\n",
       "0.29   313.0  0.666  0.119603\n",
       "0.30   269.0  0.669  0.102789\n",
       "0.31   216.0  0.688  0.082537\n",
       "0.32   175.0  0.710  0.066870\n",
       "0.33   133.0  0.702  0.050822\n",
       "0.34   107.0  0.654  0.040887\n",
       "0.35    88.0  0.640  0.033626\n",
       "0.36    67.0  0.575  0.025602\n",
       "0.37    51.0  0.663  0.019488\n",
       "0.38    35.0  0.571  0.013374\n",
       "0.39    27.0  0.626  0.010317\n",
       "0.40    19.0  0.674  0.007260\n",
       "0.41    14.0  0.614  0.005350\n",
       "0.42    10.0  0.860  0.003821\n",
       "0.43     7.0  1.057  0.002675\n",
       "0.44     5.0  0.920  0.001911\n",
       "0.45     2.0  0.800  0.000764\n",
       "0.46     1.0  0.000  0.000382\n",
       "0.47     1.0  0.000  0.000382\n",
       "0.48     1.0  0.000  0.000382\n",
       "0.49     1.0  0.000  0.000382\n",
       "0.50     1.0  0.000  0.000382"
      ]
     },
     "execution_count": 216,
     "metadata": {},
     "output_type": "execute_result"
    }
   ],
   "source": [
    "df_ret.loc[0.2: 0.5]"
   ]
  },
  {
   "cell_type": "code",
   "execution_count": 217,
   "metadata": {
    "ExecuteTime": {
     "end_time": "2020-12-12T19:02:07.359955Z",
     "start_time": "2020-12-12T19:02:07.352126Z"
    }
   },
   "outputs": [],
   "source": [
    "df_test['buy'] = 0\n",
    "df_test.loc[df_test.pred > 0.4, 'buy'] = 1"
   ]
  },
  {
   "cell_type": "code",
   "execution_count": 99,
   "metadata": {
    "ExecuteTime": {
     "end_time": "2020-12-12T18:29:33.627862Z",
     "start_time": "2020-12-12T18:29:33.374012Z"
    }
   },
   "outputs": [
    {
     "data": {
      "text/plain": [
       "buy\n",
       "0    AxesSubplot(0.125,0.125;0.775x0.755)\n",
       "1    AxesSubplot(0.125,0.125;0.775x0.755)\n",
       "Name: EV, dtype: object"
      ]
     },
     "execution_count": 99,
     "metadata": {},
     "output_type": "execute_result"
    },
    {
     "data": {
      "image/png": "[encoded data removed]",
      "text/plain": [
       "<Figure size 432x288 with 1 Axes>"
      ]
     },
     "metadata": {
      "needs_background": "light"
     },
     "output_type": "display_data"
    }
   ],
   "source": [
    "df_test.groupby('buy').EV.hist(bins=50, range=(0, 50), histtype='step')"
   ]
  },
  {
   "cell_type": "code",
   "execution_count": null,
   "metadata": {},
   "outputs": [],
   "source": []
  },
  {
   "cell_type": "code",
   "execution_count": null,
   "metadata": {},
   "outputs": [],
   "source": []
  }
 ],
 "metadata": {
  "kernelspec": {
   "display_name": "Python 3",
   "language": "python",
   "name": "python3"
  },
  "language_info": {
   "codemirror_mode": {
    "name": "ipython",
    "version": 3
   },
   "file_extension": ".py",
   "mimetype": "text/x-python",
   "name": "python",
   "nbconvert_exporter": "python",
   "pygments_lexer": "ipython3",
   "version": "3.8.6"
  },
  "toc": {
   "base_numbering": 1,
   "nav_menu": {},
   "number_sections": true,
   "sideBar": true,
   "skip_h1_title": false,
   "title_cell": "Table of Contents",
   "title_sidebar": "Contents",
   "toc_cell": false,
   "toc_position": {},
   "toc_section_display": true,
   "toc_window_display": true
  }
 },
 "nbformat": 4,
 "nbformat_minor": 2
}
