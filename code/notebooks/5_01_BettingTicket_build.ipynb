{
 "cells": [
  {
   "cell_type": "markdown",
   "metadata": {},
   "source": [
    "# ライブラリ"
   ]
  },
  {
   "cell_type": "code",
   "execution_count": 18,
   "metadata": {
    "ExecuteTime": {
     "end_time": "2020-12-06T10:35:52.126423Z",
     "start_time": "2020-12-06T10:35:52.097441Z"
    }
   },
   "outputs": [],
   "source": [
    "import sys\n",
    "sys.path.append('../')\n",
    "from setting import *"
   ]
  },
  {
   "cell_type": "markdown",
   "metadata": {},
   "source": [
    "# 入出力"
   ]
  },
  {
   "cell_type": "code",
   "execution_count": 332,
   "metadata": {
    "ExecuteTime": {
     "end_time": "2020-12-06T15:01:17.372249Z",
     "start_time": "2020-12-06T15:01:17.364254Z"
    }
   },
   "outputs": [],
   "source": [
    "file_pred = data_path/'tmp/202012061919_all.csv'"
   ]
  },
  {
   "cell_type": "markdown",
   "metadata": {},
   "source": [
    "# 読み込み"
   ]
  },
  {
   "cell_type": "code",
   "execution_count": 329,
   "metadata": {
    "ExecuteTime": {
     "end_time": "2020-12-06T15:00:28.157488Z",
     "start_time": "2020-12-06T15:00:28.076569Z"
    },
    "scrolled": true
   },
   "outputs": [
    {
     "name": "stdout",
     "output_type": "stream",
     "text": [
      "(27125, 2)\n"
     ]
    },
    {
     "data": {
      "text/html": [
       "<div>\n",
       "<style scoped>\n",
       "    .dataframe tbody tr th:only-of-type {\n",
       "        vertical-align: middle;\n",
       "    }\n",
       "\n",
       "    .dataframe tbody tr th {\n",
       "        vertical-align: top;\n",
       "    }\n",
       "\n",
       "    .dataframe thead th {\n",
       "        text-align: right;\n",
       "    }\n",
       "</style>\n",
       "<table border=\"1\" class=\"dataframe\">\n",
       "  <thead>\n",
       "    <tr style=\"text-align: right;\">\n",
       "      <th></th>\n",
       "      <th>condition_int</th>\n",
       "      <th>whether_int</th>\n",
       "    </tr>\n",
       "    <tr>\n",
       "      <th>race_id</th>\n",
       "      <th></th>\n",
       "      <th></th>\n",
       "    </tr>\n",
       "  </thead>\n",
       "  <tbody>\n",
       "    <tr>\n",
       "      <th>201001020110</th>\n",
       "      <td>1</td>\n",
       "      <td>2</td>\n",
       "    </tr>\n",
       "    <tr>\n",
       "      <th>201001020111</th>\n",
       "      <td>1</td>\n",
       "      <td>2</td>\n",
       "    </tr>\n",
       "  </tbody>\n",
       "</table>\n",
       "</div>"
      ],
      "text/plain": [
       "              condition_int  whether_int\n",
       "race_id                                 \n",
       "201001020110              1            2\n",
       "201001020111              1            2"
      ]
     },
     "execution_count": 329,
     "metadata": {},
     "output_type": "execute_result"
    }
   ],
   "source": [
    "df_info = pd.read_csv(\n",
    "    FILE_INFO_INTER,\n",
    "    usecols=['condition_int', 'whether_int', 'race_id']\n",
    ").set_index('race_id')\n",
    "print(df_info.shape)\n",
    "df_info.head(2)"
   ]
  },
  {
   "cell_type": "code",
   "execution_count": 330,
   "metadata": {
    "ExecuteTime": {
     "end_time": "2020-12-06T15:00:48.038212Z",
     "start_time": "2020-12-06T15:00:47.088523Z"
    }
   },
   "outputs": [
    {
     "name": "stdout",
     "output_type": "stream",
     "text": [
      "(387828, 3)\n"
     ]
    },
    {
     "data": {
      "text/html": [
       "<div>\n",
       "<style scoped>\n",
       "    .dataframe tbody tr th:only-of-type {\n",
       "        vertical-align: middle;\n",
       "    }\n",
       "\n",
       "    .dataframe tbody tr th {\n",
       "        vertical-align: top;\n",
       "    }\n",
       "\n",
       "    .dataframe thead th {\n",
       "        text-align: right;\n",
       "    }\n",
       "</style>\n",
       "<table border=\"1\" class=\"dataframe\">\n",
       "  <thead>\n",
       "    <tr style=\"text-align: right;\">\n",
       "      <th></th>\n",
       "      <th>馬名</th>\n",
       "      <th>単勝</th>\n",
       "      <th>race_id</th>\n",
       "    </tr>\n",
       "  </thead>\n",
       "  <tbody>\n",
       "    <tr>\n",
       "      <th>0</th>\n",
       "      <td>マイネルギブソン</td>\n",
       "      <td>6.0</td>\n",
       "      <td>201001020110</td>\n",
       "    </tr>\n",
       "    <tr>\n",
       "      <th>1</th>\n",
       "      <td>クルビット</td>\n",
       "      <td>42.1</td>\n",
       "      <td>201001020110</td>\n",
       "    </tr>\n",
       "  </tbody>\n",
       "</table>\n",
       "</div>"
      ],
      "text/plain": [
       "         馬名    単勝       race_id\n",
       "0  マイネルギブソン   6.0  201001020110\n",
       "1     クルビット  42.1  201001020110"
      ]
     },
     "execution_count": 330,
     "metadata": {},
     "output_type": "execute_result"
    }
   ],
   "source": [
    "df_result = pd.read_csv(FILE_RESULT_INTER, usecols=['race_id', '馬名', '単勝'])\n",
    "print(df_result.shape)\n",
    "df_result.head(2)"
   ]
  },
  {
   "cell_type": "code",
   "execution_count": 333,
   "metadata": {
    "ExecuteTime": {
     "end_time": "2020-12-06T15:01:25.737268Z",
     "start_time": "2020-12-06T15:01:24.423686Z"
    }
   },
   "outputs": [
    {
     "name": "stdout",
     "output_type": "stream",
     "text": [
      "(148567, 5)\n"
     ]
    },
    {
     "data": {
      "text/html": [
       "<div>\n",
       "<style scoped>\n",
       "    .dataframe tbody tr th:only-of-type {\n",
       "        vertical-align: middle;\n",
       "    }\n",
       "\n",
       "    .dataframe tbody tr th {\n",
       "        vertical-align: top;\n",
       "    }\n",
       "\n",
       "    .dataframe thead th {\n",
       "        text-align: right;\n",
       "    }\n",
       "</style>\n",
       "<table border=\"1\" class=\"dataframe\">\n",
       "  <thead>\n",
       "    <tr style=\"text-align: right;\">\n",
       "      <th></th>\n",
       "      <th>arrival</th>\n",
       "      <th>馬名</th>\n",
       "      <th>race_id</th>\n",
       "      <th>pred_prob</th>\n",
       "      <th>単勝</th>\n",
       "    </tr>\n",
       "  </thead>\n",
       "  <tbody>\n",
       "    <tr>\n",
       "      <th>0</th>\n",
       "      <td>9</td>\n",
       "      <td>スリースペシャル</td>\n",
       "      <td>201201010101</td>\n",
       "      <td>0.060123</td>\n",
       "      <td>49.5</td>\n",
       "    </tr>\n",
       "    <tr>\n",
       "      <th>1</th>\n",
       "      <td>1</td>\n",
       "      <td>アウトシャイン</td>\n",
       "      <td>201201010101</td>\n",
       "      <td>0.416512</td>\n",
       "      <td>1.7</td>\n",
       "    </tr>\n",
       "  </tbody>\n",
       "</table>\n",
       "</div>"
      ],
      "text/plain": [
       "   arrival        馬名       race_id  pred_prob    単勝\n",
       "0        9  スリースペシャル  201201010101   0.060123  49.5\n",
       "1        1   アウトシャイン  201201010101   0.416512   1.7"
      ]
     },
     "execution_count": 333,
     "metadata": {},
     "output_type": "execute_result"
    }
   ],
   "source": [
    "df_pred = pd.read_csv(file_pred, engine='python', encoding='cp932')\n",
    "df_pred = df_pred.merge(df_result, how='left', on=['race_id', '馬名'])\n",
    "print(df_pred.shape)\n",
    "df_pred.head(2)"
   ]
  },
  {
   "cell_type": "markdown",
   "metadata": {},
   "source": [
    "# 正解フラグ"
   ]
  },
  {
   "cell_type": "code",
   "execution_count": 127,
   "metadata": {
    "ExecuteTime": {
     "end_time": "2020-12-06T11:50:08.544000Z",
     "start_time": "2020-12-06T11:50:08.453060Z"
    }
   },
   "outputs": [],
   "source": [
    "df_pred['pred_rank'] = df_pred.groupby('race_id').pred_prob.rank(ascending=False, method='min')\n",
    "accuracy_id = df_pred.query('(arrival==1) and (pred_rank==1)').race_id"
   ]
  },
  {
   "cell_type": "code",
   "execution_count": 128,
   "metadata": {
    "ExecuteTime": {
     "end_time": "2020-12-06T11:50:09.356808Z",
     "start_time": "2020-12-06T11:50:09.148928Z"
    },
    "scrolled": false
   },
   "outputs": [
    {
     "data": {
      "text/html": [
       "<style  type=\"text/css\" >\n",
       "#T_30d81aa0_37b9_11eb_a131_6057188a664arow0_col0,#T_30d81aa0_37b9_11eb_a131_6057188a664arow0_col1,#T_30d81aa0_37b9_11eb_a131_6057188a664arow1_col2,#T_30d81aa0_37b9_11eb_a131_6057188a664arow2_col3,#T_30d81aa0_37b9_11eb_a131_6057188a664arow2_col4,#T_30d81aa0_37b9_11eb_a131_6057188a664arow4_col5,#T_30d81aa0_37b9_11eb_a131_6057188a664arow5_col5,#T_30d81aa0_37b9_11eb_a131_6057188a664arow6_col6,#T_30d81aa0_37b9_11eb_a131_6057188a664arow7_col7,#T_30d81aa0_37b9_11eb_a131_6057188a664arow8_col8,#T_30d81aa0_37b9_11eb_a131_6057188a664arow9_col9,#T_30d81aa0_37b9_11eb_a131_6057188a664arow10_col10,#T_30d81aa0_37b9_11eb_a131_6057188a664arow11_col11,#T_30d81aa0_37b9_11eb_a131_6057188a664arow12_col12,#T_30d81aa0_37b9_11eb_a131_6057188a664arow13_col13,#T_30d81aa0_37b9_11eb_a131_6057188a664arow14_col14,#T_30d81aa0_37b9_11eb_a131_6057188a664arow15_col15,#T_30d81aa0_37b9_11eb_a131_6057188a664arow16_col16,#T_30d81aa0_37b9_11eb_a131_6057188a664arow17_col17{\n",
       "            background-color:  #023858;\n",
       "            color:  #f1f1f1;\n",
       "        }#T_30d81aa0_37b9_11eb_a131_6057188a664arow0_col2,#T_30d81aa0_37b9_11eb_a131_6057188a664arow5_col6{\n",
       "            background-color:  #023e62;\n",
       "            color:  #f1f1f1;\n",
       "        }#T_30d81aa0_37b9_11eb_a131_6057188a664arow0_col3{\n",
       "            background-color:  #034b76;\n",
       "            color:  #f1f1f1;\n",
       "        }#T_30d81aa0_37b9_11eb_a131_6057188a664arow0_col4,#T_30d81aa0_37b9_11eb_a131_6057188a664arow2_col6{\n",
       "            background-color:  #0567a2;\n",
       "            color:  #f1f1f1;\n",
       "        }#T_30d81aa0_37b9_11eb_a131_6057188a664arow0_col5,#T_30d81aa0_37b9_11eb_a131_6057188a664arow1_col0,#T_30d81aa0_37b9_11eb_a131_6057188a664arow4_col2{\n",
       "            background-color:  #187cb6;\n",
       "            color:  #000000;\n",
       "        }#T_30d81aa0_37b9_11eb_a131_6057188a664arow0_col6,#T_30d81aa0_37b9_11eb_a131_6057188a664arow7_col12,#T_30d81aa0_37b9_11eb_a131_6057188a664arow12_col9{\n",
       "            background-color:  #62a2cb;\n",
       "            color:  #000000;\n",
       "        }#T_30d81aa0_37b9_11eb_a131_6057188a664arow0_col7,#T_30d81aa0_37b9_11eb_a131_6057188a664arow2_col9,#T_30d81aa0_37b9_11eb_a131_6057188a664arow4_col11,#T_30d81aa0_37b9_11eb_a131_6057188a664arow13_col8{\n",
       "            background-color:  #acc0dd;\n",
       "            color:  #000000;\n",
       "        }#T_30d81aa0_37b9_11eb_a131_6057188a664arow0_col8{\n",
       "            background-color:  #c8cde4;\n",
       "            color:  #000000;\n",
       "        }#T_30d81aa0_37b9_11eb_a131_6057188a664arow0_col9,#T_30d81aa0_37b9_11eb_a131_6057188a664arow10_col2,#T_30d81aa0_37b9_11eb_a131_6057188a664arow12_col4{\n",
       "            background-color:  #d8d7e9;\n",
       "            color:  #000000;\n",
       "        }#T_30d81aa0_37b9_11eb_a131_6057188a664arow0_col10{\n",
       "            background-color:  #ece7f2;\n",
       "            color:  #000000;\n",
       "        }#T_30d81aa0_37b9_11eb_a131_6057188a664arow0_col11{\n",
       "            background-color:  #f5eef6;\n",
       "            color:  #000000;\n",
       "        }#T_30d81aa0_37b9_11eb_a131_6057188a664arow0_col12,#T_30d81aa0_37b9_11eb_a131_6057188a664arow0_col13,#T_30d81aa0_37b9_11eb_a131_6057188a664arow0_col14,#T_30d81aa0_37b9_11eb_a131_6057188a664arow0_col15,#T_30d81aa0_37b9_11eb_a131_6057188a664arow0_col16,#T_30d81aa0_37b9_11eb_a131_6057188a664arow0_col17,#T_30d81aa0_37b9_11eb_a131_6057188a664arow1_col17,#T_30d81aa0_37b9_11eb_a131_6057188a664arow2_col17,#T_30d81aa0_37b9_11eb_a131_6057188a664arow16_col0,#T_30d81aa0_37b9_11eb_a131_6057188a664arow16_col1,#T_30d81aa0_37b9_11eb_a131_6057188a664arow16_col2,#T_30d81aa0_37b9_11eb_a131_6057188a664arow17_col0,#T_30d81aa0_37b9_11eb_a131_6057188a664arow17_col1,#T_30d81aa0_37b9_11eb_a131_6057188a664arow17_col2,#T_30d81aa0_37b9_11eb_a131_6057188a664arow17_col3,#T_30d81aa0_37b9_11eb_a131_6057188a664arow17_col4,#T_30d81aa0_37b9_11eb_a131_6057188a664arow17_col5,#T_30d81aa0_37b9_11eb_a131_6057188a664arow17_col6,#T_30d81aa0_37b9_11eb_a131_6057188a664arow17_col7,#T_30d81aa0_37b9_11eb_a131_6057188a664arow17_col8,#T_30d81aa0_37b9_11eb_a131_6057188a664arow17_col9,#T_30d81aa0_37b9_11eb_a131_6057188a664arow17_col10,#T_30d81aa0_37b9_11eb_a131_6057188a664arow17_col11{\n",
       "            background-color:  #fff7fb;\n",
       "            color:  #000000;\n",
       "        }#T_30d81aa0_37b9_11eb_a131_6057188a664arow1_col1,#T_30d81aa0_37b9_11eb_a131_6057188a664arow3_col5,#T_30d81aa0_37b9_11eb_a131_6057188a664arow7_col6{\n",
       "            background-color:  #034267;\n",
       "            color:  #f1f1f1;\n",
       "        }#T_30d81aa0_37b9_11eb_a131_6057188a664arow1_col3,#T_30d81aa0_37b9_11eb_a131_6057188a664arow3_col4{\n",
       "            background-color:  #023f64;\n",
       "            color:  #f1f1f1;\n",
       "        }#T_30d81aa0_37b9_11eb_a131_6057188a664arow1_col4,#T_30d81aa0_37b9_11eb_a131_6057188a664arow10_col11{\n",
       "            background-color:  #03446a;\n",
       "            color:  #f1f1f1;\n",
       "        }#T_30d81aa0_37b9_11eb_a131_6057188a664arow1_col5{\n",
       "            background-color:  #0567a1;\n",
       "            color:  #f1f1f1;\n",
       "        }#T_30d81aa0_37b9_11eb_a131_6057188a664arow1_col6,#T_30d81aa0_37b9_11eb_a131_6057188a664arow7_col3{\n",
       "            background-color:  #348ebf;\n",
       "            color:  #000000;\n",
       "        }#T_30d81aa0_37b9_11eb_a131_6057188a664arow1_col7{\n",
       "            background-color:  #7dacd1;\n",
       "            color:  #000000;\n",
       "        }#T_30d81aa0_37b9_11eb_a131_6057188a664arow1_col8{\n",
       "            background-color:  #a8bedc;\n",
       "            color:  #000000;\n",
       "        }#T_30d81aa0_37b9_11eb_a131_6057188a664arow1_col9,#T_30d81aa0_37b9_11eb_a131_6057188a664arow3_col11,#T_30d81aa0_37b9_11eb_a131_6057188a664arow6_col14{\n",
       "            background-color:  #c5cce3;\n",
       "            color:  #000000;\n",
       "        }#T_30d81aa0_37b9_11eb_a131_6057188a664arow1_col10{\n",
       "            background-color:  #e6e2ef;\n",
       "            color:  #000000;\n",
       "        }#T_30d81aa0_37b9_11eb_a131_6057188a664arow1_col11,#T_30d81aa0_37b9_11eb_a131_6057188a664arow3_col14,#T_30d81aa0_37b9_11eb_a131_6057188a664arow11_col1,#T_30d81aa0_37b9_11eb_a131_6057188a664arow17_col13{\n",
       "            background-color:  #eee9f3;\n",
       "            color:  #000000;\n",
       "        }#T_30d81aa0_37b9_11eb_a131_6057188a664arow1_col12,#T_30d81aa0_37b9_11eb_a131_6057188a664arow16_col10{\n",
       "            background-color:  #fbf4f9;\n",
       "            color:  #000000;\n",
       "        }#T_30d81aa0_37b9_11eb_a131_6057188a664arow1_col13,#T_30d81aa0_37b9_11eb_a131_6057188a664arow11_col0,#T_30d81aa0_37b9_11eb_a131_6057188a664arow16_col12{\n",
       "            background-color:  #f7f0f7;\n",
       "            color:  #000000;\n",
       "        }#T_30d81aa0_37b9_11eb_a131_6057188a664arow1_col14,#T_30d81aa0_37b9_11eb_a131_6057188a664arow15_col2,#T_30d81aa0_37b9_11eb_a131_6057188a664arow16_col6{\n",
       "            background-color:  #f8f1f8;\n",
       "            color:  #000000;\n",
       "        }#T_30d81aa0_37b9_11eb_a131_6057188a664arow1_col15,#T_30d81aa0_37b9_11eb_a131_6057188a664arow14_col0,#T_30d81aa0_37b9_11eb_a131_6057188a664arow16_col5,#T_30d81aa0_37b9_11eb_a131_6057188a664arow17_col12{\n",
       "            background-color:  #fdf5fa;\n",
       "            color:  #000000;\n",
       "        }#T_30d81aa0_37b9_11eb_a131_6057188a664arow1_col16,#T_30d81aa0_37b9_11eb_a131_6057188a664arow13_col0{\n",
       "            background-color:  #fbf3f9;\n",
       "            color:  #000000;\n",
       "        }#T_30d81aa0_37b9_11eb_a131_6057188a664arow2_col0,#T_30d81aa0_37b9_11eb_a131_6057188a664arow6_col2,#T_30d81aa0_37b9_11eb_a131_6057188a664arow8_col14{\n",
       "            background-color:  #67a4cc;\n",
       "            color:  #000000;\n",
       "        }#T_30d81aa0_37b9_11eb_a131_6057188a664arow2_col1{\n",
       "            background-color:  #04649d;\n",
       "            color:  #f1f1f1;\n",
       "        }#T_30d81aa0_37b9_11eb_a131_6057188a664arow2_col2{\n",
       "            background-color:  #03456c;\n",
       "            color:  #f1f1f1;\n",
       "        }#T_30d81aa0_37b9_11eb_a131_6057188a664arow2_col5,#T_30d81aa0_37b9_11eb_a131_6057188a664arow6_col5,#T_30d81aa0_37b9_11eb_a131_6057188a664arow8_col9{\n",
       "            background-color:  #045b8e;\n",
       "            color:  #f1f1f1;\n",
       "        }#T_30d81aa0_37b9_11eb_a131_6057188a664arow2_col7,#T_30d81aa0_37b9_11eb_a131_6057188a664arow12_col15{\n",
       "            background-color:  #4e9ac6;\n",
       "            color:  #000000;\n",
       "        }#T_30d81aa0_37b9_11eb_a131_6057188a664arow2_col8{\n",
       "            background-color:  #99b8d8;\n",
       "            color:  #000000;\n",
       "        }#T_30d81aa0_37b9_11eb_a131_6057188a664arow2_col10,#T_30d81aa0_37b9_11eb_a131_6057188a664arow9_col2,#T_30d81aa0_37b9_11eb_a131_6057188a664arow16_col14,#T_30d81aa0_37b9_11eb_a131_6057188a664arow16_col15{\n",
       "            background-color:  #c0c9e2;\n",
       "            color:  #000000;\n",
       "        }#T_30d81aa0_37b9_11eb_a131_6057188a664arow2_col11,#T_30d81aa0_37b9_11eb_a131_6057188a664arow3_col12{\n",
       "            background-color:  #d9d8ea;\n",
       "            color:  #000000;\n",
       "        }#T_30d81aa0_37b9_11eb_a131_6057188a664arow2_col12,#T_30d81aa0_37b9_11eb_a131_6057188a664arow3_col17,#T_30d81aa0_37b9_11eb_a131_6057188a664arow4_col17{\n",
       "            background-color:  #f1ebf4;\n",
       "            color:  #000000;\n",
       "        }#T_30d81aa0_37b9_11eb_a131_6057188a664arow2_col13,#T_30d81aa0_37b9_11eb_a131_6057188a664arow3_col15,#T_30d81aa0_37b9_11eb_a131_6057188a664arow9_col0,#T_30d81aa0_37b9_11eb_a131_6057188a664arow15_col4{\n",
       "            background-color:  #f0eaf4;\n",
       "            color:  #000000;\n",
       "        }#T_30d81aa0_37b9_11eb_a131_6057188a664arow2_col14,#T_30d81aa0_37b9_11eb_a131_6057188a664arow14_col2,#T_30d81aa0_37b9_11eb_a131_6057188a664arow16_col9{\n",
       "            background-color:  #f6eff7;\n",
       "            color:  #000000;\n",
       "        }#T_30d81aa0_37b9_11eb_a131_6057188a664arow2_col15,#T_30d81aa0_37b9_11eb_a131_6057188a664arow15_col1{\n",
       "            background-color:  #faf3f9;\n",
       "            color:  #000000;\n",
       "        }#T_30d81aa0_37b9_11eb_a131_6057188a664arow2_col16,#T_30d81aa0_37b9_11eb_a131_6057188a664arow12_col0,#T_30d81aa0_37b9_11eb_a131_6057188a664arow14_col1,#T_30d81aa0_37b9_11eb_a131_6057188a664arow16_col8{\n",
       "            background-color:  #f9f2f8;\n",
       "            color:  #000000;\n",
       "        }#T_30d81aa0_37b9_11eb_a131_6057188a664arow3_col0,#T_30d81aa0_37b9_11eb_a131_6057188a664arow9_col15{\n",
       "            background-color:  #a4bcda;\n",
       "            color:  #000000;\n",
       "        }#T_30d81aa0_37b9_11eb_a131_6057188a664arow3_col1,#T_30d81aa0_37b9_11eb_a131_6057188a664arow5_col9,#T_30d81aa0_37b9_11eb_a131_6057188a664arow13_col15{\n",
       "            background-color:  #308cbe;\n",
       "            color:  #000000;\n",
       "        }#T_30d81aa0_37b9_11eb_a131_6057188a664arow3_col2,#T_30d81aa0_37b9_11eb_a131_6057188a664arow6_col4,#T_30d81aa0_37b9_11eb_a131_6057188a664arow14_col16{\n",
       "            background-color:  #045f95;\n",
       "            color:  #f1f1f1;\n",
       "        }#T_30d81aa0_37b9_11eb_a131_6057188a664arow3_col3,#T_30d81aa0_37b9_11eb_a131_6057188a664arow4_col4{\n",
       "            background-color:  #034165;\n",
       "            color:  #f1f1f1;\n",
       "        }#T_30d81aa0_37b9_11eb_a131_6057188a664arow3_col6{\n",
       "            background-color:  #046097;\n",
       "            color:  #f1f1f1;\n",
       "        }#T_30d81aa0_37b9_11eb_a131_6057188a664arow3_col7{\n",
       "            background-color:  #2685bb;\n",
       "            color:  #000000;\n",
       "        }#T_30d81aa0_37b9_11eb_a131_6057188a664arow3_col8{\n",
       "            background-color:  #509ac6;\n",
       "            color:  #000000;\n",
       "        }#T_30d81aa0_37b9_11eb_a131_6057188a664arow3_col9{\n",
       "            background-color:  #7bacd1;\n",
       "            color:  #000000;\n",
       "        }#T_30d81aa0_37b9_11eb_a131_6057188a664arow3_col10{\n",
       "            background-color:  #9ab8d8;\n",
       "            color:  #000000;\n",
       "        }#T_30d81aa0_37b9_11eb_a131_6057188a664arow3_col13,#T_30d81aa0_37b9_11eb_a131_6057188a664arow14_col5{\n",
       "            background-color:  #e5e1ef;\n",
       "            color:  #000000;\n",
       "        }#T_30d81aa0_37b9_11eb_a131_6057188a664arow3_col16{\n",
       "            background-color:  #ede8f3;\n",
       "            color:  #000000;\n",
       "        }#T_30d81aa0_37b9_11eb_a131_6057188a664arow4_col0,#T_30d81aa0_37b9_11eb_a131_6057188a664arow11_col3{\n",
       "            background-color:  #c1cae2;\n",
       "            color:  #000000;\n",
       "        }#T_30d81aa0_37b9_11eb_a131_6057188a664arow4_col1{\n",
       "            background-color:  #589ec8;\n",
       "            color:  #000000;\n",
       "        }#T_30d81aa0_37b9_11eb_a131_6057188a664arow4_col3{\n",
       "            background-color:  #034f7d;\n",
       "            color:  #f1f1f1;\n",
       "        }#T_30d81aa0_37b9_11eb_a131_6057188a664arow4_col6{\n",
       "            background-color:  #034a74;\n",
       "            color:  #f1f1f1;\n",
       "        }#T_30d81aa0_37b9_11eb_a131_6057188a664arow4_col7,#T_30d81aa0_37b9_11eb_a131_6057188a664arow14_col13{\n",
       "            background-color:  #0569a4;\n",
       "            color:  #f1f1f1;\n",
       "        }#T_30d81aa0_37b9_11eb_a131_6057188a664arow4_col8{\n",
       "            background-color:  #197db7;\n",
       "            color:  #000000;\n",
       "        }#T_30d81aa0_37b9_11eb_a131_6057188a664arow4_col9,#T_30d81aa0_37b9_11eb_a131_6057188a664arow13_col17{\n",
       "            background-color:  #75a9cf;\n",
       "            color:  #000000;\n",
       "        }#T_30d81aa0_37b9_11eb_a131_6057188a664arow4_col10,#T_30d81aa0_37b9_11eb_a131_6057188a664arow7_col2,#T_30d81aa0_37b9_11eb_a131_6057188a664arow14_col11{\n",
       "            background-color:  #7eadd1;\n",
       "            color:  #000000;\n",
       "        }#T_30d81aa0_37b9_11eb_a131_6057188a664arow4_col12,#T_30d81aa0_37b9_11eb_a131_6057188a664arow8_col1{\n",
       "            background-color:  #d2d3e7;\n",
       "            color:  #000000;\n",
       "        }#T_30d81aa0_37b9_11eb_a131_6057188a664arow4_col13,#T_30d81aa0_37b9_11eb_a131_6057188a664arow5_col0,#T_30d81aa0_37b9_11eb_a131_6057188a664arow14_col6,#T_30d81aa0_37b9_11eb_a131_6057188a664arow14_col7{\n",
       "            background-color:  #d2d2e7;\n",
       "            color:  #000000;\n",
       "        }#T_30d81aa0_37b9_11eb_a131_6057188a664arow4_col14,#T_30d81aa0_37b9_11eb_a131_6057188a664arow6_col15,#T_30d81aa0_37b9_11eb_a131_6057188a664arow9_col1,#T_30d81aa0_37b9_11eb_a131_6057188a664arow9_col17,#T_30d81aa0_37b9_11eb_a131_6057188a664arow13_col4{\n",
       "            background-color:  #dad9ea;\n",
       "            color:  #000000;\n",
       "        }#T_30d81aa0_37b9_11eb_a131_6057188a664arow4_col15,#T_30d81aa0_37b9_11eb_a131_6057188a664arow15_col5,#T_30d81aa0_37b9_11eb_a131_6057188a664arow15_col6{\n",
       "            background-color:  #e8e4f0;\n",
       "            color:  #000000;\n",
       "        }#T_30d81aa0_37b9_11eb_a131_6057188a664arow4_col16,#T_30d81aa0_37b9_11eb_a131_6057188a664arow5_col17{\n",
       "            background-color:  #ede7f2;\n",
       "            color:  #000000;\n",
       "        }#T_30d81aa0_37b9_11eb_a131_6057188a664arow5_col1,#T_30d81aa0_37b9_11eb_a131_6057188a664arow12_col7,#T_30d81aa0_37b9_11eb_a131_6057188a664arow15_col12{\n",
       "            background-color:  #91b5d6;\n",
       "            color:  #000000;\n",
       "        }#T_30d81aa0_37b9_11eb_a131_6057188a664arow5_col2,#T_30d81aa0_37b9_11eb_a131_6057188a664arow14_col17{\n",
       "            background-color:  #2d8abd;\n",
       "            color:  #000000;\n",
       "        }#T_30d81aa0_37b9_11eb_a131_6057188a664arow5_col3,#T_30d81aa0_37b9_11eb_a131_6057188a664arow11_col13{\n",
       "            background-color:  #056ba7;\n",
       "            color:  #f1f1f1;\n",
       "        }#T_30d81aa0_37b9_11eb_a131_6057188a664arow5_col4{\n",
       "            background-color:  #02395a;\n",
       "            color:  #f1f1f1;\n",
       "        }#T_30d81aa0_37b9_11eb_a131_6057188a664arow5_col7{\n",
       "            background-color:  #045b8f;\n",
       "            color:  #f1f1f1;\n",
       "        }#T_30d81aa0_37b9_11eb_a131_6057188a664arow5_col8{\n",
       "            background-color:  #167bb6;\n",
       "            color:  #000000;\n",
       "        }#T_30d81aa0_37b9_11eb_a131_6057188a664arow5_col10,#T_30d81aa0_37b9_11eb_a131_6057188a664arow10_col14{\n",
       "            background-color:  #4697c4;\n",
       "            color:  #000000;\n",
       "        }#T_30d81aa0_37b9_11eb_a131_6057188a664arow5_col11{\n",
       "            background-color:  #97b7d7;\n",
       "            color:  #000000;\n",
       "        }#T_30d81aa0_37b9_11eb_a131_6057188a664arow5_col12,#T_30d81aa0_37b9_11eb_a131_6057188a664arow13_col7{\n",
       "            background-color:  #b5c4df;\n",
       "            color:  #000000;\n",
       "        }#T_30d81aa0_37b9_11eb_a131_6057188a664arow5_col13,#T_30d81aa0_37b9_11eb_a131_6057188a664arow8_col15{\n",
       "            background-color:  #bcc7e1;\n",
       "            color:  #000000;\n",
       "        }#T_30d81aa0_37b9_11eb_a131_6057188a664arow5_col14,#T_30d81aa0_37b9_11eb_a131_6057188a664arow15_col10{\n",
       "            background-color:  #d0d1e6;\n",
       "            color:  #000000;\n",
       "        }#T_30d81aa0_37b9_11eb_a131_6057188a664arow5_col15,#T_30d81aa0_37b9_11eb_a131_6057188a664arow10_col1{\n",
       "            background-color:  #e9e5f1;\n",
       "            color:  #000000;\n",
       "        }#T_30d81aa0_37b9_11eb_a131_6057188a664arow5_col16,#T_30d81aa0_37b9_11eb_a131_6057188a664arow6_col17,#T_30d81aa0_37b9_11eb_a131_6057188a664arow8_col0,#T_30d81aa0_37b9_11eb_a131_6057188a664arow14_col4{\n",
       "            background-color:  #ebe6f2;\n",
       "            color:  #000000;\n",
       "        }#T_30d81aa0_37b9_11eb_a131_6057188a664arow6_col0{\n",
       "            background-color:  #dddbec;\n",
       "            color:  #000000;\n",
       "        }#T_30d81aa0_37b9_11eb_a131_6057188a664arow6_col1,#T_30d81aa0_37b9_11eb_a131_6057188a664arow12_col6{\n",
       "            background-color:  #a5bddb;\n",
       "            color:  #000000;\n",
       "        }#T_30d81aa0_37b9_11eb_a131_6057188a664arow6_col3{\n",
       "            background-color:  #0a73b2;\n",
       "            color:  #f1f1f1;\n",
       "        }#T_30d81aa0_37b9_11eb_a131_6057188a664arow6_col7{\n",
       "            background-color:  #023b5d;\n",
       "            color:  #f1f1f1;\n",
       "        }#T_30d81aa0_37b9_11eb_a131_6057188a664arow6_col8,#T_30d81aa0_37b9_11eb_a131_6057188a664arow7_col10{\n",
       "            background-color:  #04629a;\n",
       "            color:  #f1f1f1;\n",
       "        }#T_30d81aa0_37b9_11eb_a131_6057188a664arow6_col9{\n",
       "            background-color:  #0872b1;\n",
       "            color:  #f1f1f1;\n",
       "        }#T_30d81aa0_37b9_11eb_a131_6057188a664arow6_col10{\n",
       "            background-color:  #2484ba;\n",
       "            color:  #000000;\n",
       "        }#T_30d81aa0_37b9_11eb_a131_6057188a664arow6_col11,#T_30d81aa0_37b9_11eb_a131_6057188a664arow10_col5{\n",
       "            background-color:  #6da6cd;\n",
       "            color:  #000000;\n",
       "        }#T_30d81aa0_37b9_11eb_a131_6057188a664arow6_col12{\n",
       "            background-color:  #8cb3d5;\n",
       "            color:  #000000;\n",
       "        }#T_30d81aa0_37b9_11eb_a131_6057188a664arow6_col13,#T_30d81aa0_37b9_11eb_a131_6057188a664arow15_col11{\n",
       "            background-color:  #afc1dd;\n",
       "            color:  #000000;\n",
       "        }#T_30d81aa0_37b9_11eb_a131_6057188a664arow6_col16{\n",
       "            background-color:  #dcdaeb;\n",
       "            color:  #000000;\n",
       "        }#T_30d81aa0_37b9_11eb_a131_6057188a664arow7_col0,#T_30d81aa0_37b9_11eb_a131_6057188a664arow12_col2{\n",
       "            background-color:  #e7e3f0;\n",
       "            color:  #000000;\n",
       "        }#T_30d81aa0_37b9_11eb_a131_6057188a664arow7_col1,#T_30d81aa0_37b9_11eb_a131_6057188a664arow13_col6{\n",
       "            background-color:  #bfc9e1;\n",
       "            color:  #000000;\n",
       "        }#T_30d81aa0_37b9_11eb_a131_6057188a664arow7_col4,#T_30d81aa0_37b9_11eb_a131_6057188a664arow9_col7{\n",
       "            background-color:  #0771b1;\n",
       "            color:  #f1f1f1;\n",
       "        }#T_30d81aa0_37b9_11eb_a131_6057188a664arow7_col5{\n",
       "            background-color:  #045e93;\n",
       "            color:  #f1f1f1;\n",
       "        }#T_30d81aa0_37b9_11eb_a131_6057188a664arow7_col8,#T_30d81aa0_37b9_11eb_a131_6057188a664arow11_col10{\n",
       "            background-color:  #045788;\n",
       "            color:  #f1f1f1;\n",
       "        }#T_30d81aa0_37b9_11eb_a131_6057188a664arow7_col9,#T_30d81aa0_37b9_11eb_a131_6057188a664arow16_col17{\n",
       "            background-color:  #056ba9;\n",
       "            color:  #f1f1f1;\n",
       "        }#T_30d81aa0_37b9_11eb_a131_6057188a664arow7_col11{\n",
       "            background-color:  #4c99c5;\n",
       "            color:  #000000;\n",
       "        }#T_30d81aa0_37b9_11eb_a131_6057188a664arow7_col13{\n",
       "            background-color:  #a1bbda;\n",
       "            color:  #000000;\n",
       "        }#T_30d81aa0_37b9_11eb_a131_6057188a664arow7_col14{\n",
       "            background-color:  #adc1dd;\n",
       "            color:  #000000;\n",
       "        }#T_30d81aa0_37b9_11eb_a131_6057188a664arow7_col15,#T_30d81aa0_37b9_11eb_a131_6057188a664arow13_col5{\n",
       "            background-color:  #d4d4e8;\n",
       "            color:  #000000;\n",
       "        }#T_30d81aa0_37b9_11eb_a131_6057188a664arow7_col16{\n",
       "            background-color:  #d1d2e6;\n",
       "            color:  #000000;\n",
       "        }#T_30d81aa0_37b9_11eb_a131_6057188a664arow7_col17{\n",
       "            background-color:  #e0dded;\n",
       "            color:  #000000;\n",
       "        }#T_30d81aa0_37b9_11eb_a131_6057188a664arow8_col2,#T_30d81aa0_37b9_11eb_a131_6057188a664arow10_col15{\n",
       "            background-color:  #a2bcda;\n",
       "            color:  #000000;\n",
       "        }#T_30d81aa0_37b9_11eb_a131_6057188a664arow8_col3,#T_30d81aa0_37b9_11eb_a131_6057188a664arow9_col14,#T_30d81aa0_37b9_11eb_a131_6057188a664arow10_col16{\n",
       "            background-color:  #69a5cc;\n",
       "            color:  #000000;\n",
       "        }#T_30d81aa0_37b9_11eb_a131_6057188a664arow8_col4,#T_30d81aa0_37b9_11eb_a131_6057188a664arow15_col13{\n",
       "            background-color:  #358fc0;\n",
       "            color:  #000000;\n",
       "        }#T_30d81aa0_37b9_11eb_a131_6057188a664arow8_col5,#T_30d81aa0_37b9_11eb_a131_6057188a664arow17_col16{\n",
       "            background-color:  #056fae;\n",
       "            color:  #f1f1f1;\n",
       "        }#T_30d81aa0_37b9_11eb_a131_6057188a664arow8_col6{\n",
       "            background-color:  #045d92;\n",
       "            color:  #f1f1f1;\n",
       "        }#T_30d81aa0_37b9_11eb_a131_6057188a664arow8_col7{\n",
       "            background-color:  #04598c;\n",
       "            color:  #f1f1f1;\n",
       "        }#T_30d81aa0_37b9_11eb_a131_6057188a664arow8_col10,#T_30d81aa0_37b9_11eb_a131_6057188a664arow12_col14{\n",
       "            background-color:  #0566a0;\n",
       "            color:  #f1f1f1;\n",
       "        }#T_30d81aa0_37b9_11eb_a131_6057188a664arow8_col11,#T_30d81aa0_37b9_11eb_a131_6057188a664arow14_col12{\n",
       "            background-color:  #2f8bbe;\n",
       "            color:  #000000;\n",
       "        }#T_30d81aa0_37b9_11eb_a131_6057188a664arow8_col12{\n",
       "            background-color:  #5ea0ca;\n",
       "            color:  #000000;\n",
       "        }#T_30d81aa0_37b9_11eb_a131_6057188a664arow8_col13,#T_30d81aa0_37b9_11eb_a131_6057188a664arow9_col4,#T_30d81aa0_37b9_11eb_a131_6057188a664arow11_col7{\n",
       "            background-color:  #6ba5cd;\n",
       "            color:  #000000;\n",
       "        }#T_30d81aa0_37b9_11eb_a131_6057188a664arow8_col16{\n",
       "            background-color:  #b9c6e0;\n",
       "            color:  #000000;\n",
       "        }#T_30d81aa0_37b9_11eb_a131_6057188a664arow8_col17{\n",
       "            background-color:  #d7d6e9;\n",
       "            color:  #000000;\n",
       "        }#T_30d81aa0_37b9_11eb_a131_6057188a664arow9_col3{\n",
       "            background-color:  #8bb2d4;\n",
       "            color:  #000000;\n",
       "        }#T_30d81aa0_37b9_11eb_a131_6057188a664arow9_col5{\n",
       "            background-color:  #3f93c2;\n",
       "            color:  #000000;\n",
       "        }#T_30d81aa0_37b9_11eb_a131_6057188a664arow9_col6{\n",
       "            background-color:  #1278b4;\n",
       "            color:  #f1f1f1;\n",
       "        }#T_30d81aa0_37b9_11eb_a131_6057188a664arow9_col8{\n",
       "            background-color:  #046198;\n",
       "            color:  #f1f1f1;\n",
       "        }#T_30d81aa0_37b9_11eb_a131_6057188a664arow9_col10{\n",
       "            background-color:  #03466e;\n",
       "            color:  #f1f1f1;\n",
       "        }#T_30d81aa0_37b9_11eb_a131_6057188a664arow9_col11,#T_30d81aa0_37b9_11eb_a131_6057188a664arow10_col12{\n",
       "            background-color:  #05659f;\n",
       "            color:  #f1f1f1;\n",
       "        }#T_30d81aa0_37b9_11eb_a131_6057188a664arow9_col12,#T_30d81aa0_37b9_11eb_a131_6057188a664arow12_col10{\n",
       "            background-color:  #2182b9;\n",
       "            color:  #000000;\n",
       "        }#T_30d81aa0_37b9_11eb_a131_6057188a664arow9_col13{\n",
       "            background-color:  #5a9ec9;\n",
       "            color:  #000000;\n",
       "        }#T_30d81aa0_37b9_11eb_a131_6057188a664arow9_col16{\n",
       "            background-color:  #a9bfdc;\n",
       "            color:  #000000;\n",
       "        }#T_30d81aa0_37b9_11eb_a131_6057188a664arow10_col0{\n",
       "            background-color:  #f3edf5;\n",
       "            color:  #000000;\n",
       "        }#T_30d81aa0_37b9_11eb_a131_6057188a664arow10_col3{\n",
       "            background-color:  #b4c4df;\n",
       "            color:  #000000;\n",
       "        }#T_30d81aa0_37b9_11eb_a131_6057188a664arow10_col4,#T_30d81aa0_37b9_11eb_a131_6057188a664arow13_col9{\n",
       "            background-color:  #93b5d6;\n",
       "            color:  #000000;\n",
       "        }#T_30d81aa0_37b9_11eb_a131_6057188a664arow10_col6{\n",
       "            background-color:  #3b92c1;\n",
       "            color:  #000000;\n",
       "        }#T_30d81aa0_37b9_11eb_a131_6057188a664arow10_col7{\n",
       "            background-color:  #4897c4;\n",
       "            color:  #000000;\n",
       "        }#T_30d81aa0_37b9_11eb_a131_6057188a664arow10_col8,#T_30d81aa0_37b9_11eb_a131_6057188a664arow12_col11{\n",
       "            background-color:  #0570b0;\n",
       "            color:  #f1f1f1;\n",
       "        }#T_30d81aa0_37b9_11eb_a131_6057188a664arow10_col9{\n",
       "            background-color:  #045a8d;\n",
       "            color:  #f1f1f1;\n",
       "        }#T_30d81aa0_37b9_11eb_a131_6057188a664arow10_col13{\n",
       "            background-color:  #3d93c2;\n",
       "            color:  #000000;\n",
       "        }#T_30d81aa0_37b9_11eb_a131_6057188a664arow10_col17{\n",
       "            background-color:  #cacee5;\n",
       "            color:  #000000;\n",
       "        }#T_30d81aa0_37b9_11eb_a131_6057188a664arow11_col2,#T_30d81aa0_37b9_11eb_a131_6057188a664arow13_col3,#T_30d81aa0_37b9_11eb_a131_6057188a664arow15_col7,#T_30d81aa0_37b9_11eb_a131_6057188a664arow15_col8{\n",
       "            background-color:  #e4e1ef;\n",
       "            color:  #000000;\n",
       "        }#T_30d81aa0_37b9_11eb_a131_6057188a664arow11_col4{\n",
       "            background-color:  #b3c3de;\n",
       "            color:  #000000;\n",
       "        }#T_30d81aa0_37b9_11eb_a131_6057188a664arow11_col5,#T_30d81aa0_37b9_11eb_a131_6057188a664arow14_col10{\n",
       "            background-color:  #9fbad9;\n",
       "            color:  #000000;\n",
       "        }#T_30d81aa0_37b9_11eb_a131_6057188a664arow11_col6{\n",
       "            background-color:  #80aed2;\n",
       "            color:  #000000;\n",
       "        }#T_30d81aa0_37b9_11eb_a131_6057188a664arow11_col8{\n",
       "            background-color:  #529bc7;\n",
       "            color:  #000000;\n",
       "        }#T_30d81aa0_37b9_11eb_a131_6057188a664arow11_col9{\n",
       "            background-color:  #2a88bc;\n",
       "            color:  #000000;\n",
       "        }#T_30d81aa0_37b9_11eb_a131_6057188a664arow11_col12{\n",
       "            background-color:  #034e7b;\n",
       "            color:  #f1f1f1;\n",
       "        }#T_30d81aa0_37b9_11eb_a131_6057188a664arow11_col14{\n",
       "            background-color:  #1c7fb8;\n",
       "            color:  #000000;\n",
       "        }#T_30d81aa0_37b9_11eb_a131_6057188a664arow11_col15,#T_30d81aa0_37b9_11eb_a131_6057188a664arow12_col8{\n",
       "            background-color:  #76aad0;\n",
       "            color:  #000000;\n",
       "        }#T_30d81aa0_37b9_11eb_a131_6057188a664arow11_col16{\n",
       "            background-color:  #549cc7;\n",
       "            color:  #000000;\n",
       "        }#T_30d81aa0_37b9_11eb_a131_6057188a664arow11_col17{\n",
       "            background-color:  #bdc8e1;\n",
       "            color:  #000000;\n",
       "        }#T_30d81aa0_37b9_11eb_a131_6057188a664arow12_col1,#T_30d81aa0_37b9_11eb_a131_6057188a664arow13_col1{\n",
       "            background-color:  #f4edf6;\n",
       "            color:  #000000;\n",
       "        }#T_30d81aa0_37b9_11eb_a131_6057188a664arow12_col3{\n",
       "            background-color:  #dfddec;\n",
       "            color:  #000000;\n",
       "        }#T_30d81aa0_37b9_11eb_a131_6057188a664arow12_col5{\n",
       "            background-color:  #b8c6e0;\n",
       "            color:  #000000;\n",
       "        }#T_30d81aa0_37b9_11eb_a131_6057188a664arow12_col13{\n",
       "            background-color:  #034d79;\n",
       "            color:  #f1f1f1;\n",
       "        }#T_30d81aa0_37b9_11eb_a131_6057188a664arow12_col16,#T_30d81aa0_37b9_11eb_a131_6057188a664arow13_col10{\n",
       "            background-color:  #569dc8;\n",
       "            color:  #000000;\n",
       "        }#T_30d81aa0_37b9_11eb_a131_6057188a664arow12_col17{\n",
       "            background-color:  #94b6d7;\n",
       "            color:  #000000;\n",
       "        }#T_30d81aa0_37b9_11eb_a131_6057188a664arow13_col2{\n",
       "            background-color:  #f1ebf5;\n",
       "            color:  #000000;\n",
       "        }#T_30d81aa0_37b9_11eb_a131_6057188a664arow13_col11{\n",
       "            background-color:  #2c89bd;\n",
       "            color:  #000000;\n",
       "        }#T_30d81aa0_37b9_11eb_a131_6057188a664arow13_col12,#T_30d81aa0_37b9_11eb_a131_6057188a664arow15_col16{\n",
       "            background-color:  #045c90;\n",
       "            color:  #f1f1f1;\n",
       "        }#T_30d81aa0_37b9_11eb_a131_6057188a664arow13_col14{\n",
       "            background-color:  #0569a5;\n",
       "            color:  #f1f1f1;\n",
       "        }#T_30d81aa0_37b9_11eb_a131_6057188a664arow13_col16{\n",
       "            background-color:  #4295c3;\n",
       "            color:  #000000;\n",
       "        }#T_30d81aa0_37b9_11eb_a131_6057188a664arow14_col3{\n",
       "            background-color:  #efe9f3;\n",
       "            color:  #000000;\n",
       "        }#T_30d81aa0_37b9_11eb_a131_6057188a664arow14_col8{\n",
       "            background-color:  #cccfe5;\n",
       "            color:  #000000;\n",
       "        }#T_30d81aa0_37b9_11eb_a131_6057188a664arow14_col9{\n",
       "            background-color:  #bbc7e0;\n",
       "            color:  #000000;\n",
       "        }#T_30d81aa0_37b9_11eb_a131_6057188a664arow14_col15{\n",
       "            background-color:  #056ead;\n",
       "            color:  #f1f1f1;\n",
       "        }#T_30d81aa0_37b9_11eb_a131_6057188a664arow15_col0,#T_30d81aa0_37b9_11eb_a131_6057188a664arow16_col3{\n",
       "            background-color:  #fef6fa;\n",
       "            color:  #000000;\n",
       "        }#T_30d81aa0_37b9_11eb_a131_6057188a664arow15_col3,#T_30d81aa0_37b9_11eb_a131_6057188a664arow16_col11{\n",
       "            background-color:  #f5eff6;\n",
       "            color:  #000000;\n",
       "        }#T_30d81aa0_37b9_11eb_a131_6057188a664arow15_col9{\n",
       "            background-color:  #d3d4e7;\n",
       "            color:  #000000;\n",
       "        }#T_30d81aa0_37b9_11eb_a131_6057188a664arow15_col14{\n",
       "            background-color:  #046299;\n",
       "            color:  #f1f1f1;\n",
       "        }#T_30d81aa0_37b9_11eb_a131_6057188a664arow15_col17{\n",
       "            background-color:  #2786bb;\n",
       "            color:  #000000;\n",
       "        }#T_30d81aa0_37b9_11eb_a131_6057188a664arow16_col4{\n",
       "            background-color:  #fcf4fa;\n",
       "            color:  #000000;\n",
       "        }#T_30d81aa0_37b9_11eb_a131_6057188a664arow16_col7{\n",
       "            background-color:  #faf2f8;\n",
       "            color:  #000000;\n",
       "        }#T_30d81aa0_37b9_11eb_a131_6057188a664arow16_col13{\n",
       "            background-color:  #e2dfee;\n",
       "            color:  #000000;\n",
       "        }#T_30d81aa0_37b9_11eb_a131_6057188a664arow17_col14{\n",
       "            background-color:  #e0deed;\n",
       "            color:  #000000;\n",
       "        }#T_30d81aa0_37b9_11eb_a131_6057188a664arow17_col15{\n",
       "            background-color:  #dbdaeb;\n",
       "            color:  #000000;\n",
       "        }</style><table id=\"T_30d81aa0_37b9_11eb_a131_6057188a664a\" ><thead>    <tr>        <th class=\"index_name level0\" >pred_rank</th>        <th class=\"col_heading level0 col0\" >1.0</th>        <th class=\"col_heading level0 col1\" >2.0</th>        <th class=\"col_heading level0 col2\" >3.0</th>        <th class=\"col_heading level0 col3\" >4.0</th>        <th class=\"col_heading level0 col4\" >5.0</th>        <th class=\"col_heading level0 col5\" >6.0</th>        <th class=\"col_heading level0 col6\" >7.0</th>        <th class=\"col_heading level0 col7\" >8.0</th>        <th class=\"col_heading level0 col8\" >9.0</th>        <th class=\"col_heading level0 col9\" >10.0</th>        <th class=\"col_heading level0 col10\" >11.0</th>        <th class=\"col_heading level0 col11\" >12.0</th>        <th class=\"col_heading level0 col12\" >13.0</th>        <th class=\"col_heading level0 col13\" >14.0</th>        <th class=\"col_heading level0 col14\" >15.0</th>        <th class=\"col_heading level0 col15\" >16.0</th>        <th class=\"col_heading level0 col16\" >17.0</th>        <th class=\"col_heading level0 col17\" >18.0</th>    </tr>    <tr>        <th class=\"index_name level0\" >arrival</th>        <th class=\"blank\" ></th>        <th class=\"blank\" ></th>        <th class=\"blank\" ></th>        <th class=\"blank\" ></th>        <th class=\"blank\" ></th>        <th class=\"blank\" ></th>        <th class=\"blank\" ></th>        <th class=\"blank\" ></th>        <th class=\"blank\" ></th>        <th class=\"blank\" ></th>        <th class=\"blank\" ></th>        <th class=\"blank\" ></th>        <th class=\"blank\" ></th>        <th class=\"blank\" ></th>        <th class=\"blank\" ></th>        <th class=\"blank\" ></th>        <th class=\"blank\" ></th>        <th class=\"blank\" ></th>    </tr></thead><tbody>\n",
       "                <tr>\n",
       "                        <th id=\"T_30d81aa0_37b9_11eb_a131_6057188a664alevel0_row0\" class=\"row_heading level0 row0\" >1</th>\n",
       "                        <td id=\"T_30d81aa0_37b9_11eb_a131_6057188a664arow0_col0\" class=\"data row0 col0\" >2612</td>\n",
       "                        <td id=\"T_30d81aa0_37b9_11eb_a131_6057188a664arow0_col1\" class=\"data row0 col1\" >1710</td>\n",
       "                        <td id=\"T_30d81aa0_37b9_11eb_a131_6057188a664arow0_col2\" class=\"data row0 col2\" >1316</td>\n",
       "                        <td id=\"T_30d81aa0_37b9_11eb_a131_6057188a664arow0_col3\" class=\"data row0 col3\" >1050</td>\n",
       "                        <td id=\"T_30d81aa0_37b9_11eb_a131_6057188a664arow0_col4\" class=\"data row0 col4\" >834</td>\n",
       "                        <td id=\"T_30d81aa0_37b9_11eb_a131_6057188a664arow0_col5\" class=\"data row0 col5\" >712</td>\n",
       "                        <td id=\"T_30d81aa0_37b9_11eb_a131_6057188a664arow0_col6\" class=\"data row0 col6\" >539</td>\n",
       "                        <td id=\"T_30d81aa0_37b9_11eb_a131_6057188a664arow0_col7\" class=\"data row0 col7\" >400</td>\n",
       "                        <td id=\"T_30d81aa0_37b9_11eb_a131_6057188a664arow0_col8\" class=\"data row0 col8\" >333</td>\n",
       "                        <td id=\"T_30d81aa0_37b9_11eb_a131_6057188a664arow0_col9\" class=\"data row0 col9\" >271</td>\n",
       "                        <td id=\"T_30d81aa0_37b9_11eb_a131_6057188a664arow0_col10\" class=\"data row0 col10\" >214</td>\n",
       "                        <td id=\"T_30d81aa0_37b9_11eb_a131_6057188a664arow0_col11\" class=\"data row0 col11\" >164</td>\n",
       "                        <td id=\"T_30d81aa0_37b9_11eb_a131_6057188a664arow0_col12\" class=\"data row0 col12\" >132</td>\n",
       "                        <td id=\"T_30d81aa0_37b9_11eb_a131_6057188a664arow0_col13\" class=\"data row0 col13\" >75</td>\n",
       "                        <td id=\"T_30d81aa0_37b9_11eb_a131_6057188a664arow0_col14\" class=\"data row0 col14\" >59</td>\n",
       "                        <td id=\"T_30d81aa0_37b9_11eb_a131_6057188a664arow0_col15\" class=\"data row0 col15\" >39</td>\n",
       "                        <td id=\"T_30d81aa0_37b9_11eb_a131_6057188a664arow0_col16\" class=\"data row0 col16\" >14</td>\n",
       "                        <td id=\"T_30d81aa0_37b9_11eb_a131_6057188a664arow0_col17\" class=\"data row0 col17\" >8</td>\n",
       "            </tr>\n",
       "            <tr>\n",
       "                        <th id=\"T_30d81aa0_37b9_11eb_a131_6057188a664alevel0_row1\" class=\"row_heading level0 row1\" >2</th>\n",
       "                        <td id=\"T_30d81aa0_37b9_11eb_a131_6057188a664arow1_col0\" class=\"data row1 col0\" >1833</td>\n",
       "                        <td id=\"T_30d81aa0_37b9_11eb_a131_6057188a664arow1_col1\" class=\"data row1 col1\" >1644</td>\n",
       "                        <td id=\"T_30d81aa0_37b9_11eb_a131_6057188a664arow1_col2\" class=\"data row1 col2\" >1350</td>\n",
       "                        <td id=\"T_30d81aa0_37b9_11eb_a131_6057188a664arow1_col3\" class=\"data row1 col3\" >1096</td>\n",
       "                        <td id=\"T_30d81aa0_37b9_11eb_a131_6057188a664arow1_col4\" class=\"data row1 col4\" >995</td>\n",
       "                        <td id=\"T_30d81aa0_37b9_11eb_a131_6057188a664arow1_col5\" class=\"data row1 col5\" >809</td>\n",
       "                        <td id=\"T_30d81aa0_37b9_11eb_a131_6057188a664arow1_col6\" class=\"data row1 col6\" >626</td>\n",
       "                        <td id=\"T_30d81aa0_37b9_11eb_a131_6057188a664arow1_col7\" class=\"data row1 col7\" >518</td>\n",
       "                        <td id=\"T_30d81aa0_37b9_11eb_a131_6057188a664arow1_col8\" class=\"data row1 col8\" >420</td>\n",
       "                        <td id=\"T_30d81aa0_37b9_11eb_a131_6057188a664arow1_col9\" class=\"data row1 col9\" >329</td>\n",
       "                        <td id=\"T_30d81aa0_37b9_11eb_a131_6057188a664arow1_col10\" class=\"data row1 col10\" >233</td>\n",
       "                        <td id=\"T_30d81aa0_37b9_11eb_a131_6057188a664arow1_col11\" class=\"data row1 col11\" >195</td>\n",
       "                        <td id=\"T_30d81aa0_37b9_11eb_a131_6057188a664arow1_col12\" class=\"data row1 col12\" >148</td>\n",
       "                        <td id=\"T_30d81aa0_37b9_11eb_a131_6057188a664arow1_col13\" class=\"data row1 col13\" >114</td>\n",
       "                        <td id=\"T_30d81aa0_37b9_11eb_a131_6057188a664arow1_col14\" class=\"data row1 col14\" >90</td>\n",
       "                        <td id=\"T_30d81aa0_37b9_11eb_a131_6057188a664arow1_col15\" class=\"data row1 col15\" >51</td>\n",
       "                        <td id=\"T_30d81aa0_37b9_11eb_a131_6057188a664arow1_col16\" class=\"data row1 col16\" >22</td>\n",
       "                        <td id=\"T_30d81aa0_37b9_11eb_a131_6057188a664arow1_col17\" class=\"data row1 col17\" >8</td>\n",
       "            </tr>\n",
       "            <tr>\n",
       "                        <th id=\"T_30d81aa0_37b9_11eb_a131_6057188a664alevel0_row2\" class=\"row_heading level0 row2\" >3</th>\n",
       "                        <td id=\"T_30d81aa0_37b9_11eb_a131_6057188a664arow2_col0\" class=\"data row2 col0\" >1378</td>\n",
       "                        <td id=\"T_30d81aa0_37b9_11eb_a131_6057188a664arow2_col1\" class=\"data row2 col1\" >1404</td>\n",
       "                        <td id=\"T_30d81aa0_37b9_11eb_a131_6057188a664arow2_col2\" class=\"data row2 col2\" >1283</td>\n",
       "                        <td id=\"T_30d81aa0_37b9_11eb_a131_6057188a664arow2_col3\" class=\"data row2 col3\" >1128</td>\n",
       "                        <td id=\"T_30d81aa0_37b9_11eb_a131_6057188a664arow2_col4\" class=\"data row2 col4\" >1039</td>\n",
       "                        <td id=\"T_30d81aa0_37b9_11eb_a131_6057188a664arow2_col5\" class=\"data row2 col5\" >874</td>\n",
       "                        <td id=\"T_30d81aa0_37b9_11eb_a131_6057188a664arow2_col6\" class=\"data row2 col6\" >782</td>\n",
       "                        <td id=\"T_30d81aa0_37b9_11eb_a131_6057188a664arow2_col7\" class=\"data row2 col7\" >609</td>\n",
       "                        <td id=\"T_30d81aa0_37b9_11eb_a131_6057188a664arow2_col8\" class=\"data row2 col8\" >456</td>\n",
       "                        <td id=\"T_30d81aa0_37b9_11eb_a131_6057188a664arow2_col9\" class=\"data row2 col9\" >397</td>\n",
       "                        <td id=\"T_30d81aa0_37b9_11eb_a131_6057188a664arow2_col10\" class=\"data row2 col10\" >340</td>\n",
       "                        <td id=\"T_30d81aa0_37b9_11eb_a131_6057188a664arow2_col11\" class=\"data row2 col11\" >268</td>\n",
       "                        <td id=\"T_30d81aa0_37b9_11eb_a131_6057188a664arow2_col12\" class=\"data row2 col12\" >192</td>\n",
       "                        <td id=\"T_30d81aa0_37b9_11eb_a131_6057188a664arow2_col13\" class=\"data row2 col13\" >145</td>\n",
       "                        <td id=\"T_30d81aa0_37b9_11eb_a131_6057188a664arow2_col14\" class=\"data row2 col14\" >96</td>\n",
       "                        <td id=\"T_30d81aa0_37b9_11eb_a131_6057188a664arow2_col15\" class=\"data row2 col15\" >61</td>\n",
       "                        <td id=\"T_30d81aa0_37b9_11eb_a131_6057188a664arow2_col16\" class=\"data row2 col16\" >26</td>\n",
       "                        <td id=\"T_30d81aa0_37b9_11eb_a131_6057188a664arow2_col17\" class=\"data row2 col17\" >7</td>\n",
       "            </tr>\n",
       "            <tr>\n",
       "                        <th id=\"T_30d81aa0_37b9_11eb_a131_6057188a664alevel0_row3\" class=\"row_heading level0 row3\" >4</th>\n",
       "                        <td id=\"T_30d81aa0_37b9_11eb_a131_6057188a664arow3_col0\" class=\"data row3 col0\" >1000</td>\n",
       "                        <td id=\"T_30d81aa0_37b9_11eb_a131_6057188a664arow3_col1\" class=\"data row3 col1\" >1096</td>\n",
       "                        <td id=\"T_30d81aa0_37b9_11eb_a131_6057188a664arow3_col2\" class=\"data row3 col2\" >1147</td>\n",
       "                        <td id=\"T_30d81aa0_37b9_11eb_a131_6057188a664arow3_col3\" class=\"data row3 col3\" >1090</td>\n",
       "                        <td id=\"T_30d81aa0_37b9_11eb_a131_6057188a664arow3_col4\" class=\"data row3 col4\" >1008</td>\n",
       "                        <td id=\"T_30d81aa0_37b9_11eb_a131_6057188a664arow3_col5\" class=\"data row3 col5\" >964</td>\n",
       "                        <td id=\"T_30d81aa0_37b9_11eb_a131_6057188a664arow3_col6\" class=\"data row3 col6\" >819</td>\n",
       "                        <td id=\"T_30d81aa0_37b9_11eb_a131_6057188a664arow3_col7\" class=\"data row3 col7\" >697</td>\n",
       "                        <td id=\"T_30d81aa0_37b9_11eb_a131_6057188a664arow3_col8\" class=\"data row3 col8\" >611</td>\n",
       "                        <td id=\"T_30d81aa0_37b9_11eb_a131_6057188a664arow3_col9\" class=\"data row3 col9\" >513</td>\n",
       "                        <td id=\"T_30d81aa0_37b9_11eb_a131_6057188a664arow3_col10\" class=\"data row3 col10\" >417</td>\n",
       "                        <td id=\"T_30d81aa0_37b9_11eb_a131_6057188a664arow3_col11\" class=\"data row3 col11\" >324</td>\n",
       "                        <td id=\"T_30d81aa0_37b9_11eb_a131_6057188a664arow3_col12\" class=\"data row3 col12\" >267</td>\n",
       "                        <td id=\"T_30d81aa0_37b9_11eb_a131_6057188a664arow3_col13\" class=\"data row3 col13\" >182</td>\n",
       "                        <td id=\"T_30d81aa0_37b9_11eb_a131_6057188a664arow3_col14\" class=\"data row3 col14\" >127</td>\n",
       "                        <td id=\"T_30d81aa0_37b9_11eb_a131_6057188a664arow3_col15\" class=\"data row3 col15\" >111</td>\n",
       "                        <td id=\"T_30d81aa0_37b9_11eb_a131_6057188a664arow3_col16\" class=\"data row3 col16\" >47</td>\n",
       "                        <td id=\"T_30d81aa0_37b9_11eb_a131_6057188a664arow3_col17\" class=\"data row3 col17\" >36</td>\n",
       "            </tr>\n",
       "            <tr>\n",
       "                        <th id=\"T_30d81aa0_37b9_11eb_a131_6057188a664alevel0_row4\" class=\"row_heading level0 row4\" >5</th>\n",
       "                        <td id=\"T_30d81aa0_37b9_11eb_a131_6057188a664arow4_col0\" class=\"data row4 col0\" >775</td>\n",
       "                        <td id=\"T_30d81aa0_37b9_11eb_a131_6057188a664arow4_col1\" class=\"data row4 col1\" >957</td>\n",
       "                        <td id=\"T_30d81aa0_37b9_11eb_a131_6057188a664arow4_col2\" class=\"data row4 col2\" >954</td>\n",
       "                        <td id=\"T_30d81aa0_37b9_11eb_a131_6057188a664arow4_col3\" class=\"data row4 col3\" >1030</td>\n",
       "                        <td id=\"T_30d81aa0_37b9_11eb_a131_6057188a664arow4_col4\" class=\"data row4 col4\" >1007</td>\n",
       "                        <td id=\"T_30d81aa0_37b9_11eb_a131_6057188a664arow4_col5\" class=\"data row4 col5\" >996</td>\n",
       "                        <td id=\"T_30d81aa0_37b9_11eb_a131_6057188a664arow4_col6\" class=\"data row4 col6\" >905</td>\n",
       "                        <td id=\"T_30d81aa0_37b9_11eb_a131_6057188a664arow4_col7\" class=\"data row4 col7\" >814</td>\n",
       "                        <td id=\"T_30d81aa0_37b9_11eb_a131_6057188a664arow4_col8\" class=\"data row4 col8\" >727</td>\n",
       "                        <td id=\"T_30d81aa0_37b9_11eb_a131_6057188a664arow4_col9\" class=\"data row4 col9\" >528</td>\n",
       "                        <td id=\"T_30d81aa0_37b9_11eb_a131_6057188a664arow4_col10\" class=\"data row4 col10\" >468</td>\n",
       "                        <td id=\"T_30d81aa0_37b9_11eb_a131_6057188a664arow4_col11\" class=\"data row4 col11\" >378</td>\n",
       "                        <td id=\"T_30d81aa0_37b9_11eb_a131_6057188a664arow4_col12\" class=\"data row4 col12\" >285</td>\n",
       "                        <td id=\"T_30d81aa0_37b9_11eb_a131_6057188a664arow4_col13\" class=\"data row4 col13\" >240</td>\n",
       "                        <td id=\"T_30d81aa0_37b9_11eb_a131_6057188a664arow4_col14\" class=\"data row4 col14\" >185</td>\n",
       "                        <td id=\"T_30d81aa0_37b9_11eb_a131_6057188a664arow4_col15\" class=\"data row4 col15\" >139</td>\n",
       "                        <td id=\"T_30d81aa0_37b9_11eb_a131_6057188a664arow4_col16\" class=\"data row4 col16\" >49</td>\n",
       "                        <td id=\"T_30d81aa0_37b9_11eb_a131_6057188a664arow4_col17\" class=\"data row4 col17\" >36</td>\n",
       "            </tr>\n",
       "            <tr>\n",
       "                        <th id=\"T_30d81aa0_37b9_11eb_a131_6057188a664alevel0_row5\" class=\"row_heading level0 row5\" >6</th>\n",
       "                        <td id=\"T_30d81aa0_37b9_11eb_a131_6057188a664arow5_col0\" class=\"data row5 col0\" >650</td>\n",
       "                        <td id=\"T_30d81aa0_37b9_11eb_a131_6057188a664arow5_col1\" class=\"data row5 col1\" >742</td>\n",
       "                        <td id=\"T_30d81aa0_37b9_11eb_a131_6057188a664arow5_col2\" class=\"data row5 col2\" >884</td>\n",
       "                        <td id=\"T_30d81aa0_37b9_11eb_a131_6057188a664arow5_col3\" class=\"data row5 col3\" >885</td>\n",
       "                        <td id=\"T_30d81aa0_37b9_11eb_a131_6057188a664arow5_col4\" class=\"data row5 col4\" >1034</td>\n",
       "                        <td id=\"T_30d81aa0_37b9_11eb_a131_6057188a664arow5_col5\" class=\"data row5 col5\" >999</td>\n",
       "                        <td id=\"T_30d81aa0_37b9_11eb_a131_6057188a664arow5_col6\" class=\"data row5 col6\" >944</td>\n",
       "                        <td id=\"T_30d81aa0_37b9_11eb_a131_6057188a664arow5_col7\" class=\"data row5 col7\" >885</td>\n",
       "                        <td id=\"T_30d81aa0_37b9_11eb_a131_6057188a664arow5_col8\" class=\"data row5 col8\" >737</td>\n",
       "                        <td id=\"T_30d81aa0_37b9_11eb_a131_6057188a664arow5_col9\" class=\"data row5 col9\" >658</td>\n",
       "                        <td id=\"T_30d81aa0_37b9_11eb_a131_6057188a664arow5_col10\" class=\"data row5 col10\" >556</td>\n",
       "                        <td id=\"T_30d81aa0_37b9_11eb_a131_6057188a664arow5_col11\" class=\"data row5 col11\" >418</td>\n",
       "                        <td id=\"T_30d81aa0_37b9_11eb_a131_6057188a664arow5_col12\" class=\"data row5 col12\" >341</td>\n",
       "                        <td id=\"T_30d81aa0_37b9_11eb_a131_6057188a664arow5_col13\" class=\"data row5 col13\" >285</td>\n",
       "                        <td id=\"T_30d81aa0_37b9_11eb_a131_6057188a664arow5_col14\" class=\"data row5 col14\" >215</td>\n",
       "                        <td id=\"T_30d81aa0_37b9_11eb_a131_6057188a664arow5_col15\" class=\"data row5 col15\" >137</td>\n",
       "                        <td id=\"T_30d81aa0_37b9_11eb_a131_6057188a664arow5_col16\" class=\"data row5 col16\" >51</td>\n",
       "                        <td id=\"T_30d81aa0_37b9_11eb_a131_6057188a664arow5_col17\" class=\"data row5 col17\" >44</td>\n",
       "            </tr>\n",
       "            <tr>\n",
       "                        <th id=\"T_30d81aa0_37b9_11eb_a131_6057188a664alevel0_row6\" class=\"row_heading level0 row6\" >7</th>\n",
       "                        <td id=\"T_30d81aa0_37b9_11eb_a131_6057188a664arow6_col0\" class=\"data row6 col0\" >516</td>\n",
       "                        <td id=\"T_30d81aa0_37b9_11eb_a131_6057188a664arow6_col1\" class=\"data row6 col1\" >657</td>\n",
       "                        <td id=\"T_30d81aa0_37b9_11eb_a131_6057188a664arow6_col2\" class=\"data row6 col2\" >722</td>\n",
       "                        <td id=\"T_30d81aa0_37b9_11eb_a131_6057188a664arow6_col3\" class=\"data row6 col3\" >840</td>\n",
       "                        <td id=\"T_30d81aa0_37b9_11eb_a131_6057188a664arow6_col4\" class=\"data row6 col4\" >884</td>\n",
       "                        <td id=\"T_30d81aa0_37b9_11eb_a131_6057188a664arow6_col5\" class=\"data row6 col5\" >871</td>\n",
       "                        <td id=\"T_30d81aa0_37b9_11eb_a131_6057188a664arow6_col6\" class=\"data row6 col6\" >969</td>\n",
       "                        <td id=\"T_30d81aa0_37b9_11eb_a131_6057188a664arow6_col7\" class=\"data row6 col7\" >1003</td>\n",
       "                        <td id=\"T_30d81aa0_37b9_11eb_a131_6057188a664arow6_col8\" class=\"data row6 col8\" >849</td>\n",
       "                        <td id=\"T_30d81aa0_37b9_11eb_a131_6057188a664arow6_col9\" class=\"data row6 col9\" >750</td>\n",
       "                        <td id=\"T_30d81aa0_37b9_11eb_a131_6057188a664arow6_col10\" class=\"data row6 col10\" >613</td>\n",
       "                        <td id=\"T_30d81aa0_37b9_11eb_a131_6057188a664arow6_col11\" class=\"data row6 col11\" >495</td>\n",
       "                        <td id=\"T_30d81aa0_37b9_11eb_a131_6057188a664arow6_col12\" class=\"data row6 col12\" >410</td>\n",
       "                        <td id=\"T_30d81aa0_37b9_11eb_a131_6057188a664arow6_col13\" class=\"data row6 col13\" >312</td>\n",
       "                        <td id=\"T_30d81aa0_37b9_11eb_a131_6057188a664arow6_col14\" class=\"data row6 col14\" >234</td>\n",
       "                        <td id=\"T_30d81aa0_37b9_11eb_a131_6057188a664arow6_col15\" class=\"data row6 col15\" >184</td>\n",
       "                        <td id=\"T_30d81aa0_37b9_11eb_a131_6057188a664arow6_col16\" class=\"data row6 col16\" >69</td>\n",
       "                        <td id=\"T_30d81aa0_37b9_11eb_a131_6057188a664arow6_col17\" class=\"data row6 col17\" >46</td>\n",
       "            </tr>\n",
       "            <tr>\n",
       "                        <th id=\"T_30d81aa0_37b9_11eb_a131_6057188a664alevel0_row7\" class=\"row_heading level0 row7\" >8</th>\n",
       "                        <td id=\"T_30d81aa0_37b9_11eb_a131_6057188a664arow7_col0\" class=\"data row7 col0\" >395</td>\n",
       "                        <td id=\"T_30d81aa0_37b9_11eb_a131_6057188a664arow7_col1\" class=\"data row7 col1\" >529</td>\n",
       "                        <td id=\"T_30d81aa0_37b9_11eb_a131_6057188a664arow7_col2\" class=\"data row7 col2\" >654</td>\n",
       "                        <td id=\"T_30d81aa0_37b9_11eb_a131_6057188a664arow7_col3\" class=\"data row7 col3\" >723</td>\n",
       "                        <td id=\"T_30d81aa0_37b9_11eb_a131_6057188a664arow7_col4\" class=\"data row7 col4\" >779</td>\n",
       "                        <td id=\"T_30d81aa0_37b9_11eb_a131_6057188a664arow7_col5\" class=\"data row7 col5\" >856</td>\n",
       "                        <td id=\"T_30d81aa0_37b9_11eb_a131_6057188a664arow7_col6\" class=\"data row7 col6\" >933</td>\n",
       "                        <td id=\"T_30d81aa0_37b9_11eb_a131_6057188a664arow7_col7\" class=\"data row7 col7\" >1015</td>\n",
       "                        <td id=\"T_30d81aa0_37b9_11eb_a131_6057188a664arow7_col8\" class=\"data row7 col8\" >904</td>\n",
       "                        <td id=\"T_30d81aa0_37b9_11eb_a131_6057188a664arow7_col9\" class=\"data row7 col9\" >783</td>\n",
       "                        <td id=\"T_30d81aa0_37b9_11eb_a131_6057188a664arow7_col10\" class=\"data row7 col10\" >729</td>\n",
       "                        <td id=\"T_30d81aa0_37b9_11eb_a131_6057188a664arow7_col11\" class=\"data row7 col11\" >542</td>\n",
       "                        <td id=\"T_30d81aa0_37b9_11eb_a131_6057188a664arow7_col12\" class=\"data row7 col12\" >471</td>\n",
       "                        <td id=\"T_30d81aa0_37b9_11eb_a131_6057188a664arow7_col13\" class=\"data row7 col13\" >338</td>\n",
       "                        <td id=\"T_30d81aa0_37b9_11eb_a131_6057188a664arow7_col14\" class=\"data row7 col14\" >279</td>\n",
       "                        <td id=\"T_30d81aa0_37b9_11eb_a131_6057188a664arow7_col15\" class=\"data row7 col15\" >202</td>\n",
       "                        <td id=\"T_30d81aa0_37b9_11eb_a131_6057188a664arow7_col16\" class=\"data row7 col16\" >84</td>\n",
       "                        <td id=\"T_30d81aa0_37b9_11eb_a131_6057188a664arow7_col17\" class=\"data row7 col17\" >61</td>\n",
       "            </tr>\n",
       "            <tr>\n",
       "                        <th id=\"T_30d81aa0_37b9_11eb_a131_6057188a664alevel0_row8\" class=\"row_heading level0 row8\" >9</th>\n",
       "                        <td id=\"T_30d81aa0_37b9_11eb_a131_6057188a664arow8_col0\" class=\"data row8 col0\" >353</td>\n",
       "                        <td id=\"T_30d81aa0_37b9_11eb_a131_6057188a664arow8_col1\" class=\"data row8 col1\" >422</td>\n",
       "                        <td id=\"T_30d81aa0_37b9_11eb_a131_6057188a664arow8_col2\" class=\"data row8 col2\" >536</td>\n",
       "                        <td id=\"T_30d81aa0_37b9_11eb_a131_6057188a664arow8_col3\" class=\"data row8 col3\" >603</td>\n",
       "                        <td id=\"T_30d81aa0_37b9_11eb_a131_6057188a664arow8_col4\" class=\"data row8 col4\" >660</td>\n",
       "                        <td id=\"T_30d81aa0_37b9_11eb_a131_6057188a664arow8_col5\" class=\"data row8 col5\" >765</td>\n",
       "                        <td id=\"T_30d81aa0_37b9_11eb_a131_6057188a664arow8_col6\" class=\"data row8 col6\" >836</td>\n",
       "                        <td id=\"T_30d81aa0_37b9_11eb_a131_6057188a664arow8_col7\" class=\"data row8 col7\" >897</td>\n",
       "                        <td id=\"T_30d81aa0_37b9_11eb_a131_6057188a664arow8_col8\" class=\"data row8 col8\" >1014</td>\n",
       "                        <td id=\"T_30d81aa0_37b9_11eb_a131_6057188a664arow8_col9\" class=\"data row8 col9\" >868</td>\n",
       "                        <td id=\"T_30d81aa0_37b9_11eb_a131_6057188a664arow8_col10\" class=\"data row8 col10\" >714</td>\n",
       "                        <td id=\"T_30d81aa0_37b9_11eb_a131_6057188a664arow8_col11\" class=\"data row8 col11\" >590</td>\n",
       "                        <td id=\"T_30d81aa0_37b9_11eb_a131_6057188a664arow8_col12\" class=\"data row8 col12\" >477</td>\n",
       "                        <td id=\"T_30d81aa0_37b9_11eb_a131_6057188a664arow8_col13\" class=\"data row8 col13\" >427</td>\n",
       "                        <td id=\"T_30d81aa0_37b9_11eb_a131_6057188a664arow8_col14\" class=\"data row8 col14\" >384</td>\n",
       "                        <td id=\"T_30d81aa0_37b9_11eb_a131_6057188a664arow8_col15\" class=\"data row8 col15\" >257</td>\n",
       "                        <td id=\"T_30d81aa0_37b9_11eb_a131_6057188a664arow8_col16\" class=\"data row8 col16\" >104</td>\n",
       "                        <td id=\"T_30d81aa0_37b9_11eb_a131_6057188a664arow8_col17\" class=\"data row8 col17\" >72</td>\n",
       "            </tr>\n",
       "            <tr>\n",
       "                        <th id=\"T_30d81aa0_37b9_11eb_a131_6057188a664alevel0_row9\" class=\"row_heading level0 row9\" >10</th>\n",
       "                        <td id=\"T_30d81aa0_37b9_11eb_a131_6057188a664arow9_col0\" class=\"data row9 col0\" >270</td>\n",
       "                        <td id=\"T_30d81aa0_37b9_11eb_a131_6057188a664arow9_col1\" class=\"data row9 col1\" >364</td>\n",
       "                        <td id=\"T_30d81aa0_37b9_11eb_a131_6057188a664arow9_col2\" class=\"data row9 col2\" >422</td>\n",
       "                        <td id=\"T_30d81aa0_37b9_11eb_a131_6057188a664arow9_col3\" class=\"data row9 col3\" >518</td>\n",
       "                        <td id=\"T_30d81aa0_37b9_11eb_a131_6057188a664arow9_col4\" class=\"data row9 col4\" >552</td>\n",
       "                        <td id=\"T_30d81aa0_37b9_11eb_a131_6057188a664arow9_col5\" class=\"data row9 col5\" >619</td>\n",
       "                        <td id=\"T_30d81aa0_37b9_11eb_a131_6057188a664arow9_col6\" class=\"data row9 col6\" >705</td>\n",
       "                        <td id=\"T_30d81aa0_37b9_11eb_a131_6057188a664arow9_col7\" class=\"data row9 col7\" >769</td>\n",
       "                        <td id=\"T_30d81aa0_37b9_11eb_a131_6057188a664arow9_col8\" class=\"data row9 col8\" >857</td>\n",
       "                        <td id=\"T_30d81aa0_37b9_11eb_a131_6057188a664arow9_col9\" class=\"data row9 col9\" >988</td>\n",
       "                        <td id=\"T_30d81aa0_37b9_11eb_a131_6057188a664arow9_col10\" class=\"data row9 col10\" >819</td>\n",
       "                        <td id=\"T_30d81aa0_37b9_11eb_a131_6057188a664arow9_col11\" class=\"data row9 col11\" >713</td>\n",
       "                        <td id=\"T_30d81aa0_37b9_11eb_a131_6057188a664arow9_col12\" class=\"data row9 col12\" >560</td>\n",
       "                        <td id=\"T_30d81aa0_37b9_11eb_a131_6057188a664arow9_col13\" class=\"data row9 col13\" >451</td>\n",
       "                        <td id=\"T_30d81aa0_37b9_11eb_a131_6057188a664arow9_col14\" class=\"data row9 col14\" >383</td>\n",
       "                        <td id=\"T_30d81aa0_37b9_11eb_a131_6057188a664arow9_col15\" class=\"data row9 col15\" >307</td>\n",
       "                        <td id=\"T_30d81aa0_37b9_11eb_a131_6057188a664arow9_col16\" class=\"data row9 col16\" >117</td>\n",
       "                        <td id=\"T_30d81aa0_37b9_11eb_a131_6057188a664arow9_col17\" class=\"data row9 col17\" >68</td>\n",
       "            </tr>\n",
       "            <tr>\n",
       "                        <th id=\"T_30d81aa0_37b9_11eb_a131_6057188a664alevel0_row10\" class=\"row_heading level0 row10\" >11</th>\n",
       "                        <td id=\"T_30d81aa0_37b9_11eb_a131_6057188a664arow10_col0\" class=\"data row10 col0\" >222</td>\n",
       "                        <td id=\"T_30d81aa0_37b9_11eb_a131_6057188a664arow10_col1\" class=\"data row10 col1\" >252</td>\n",
       "                        <td id=\"T_30d81aa0_37b9_11eb_a131_6057188a664arow10_col2\" class=\"data row10 col2\" >316</td>\n",
       "                        <td id=\"T_30d81aa0_37b9_11eb_a131_6057188a664arow10_col3\" class=\"data row10 col3\" >396</td>\n",
       "                        <td id=\"T_30d81aa0_37b9_11eb_a131_6057188a664arow10_col4\" class=\"data row10 col4\" >456</td>\n",
       "                        <td id=\"T_30d81aa0_37b9_11eb_a131_6057188a664arow10_col5\" class=\"data row10 col5\" >529</td>\n",
       "                        <td id=\"T_30d81aa0_37b9_11eb_a131_6057188a664arow10_col6\" class=\"data row10 col6\" >613</td>\n",
       "                        <td id=\"T_30d81aa0_37b9_11eb_a131_6057188a664arow10_col7\" class=\"data row10 col7\" >621</td>\n",
       "                        <td id=\"T_30d81aa0_37b9_11eb_a131_6057188a664arow10_col8\" class=\"data row10 col8\" >777</td>\n",
       "                        <td id=\"T_30d81aa0_37b9_11eb_a131_6057188a664arow10_col9\" class=\"data row10 col9\" >871</td>\n",
       "                        <td id=\"T_30d81aa0_37b9_11eb_a131_6057188a664arow10_col10\" class=\"data row10 col10\" >857</td>\n",
       "                        <td id=\"T_30d81aa0_37b9_11eb_a131_6057188a664arow10_col11\" class=\"data row10 col11\" >821</td>\n",
       "                        <td id=\"T_30d81aa0_37b9_11eb_a131_6057188a664arow10_col12\" class=\"data row10 col12\" >644</td>\n",
       "                        <td id=\"T_30d81aa0_37b9_11eb_a131_6057188a664arow10_col13\" class=\"data row10 col13\" >492</td>\n",
       "                        <td id=\"T_30d81aa0_37b9_11eb_a131_6057188a664arow10_col14\" class=\"data row10 col14\" >426</td>\n",
       "                        <td id=\"T_30d81aa0_37b9_11eb_a131_6057188a664arow10_col15\" class=\"data row10 col15\" >310</td>\n",
       "                        <td id=\"T_30d81aa0_37b9_11eb_a131_6057188a664arow10_col16\" class=\"data row10 col16\" >160</td>\n",
       "                        <td id=\"T_30d81aa0_37b9_11eb_a131_6057188a664arow10_col17\" class=\"data row10 col17\" >86</td>\n",
       "            </tr>\n",
       "            <tr>\n",
       "                        <th id=\"T_30d81aa0_37b9_11eb_a131_6057188a664alevel0_row11\" class=\"row_heading level0 row11\" >12</th>\n",
       "                        <td id=\"T_30d81aa0_37b9_11eb_a131_6057188a664arow11_col0\" class=\"data row11 col0\" >147</td>\n",
       "                        <td id=\"T_30d81aa0_37b9_11eb_a131_6057188a664arow11_col1\" class=\"data row11 col1\" >206</td>\n",
       "                        <td id=\"T_30d81aa0_37b9_11eb_a131_6057188a664arow11_col2\" class=\"data row11 col2\" >242</td>\n",
       "                        <td id=\"T_30d81aa0_37b9_11eb_a131_6057188a664arow11_col3\" class=\"data row11 col3\" >354</td>\n",
       "                        <td id=\"T_30d81aa0_37b9_11eb_a131_6057188a664arow11_col4\" class=\"data row11 col4\" >370</td>\n",
       "                        <td id=\"T_30d81aa0_37b9_11eb_a131_6057188a664arow11_col5\" class=\"data row11 col5\" >414</td>\n",
       "                        <td id=\"T_30d81aa0_37b9_11eb_a131_6057188a664arow11_col6\" class=\"data row11 col6\" >478</td>\n",
       "                        <td id=\"T_30d81aa0_37b9_11eb_a131_6057188a664arow11_col7\" class=\"data row11 col7\" >553</td>\n",
       "                        <td id=\"T_30d81aa0_37b9_11eb_a131_6057188a664arow11_col8\" class=\"data row11 col8\" >609</td>\n",
       "                        <td id=\"T_30d81aa0_37b9_11eb_a131_6057188a664arow11_col9\" class=\"data row11 col9\" >672</td>\n",
       "                        <td id=\"T_30d81aa0_37b9_11eb_a131_6057188a664arow11_col10\" class=\"data row11 col10\" >773</td>\n",
       "                        <td id=\"T_30d81aa0_37b9_11eb_a131_6057188a664arow11_col11\" class=\"data row11 col11\" >855</td>\n",
       "                        <td id=\"T_30d81aa0_37b9_11eb_a131_6057188a664arow11_col12\" class=\"data row11 col12\" >712</td>\n",
       "                        <td id=\"T_30d81aa0_37b9_11eb_a131_6057188a664arow11_col13\" class=\"data row11 col13\" >604</td>\n",
       "                        <td id=\"T_30d81aa0_37b9_11eb_a131_6057188a664arow11_col14\" class=\"data row11 col14\" >486</td>\n",
       "                        <td id=\"T_30d81aa0_37b9_11eb_a131_6057188a664arow11_col15\" class=\"data row11 col15\" >386</td>\n",
       "                        <td id=\"T_30d81aa0_37b9_11eb_a131_6057188a664arow11_col16\" class=\"data row11 col16\" >173</td>\n",
       "                        <td id=\"T_30d81aa0_37b9_11eb_a131_6057188a664arow11_col17\" class=\"data row11 col17\" >98</td>\n",
       "            </tr>\n",
       "            <tr>\n",
       "                        <th id=\"T_30d81aa0_37b9_11eb_a131_6057188a664alevel0_row12\" class=\"row_heading level0 row12\" >13</th>\n",
       "                        <td id=\"T_30d81aa0_37b9_11eb_a131_6057188a664arow12_col0\" class=\"data row12 col0\" >115</td>\n",
       "                        <td id=\"T_30d81aa0_37b9_11eb_a131_6057188a664arow12_col1\" class=\"data row12 col1\" >146</td>\n",
       "                        <td id=\"T_30d81aa0_37b9_11eb_a131_6057188a664arow12_col2\" class=\"data row12 col2\" >226</td>\n",
       "                        <td id=\"T_30d81aa0_37b9_11eb_a131_6057188a664arow12_col3\" class=\"data row12 col3\" >232</td>\n",
       "                        <td id=\"T_30d81aa0_37b9_11eb_a131_6057188a664arow12_col4\" class=\"data row12 col4\" >248</td>\n",
       "                        <td id=\"T_30d81aa0_37b9_11eb_a131_6057188a664arow12_col5\" class=\"data row12 col5\" >344</td>\n",
       "                        <td id=\"T_30d81aa0_37b9_11eb_a131_6057188a664arow12_col6\" class=\"data row12 col6\" >391</td>\n",
       "                        <td id=\"T_30d81aa0_37b9_11eb_a131_6057188a664arow12_col7\" class=\"data row12 col7\" >470</td>\n",
       "                        <td id=\"T_30d81aa0_37b9_11eb_a131_6057188a664arow12_col8\" class=\"data row12 col8\" >537</td>\n",
       "                        <td id=\"T_30d81aa0_37b9_11eb_a131_6057188a664arow12_col9\" class=\"data row12 col9\" >565</td>\n",
       "                        <td id=\"T_30d81aa0_37b9_11eb_a131_6057188a664arow12_col10\" class=\"data row12 col10\" >620</td>\n",
       "                        <td id=\"T_30d81aa0_37b9_11eb_a131_6057188a664arow12_col11\" class=\"data row12 col11\" >669</td>\n",
       "                        <td id=\"T_30d81aa0_37b9_11eb_a131_6057188a664arow12_col12\" class=\"data row12 col12\" >765</td>\n",
       "                        <td id=\"T_30d81aa0_37b9_11eb_a131_6057188a664arow12_col13\" class=\"data row12 col13\" >700</td>\n",
       "                        <td id=\"T_30d81aa0_37b9_11eb_a131_6057188a664arow12_col14\" class=\"data row12 col14\" >558</td>\n",
       "                        <td id=\"T_30d81aa0_37b9_11eb_a131_6057188a664arow12_col15\" class=\"data row12 col15\" >444</td>\n",
       "                        <td id=\"T_30d81aa0_37b9_11eb_a131_6057188a664arow12_col16\" class=\"data row12 col16\" >172</td>\n",
       "                        <td id=\"T_30d81aa0_37b9_11eb_a131_6057188a664arow12_col17\" class=\"data row12 col17\" >132</td>\n",
       "            </tr>\n",
       "            <tr>\n",
       "                        <th id=\"T_30d81aa0_37b9_11eb_a131_6057188a664alevel0_row13\" class=\"row_heading level0 row13\" >14</th>\n",
       "                        <td id=\"T_30d81aa0_37b9_11eb_a131_6057188a664arow13_col0\" class=\"data row13 col0\" >90</td>\n",
       "                        <td id=\"T_30d81aa0_37b9_11eb_a131_6057188a664arow13_col1\" class=\"data row13 col1\" >144</td>\n",
       "                        <td id=\"T_30d81aa0_37b9_11eb_a131_6057188a664arow13_col2\" class=\"data row13 col2\" >150</td>\n",
       "                        <td id=\"T_30d81aa0_37b9_11eb_a131_6057188a664arow13_col3\" class=\"data row13 col3\" >207</td>\n",
       "                        <td id=\"T_30d81aa0_37b9_11eb_a131_6057188a664arow13_col4\" class=\"data row13 col4\" >235</td>\n",
       "                        <td id=\"T_30d81aa0_37b9_11eb_a131_6057188a664arow13_col5\" class=\"data row13 col5\" >260</td>\n",
       "                        <td id=\"T_30d81aa0_37b9_11eb_a131_6057188a664arow13_col6\" class=\"data row13 col6\" >320</td>\n",
       "                        <td id=\"T_30d81aa0_37b9_11eb_a131_6057188a664arow13_col7\" class=\"data row13 col7\" >375</td>\n",
       "                        <td id=\"T_30d81aa0_37b9_11eb_a131_6057188a664arow13_col8\" class=\"data row13 col8\" >410</td>\n",
       "                        <td id=\"T_30d81aa0_37b9_11eb_a131_6057188a664arow13_col9\" class=\"data row13 col9\" >458</td>\n",
       "                        <td id=\"T_30d81aa0_37b9_11eb_a131_6057188a664arow13_col10\" class=\"data row13 col10\" >532</td>\n",
       "                        <td id=\"T_30d81aa0_37b9_11eb_a131_6057188a664arow13_col11\" class=\"data row13 col11\" >595</td>\n",
       "                        <td id=\"T_30d81aa0_37b9_11eb_a131_6057188a664arow13_col12\" class=\"data row13 col12\" >676</td>\n",
       "                        <td id=\"T_30d81aa0_37b9_11eb_a131_6057188a664arow13_col13\" class=\"data row13 col13\" >755</td>\n",
       "                        <td id=\"T_30d81aa0_37b9_11eb_a131_6057188a664arow13_col14\" class=\"data row13 col14\" >546</td>\n",
       "                        <td id=\"T_30d81aa0_37b9_11eb_a131_6057188a664arow13_col15\" class=\"data row13 col15\" >487</td>\n",
       "                        <td id=\"T_30d81aa0_37b9_11eb_a131_6057188a664arow13_col16\" class=\"data row13 col16\" >182</td>\n",
       "                        <td id=\"T_30d81aa0_37b9_11eb_a131_6057188a664arow13_col17\" class=\"data row13 col17\" >155</td>\n",
       "            </tr>\n",
       "            <tr>\n",
       "                        <th id=\"T_30d81aa0_37b9_11eb_a131_6057188a664alevel0_row14\" class=\"row_heading level0 row14\" >15</th>\n",
       "                        <td id=\"T_30d81aa0_37b9_11eb_a131_6057188a664arow14_col0\" class=\"data row14 col0\" >57</td>\n",
       "                        <td id=\"T_30d81aa0_37b9_11eb_a131_6057188a664arow14_col1\" class=\"data row14 col1\" >87</td>\n",
       "                        <td id=\"T_30d81aa0_37b9_11eb_a131_6057188a664arow14_col2\" class=\"data row14 col2\" >111</td>\n",
       "                        <td id=\"T_30d81aa0_37b9_11eb_a131_6057188a664arow14_col3\" class=\"data row14 col3\" >147</td>\n",
       "                        <td id=\"T_30d81aa0_37b9_11eb_a131_6057188a664arow14_col4\" class=\"data row14 col4\" >159</td>\n",
       "                        <td id=\"T_30d81aa0_37b9_11eb_a131_6057188a664arow14_col5\" class=\"data row14 col5\" >189</td>\n",
       "                        <td id=\"T_30d81aa0_37b9_11eb_a131_6057188a664arow14_col6\" class=\"data row14 col6\" >266</td>\n",
       "                        <td id=\"T_30d81aa0_37b9_11eb_a131_6057188a664arow14_col7\" class=\"data row14 col7\" >295</td>\n",
       "                        <td id=\"T_30d81aa0_37b9_11eb_a131_6057188a664arow14_col8\" class=\"data row14 col8\" >321</td>\n",
       "                        <td id=\"T_30d81aa0_37b9_11eb_a131_6057188a664arow14_col9\" class=\"data row14 col9\" >361</td>\n",
       "                        <td id=\"T_30d81aa0_37b9_11eb_a131_6057188a664arow14_col10\" class=\"data row14 col10\" >409</td>\n",
       "                        <td id=\"T_30d81aa0_37b9_11eb_a131_6057188a664arow14_col11\" class=\"data row14 col11\" >464</td>\n",
       "                        <td id=\"T_30d81aa0_37b9_11eb_a131_6057188a664arow14_col12\" class=\"data row14 col12\" >538</td>\n",
       "                        <td id=\"T_30d81aa0_37b9_11eb_a131_6057188a664arow14_col13\" class=\"data row14 col13\" >613</td>\n",
       "                        <td id=\"T_30d81aa0_37b9_11eb_a131_6057188a664arow14_col14\" class=\"data row14 col14\" >678</td>\n",
       "                        <td id=\"T_30d81aa0_37b9_11eb_a131_6057188a664arow14_col15\" class=\"data row14 col15\" >572</td>\n",
       "                        <td id=\"T_30d81aa0_37b9_11eb_a131_6057188a664arow14_col16\" class=\"data row14 col16\" >252</td>\n",
       "                        <td id=\"T_30d81aa0_37b9_11eb_a131_6057188a664arow14_col17\" class=\"data row14 col17\" >199</td>\n",
       "            </tr>\n",
       "            <tr>\n",
       "                        <th id=\"T_30d81aa0_37b9_11eb_a131_6057188a664alevel0_row15\" class=\"row_heading level0 row15\" >16</th>\n",
       "                        <td id=\"T_30d81aa0_37b9_11eb_a131_6057188a664arow15_col0\" class=\"data row15 col0\" >32</td>\n",
       "                        <td id=\"T_30d81aa0_37b9_11eb_a131_6057188a664arow15_col1\" class=\"data row15 col1\" >72</td>\n",
       "                        <td id=\"T_30d81aa0_37b9_11eb_a131_6057188a664arow15_col2\" class=\"data row15 col2\" >96</td>\n",
       "                        <td id=\"T_30d81aa0_37b9_11eb_a131_6057188a664arow15_col3\" class=\"data row15 col3\" >100</td>\n",
       "                        <td id=\"T_30d81aa0_37b9_11eb_a131_6057188a664arow15_col4\" class=\"data row15 col4\" >131</td>\n",
       "                        <td id=\"T_30d81aa0_37b9_11eb_a131_6057188a664arow15_col5\" class=\"data row15 col5\" >171</td>\n",
       "                        <td id=\"T_30d81aa0_37b9_11eb_a131_6057188a664arow15_col6\" class=\"data row15 col6\" >171</td>\n",
       "                        <td id=\"T_30d81aa0_37b9_11eb_a131_6057188a664arow15_col7\" class=\"data row15 col7\" >216</td>\n",
       "                        <td id=\"T_30d81aa0_37b9_11eb_a131_6057188a664arow15_col8\" class=\"data row15 col8\" >226</td>\n",
       "                        <td id=\"T_30d81aa0_37b9_11eb_a131_6057188a664arow15_col9\" class=\"data row15 col9\" >288</td>\n",
       "                        <td id=\"T_30d81aa0_37b9_11eb_a131_6057188a664arow15_col10\" class=\"data row15 col10\" >304</td>\n",
       "                        <td id=\"T_30d81aa0_37b9_11eb_a131_6057188a664arow15_col11\" class=\"data row15 col11\" >371</td>\n",
       "                        <td id=\"T_30d81aa0_37b9_11eb_a131_6057188a664arow15_col12\" class=\"data row15 col12\" >403</td>\n",
       "                        <td id=\"T_30d81aa0_37b9_11eb_a131_6057188a664arow15_col13\" class=\"data row15 col13\" >500</td>\n",
       "                        <td id=\"T_30d81aa0_37b9_11eb_a131_6057188a664arow15_col14\" class=\"data row15 col14\" >574</td>\n",
       "                        <td id=\"T_30d81aa0_37b9_11eb_a131_6057188a664arow15_col15\" class=\"data row15 col15\" >740</td>\n",
       "                        <td id=\"T_30d81aa0_37b9_11eb_a131_6057188a664arow15_col16\" class=\"data row15 col16\" >256</td>\n",
       "                        <td id=\"T_30d81aa0_37b9_11eb_a131_6057188a664arow15_col17\" class=\"data row15 col17\" >204</td>\n",
       "            </tr>\n",
       "            <tr>\n",
       "                        <th id=\"T_30d81aa0_37b9_11eb_a131_6057188a664alevel0_row16\" class=\"row_heading level0 row16\" >17</th>\n",
       "                        <td id=\"T_30d81aa0_37b9_11eb_a131_6057188a664arow16_col0\" class=\"data row16 col0\" >13</td>\n",
       "                        <td id=\"T_30d81aa0_37b9_11eb_a131_6057188a664arow16_col1\" class=\"data row16 col1\" >19</td>\n",
       "                        <td id=\"T_30d81aa0_37b9_11eb_a131_6057188a664arow16_col2\" class=\"data row16 col2\" >31</td>\n",
       "                        <td id=\"T_30d81aa0_37b9_11eb_a131_6057188a664arow16_col3\" class=\"data row16 col3\" >41</td>\n",
       "                        <td id=\"T_30d81aa0_37b9_11eb_a131_6057188a664arow16_col4\" class=\"data row16 col4\" >50</td>\n",
       "                        <td id=\"T_30d81aa0_37b9_11eb_a131_6057188a664arow16_col5\" class=\"data row16 col5\" >52</td>\n",
       "                        <td id=\"T_30d81aa0_37b9_11eb_a131_6057188a664arow16_col6\" class=\"data row16 col6\" >82</td>\n",
       "                        <td id=\"T_30d81aa0_37b9_11eb_a131_6057188a664arow16_col7\" class=\"data row16 col7\" >97</td>\n",
       "                        <td id=\"T_30d81aa0_37b9_11eb_a131_6057188a664arow16_col8\" class=\"data row16 col8\" >111</td>\n",
       "                        <td id=\"T_30d81aa0_37b9_11eb_a131_6057188a664arow16_col9\" class=\"data row16 col9\" >125</td>\n",
       "                        <td id=\"T_30d81aa0_37b9_11eb_a131_6057188a664arow16_col10\" class=\"data row16 col10\" >138</td>\n",
       "                        <td id=\"T_30d81aa0_37b9_11eb_a131_6057188a664arow16_col11\" class=\"data row16 col11\" >160</td>\n",
       "                        <td id=\"T_30d81aa0_37b9_11eb_a131_6057188a664arow16_col12\" class=\"data row16 col12\" >165</td>\n",
       "                        <td id=\"T_30d81aa0_37b9_11eb_a131_6057188a664arow16_col13\" class=\"data row16 col13\" >190</td>\n",
       "                        <td id=\"T_30d81aa0_37b9_11eb_a131_6057188a664arow16_col14\" class=\"data row16 col14\" >244</td>\n",
       "                        <td id=\"T_30d81aa0_37b9_11eb_a131_6057188a664arow16_col15\" class=\"data row16 col15\" >248</td>\n",
       "                        <td id=\"T_30d81aa0_37b9_11eb_a131_6057188a664arow16_col16\" class=\"data row16 col16\" >295</td>\n",
       "                        <td id=\"T_30d81aa0_37b9_11eb_a131_6057188a664arow16_col17\" class=\"data row16 col17\" >237</td>\n",
       "            </tr>\n",
       "            <tr>\n",
       "                        <th id=\"T_30d81aa0_37b9_11eb_a131_6057188a664alevel0_row17\" class=\"row_heading level0 row17\" >18</th>\n",
       "                        <td id=\"T_30d81aa0_37b9_11eb_a131_6057188a664arow17_col0\" class=\"data row17 col0\" >11</td>\n",
       "                        <td id=\"T_30d81aa0_37b9_11eb_a131_6057188a664arow17_col1\" class=\"data row17 col1\" >18</td>\n",
       "                        <td id=\"T_30d81aa0_37b9_11eb_a131_6057188a664arow17_col2\" class=\"data row17 col2\" >29</td>\n",
       "                        <td id=\"T_30d81aa0_37b9_11eb_a131_6057188a664arow17_col3\" class=\"data row17 col3\" >29</td>\n",
       "                        <td id=\"T_30d81aa0_37b9_11eb_a131_6057188a664arow17_col4\" class=\"data row17 col4\" >28</td>\n",
       "                        <td id=\"T_30d81aa0_37b9_11eb_a131_6057188a664arow17_col5\" class=\"data row17 col5\" >35</td>\n",
       "                        <td id=\"T_30d81aa0_37b9_11eb_a131_6057188a664arow17_col6\" class=\"data row17 col6\" >40</td>\n",
       "                        <td id=\"T_30d81aa0_37b9_11eb_a131_6057188a664arow17_col7\" class=\"data row17 col7\" >60</td>\n",
       "                        <td id=\"T_30d81aa0_37b9_11eb_a131_6057188a664arow17_col8\" class=\"data row17 col8\" >72</td>\n",
       "                        <td id=\"T_30d81aa0_37b9_11eb_a131_6057188a664arow17_col9\" class=\"data row17 col9\" >71</td>\n",
       "                        <td id=\"T_30d81aa0_37b9_11eb_a131_6057188a664arow17_col10\" class=\"data row17 col10\" >119</td>\n",
       "                        <td id=\"T_30d81aa0_37b9_11eb_a131_6057188a664arow17_col11\" class=\"data row17 col11\" >113</td>\n",
       "                        <td id=\"T_30d81aa0_37b9_11eb_a131_6057188a664arow17_col12\" class=\"data row17 col12\" >144</td>\n",
       "                        <td id=\"T_30d81aa0_37b9_11eb_a131_6057188a664arow17_col13\" class=\"data row17 col13\" >152</td>\n",
       "                        <td id=\"T_30d81aa0_37b9_11eb_a131_6057188a664arow17_col14\" class=\"data row17 col14\" >168</td>\n",
       "                        <td id=\"T_30d81aa0_37b9_11eb_a131_6057188a664arow17_col15\" class=\"data row17 col15\" >181</td>\n",
       "                        <td id=\"T_30d81aa0_37b9_11eb_a131_6057188a664arow17_col16\" class=\"data row17 col16\" >226</td>\n",
       "                        <td id=\"T_30d81aa0_37b9_11eb_a131_6057188a664arow17_col17\" class=\"data row17 col17\" >304</td>\n",
       "            </tr>\n",
       "    </tbody></table>"
      ],
      "text/plain": [
       "<pandas.io.formats.style.Styler at 0x181bbfcbd00>"
      ]
     },
     "execution_count": 128,
     "metadata": {},
     "output_type": "execute_result"
    }
   ],
   "source": [
    "pd.crosstab(df_pred.arrival, df_pred.pred_rank).style.background_gradient()"
   ]
  },
  {
   "cell_type": "code",
   "execution_count": 131,
   "metadata": {
    "ExecuteTime": {
     "end_time": "2020-12-06T11:50:13.119858Z",
     "start_time": "2020-12-06T11:50:12.958914Z"
    }
   },
   "outputs": [],
   "source": [
    "df_ac = pd.DataFrame(index=df_pred.race_id.unique())\n",
    "df_ac.index.name = 'race_id'\n",
    "df_ac = df_ac.merge(\n",
    "    df_pred.query('arrival==1')[['race_id', '単勝']].drop_duplicates('race_id').set_index('race_id'),\n",
    "    how='left',\n",
    "    left_index=True,\n",
    "    right_index=True\n",
    ")\n",
    "\n",
    "df_ac['acc_flg'] = 0\n",
    "df_ac.loc[df_ac.index.isin(accuracy_id), 'acc_flg'] = 1\n",
    "tmp = pd.pivot_table(\n",
    "    df_pred.query('pred_rank <=2'),\n",
    "    values='pred_prob',\n",
    "    index='race_id',\n",
    "    columns='pred_rank'\n",
    ")\n",
    "tmp.columns = ['score1', 'score2']\n",
    "df_ac = df_ac.merge(tmp, how='left', left_index=True, right_index=True)\n",
    "df_ac['s_diff'] = df_ac.score1 - df_ac.score2\n",
    "\n",
    "df_ac = df_ac.merge(df_info, how='left', left_index=True, right_index=True)\n",
    "\n",
    "df_ac['EV'] = df_ac.単勝 * df_ac.score1\n",
    "df_ac['EV_diff'] = df_ac.EV * df_ac.s_diff\n",
    "df_ac['s_diff_rate'] = df_ac.s_diff * df_ac.score1"
   ]
  },
  {
   "cell_type": "code",
   "execution_count": 132,
   "metadata": {
    "ExecuteTime": {
     "end_time": "2020-12-06T11:50:13.435777Z",
     "start_time": "2020-12-06T11:50:13.413792Z"
    },
    "scrolled": true
   },
   "outputs": [
    {
     "data": {
      "text/html": [
       "<div>\n",
       "<style scoped>\n",
       "    .dataframe tbody tr th:only-of-type {\n",
       "        vertical-align: middle;\n",
       "    }\n",
       "\n",
       "    .dataframe tbody tr th {\n",
       "        vertical-align: top;\n",
       "    }\n",
       "\n",
       "    .dataframe thead th {\n",
       "        text-align: right;\n",
       "    }\n",
       "</style>\n",
       "<table border=\"1\" class=\"dataframe\">\n",
       "  <thead>\n",
       "    <tr style=\"text-align: right;\">\n",
       "      <th></th>\n",
       "      <th>単勝</th>\n",
       "      <th>acc_flg</th>\n",
       "      <th>score1</th>\n",
       "      <th>score2</th>\n",
       "      <th>s_diff</th>\n",
       "    </tr>\n",
       "    <tr>\n",
       "      <th>race_id</th>\n",
       "      <th></th>\n",
       "      <th></th>\n",
       "      <th></th>\n",
       "      <th></th>\n",
       "      <th></th>\n",
       "    </tr>\n",
       "  </thead>\n",
       "  <tbody>\n",
       "    <tr>\n",
       "      <th>201201010101</th>\n",
       "      <td>1.7</td>\n",
       "      <td>0</td>\n",
       "      <td>0.450744</td>\n",
       "      <td>0.416512</td>\n",
       "      <td>0.034232</td>\n",
       "    </tr>\n",
       "    <tr>\n",
       "      <th>201201010104</th>\n",
       "      <td>3.7</td>\n",
       "      <td>1</td>\n",
       "      <td>0.504015</td>\n",
       "      <td>0.367944</td>\n",
       "      <td>0.136070</td>\n",
       "    </tr>\n",
       "    <tr>\n",
       "      <th>201201010108</th>\n",
       "      <td>4.9</td>\n",
       "      <td>0</td>\n",
       "      <td>0.570118</td>\n",
       "      <td>0.405596</td>\n",
       "      <td>0.164521</td>\n",
       "    </tr>\n",
       "    <tr>\n",
       "      <th>201201010110</th>\n",
       "      <td>65.5</td>\n",
       "      <td>0</td>\n",
       "      <td>0.454435</td>\n",
       "      <td>0.313319</td>\n",
       "      <td>0.141116</td>\n",
       "    </tr>\n",
       "    <tr>\n",
       "      <th>201201010112</th>\n",
       "      <td>28.5</td>\n",
       "      <td>0</td>\n",
       "      <td>0.480149</td>\n",
       "      <td>0.335301</td>\n",
       "      <td>0.144847</td>\n",
       "    </tr>\n",
       "  </tbody>\n",
       "</table>\n",
       "</div>"
      ],
      "text/plain": [
       "                単勝  acc_flg    score1    score2    s_diff\n",
       "race_id                                                  \n",
       "201201010101   1.7        0  0.450744  0.416512  0.034232\n",
       "201201010104   3.7        1  0.504015  0.367944  0.136070\n",
       "201201010108   4.9        0  0.570118  0.405596  0.164521\n",
       "201201010110  65.5        0  0.454435  0.313319  0.141116\n",
       "201201010112  28.5        0  0.480149  0.335301  0.144847"
      ]
     },
     "execution_count": 132,
     "metadata": {},
     "output_type": "execute_result"
    }
   ],
   "source": [
    "df_ac.head()"
   ]
  },
  {
   "cell_type": "markdown",
   "metadata": {},
   "source": [
    "# 購入閾値検索"
   ]
  },
  {
   "cell_type": "code",
   "execution_count": null,
   "metadata": {},
   "outputs": [],
   "source": [
    "def get_return(df, col, vmax=1, step=0.01, over=True, plot_min=0.8):\n",
    "    df_ret = pd.DataFrame(columns=['対象数', '回収率'])\n",
    "    if over:\n",
    "        op = '>'\n",
    "    else:\n",
    "        op = '<'\n",
    "    max_ret = -10000\n",
    "    max_th = -1\n",
    "    max_len = -1\n",
    "    for th in np.arange(0, vmax, step):\n",
    "        th = round(th, 2)\n",
    "        tmp = df.query(col + op + str(th))\n",
    "        ret = round((tmp.query('acc_flg==1').単勝.sum()/tmp.shape[0]), 3)\n",
    "        if ret > max_ret:\n",
    "            max_ret = ret\n",
    "            max_th = th\n",
    "            max_len = len(tmp)\n",
    "        df_ret.loc[th] = [tmp.shape[0], ret]\n",
    "    print(f'対象カラム: {col}, 最大回収率: {max_ret}, 閾値: {max_th}, 対象数: {max_len}, 対象率: {round(max_len/df.shape[0], 3)}')\n",
    "    \n",
    "    df_ret['対象率'] = df_ret.対象数 / df.shape[0]\n",
    "    \n",
    "#     plt.scatter(max_th, max_ret, s=100, c='none', edgecolors='blue')\n",
    "    df_ret.回収率.plot()\n",
    "    plt.plot([0,vmax], [1,1])\n",
    "    plt.ylim(plot_min, )\n",
    "    plt.ylabel('回収率')\n",
    "    plt.xlabel(col)\n",
    "    plt.twinx()\n",
    "    df[col].hist(bins=20, alpha=.1, color='c', grid=False, range=(0, vmax))\n",
    "    plt.ylabel('件数')\n",
    "    plt.show()\n",
    "    return df_ret, max_th"
   ]
  },
  {
   "cell_type": "code",
   "execution_count": 135,
   "metadata": {
    "ExecuteTime": {
     "end_time": "2020-12-06T11:50:15.008881Z",
     "start_time": "2020-12-06T11:50:14.672075Z"
    }
   },
   "outputs": [
    {
     "data": {
      "text/plain": [
       "acc_flg\n",
       "0    AxesSubplot(0.125,0.125;0.775x0.755)\n",
       "1    AxesSubplot(0.125,0.125;0.775x0.755)\n",
       "Name: EV, dtype: object"
      ]
     },
     "execution_count": 135,
     "metadata": {},
     "output_type": "execute_result"
    },
    {
     "data": {
      "image/png": "[encoded data removed]",
      "text/plain": [
       "<Figure size 600x400 with 1 Axes>"
      ]
     },
     "metadata": {
      "needs_background": "light"
     },
     "output_type": "display_data"
    }
   ],
   "source": [
    "df_ac.groupby('acc_flg').EV.hist(bins=50, histtype='step', range=(0, df_ac.EV.max()))"
   ]
  },
  {
   "cell_type": "code",
   "execution_count": 136,
   "metadata": {
    "ExecuteTime": {
     "end_time": "2020-12-06T11:50:15.738148Z",
     "start_time": "2020-12-06T11:50:15.444164Z"
    }
   },
   "outputs": [
    {
     "data": {
      "text/plain": [
       "acc_flg\n",
       "0    AxesSubplot(0.125,0.125;0.775x0.755)\n",
       "1    AxesSubplot(0.125,0.125;0.775x0.755)\n",
       "Name: s_diff_rate, dtype: object"
      ]
     },
     "execution_count": 136,
     "metadata": {},
     "output_type": "execute_result"
    },
    {
     "data": {
      "image/png": "[encoded data removed]",
      "text/plain": [
       "<Figure size 600x400 with 1 Axes>"
      ]
     },
     "metadata": {
      "needs_background": "light"
     },
     "output_type": "display_data"
    }
   ],
   "source": [
    "df_ac.groupby('acc_flg').s_diff_rate.hist(bins=20, histtype='step')"
   ]
  },
  {
   "cell_type": "code",
   "execution_count": 137,
   "metadata": {
    "ExecuteTime": {
     "end_time": "2020-12-06T11:50:18.028162Z",
     "start_time": "2020-12-06T11:50:17.745796Z"
    }
   },
   "outputs": [
    {
     "data": {
      "text/plain": [
       "acc_flg\n",
       "0    AxesSubplot(0.125,0.125;0.775x0.755)\n",
       "1    AxesSubplot(0.125,0.125;0.775x0.755)\n",
       "Name: s_diff, dtype: object"
      ]
     },
     "execution_count": 137,
     "metadata": {},
     "output_type": "execute_result"
    },
    {
     "data": {
      "image/png": "[encoded data removed]",
      "text/plain": [
       "<Figure size 600x400 with 1 Axes>"
      ]
     },
     "metadata": {
      "needs_background": "light"
     },
     "output_type": "display_data"
    }
   ],
   "source": [
    "df_ac.groupby('acc_flg').s_diff.hist(bins=20, histtype='step')"
   ]
  },
  {
   "cell_type": "code",
   "execution_count": 138,
   "metadata": {
    "ExecuteTime": {
     "end_time": "2020-12-06T11:50:18.609794Z",
     "start_time": "2020-12-06T11:50:18.316943Z"
    }
   },
   "outputs": [
    {
     "data": {
      "text/plain": [
       "acc_flg\n",
       "0    AxesSubplot(0.125,0.125;0.775x0.755)\n",
       "1    AxesSubplot(0.125,0.125;0.775x0.755)\n",
       "Name: 単勝, dtype: object"
      ]
     },
     "execution_count": 138,
     "metadata": {},
     "output_type": "execute_result"
    },
    {
     "data": {
      "image/png": "[encoded data removed]",
      "text/plain": [
       "<Figure size 600x400 with 1 Axes>"
      ]
     },
     "metadata": {
      "needs_background": "light"
     },
     "output_type": "display_data"
    }
   ],
   "source": [
    "df_ac.groupby('acc_flg').単勝.hist(bins=20, histtype='step', range=(0, df_ac.単勝.max()))"
   ]
  },
  {
   "cell_type": "code",
   "execution_count": 321,
   "metadata": {
    "ExecuteTime": {
     "end_time": "2020-12-06T14:37:15.042349Z",
     "start_time": "2020-12-06T14:37:14.452791Z"
    }
   },
   "outputs": [
    {
     "name": "stdout",
     "output_type": "stream",
     "text": [
      "対象カラム: EV, 最大回収率: 1.122, 閾値: 2, 対象数: 4806, 対象率: 0.459\n"
     ]
    },
    {
     "data": {
      "image/png": "[encoded data removed]",
      "text/plain": [
       "<Figure size 600x400 with 2 Axes>"
      ]
     },
     "metadata": {
      "needs_background": "light"
     },
     "output_type": "display_data"
    }
   ],
   "source": [
    "df_ret, max_th = get_return(df_ac, 'EV', 10, 1, over=False)"
   ]
  },
  {
   "cell_type": "code",
   "execution_count": 322,
   "metadata": {
    "ExecuteTime": {
     "end_time": "2020-12-06T14:37:21.330921Z",
     "start_time": "2020-12-06T14:37:20.535211Z"
    }
   },
   "outputs": [
    {
     "name": "stdout",
     "output_type": "stream",
     "text": [
      "対象カラム: EV_diff, 最大回収率: 1.011, 閾値: 0.15, 対象数: 5213, 対象率: 0.498\n"
     ]
    },
    {
     "data": {
      "image/png": "[encoded data removed]",
      "text/plain": [
       "<Figure size 600x400 with 2 Axes>"
      ]
     },
     "metadata": {
      "needs_background": "light"
     },
     "output_type": "display_data"
    }
   ],
   "source": [
    "df_ret, max_th = get_return(df_ac, 'EV_diff', 2, 0.05, over=False)"
   ]
  },
  {
   "cell_type": "code",
   "execution_count": 323,
   "metadata": {
    "ExecuteTime": {
     "end_time": "2020-12-06T14:37:37.696041Z",
     "start_time": "2020-12-06T14:37:21.643269Z"
    }
   },
   "outputs": [
    {
     "name": "stdout",
     "output_type": "stream",
     "text": [
      "対象カラム: 単勝, 最大回収率: 1.149, 閾値: 2.81, 対象数: 2489, 対象率: 0.238\n"
     ]
    },
    {
     "data": {
      "image/png": "[encoded data removed]",
      "text/plain": [
       "<Figure size 600x400 with 2 Axes>"
      ]
     },
     "metadata": {
      "needs_background": "light"
     },
     "output_type": "display_data"
    }
   ],
   "source": [
    "df_ret, max_th = get_return(df_ac, '単勝', 20, 0.01, over=False)"
   ]
  },
  {
   "cell_type": "code",
   "execution_count": 324,
   "metadata": {
    "ExecuteTime": {
     "end_time": "2020-12-06T14:37:39.251074Z",
     "start_time": "2020-12-06T14:37:37.696041Z"
    }
   },
   "outputs": [
    {
     "name": "stdout",
     "output_type": "stream",
     "text": [
      "対象カラム: score1, 最大回収率: 1.45, 閾値: 0.72, 対象数: 2, 対象率: 0.0\n"
     ]
    },
    {
     "data": {
      "image/png": "[encoded data removed]",
      "text/plain": [
       "<Figure size 600x400 with 2 Axes>"
      ]
     },
     "metadata": {
      "needs_background": "light"
     },
     "output_type": "display_data"
    }
   ],
   "source": [
    "df_ret, max_th = get_return(df_ac, 'score1', 1, 0.01, over=True, plot_min=0.7)"
   ]
  },
  {
   "cell_type": "code",
   "execution_count": 325,
   "metadata": {
    "ExecuteTime": {
     "end_time": "2020-12-06T14:37:40.653191Z",
     "start_time": "2020-12-06T14:37:39.251074Z"
    }
   },
   "outputs": [
    {
     "name": "stdout",
     "output_type": "stream",
     "text": [
      "対象カラム: s_diff, 最大回収率: 1.05, 閾値: 0.45, 対象数: 4, 対象率: 0.0\n"
     ]
    },
    {
     "data": {
      "image/png": "[encoded data removed]",
      "text/plain": [
       "<Figure size 600x400 with 2 Axes>"
      ]
     },
     "metadata": {
      "needs_background": "light"
     },
     "output_type": "display_data"
    }
   ],
   "source": [
    "df_ret, max_th = get_return(df_ac, 's_diff', 1, 0.01, over=True, plot_min=0.7)"
   ]
  },
  {
   "cell_type": "code",
   "execution_count": 326,
   "metadata": {
    "ExecuteTime": {
     "end_time": "2020-12-06T14:37:42.014365Z",
     "start_time": "2020-12-06T14:37:40.653191Z"
    }
   },
   "outputs": [
    {
     "name": "stdout",
     "output_type": "stream",
     "text": [
      "対象カラム: s_diff_rate, 最大回収率: 1.6, 閾値: 0.32, 対象数: 1, 対象率: 0.0\n"
     ]
    },
    {
     "data": {
      "image/png": "[encoded data removed]",
      "text/plain": [
       "<Figure size 600x400 with 2 Axes>"
      ]
     },
     "metadata": {
      "needs_background": "light"
     },
     "output_type": "display_data"
    }
   ],
   "source": [
    "df_ret, max_th = get_return(df_ac, 's_diff_rate', 1, 0.01, over=True, plot_min=0.5)"
   ]
  },
  {
   "cell_type": "markdown",
   "metadata": {},
   "source": [
    "# 購入モデル"
   ]
  },
  {
   "cell_type": "markdown",
   "metadata": {},
   "source": [
    "## ライブラリ"
   ]
  },
  {
   "cell_type": "code",
   "execution_count": 146,
   "metadata": {
    "ExecuteTime": {
     "end_time": "2020-12-06T11:51:15.563471Z",
     "start_time": "2020-12-06T11:51:15.558496Z"
    }
   },
   "outputs": [],
   "source": [
    "import xgboost as xgb"
   ]
  },
  {
   "cell_type": "code",
   "execution_count": 147,
   "metadata": {
    "ExecuteTime": {
     "end_time": "2020-12-06T11:51:15.995069Z",
     "start_time": "2020-12-06T11:51:15.990070Z"
    }
   },
   "outputs": [],
   "source": [
    "from sklearn.model_selection import train_test_split\n",
    "from sklearn.linear_model import LogisticRegression\n",
    "from sklearn.calibration import calibration_curve\n",
    "from sklearn.metrics import roc_curve,recall_score, confusion_matrix, accuracy_score, precision_score, f1_score\n",
    "from sklearn.metrics import roc_auc_score"
   ]
  },
  {
   "cell_type": "markdown",
   "metadata": {},
   "source": [
    "## 学習データ作成"
   ]
  },
  {
   "cell_type": "code",
   "execution_count": null,
   "metadata": {
    "ExecuteTime": {
     "end_time": "2020-12-06T11:51:17.085266Z",
     "start_time": "2020-12-06T11:51:17.065281Z"
    }
   },
   "outputs": [],
   "source": [
    "# one-hot\n",
    "df_use = pd.get_dummies(df_ac, columns=['whether_int', 'condition_int'], drop_first=True).dropna()\n",
    "\n",
    "# target\n",
    "df_use['target'] = df_use.acc_flg.copy()"
   ]
  },
  {
   "cell_type": "code",
   "execution_count": 150,
   "metadata": {
    "ExecuteTime": {
     "end_time": "2020-12-06T11:51:17.936623Z",
     "start_time": "2020-12-06T11:51:17.925606Z"
    }
   },
   "outputs": [
    {
     "name": "stdout",
     "output_type": "stream",
     "text": [
      "(7851, 13)\n",
      "(2618, 13)\n"
     ]
    }
   ],
   "source": [
    "df_train, df_test = train_test_split(df_use)\n",
    "print(df_train.shape)\n",
    "print(df_test.shape)"
   ]
  },
  {
   "cell_type": "code",
   "execution_count": 151,
   "metadata": {
    "ExecuteTime": {
     "end_time": "2020-12-06T11:51:18.590967Z",
     "start_time": "2020-12-06T11:51:18.572977Z"
    }
   },
   "outputs": [],
   "source": [
    "# 不均衡データ調整\n",
    "target_size = (df_train.target==1).sum()\n",
    "\n",
    "df_train_0 = df_train[df_train.target==0]\n",
    "df_train_use = df_train_0.sample(target_size, random_state=0)\n",
    "df_train_use = pd.concat([df_train_use, df_train[df_train.target==1]])\n",
    "\n",
    "# X_train_use = X_train.loc[y_train_use.index]"
   ]
  },
  {
   "cell_type": "code",
   "execution_count": 152,
   "metadata": {
    "ExecuteTime": {
     "end_time": "2020-12-06T11:51:19.515905Z",
     "start_time": "2020-12-06T11:51:19.509909Z"
    }
   },
   "outputs": [
    {
     "name": "stdout",
     "output_type": "stream",
     "text": [
      "11\n"
     ]
    }
   ],
   "source": [
    "X_cols = [col for col in df_train.columns if col not in {'acc_flg', 'target'}]\n",
    "print(len(X_cols))"
   ]
  },
  {
   "cell_type": "code",
   "execution_count": 153,
   "metadata": {
    "ExecuteTime": {
     "end_time": "2020-12-06T11:51:20.087773Z",
     "start_time": "2020-12-06T11:51:20.078778Z"
    }
   },
   "outputs": [],
   "source": [
    "X_train = df_train_use[X_cols]\n",
    "X_test = df_test[X_cols]\n",
    "y_train = df_train_use['target']\n",
    "y_test = df_test['target']\n",
    "\n",
    "# X_train = df_use[X_cols]\n",
    "# y_train = df_use['target']\n",
    "# X_test = df_use[X_cols]\n",
    "# y_test = df_use['target']"
   ]
  },
  {
   "cell_type": "code",
   "execution_count": 154,
   "metadata": {
    "ExecuteTime": {
     "end_time": "2020-12-06T11:51:20.783726Z",
     "start_time": "2020-12-06T11:51:20.711763Z"
    }
   },
   "outputs": [
    {
     "data": {
      "text/html": [
       "<div>\n",
       "<style scoped>\n",
       "    .dataframe tbody tr th:only-of-type {\n",
       "        vertical-align: middle;\n",
       "    }\n",
       "\n",
       "    .dataframe tbody tr th {\n",
       "        vertical-align: top;\n",
       "    }\n",
       "\n",
       "    .dataframe thead th {\n",
       "        text-align: right;\n",
       "    }\n",
       "</style>\n",
       "<table border=\"1\" class=\"dataframe\">\n",
       "  <thead>\n",
       "    <tr style=\"text-align: right;\">\n",
       "      <th>target</th>\n",
       "      <th>0</th>\n",
       "      <th>1</th>\n",
       "      <th>All</th>\n",
       "    </tr>\n",
       "    <tr>\n",
       "      <th>種類</th>\n",
       "      <th></th>\n",
       "      <th></th>\n",
       "      <th></th>\n",
       "    </tr>\n",
       "  </thead>\n",
       "  <tbody>\n",
       "    <tr>\n",
       "      <th>test</th>\n",
       "      <td>1965</td>\n",
       "      <td>653</td>\n",
       "      <td>2618</td>\n",
       "    </tr>\n",
       "    <tr>\n",
       "      <th>train</th>\n",
       "      <td>1959</td>\n",
       "      <td>1959</td>\n",
       "      <td>3918</td>\n",
       "    </tr>\n",
       "    <tr>\n",
       "      <th>All</th>\n",
       "      <td>3924</td>\n",
       "      <td>2612</td>\n",
       "      <td>6536</td>\n",
       "    </tr>\n",
       "  </tbody>\n",
       "</table>\n",
       "</div>"
      ],
      "text/plain": [
       "target     0     1   All\n",
       "種類                      \n",
       "test    1965   653  2618\n",
       "train   1959  1959  3918\n",
       "All     3924  2612  6536"
      ]
     },
     "execution_count": 154,
     "metadata": {},
     "output_type": "execute_result"
    }
   ],
   "source": [
    "tmp = y_train.to_frame()\n",
    "tmp['種類'] = 'train'\n",
    "tmp2 = y_test.to_frame()\n",
    "tmp2['種類'] = 'test'\n",
    "tmp3 = pd.concat([tmp, tmp2])\n",
    "df_sampling = pd.crosstab(tmp3.種類, tmp3.target, margins=True)\n",
    "df_sampling"
   ]
  },
  {
   "cell_type": "code",
   "execution_count": 1,
   "metadata": {
    "ExecuteTime": {
     "end_time": "2020-12-12T19:43:46.262833Z",
     "start_time": "2020-12-12T19:43:45.831733Z"
    }
   },
   "outputs": [
    {
     "ename": "NameError",
     "evalue": "name 'y_test' is not defined",
     "output_type": "error",
     "traceback": [
      "\u001b[1;31m---------------------------------------------------------------------------\u001b[0m",
      "\u001b[1;31mNameError\u001b[0m                                 Traceback (most recent call last)",
      "\u001b[1;32m<ipython-input-1-cf0cbda5b9ce>\u001b[0m in \u001b[0;36m<module>\u001b[1;34m\u001b[0m\n\u001b[1;32m----> 1\u001b[1;33m \u001b[0ms_rate\u001b[0m \u001b[1;33m=\u001b[0m \u001b[0my_test\u001b[0m\u001b[1;33m.\u001b[0m\u001b[0msum\u001b[0m\u001b[1;33m(\u001b[0m\u001b[1;33m)\u001b[0m \u001b[1;33m/\u001b[0m \u001b[0mlen\u001b[0m\u001b[1;33m(\u001b[0m\u001b[0my_test\u001b[0m\u001b[1;33m)\u001b[0m\u001b[1;33m\u001b[0m\u001b[1;33m\u001b[0m\u001b[0m\n\u001b[0m\u001b[0;32m      2\u001b[0m \u001b[1;31m# s_rate = (y_test==1).sum() / y_test.shape[0]\u001b[0m\u001b[1;33m\u001b[0m\u001b[1;33m\u001b[0m\u001b[1;33m\u001b[0m\u001b[0m\n\u001b[0;32m      3\u001b[0m \u001b[0ms_rate\u001b[0m\u001b[1;33m\u001b[0m\u001b[1;33m\u001b[0m\u001b[0m\n",
      "\u001b[1;31mNameError\u001b[0m: name 'y_test' is not defined"
     ]
    }
   ],
   "source": [
    "s_rate = y_test.sum() / len(y_test)\n",
    "# s_rate = (y_test==1).sum() / y_test.shape[0]\n",
    "s_rate"
   ]
  },
  {
   "cell_type": "markdown",
   "metadata": {},
   "source": [
    "## 学習"
   ]
  },
  {
   "cell_type": "code",
   "execution_count": 167,
   "metadata": {
    "ExecuteTime": {
     "end_time": "2020-12-06T11:52:42.197049Z",
     "start_time": "2020-12-06T11:52:42.095087Z"
    }
   },
   "outputs": [
    {
     "data": {
      "text/plain": [
       "LogisticRegression(random_state=0)"
      ]
     },
     "execution_count": 167,
     "metadata": {},
     "output_type": "execute_result"
    }
   ],
   "source": [
    "clf = LogisticRegression(random_state=0)\n",
    "clf.fit(X_train, y_train)"
   ]
  },
  {
   "cell_type": "code",
   "execution_count": 168,
   "metadata": {
    "ExecuteTime": {
     "end_time": "2020-12-06T11:52:44.419555Z",
     "start_time": "2020-12-06T11:52:44.406561Z"
    }
   },
   "outputs": [
    {
     "data": {
      "text/html": [
       "<div>\n",
       "<style scoped>\n",
       "    .dataframe tbody tr th:only-of-type {\n",
       "        vertical-align: middle;\n",
       "    }\n",
       "\n",
       "    .dataframe tbody tr th {\n",
       "        vertical-align: top;\n",
       "    }\n",
       "\n",
       "    .dataframe thead th {\n",
       "        text-align: right;\n",
       "    }\n",
       "</style>\n",
       "<table border=\"1\" class=\"dataframe\">\n",
       "  <thead>\n",
       "    <tr style=\"text-align: right;\">\n",
       "      <th></th>\n",
       "      <th>0</th>\n",
       "    </tr>\n",
       "  </thead>\n",
       "  <tbody>\n",
       "    <tr>\n",
       "      <th>単勝</th>\n",
       "      <td>0.066113</td>\n",
       "    </tr>\n",
       "    <tr>\n",
       "      <th>score1</th>\n",
       "      <td>3.846486</td>\n",
       "    </tr>\n",
       "    <tr>\n",
       "      <th>score2</th>\n",
       "      <td>-0.200839</td>\n",
       "    </tr>\n",
       "    <tr>\n",
       "      <th>s_diff</th>\n",
       "      <td>4.047325</td>\n",
       "    </tr>\n",
       "    <tr>\n",
       "      <th>EV</th>\n",
       "      <td>-0.680756</td>\n",
       "    </tr>\n",
       "    <tr>\n",
       "      <th>EV_diff</th>\n",
       "      <td>-2.101846</td>\n",
       "    </tr>\n",
       "    <tr>\n",
       "      <th>s_diff_rate</th>\n",
       "      <td>2.254235</td>\n",
       "    </tr>\n",
       "    <tr>\n",
       "      <th>whether_int_2</th>\n",
       "      <td>0.000751</td>\n",
       "    </tr>\n",
       "    <tr>\n",
       "      <th>whether_int_3</th>\n",
       "      <td>0.420818</td>\n",
       "    </tr>\n",
       "    <tr>\n",
       "      <th>condition_int_2</th>\n",
       "      <td>0.059311</td>\n",
       "    </tr>\n",
       "    <tr>\n",
       "      <th>condition_int_3</th>\n",
       "      <td>-0.353904</td>\n",
       "    </tr>\n",
       "  </tbody>\n",
       "</table>\n",
       "</div>"
      ],
      "text/plain": [
       "                        0\n",
       "単勝               0.066113\n",
       "score1           3.846486\n",
       "score2          -0.200839\n",
       "s_diff           4.047325\n",
       "EV              -0.680756\n",
       "EV_diff         -2.101846\n",
       "s_diff_rate      2.254235\n",
       "whether_int_2    0.000751\n",
       "whether_int_3    0.420818\n",
       "condition_int_2  0.059311\n",
       "condition_int_3 -0.353904"
      ]
     },
     "execution_count": 168,
     "metadata": {},
     "output_type": "execute_result"
    }
   ],
   "source": [
    "pd.Series(clf.coef_[0], X_train.columns).to_frame()"
   ]
  },
  {
   "cell_type": "markdown",
   "metadata": {},
   "source": [
    "## 予測"
   ]
  },
  {
   "cell_type": "code",
   "execution_count": 169,
   "metadata": {
    "ExecuteTime": {
     "end_time": "2020-12-06T11:52:57.864793Z",
     "start_time": "2020-12-06T11:52:57.853780Z"
    }
   },
   "outputs": [],
   "source": [
    "y_pred = clf.predict(X_test)\n",
    "y_pred_prob = clf.predict_proba(X_test)[:, 1]"
   ]
  },
  {
   "cell_type": "code",
   "execution_count": 172,
   "metadata": {
    "ExecuteTime": {
     "end_time": "2020-12-06T11:54:08.499055Z",
     "start_time": "2020-12-06T11:54:08.494056Z"
    }
   },
   "outputs": [],
   "source": [
    "prob2 = y_pred_prob / (y_pred_prob + (1 - y_pred_prob) / s_rate)"
   ]
  },
  {
   "cell_type": "code",
   "execution_count": null,
   "metadata": {},
   "outputs": [],
   "source": []
  },
  {
   "cell_type": "code",
   "execution_count": 173,
   "metadata": {
    "ExecuteTime": {
     "end_time": "2020-12-06T11:54:20.631007Z",
     "start_time": "2020-12-06T11:54:20.192228Z"
    }
   },
   "outputs": [
    {
     "data": {
      "image/png": "[encoded data removed]",
      "text/plain": [
       "<Figure size 600x400 with 2 Axes>"
      ]
     },
     "metadata": {
      "needs_background": "light"
     },
     "output_type": "display_data"
    }
   ],
   "source": [
    "prob_true, prob_pred = calibration_curve(y_true=y_test, y_prob=prob2, n_bins=20)\n",
    "\n",
    "fig, ax1 = plt.subplots()\n",
    "ax1.plot(prob_pred, prob_true, marker='s', label='calibration plot', color='skyblue')\n",
    "ax1.plot([0, 1], [0, 1], linestyle='--', label='ideal', color='limegreen')\n",
    "ax1.legend(bbox_to_anchor=(1.12, 1), loc='upper left')\n",
    "ax2 = ax1.twinx()\n",
    "ax2.hist(prob2, bins=20, histtype='step', color='orangered')\n",
    "ax1.set_ylabel('accuracy')\n",
    "ax1.set_xlabel('score')\n",
    "ax2.set_ylabel('frequency')\n",
    "# fig.savefig(log_path/'image/calibration_plot.png', bbox_inches='tight', pad_inche=.05)\n",
    "plt.show()"
   ]
  },
  {
   "cell_type": "code",
   "execution_count": 174,
   "metadata": {
    "ExecuteTime": {
     "end_time": "2020-12-06T11:54:23.016399Z",
     "start_time": "2020-12-06T11:54:22.749533Z"
    }
   },
   "outputs": [
    {
     "data": {
      "image/png": "[encoded data removed]",
      "text/plain": [
       "<Figure size 600x400 with 1 Axes>"
      ]
     },
     "metadata": {
      "needs_background": "light"
     },
     "output_type": "display_data"
    }
   ],
   "source": [
    "fpr_all, tpr_all, thresholds_all = roc_curve(y_test, y_pred_prob, drop_intermediate=False)\n",
    "fig, ax = plt.subplots()\n",
    "ax.plot(fpr_all, tpr_all, marker='o', markersize=.01)\n",
    "ax.plot([0,1],[0,1], color='red', linewidth=.5)\n",
    "ax.set_xlabel('FPR: False positive rate')\n",
    "ax.set_ylabel('TPR: True positive rate')\n",
    "ax.grid()\n",
    "# fig.savefig(log_path/'image/roc_plot.png', bbox_inches='tight', pad_inche=.05)"
   ]
  },
  {
   "cell_type": "code",
   "execution_count": 175,
   "metadata": {
    "ExecuteTime": {
     "end_time": "2020-12-06T11:54:25.133194Z",
     "start_time": "2020-12-06T11:54:25.121202Z"
    }
   },
   "outputs": [
    {
     "data": {
      "text/plain": [
       "0.8202104984237947"
      ]
     },
     "execution_count": 175,
     "metadata": {},
     "output_type": "execute_result"
    }
   ],
   "source": [
    "roc_auc_score(y_test, y_pred_prob)"
   ]
  },
  {
   "cell_type": "markdown",
   "metadata": {},
   "source": [
    "## 閾値検索"
   ]
  },
  {
   "cell_type": "code",
   "execution_count": 176,
   "metadata": {
    "ExecuteTime": {
     "end_time": "2020-12-06T11:54:29.731034Z",
     "start_time": "2020-12-06T11:54:29.725041Z"
    }
   },
   "outputs": [
    {
     "name": "stderr",
     "output_type": "stream",
     "text": [
      "<ipython-input-176-1980b04a90ef>:1: SettingWithCopyWarning: \n",
      "A value is trying to be set on a copy of a slice from a DataFrame.\n",
      "Try using .loc[row_indexer,col_indexer] = value instead\n",
      "\n",
      "See the caveats in the documentation: https://pandas.pydata.org/pandas-docs/stable/user_guide/indexing.html#returning-a-view-versus-a-copy\n",
      "  df_test['pred'] = prob2\n"
     ]
    }
   ],
   "source": [
    "df_test['pred'] = prob2"
   ]
  },
  {
   "cell_type": "code",
   "execution_count": 327,
   "metadata": {
    "ExecuteTime": {
     "end_time": "2020-12-06T14:37:50.293729Z",
     "start_time": "2020-12-06T14:37:48.850261Z"
    }
   },
   "outputs": [
    {
     "name": "stdout",
     "output_type": "stream",
     "text": [
      "対象カラム: pred, 最大回収率: 1.5, 閾値: 0.66, 対象数: 22, 対象率: 0.008\n"
     ]
    },
    {
     "data": {
      "image/png": "[encoded data removed]",
      "text/plain": [
       "<Figure size 600x400 with 2 Axes>"
      ]
     },
     "metadata": {
      "needs_background": "light"
     },
     "output_type": "display_data"
    }
   ],
   "source": [
    "df_ret, max_th = get_return(df_test, 'pred', 1, 0.01, over=True, plot_min=0.8)"
   ]
  },
  {
   "cell_type": "code",
   "execution_count": 294,
   "metadata": {
    "ExecuteTime": {
     "end_time": "2020-12-06T14:28:39.125558Z",
     "start_time": "2020-12-06T14:28:39.105337Z"
    }
   },
   "outputs": [
    {
     "data": {
      "text/html": [
       "<div>\n",
       "<style scoped>\n",
       "    .dataframe tbody tr th:only-of-type {\n",
       "        vertical-align: middle;\n",
       "    }\n",
       "\n",
       "    .dataframe tbody tr th {\n",
       "        vertical-align: top;\n",
       "    }\n",
       "\n",
       "    .dataframe thead th {\n",
       "        text-align: right;\n",
       "    }\n",
       "</style>\n",
       "<table border=\"1\" class=\"dataframe\">\n",
       "  <thead>\n",
       "    <tr style=\"text-align: right;\">\n",
       "      <th></th>\n",
       "      <th>対象数</th>\n",
       "      <th>回収率</th>\n",
       "      <th>対象率</th>\n",
       "    </tr>\n",
       "  </thead>\n",
       "  <tbody>\n",
       "    <tr>\n",
       "      <th>0.00</th>\n",
       "      <td>2618.0</td>\n",
       "      <td>0.843</td>\n",
       "      <td>1.000000</td>\n",
       "    </tr>\n",
       "    <tr>\n",
       "      <th>0.01</th>\n",
       "      <td>2192.0</td>\n",
       "      <td>0.961</td>\n",
       "      <td>0.837280</td>\n",
       "    </tr>\n",
       "    <tr>\n",
       "      <th>0.02</th>\n",
       "      <td>2118.0</td>\n",
       "      <td>0.987</td>\n",
       "      <td>0.809015</td>\n",
       "    </tr>\n",
       "    <tr>\n",
       "      <th>0.03</th>\n",
       "      <td>2066.0</td>\n",
       "      <td>1.007</td>\n",
       "      <td>0.789152</td>\n",
       "    </tr>\n",
       "    <tr>\n",
       "      <th>0.04</th>\n",
       "      <td>2008.0</td>\n",
       "      <td>1.007</td>\n",
       "      <td>0.766998</td>\n",
       "    </tr>\n",
       "  </tbody>\n",
       "</table>\n",
       "</div>"
      ],
      "text/plain": [
       "         対象数    回収率       対象率\n",
       "0.00  2618.0  0.843  1.000000\n",
       "0.01  2192.0  0.961  0.837280\n",
       "0.02  2118.0  0.987  0.809015\n",
       "0.03  2066.0  1.007  0.789152\n",
       "0.04  2008.0  1.007  0.766998"
      ]
     },
     "execution_count": 294,
     "metadata": {},
     "output_type": "execute_result"
    }
   ],
   "source": [
    "df_ret.head()"
   ]
  },
  {
   "cell_type": "code",
   "execution_count": 295,
   "metadata": {
    "ExecuteTime": {
     "end_time": "2020-12-06T14:28:42.371284Z",
     "start_time": "2020-12-06T14:28:42.353245Z"
    },
    "scrolled": true
   },
   "outputs": [
    {
     "data": {
      "text/html": [
       "<div>\n",
       "<style scoped>\n",
       "    .dataframe tbody tr th:only-of-type {\n",
       "        vertical-align: middle;\n",
       "    }\n",
       "\n",
       "    .dataframe tbody tr th {\n",
       "        vertical-align: top;\n",
       "    }\n",
       "\n",
       "    .dataframe thead th {\n",
       "        text-align: right;\n",
       "    }\n",
       "</style>\n",
       "<table border=\"1\" class=\"dataframe\">\n",
       "  <thead>\n",
       "    <tr style=\"text-align: right;\">\n",
       "      <th></th>\n",
       "      <th>対象数</th>\n",
       "      <th>回収率</th>\n",
       "      <th>対象率</th>\n",
       "    </tr>\n",
       "  </thead>\n",
       "  <tbody>\n",
       "    <tr>\n",
       "      <th>0.20</th>\n",
       "      <td>1273.0</td>\n",
       "      <td>1.115</td>\n",
       "      <td>0.486249</td>\n",
       "    </tr>\n",
       "    <tr>\n",
       "      <th>0.21</th>\n",
       "      <td>1231.0</td>\n",
       "      <td>1.107</td>\n",
       "      <td>0.470206</td>\n",
       "    </tr>\n",
       "    <tr>\n",
       "      <th>0.22</th>\n",
       "      <td>1165.0</td>\n",
       "      <td>1.117</td>\n",
       "      <td>0.444996</td>\n",
       "    </tr>\n",
       "    <tr>\n",
       "      <th>0.23</th>\n",
       "      <td>1118.0</td>\n",
       "      <td>1.127</td>\n",
       "      <td>0.427044</td>\n",
       "    </tr>\n",
       "    <tr>\n",
       "      <th>0.24</th>\n",
       "      <td>1059.0</td>\n",
       "      <td>1.113</td>\n",
       "      <td>0.404507</td>\n",
       "    </tr>\n",
       "    <tr>\n",
       "      <th>0.25</th>\n",
       "      <td>1008.0</td>\n",
       "      <td>1.117</td>\n",
       "      <td>0.385027</td>\n",
       "    </tr>\n",
       "    <tr>\n",
       "      <th>0.26</th>\n",
       "      <td>936.0</td>\n",
       "      <td>1.117</td>\n",
       "      <td>0.357525</td>\n",
       "    </tr>\n",
       "    <tr>\n",
       "      <th>0.27</th>\n",
       "      <td>894.0</td>\n",
       "      <td>1.117</td>\n",
       "      <td>0.341482</td>\n",
       "    </tr>\n",
       "    <tr>\n",
       "      <th>0.28</th>\n",
       "      <td>836.0</td>\n",
       "      <td>1.124</td>\n",
       "      <td>0.319328</td>\n",
       "    </tr>\n",
       "    <tr>\n",
       "      <th>0.29</th>\n",
       "      <td>779.0</td>\n",
       "      <td>1.128</td>\n",
       "      <td>0.297555</td>\n",
       "    </tr>\n",
       "    <tr>\n",
       "      <th>0.30</th>\n",
       "      <td>713.0</td>\n",
       "      <td>1.134</td>\n",
       "      <td>0.272345</td>\n",
       "    </tr>\n",
       "    <tr>\n",
       "      <th>0.31</th>\n",
       "      <td>664.0</td>\n",
       "      <td>1.135</td>\n",
       "      <td>0.253629</td>\n",
       "    </tr>\n",
       "    <tr>\n",
       "      <th>0.32</th>\n",
       "      <td>609.0</td>\n",
       "      <td>1.155</td>\n",
       "      <td>0.232620</td>\n",
       "    </tr>\n",
       "    <tr>\n",
       "      <th>0.33</th>\n",
       "      <td>568.0</td>\n",
       "      <td>1.163</td>\n",
       "      <td>0.216960</td>\n",
       "    </tr>\n",
       "    <tr>\n",
       "      <th>0.34</th>\n",
       "      <td>530.0</td>\n",
       "      <td>1.156</td>\n",
       "      <td>0.202445</td>\n",
       "    </tr>\n",
       "    <tr>\n",
       "      <th>0.35</th>\n",
       "      <td>492.0</td>\n",
       "      <td>1.184</td>\n",
       "      <td>0.187930</td>\n",
       "    </tr>\n",
       "    <tr>\n",
       "      <th>0.36</th>\n",
       "      <td>438.0</td>\n",
       "      <td>1.221</td>\n",
       "      <td>0.167303</td>\n",
       "    </tr>\n",
       "    <tr>\n",
       "      <th>0.37</th>\n",
       "      <td>405.0</td>\n",
       "      <td>1.235</td>\n",
       "      <td>0.154698</td>\n",
       "    </tr>\n",
       "    <tr>\n",
       "      <th>0.38</th>\n",
       "      <td>373.0</td>\n",
       "      <td>1.251</td>\n",
       "      <td>0.142475</td>\n",
       "    </tr>\n",
       "    <tr>\n",
       "      <th>0.39</th>\n",
       "      <td>338.0</td>\n",
       "      <td>1.280</td>\n",
       "      <td>0.129106</td>\n",
       "    </tr>\n",
       "    <tr>\n",
       "      <th>0.40</th>\n",
       "      <td>317.0</td>\n",
       "      <td>1.270</td>\n",
       "      <td>0.121085</td>\n",
       "    </tr>\n",
       "    <tr>\n",
       "      <th>0.41</th>\n",
       "      <td>294.0</td>\n",
       "      <td>1.297</td>\n",
       "      <td>0.112299</td>\n",
       "    </tr>\n",
       "    <tr>\n",
       "      <th>0.42</th>\n",
       "      <td>263.0</td>\n",
       "      <td>1.304</td>\n",
       "      <td>0.100458</td>\n",
       "    </tr>\n",
       "    <tr>\n",
       "      <th>0.43</th>\n",
       "      <td>233.0</td>\n",
       "      <td>1.360</td>\n",
       "      <td>0.088999</td>\n",
       "    </tr>\n",
       "    <tr>\n",
       "      <th>0.44</th>\n",
       "      <td>214.0</td>\n",
       "      <td>1.375</td>\n",
       "      <td>0.081742</td>\n",
       "    </tr>\n",
       "    <tr>\n",
       "      <th>0.45</th>\n",
       "      <td>194.0</td>\n",
       "      <td>1.353</td>\n",
       "      <td>0.074102</td>\n",
       "    </tr>\n",
       "    <tr>\n",
       "      <th>0.46</th>\n",
       "      <td>175.0</td>\n",
       "      <td>1.365</td>\n",
       "      <td>0.066845</td>\n",
       "    </tr>\n",
       "    <tr>\n",
       "      <th>0.47</th>\n",
       "      <td>156.0</td>\n",
       "      <td>1.322</td>\n",
       "      <td>0.059587</td>\n",
       "    </tr>\n",
       "    <tr>\n",
       "      <th>0.48</th>\n",
       "      <td>147.0</td>\n",
       "      <td>1.352</td>\n",
       "      <td>0.056150</td>\n",
       "    </tr>\n",
       "    <tr>\n",
       "      <th>0.49</th>\n",
       "      <td>135.0</td>\n",
       "      <td>1.336</td>\n",
       "      <td>0.051566</td>\n",
       "    </tr>\n",
       "    <tr>\n",
       "      <th>0.50</th>\n",
       "      <td>128.0</td>\n",
       "      <td>1.338</td>\n",
       "      <td>0.048892</td>\n",
       "    </tr>\n",
       "  </tbody>\n",
       "</table>\n",
       "</div>"
      ],
      "text/plain": [
       "         対象数    回収率       対象率\n",
       "0.20  1273.0  1.115  0.486249\n",
       "0.21  1231.0  1.107  0.470206\n",
       "0.22  1165.0  1.117  0.444996\n",
       "0.23  1118.0  1.127  0.427044\n",
       "0.24  1059.0  1.113  0.404507\n",
       "0.25  1008.0  1.117  0.385027\n",
       "0.26   936.0  1.117  0.357525\n",
       "0.27   894.0  1.117  0.341482\n",
       "0.28   836.0  1.124  0.319328\n",
       "0.29   779.0  1.128  0.297555\n",
       "0.30   713.0  1.134  0.272345\n",
       "0.31   664.0  1.135  0.253629\n",
       "0.32   609.0  1.155  0.232620\n",
       "0.33   568.0  1.163  0.216960\n",
       "0.34   530.0  1.156  0.202445\n",
       "0.35   492.0  1.184  0.187930\n",
       "0.36   438.0  1.221  0.167303\n",
       "0.37   405.0  1.235  0.154698\n",
       "0.38   373.0  1.251  0.142475\n",
       "0.39   338.0  1.280  0.129106\n",
       "0.40   317.0  1.270  0.121085\n",
       "0.41   294.0  1.297  0.112299\n",
       "0.42   263.0  1.304  0.100458\n",
       "0.43   233.0  1.360  0.088999\n",
       "0.44   214.0  1.375  0.081742\n",
       "0.45   194.0  1.353  0.074102\n",
       "0.46   175.0  1.365  0.066845\n",
       "0.47   156.0  1.322  0.059587\n",
       "0.48   147.0  1.352  0.056150\n",
       "0.49   135.0  1.336  0.051566\n",
       "0.50   128.0  1.338  0.048892"
      ]
     },
     "execution_count": 295,
     "metadata": {},
     "output_type": "execute_result"
    }
   ],
   "source": [
    "df_ret.loc[0.2: 0.5]"
   ]
  },
  {
   "cell_type": "code",
   "execution_count": 274,
   "metadata": {
    "ExecuteTime": {
     "end_time": "2020-12-06T14:22:59.673351Z",
     "start_time": "2020-12-06T14:22:59.663885Z"
    }
   },
   "outputs": [],
   "source": [
    "df_test['buy'] = 0\n",
    "df_test.loc[df_test.pred > 0.4, 'buy'] = 1"
   ]
  },
  {
   "cell_type": "code",
   "execution_count": 275,
   "metadata": {
    "ExecuteTime": {
     "end_time": "2020-12-06T14:23:01.441492Z",
     "start_time": "2020-12-06T14:23:00.973703Z"
    }
   },
   "outputs": [
    {
     "data": {
      "text/plain": [
       "buy\n",
       "0    AxesSubplot(0.125,0.125;0.775x0.755)\n",
       "1    AxesSubplot(0.125,0.125;0.775x0.755)\n",
       "Name: EV, dtype: object"
      ]
     },
     "execution_count": 275,
     "metadata": {},
     "output_type": "execute_result"
    },
    {
     "data": {
      "image/png": "[encoded data removed]",
      "text/plain": [
       "<Figure size 600x400 with 1 Axes>"
      ]
     },
     "metadata": {
      "needs_background": "light"
     },
     "output_type": "display_data"
    }
   ],
   "source": [
    "df_test.groupby('buy').EV.hist(bins=50, range=(0, 50), histtype='step')"
   ]
  },
  {
   "cell_type": "code",
   "execution_count": null,
   "metadata": {},
   "outputs": [],
   "source": []
  }
 ],
 "metadata": {
  "kernelspec": {
   "display_name": "Python 3",
   "language": "python",
   "name": "python3"
  },
  "language_info": {
   "codemirror_mode": {
    "name": "ipython",
    "version": 3
   },
   "file_extension": ".py",
   "mimetype": "text/x-python",
   "name": "python",
   "nbconvert_exporter": "python",
   "pygments_lexer": "ipython3",
   "version": "3.8.6"
  },
  "toc": {
   "base_numbering": 1,
   "nav_menu": {},
   "number_sections": true,
   "sideBar": true,
   "skip_h1_title": false,
   "title_cell": "Table of Contents",
   "title_sidebar": "Contents",
   "toc_cell": false,
   "toc_position": {},
   "toc_section_display": true,
   "toc_window_display": true
  }
 },
 "nbformat": 4,
 "nbformat_minor": 2
}
