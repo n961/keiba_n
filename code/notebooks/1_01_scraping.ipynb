{
 "cells": [
  {
   "cell_type": "code",
   "execution_count": 5,
   "metadata": {},
   "outputs": [],
   "source": [
    "from selenium import webdriver\n",
    "from selenium.webdriver.chrome.options import Options\n",
    "import pandas as pd\n",
    "import re\n",
    "from itertools import product\n",
    "from tqdm import tqdm\n",
    "import datetime"
   ]
  },
  {
   "cell_type": "code",
   "execution_count": 6,
   "metadata": {},
   "outputs": [],
   "source": [
    "def getRaceData(race_id): \n",
    "    url = f\"https://db.netkeiba.com/race/{race_id}/\"\n",
    "    driver.get(url)\n",
    "    \n",
    "    assert driver.title[0] != '｜'\n",
    "    \n",
    "    html = driver.page_source\n",
    "\n",
    "    df = pd.read_html(html)\n",
    "    race_result = df[0]\n",
    "    race_result['race_id'] = race_id\n",
    "\n",
    "    header_text = driver.find_element_by_class_name('data_intro').text\n",
    "    header_text = header_text.split('\\n')\n",
    "    race_title = header_text[1]\n",
    "    # 過去の〜〜　リンクの有無によって変わるので\n",
    "    race_info_index = 4 if header_text[3][0:2] == '過去' else 3\n",
    "    course_info = header_text[2].split('/')\n",
    "    course_type = course_info[0][0]\n",
    "    course_direction = course_info[0][1]\n",
    "    course_distance = course_info[0][2:6]\n",
    "    weather = course_info[1].replace(' ', '').replace('：', ':').replace('天候:', '')\n",
    "    condition = course_info[2].replace(' ', '').replace('：', ':').replace('芝:', '').replace('ダート:', '')\n",
    "    race_class = header_text[race_info_index].split(' ')[2]\n",
    "    race_date = header_text[race_info_index].split(' ')[0]\n",
    "    course_name = re.search('回(.+)\\d+.*', header_text[race_info_index].split(' ')[1])[1]\n",
    "\n",
    "    race_info_data=[race_date,race_title,race_class, course_name, course_type, course_direction, course_distance, condition, weather]\n",
    "    \n",
    "    return (race_result, race_info_data)"
   ]
  },
  {
   "cell_type": "code",
   "execution_count": 7,
   "metadata": {},
   "outputs": [
    {
     "name": "stderr",
     "output_type": "stream",
     "text": [
      "<ipython-input-7-e03bfc11aade>:4: DeprecationWarning: use options instead of chrome_options\n",
      "  driver = webdriver.Chrome(executable_path=\"/Users/k-yasumoto/downloads/chromedriver\", chrome_options=options)\n"
     ]
    }
   ],
   "source": [
    "#Chromeを操作\n",
    "options = Options()\n",
    "options.add_argument('--headless')\n",
    "driver = webdriver.Chrome(executable_path=\"/Users/k-yasumoto/downloads/chromedriver\", chrome_options=options)"
   ]
  },
  {
   "cell_type": "code",
   "execution_count": 6,
   "metadata": {
    "scrolled": true
   },
   "outputs": [
    {
     "name": "stderr",
     "output_type": "stream",
     "text": [
      "100%|██████████| 10/10 [00:00<00:00, 555.09it/s]\n",
      "100%|██████████| 10/10 [00:00<00:00, 640.00it/s]\n",
      "100%|██████████| 10/10 [00:00<00:00, 749.67it/s]\n",
      "100%|██████████| 10/10 [00:00<00:00, 747.49it/s]\n",
      "100%|██████████| 10/10 [00:00<00:00, 741.79it/s]\n",
      "100%|██████████| 10/10 [00:00<00:00, 723.69it/s]\n",
      "100%|██████████| 10/10 [00:00<00:00, 730.31it/s]\n",
      "100%|██████████| 10/10 [00:00<00:00, 714.35it/s]\n",
      "100%|██████████| 10/10 [00:00<00:00, 753.69it/s]\n",
      "  0%|          | 0/10 [00:00<?, ?it/s]"
     ]
    },
    {
     "name": "stdout",
     "output_type": "stream",
     "text": [
      "start  2010\n",
      "\n",
      "start  2011\n",
      "\n",
      "start  2012\n",
      "\n",
      "start  2013\n",
      "\n",
      "start  2014\n",
      "\n",
      "start  2015\n",
      "\n",
      "start  2016\n",
      "\n",
      "start  2017\n",
      "\n",
      "start  2018\n",
      "\n",
      "start  2019\n"
     ]
    },
    {
     "name": "stderr",
     "output_type": "stream",
     "text": [
      "100%|██████████| 10/10 [00:02<00:00,  4.10it/s]\n",
      "  0%|          | 0/10 [00:00<?, ?it/s]"
     ]
    },
    {
     "name": "stdout",
     "output_type": "stream",
     "text": [
      "\n",
      "start  2020\n"
     ]
    },
    {
     "name": "stderr",
     "output_type": "stream",
     "text": [
      "100%|██████████| 10/10 [33:10<00:00, 199.07s/it]"
     ]
    },
    {
     "name": "stdout",
     "output_type": "stream",
     "text": [
      "\n"
     ]
    },
    {
     "name": "stderr",
     "output_type": "stream",
     "text": [
      "\n"
     ]
    }
   ],
   "source": [
    "race_result_list = []\n",
    "error_list = []\n",
    "\n",
    "race_info_columns=['race_date','race_title', 'race_class','course_name','course_type', 'course_direction', 'course_distance', 'condition','weather']\n",
    "df_race_info = pd.DataFrame(columns=race_info_columns)\n",
    "df_race_info.index.name='race_id'\n",
    "\n",
    "for year in range(2010, 2021):\n",
    "    print('start ', year)\n",
    "    year = str(year)\n",
    "    for place in tqdm(range(1,11)):\n",
    "        place = str(place).zfill(2)\n",
    "        for time in range(1,7):\n",
    "            time = str(time).zfill(2)\n",
    "            date = 1\n",
    "            flg = True\n",
    "            while flg:\n",
    "                for race in range(1,13):\n",
    "                    race = str(race).zfill(2)\n",
    "                    race_id = year + place + time + str(date).zfill(2) + race\n",
    "                    if int(race_id) < 201910021212:\n",
    "                        continue\n",
    "                    try:\n",
    "                        race_result, race_info_data = getRaceData(race_id)\n",
    "                        df_race_info.loc[race_id]=race_info_data\n",
    "                        race_result_list.append(race_result)\n",
    "                    except AssertionError: # 変える\n",
    "                        error_list.append(race_id)\n",
    "                        flg = False\n",
    "                        break\n",
    "                date += 1\n",
    "                if date > 15:\n",
    "                    flg = False\n",
    "    print()"
   ]
  },
  {
   "cell_type": "code",
   "execution_count": 15,
   "metadata": {},
   "outputs": [],
   "source": [
    "date_str = datetime.datetime.now().strftime(\"%Y%m%d\")\n",
    "pd.concat(race_result_list, ignore_index=True).to_csv(\"../../data/scraped/result/race_result_\" + date_str + \".csv\")\n",
    "df_race_info.to_csv(\"../../data/scraped/result/race_info_\" + date_str + \".csv\")"
   ]
  },
  {
   "cell_type": "code",
   "execution_count": 10,
   "metadata": {},
   "outputs": [],
   "source": [
    "result = getRaceData(202008030911)"
   ]
  },
  {
   "cell_type": "code",
   "execution_count": 11,
   "metadata": {},
   "outputs": [
    {
     "data": {
      "text/plain": [
       "(    着順  枠番  馬番         馬名  性齢  斤量    騎手     タイム     着差 ﾀｲﾑ指数  ...     単勝  人気  \\\n",
       " 0    1   4   5   オメガパフューム  牡5  59  北村友一  1:56.0    NaN    **  ...    5.3   3   \n",
       " 1    2   7  11    ヴェンジェンス  牡7  57   幸英明  1:56.2  1.1/4    **  ...    8.6   5   \n",
       " 2    3   5   7   ゴールドドリーム  牡7  58  藤岡佑介  1:56.5      2    **  ...    4.3   2   \n",
       " 3    4   3   3  ヒストリーメイカー  牡6  56  畑端省吾  1:56.8  1.1/2    **  ...   64.2  10   \n",
       " 4    5   6  10   スワーヴアラミス  牡5  57  松田大作  1:56.9    1/2    **  ...    5.4   4   \n",
       " 5    6   7  12    マグナレガーロ  牡5  56  北村宏司  1:57.0    1/2    **  ...   12.0   6   \n",
       " 6    7   8  14    ダンツゴウユウ  牡6  56   酒井学  1:57.0     ハナ    **  ...   59.7   9   \n",
       " 7    8   1   1     アシャカトブ  牡4  56   武藤雅  1:57.2  1.1/2    **  ...   58.5   8   \n",
       " 8    9   4   6     ヒロブレイブ  牡7  56  国分恭介  1:57.3     クビ    **  ...  364.1  14   \n",
       " 9   10   2   2    ロードレガリス  牡5  56  池添謙一  1:57.4    1/2    **  ...    3.0   1   \n",
       " 10  11   6   9        ミツバ  牡8  58  松若風馬  1:57.7  1.3/4    **  ...  176.4  13   \n",
       " 11  12   3   4      ハヤヤッコ  牡4  57   斎藤新  1:57.8    1/2    **  ...   76.0  11   \n",
       " 12  13   8  13  アッシェンプッテル  牝4  54  太宰啓介  1:58.3      3    **  ...  168.3  12   \n",
       " 13  14   5   8       スマハマ  牡5  56  坂井瑠星  2:01.5      大    **  ...   23.1   7   \n",
       " \n",
       "          馬体重  調教ﾀｲﾑ 厩舎ｺﾒﾝﾄ  備考       調教師            馬主  賞金(万円)       race_id  \n",
       " 0    460(+9)    NaN    NaN NaN  [西] 安田翔伍           原禮子  3649.7  202008030911  \n",
       " 1     496(0)    NaN    NaN NaN  [西] 大根田裕          宮川純造  1414.2  202008030911  \n",
       " 2     530(0)    NaN    NaN NaN   [西] 平田修          吉田勝己   907.1  202008030911  \n",
       " 3   526(-20)    NaN    NaN NaN  [西] 新谷功一          岩崎僖澄   540.0  202008030911  \n",
       " 4     488(0)    NaN    NaN NaN  [西] 須貝尚介         ＮＩＣＫＳ   360.0  202008030911  \n",
       " 5    498(+4)    NaN    NaN NaN  [西] 角居勝彦      シルクレーシング     NaN  202008030911  \n",
       " 6    472(+4)    NaN    NaN NaN    [西] 谷潔          山元哲二     NaN  202008030911  \n",
       " 7    500(-2)    NaN    NaN NaN  [東] 小笠倫弘           吉冨学     NaN  202008030911  \n",
       " 8     486(0)    NaN    NaN NaN  [西] 川村禎彦           石川博     NaN  202008030911  \n",
       " 9    526(+6)    NaN    NaN NaN  [西] 野中賢二     ロードホースクラブ     NaN  202008030911  \n",
       " 10  484(+10)    NaN    NaN NaN   [西] 加用正            協栄     NaN  202008030911  \n",
       " 11   474(-6)    NaN    NaN NaN   [東] 国枝栄  金子真人ホールディングス     NaN  202008030911  \n",
       " 12    512(0)    NaN    NaN NaN   [西] 奥村豊     フジワラ・ファーム     NaN  202008030911  \n",
       " 13  524(-10)    NaN    NaN NaN  [西] 中内田充          山紫水明     NaN  202008030911  \n",
       " \n",
       " [14 rows x 22 columns],\n",
       " ['2020年5月23日',\n",
       "  '第27回平安ステークス(G3)',\n",
       "  '4歳以上オープン',\n",
       "  '京都',\n",
       "  'ダ',\n",
       "  '右',\n",
       "  '1900',\n",
       "  '良',\n",
       "  '晴'])"
      ]
     },
     "execution_count": 11,
     "metadata": {},
     "output_type": "execute_result"
    }
   ],
   "source": [
    "result"
   ]
  },
  {
   "cell_type": "code",
   "execution_count": null,
   "metadata": {},
   "outputs": [],
   "source": []
  }
 ],
 "metadata": {
  "kernelspec": {
   "display_name": "Python 3",
   "language": "python",
   "name": "python3"
  },
  "language_info": {
   "codemirror_mode": {
    "name": "ipython",
    "version": 3
   },
   "file_extension": ".py",
   "mimetype": "text/x-python",
   "name": "python",
   "nbconvert_exporter": "python",
   "pygments_lexer": "ipython3",
   "version": "3.8.2"
  },
  "toc": {
   "base_numbering": 1,
   "nav_menu": {},
   "number_sections": true,
   "sideBar": true,
   "skip_h1_title": false,
   "title_cell": "Table of Contents",
   "title_sidebar": "Contents",
   "toc_cell": false,
   "toc_position": {
    "height": "calc(100% - 180px)",
    "left": "10px",
    "top": "150px",
    "width": "262px"
   },
   "toc_section_display": true,
   "toc_window_display": true
  }
 },
 "nbformat": 4,
 "nbformat_minor": 4
}
