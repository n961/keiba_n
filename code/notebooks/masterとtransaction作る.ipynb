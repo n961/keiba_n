{
 "cells": [
  {
   "cell_type": "code",
   "execution_count": 1,
   "metadata": {
    "ExecuteTime": {
     "end_time": "2020-12-15T14:39:21.171875Z",
     "start_time": "2020-12-15T14:39:19.138584Z"
    }
   },
   "outputs": [
    {
     "ename": "ModuleNotFoundError",
     "evalue": "No module named 'setting'",
     "output_type": "error",
     "traceback": [
      "\u001b[1;31m---------------------------------------------------------------------------\u001b[0m",
      "\u001b[1;31mModuleNotFoundError\u001b[0m                       Traceback (most recent call last)",
      "\u001b[1;32m<ipython-input-1-ff6427ef055c>\u001b[0m in \u001b[0;36m<module>\u001b[1;34m\u001b[0m\n\u001b[0;32m     13\u001b[0m \u001b[1;32mimport\u001b[0m \u001b[0mtransaction_parser\u001b[0m\u001b[1;33m\u001b[0m\u001b[1;33m\u001b[0m\u001b[0m\n\u001b[0;32m     14\u001b[0m \u001b[1;32mimport\u001b[0m \u001b[0mrace_master_parser\u001b[0m\u001b[1;33m\u001b[0m\u001b[1;33m\u001b[0m\u001b[0m\n\u001b[1;32m---> 15\u001b[1;33m \u001b[1;32mimport\u001b[0m \u001b[0mdata_parser\u001b[0m\u001b[1;33m\u001b[0m\u001b[1;33m\u001b[0m\u001b[0m\n\u001b[0m\u001b[0;32m     16\u001b[0m \u001b[1;32mimport\u001b[0m \u001b[0mread_df\u001b[0m\u001b[1;33m\u001b[0m\u001b[1;33m\u001b[0m\u001b[0m\n\u001b[0;32m     17\u001b[0m \u001b[1;33m\u001b[0m\u001b[0m\n",
      "\u001b[1;32m~\\workspace\\keiba_y\\keiba\\code\\data\\myparser\\data_parser.py\u001b[0m in \u001b[0;36m<module>\u001b[1;34m\u001b[0m\n\u001b[0;32m      2\u001b[0m \u001b[1;33m\u001b[0m\u001b[0m\n\u001b[0;32m      3\u001b[0m \u001b[1;31m## 変数\u001b[0m\u001b[1;33m\u001b[0m\u001b[1;33m\u001b[0m\u001b[1;33m\u001b[0m\u001b[0m\n\u001b[1;32m----> 4\u001b[1;33m \u001b[1;32mfrom\u001b[0m \u001b[0msetting\u001b[0m \u001b[1;32mimport\u001b[0m \u001b[1;33m*\u001b[0m\u001b[1;33m\u001b[0m\u001b[1;33m\u001b[0m\u001b[0m\n\u001b[0m\u001b[0;32m      5\u001b[0m \u001b[1;32mfrom\u001b[0m \u001b[0mread_df\u001b[0m \u001b[1;32mimport\u001b[0m \u001b[0mdf_from_csv\u001b[0m\u001b[1;33m\u001b[0m\u001b[1;33m\u001b[0m\u001b[0m\n\u001b[0;32m      6\u001b[0m \u001b[1;32mfrom\u001b[0m \u001b[1;33m.\u001b[0m \u001b[1;32mimport\u001b[0m \u001b[0mtransaction_parser\u001b[0m\u001b[1;33m\u001b[0m\u001b[1;33m\u001b[0m\u001b[0m\n",
      "\u001b[1;31mModuleNotFoundError\u001b[0m: No module named 'setting'"
     ]
    }
   ],
   "source": [
    "import pandas as pd\n",
    "\n",
    "import json\n",
    "import os\n",
    "import sys\n",
    "\n",
    "from pathlib import Path\n",
    "\n",
    "os.path.exists('../data/myparser/transaction_parser.py')\n",
    "\n",
    "sys.path.append('../data/myparser')\n",
    "\n",
    "import transaction_parser\n",
    "import race_master_parser\n",
    "import data_parser\n",
    "import read_df\n",
    "\n",
    "resource_path = Path('../../resource')"
   ]
  },
  {
   "cell_type": "code",
   "execution_count": null,
   "metadata": {
    "ExecuteTime": {
     "end_time": "2020-12-12T13:30:00.983392Z",
     "start_time": "2020-12-12T13:29:58.609Z"
    }
   },
   "outputs": [],
   "source": [
    "file_info = list(resource_path.glob('common/raw_result/info/done_parse/*.csv'))\n",
    "file_result = list(resource_path.glob('common/raw_result/result/done_parse/*.csv'))"
   ]
  },
  {
   "cell_type": "code",
   "execution_count": null,
   "metadata": {
    "ExecuteTime": {
     "end_time": "2020-12-12T13:30:00.986321Z",
     "start_time": "2020-12-12T13:30:00.256Z"
    }
   },
   "outputs": [],
   "source": [
    "file_info"
   ]
  },
  {
   "cell_type": "code",
   "execution_count": 4,
   "metadata": {
    "ExecuteTime": {
     "end_time": "2020-12-11T17:44:46.409456Z",
     "start_time": "2020-12-11T17:44:46.284491Z"
    }
   },
   "outputs": [],
   "source": [
    "df_info = read_df.df_from_csv(file_info)"
   ]
  },
  {
   "cell_type": "code",
   "execution_count": 10,
   "metadata": {
    "ExecuteTime": {
     "end_time": "2020-12-12T11:59:26.801306Z",
     "start_time": "2020-12-12T11:59:26.656195Z"
    }
   },
   "outputs": [
    {
     "data": {
      "text/html": [
       "<div>\n",
       "<style scoped>\n",
       "    .dataframe tbody tr th:only-of-type {\n",
       "        vertical-align: middle;\n",
       "    }\n",
       "\n",
       "    .dataframe tbody tr th {\n",
       "        vertical-align: top;\n",
       "    }\n",
       "\n",
       "    .dataframe thead th {\n",
       "        text-align: right;\n",
       "    }\n",
       "</style>\n",
       "<table border=\"1\" class=\"dataframe\">\n",
       "  <thead>\n",
       "    <tr style=\"text-align: right;\">\n",
       "      <th></th>\n",
       "      <th>race_id</th>\n",
       "      <th>race_date</th>\n",
       "      <th>race_title</th>\n",
       "      <th>race_class</th>\n",
       "      <th>course_name</th>\n",
       "      <th>course_type</th>\n",
       "      <th>course_direction</th>\n",
       "      <th>course_distance</th>\n",
       "      <th>condition</th>\n",
       "      <th>whether</th>\n",
       "    </tr>\n",
       "  </thead>\n",
       "  <tbody>\n",
       "    <tr>\n",
       "      <th>0</th>\n",
       "      <td>201001020110</td>\n",
       "      <td>2010年9月11日</td>\n",
       "      <td>コスモス賞</td>\n",
       "      <td>2歳オープン</td>\n",
       "      <td>札幌</td>\n",
       "      <td>芝</td>\n",
       "      <td>右</td>\n",
       "      <td>1800</td>\n",
       "      <td>良</td>\n",
       "      <td>曇</td>\n",
       "    </tr>\n",
       "    <tr>\n",
       "      <th>1</th>\n",
       "      <td>201001020111</td>\n",
       "      <td>2010年9月11日</td>\n",
       "      <td>報知杯大雪ハンデ</td>\n",
       "      <td>3歳以上1000万下</td>\n",
       "      <td>札幌</td>\n",
       "      <td>ダ</td>\n",
       "      <td>右</td>\n",
       "      <td>1700</td>\n",
       "      <td>良</td>\n",
       "      <td>曇</td>\n",
       "    </tr>\n",
       "    <tr>\n",
       "      <th>2</th>\n",
       "      <td>201001020112</td>\n",
       "      <td>2010年9月11日</td>\n",
       "      <td>手稲山特別</td>\n",
       "      <td>3歳以上500万下</td>\n",
       "      <td>札幌</td>\n",
       "      <td>芝</td>\n",
       "      <td>右</td>\n",
       "      <td>1500</td>\n",
       "      <td>良</td>\n",
       "      <td>曇</td>\n",
       "    </tr>\n",
       "    <tr>\n",
       "      <th>3</th>\n",
       "      <td>201001020210</td>\n",
       "      <td>2010年9月12日</td>\n",
       "      <td>おおぞら特別</td>\n",
       "      <td>3歳以上1000万下</td>\n",
       "      <td>札幌</td>\n",
       "      <td>芝</td>\n",
       "      <td>右</td>\n",
       "      <td>1800</td>\n",
       "      <td>良</td>\n",
       "      <td>晴</td>\n",
       "    </tr>\n",
       "    <tr>\n",
       "      <th>4</th>\n",
       "      <td>201001020211</td>\n",
       "      <td>2010年9月12日</td>\n",
       "      <td>UHB賞</td>\n",
       "      <td>3歳以上1000万下</td>\n",
       "      <td>札幌</td>\n",
       "      <td>芝</td>\n",
       "      <td>右</td>\n",
       "      <td>1500</td>\n",
       "      <td>良</td>\n",
       "      <td>晴</td>\n",
       "    </tr>\n",
       "    <tr>\n",
       "      <th>...</th>\n",
       "      <td>...</td>\n",
       "      <td>...</td>\n",
       "      <td>...</td>\n",
       "      <td>...</td>\n",
       "      <td>...</td>\n",
       "      <td>...</td>\n",
       "      <td>...</td>\n",
       "      <td>...</td>\n",
       "      <td>...</td>\n",
       "      <td>...</td>\n",
       "    </tr>\n",
       "    <tr>\n",
       "      <th>28145</th>\n",
       "      <td>201910021208</td>\n",
       "      <td>2019年9月1日</td>\n",
       "      <td>3歳以上1勝クラス</td>\n",
       "      <td>3歳以上1勝クラス</td>\n",
       "      <td>小倉1</td>\n",
       "      <td>芝</td>\n",
       "      <td>右</td>\n",
       "      <td>1200</td>\n",
       "      <td>重</td>\n",
       "      <td>小雨</td>\n",
       "    </tr>\n",
       "    <tr>\n",
       "      <th>28146</th>\n",
       "      <td>201910021209</td>\n",
       "      <td>2019年9月1日</td>\n",
       "      <td>若戸大橋特別</td>\n",
       "      <td>3歳以上500万下</td>\n",
       "      <td>小倉1</td>\n",
       "      <td>芝</td>\n",
       "      <td>右</td>\n",
       "      <td>1800</td>\n",
       "      <td>重</td>\n",
       "      <td>小雨</td>\n",
       "    </tr>\n",
       "    <tr>\n",
       "      <th>28147</th>\n",
       "      <td>201910021210</td>\n",
       "      <td>2019年9月1日</td>\n",
       "      <td>西日本スポーツ杯</td>\n",
       "      <td>3歳以上1000万下</td>\n",
       "      <td>小倉1</td>\n",
       "      <td>ダ</td>\n",
       "      <td>右</td>\n",
       "      <td>1700</td>\n",
       "      <td>不良</td>\n",
       "      <td>小雨</td>\n",
       "    </tr>\n",
       "    <tr>\n",
       "      <th>28148</th>\n",
       "      <td>201910021211</td>\n",
       "      <td>2019年9月1日</td>\n",
       "      <td>第39回小倉2歳ステークス(G3)</td>\n",
       "      <td>2歳オープン</td>\n",
       "      <td>小倉1</td>\n",
       "      <td>芝</td>\n",
       "      <td>右</td>\n",
       "      <td>1200</td>\n",
       "      <td>重</td>\n",
       "      <td>曇</td>\n",
       "    </tr>\n",
       "    <tr>\n",
       "      <th>28149</th>\n",
       "      <td>201910021212</td>\n",
       "      <td>2019年9月1日</td>\n",
       "      <td>3歳以上1勝クラス</td>\n",
       "      <td>3歳以上1勝クラス</td>\n",
       "      <td>小倉1</td>\n",
       "      <td>芝</td>\n",
       "      <td>右</td>\n",
       "      <td>2600</td>\n",
       "      <td>重</td>\n",
       "      <td>曇</td>\n",
       "    </tr>\n",
       "  </tbody>\n",
       "</table>\n",
       "<p>28150 rows × 10 columns</p>\n",
       "</div>"
      ],
      "text/plain": [
       "            race_id   race_date         race_title  race_class course_name  \\\n",
       "0      201001020110  2010年9月11日              コスモス賞      2歳オープン          札幌   \n",
       "1      201001020111  2010年9月11日           報知杯大雪ハンデ  3歳以上1000万下          札幌   \n",
       "2      201001020112  2010年9月11日              手稲山特別   3歳以上500万下          札幌   \n",
       "3      201001020210  2010年9月12日             おおぞら特別  3歳以上1000万下          札幌   \n",
       "4      201001020211  2010年9月12日               UHB賞  3歳以上1000万下          札幌   \n",
       "...             ...         ...                ...         ...         ...   \n",
       "28145  201910021208   2019年9月1日          3歳以上1勝クラス   3歳以上1勝クラス         小倉1   \n",
       "28146  201910021209   2019年9月1日             若戸大橋特別   3歳以上500万下         小倉1   \n",
       "28147  201910021210   2019年9月1日           西日本スポーツ杯  3歳以上1000万下         小倉1   \n",
       "28148  201910021211   2019年9月1日  第39回小倉2歳ステークス(G3)      2歳オープン         小倉1   \n",
       "28149  201910021212   2019年9月1日          3歳以上1勝クラス   3歳以上1勝クラス         小倉1   \n",
       "\n",
       "      course_type course_direction course_distance condition whether  \n",
       "0               芝                右            1800         良       曇  \n",
       "1               ダ                右            1700         良       曇  \n",
       "2               芝                右            1500         良       曇  \n",
       "3               芝                右            1800         良       晴  \n",
       "4               芝                右            1500         良       晴  \n",
       "...           ...              ...             ...       ...     ...  \n",
       "28145           芝                右            1200         重      小雨  \n",
       "28146           芝                右            1800         重      小雨  \n",
       "28147           ダ                右            1700        不良      小雨  \n",
       "28148           芝                右            1200         重       曇  \n",
       "28149           芝                右            2600         重       曇  \n",
       "\n",
       "[28150 rows x 10 columns]"
      ]
     },
     "execution_count": 10,
     "metadata": {},
     "output_type": "execute_result"
    }
   ],
   "source": [
    "df_info"
   ]
  },
  {
   "cell_type": "code",
   "execution_count": 5,
   "metadata": {
    "ExecuteTime": {
     "end_time": "2020-12-11T17:45:50.405435Z",
     "start_time": "2020-12-11T17:44:46.415298Z"
    },
    "scrolled": true
   },
   "outputs": [
    {
     "name": "stdout",
     "output_type": "stream",
     "text": [
      "重複数:  182\n",
      "マスター件数:  46107\n"
     ]
    }
   ],
   "source": [
    "data_parser.renewal_all(file_info, file_result)"
   ]
  },
  {
   "cell_type": "code",
   "execution_count": 12,
   "metadata": {
    "ExecuteTime": {
     "end_time": "2020-12-12T16:27:13.282813Z",
     "start_time": "2020-12-12T16:27:13.177371Z"
    }
   },
   "outputs": [
    {
     "data": {
      "text/html": [
       "<div>\n",
       "<style scoped>\n",
       "    .dataframe tbody tr th:only-of-type {\n",
       "        vertical-align: middle;\n",
       "    }\n",
       "\n",
       "    .dataframe tbody tr th {\n",
       "        vertical-align: top;\n",
       "    }\n",
       "\n",
       "    .dataframe thead th {\n",
       "        text-align: right;\n",
       "    }\n",
       "</style>\n",
       "<table border=\"1\" class=\"dataframe\">\n",
       "  <thead>\n",
       "    <tr style=\"text-align: right;\">\n",
       "      <th></th>\n",
       "      <th>馬名</th>\n",
       "      <th>gender</th>\n",
       "      <th>born_year</th>\n",
       "      <th>horse_id</th>\n",
       "    </tr>\n",
       "  </thead>\n",
       "  <tbody>\n",
       "  </tbody>\n",
       "</table>\n",
       "</div>"
      ],
      "text/plain": [
       "Empty DataFrame\n",
       "Columns: [馬名, gender, born_year, horse_id]\n",
       "Index: []"
      ]
     },
     "execution_count": 12,
     "metadata": {},
     "output_type": "execute_result"
    }
   ],
   "source": [
    "horse_master = pd.read_csv('../../resource/common/horse_master.csv')\n",
    "horse_master.loc[horse_master.horse_id==49869]"
   ]
  },
  {
   "cell_type": "code",
   "execution_count": 13,
   "metadata": {
    "ExecuteTime": {
     "end_time": "2020-12-12T16:27:17.009101Z",
     "start_time": "2020-12-12T16:27:16.982609Z"
    }
   },
   "outputs": [
    {
     "data": {
      "text/html": [
       "<div>\n",
       "<style scoped>\n",
       "    .dataframe tbody tr th:only-of-type {\n",
       "        vertical-align: middle;\n",
       "    }\n",
       "\n",
       "    .dataframe tbody tr th {\n",
       "        vertical-align: top;\n",
       "    }\n",
       "\n",
       "    .dataframe thead th {\n",
       "        text-align: right;\n",
       "    }\n",
       "</style>\n",
       "<table border=\"1\" class=\"dataframe\">\n",
       "  <thead>\n",
       "    <tr style=\"text-align: right;\">\n",
       "      <th></th>\n",
       "      <th>馬名</th>\n",
       "      <th>gender</th>\n",
       "      <th>born_year</th>\n",
       "      <th>horse_id</th>\n",
       "    </tr>\n",
       "  </thead>\n",
       "  <tbody>\n",
       "    <tr>\n",
       "      <th>0</th>\n",
       "      <td>マイネルギブソン</td>\n",
       "      <td>牡</td>\n",
       "      <td>2008</td>\n",
       "      <td>1</td>\n",
       "    </tr>\n",
       "    <tr>\n",
       "      <th>1</th>\n",
       "      <td>ロビンフット</td>\n",
       "      <td>牡</td>\n",
       "      <td>2008</td>\n",
       "      <td>2</td>\n",
       "    </tr>\n",
       "    <tr>\n",
       "      <th>2</th>\n",
       "      <td>ギリギリヒーロー</td>\n",
       "      <td>牡</td>\n",
       "      <td>2008</td>\n",
       "      <td>3</td>\n",
       "    </tr>\n",
       "    <tr>\n",
       "      <th>3</th>\n",
       "      <td>マーベラスカイザー</td>\n",
       "      <td>牡</td>\n",
       "      <td>2008</td>\n",
       "      <td>4</td>\n",
       "    </tr>\n",
       "    <tr>\n",
       "      <th>4</th>\n",
       "      <td>エルヘイロー</td>\n",
       "      <td>牡</td>\n",
       "      <td>2008</td>\n",
       "      <td>5</td>\n",
       "    </tr>\n",
       "    <tr>\n",
       "      <th>...</th>\n",
       "      <td>...</td>\n",
       "      <td>...</td>\n",
       "      <td>...</td>\n",
       "      <td>...</td>\n",
       "    </tr>\n",
       "    <tr>\n",
       "      <th>46102</th>\n",
       "      <td>レゴリス</td>\n",
       "      <td>牡</td>\n",
       "      <td>2016</td>\n",
       "      <td>46103</td>\n",
       "    </tr>\n",
       "    <tr>\n",
       "      <th>46103</th>\n",
       "      <td>レップウ</td>\n",
       "      <td>牡</td>\n",
       "      <td>2007</td>\n",
       "      <td>46104</td>\n",
       "    </tr>\n",
       "    <tr>\n",
       "      <th>46104</th>\n",
       "      <td>レップウ</td>\n",
       "      <td>牡</td>\n",
       "      <td>2015</td>\n",
       "      <td>46105</td>\n",
       "    </tr>\n",
       "    <tr>\n",
       "      <th>46105</th>\n",
       "      <td>ヴァルナ</td>\n",
       "      <td>牡</td>\n",
       "      <td>2005</td>\n",
       "      <td>46106</td>\n",
       "    </tr>\n",
       "    <tr>\n",
       "      <th>46106</th>\n",
       "      <td>ヴァルナ</td>\n",
       "      <td>牡</td>\n",
       "      <td>2017</td>\n",
       "      <td>46107</td>\n",
       "    </tr>\n",
       "  </tbody>\n",
       "</table>\n",
       "<p>46107 rows × 4 columns</p>\n",
       "</div>"
      ],
      "text/plain": [
       "              馬名 gender  born_year  horse_id\n",
       "0       マイネルギブソン      牡       2008         1\n",
       "1         ロビンフット      牡       2008         2\n",
       "2       ギリギリヒーロー      牡       2008         3\n",
       "3      マーベラスカイザー      牡       2008         4\n",
       "4         エルヘイロー      牡       2008         5\n",
       "...          ...    ...        ...       ...\n",
       "46102       レゴリス      牡       2016     46103\n",
       "46103       レップウ      牡       2007     46104\n",
       "46104       レップウ      牡       2015     46105\n",
       "46105       ヴァルナ      牡       2005     46106\n",
       "46106       ヴァルナ      牡       2017     46107\n",
       "\n",
       "[46107 rows x 4 columns]"
      ]
     },
     "execution_count": 13,
     "metadata": {},
     "output_type": "execute_result"
    }
   ],
   "source": [
    "horse_master"
   ]
  },
  {
   "cell_type": "code",
   "execution_count": 42,
   "metadata": {
    "ExecuteTime": {
     "end_time": "2020-12-15T15:29:35.897186Z",
     "start_time": "2020-12-15T15:29:35.892308Z"
    }
   },
   "outputs": [],
   "source": [
    "import pandas as pd\n",
    "pd.options.display.max_columns = 500"
   ]
  },
  {
   "cell_type": "code",
   "execution_count": 90,
   "metadata": {
    "ExecuteTime": {
     "end_time": "2020-12-17T15:00:48.669982Z",
     "start_time": "2020-12-17T15:00:45.686493Z"
    },
    "scrolled": true
   },
   "outputs": [],
   "source": [
    "transaction = pd.read_csv('../../resource/common/race_result_transaction.csv', index_col=0)\n",
    "# transaction.query('race_id not in @drop_ids').drop(['Unnamed: 0', 'race_date', 'race_title', 'race_class', 'course_name',\n",
    "#        'course_type', 'course_direction', 'course_distance', 'condition',\n",
    "#        'weather', 'race_class_prize', 'condition_int', 'weather_int'], axis=1)\n",
    "# transaction.loc[transaction.race_id==201201010101]"
   ]
  },
  {
   "cell_type": "raw",
   "metadata": {
    "ExecuteTime": {
     "end_time": "2020-12-16T11:32:22.548053Z",
     "start_time": "2020-12-16T11:32:11.038398Z"
    }
   },
   "source": [
    "transaction.drop_duplicates().to_csv('../../resource/common/race_result_transaction.csv', index=False)"
   ]
  },
  {
   "cell_type": "code",
   "execution_count": null,
   "metadata": {},
   "outputs": [],
   "source": []
  },
  {
   "cell_type": "code",
   "execution_count": 91,
   "metadata": {
    "ExecuteTime": {
     "end_time": "2020-12-17T15:00:57.079209Z",
     "start_time": "2020-12-17T15:00:57.016723Z"
    }
   },
   "outputs": [
    {
     "data": {
      "text/html": [
       "<div>\n",
       "<style scoped>\n",
       "    .dataframe tbody tr th:only-of-type {\n",
       "        vertical-align: middle;\n",
       "    }\n",
       "\n",
       "    .dataframe tbody tr th {\n",
       "        vertical-align: top;\n",
       "    }\n",
       "\n",
       "    .dataframe thead th {\n",
       "        text-align: right;\n",
       "    }\n",
       "</style>\n",
       "<table border=\"1\" class=\"dataframe\">\n",
       "  <thead>\n",
       "    <tr style=\"text-align: right;\">\n",
       "      <th></th>\n",
       "      <th>arrival</th>\n",
       "      <th>枠番</th>\n",
       "      <th>course_num</th>\n",
       "      <th>馬名</th>\n",
       "      <th>性齢</th>\n",
       "      <th>handy_weight</th>\n",
       "      <th>騎手</th>\n",
       "      <th>タイム</th>\n",
       "      <th>着差</th>\n",
       "      <th>ﾀｲﾑ指数</th>\n",
       "      <th>通過</th>\n",
       "      <th>uphill</th>\n",
       "      <th>odds</th>\n",
       "      <th>人気</th>\n",
       "      <th>馬体重</th>\n",
       "      <th>調教ﾀｲﾑ</th>\n",
       "      <th>厩舎ｺﾒﾝﾄ</th>\n",
       "      <th>備考</th>\n",
       "      <th>調教師</th>\n",
       "      <th>馬主</th>\n",
       "      <th>got_prize</th>\n",
       "      <th>race_id</th>\n",
       "      <th>weight</th>\n",
       "      <th>weight_change</th>\n",
       "      <th>abs_weight_change</th>\n",
       "      <th>place</th>\n",
       "      <th>gender</th>\n",
       "      <th>age</th>\n",
       "      <th>born_year</th>\n",
       "      <th>horse_id</th>\n",
       "    </tr>\n",
       "    <tr>\n",
       "      <th>Unnamed: 0</th>\n",
       "      <th></th>\n",
       "      <th></th>\n",
       "      <th></th>\n",
       "      <th></th>\n",
       "      <th></th>\n",
       "      <th></th>\n",
       "      <th></th>\n",
       "      <th></th>\n",
       "      <th></th>\n",
       "      <th></th>\n",
       "      <th></th>\n",
       "      <th></th>\n",
       "      <th></th>\n",
       "      <th></th>\n",
       "      <th></th>\n",
       "      <th></th>\n",
       "      <th></th>\n",
       "      <th></th>\n",
       "      <th></th>\n",
       "      <th></th>\n",
       "      <th></th>\n",
       "      <th></th>\n",
       "      <th></th>\n",
       "      <th></th>\n",
       "      <th></th>\n",
       "      <th></th>\n",
       "      <th></th>\n",
       "      <th></th>\n",
       "      <th></th>\n",
       "      <th></th>\n",
       "    </tr>\n",
       "  </thead>\n",
       "  <tbody>\n",
       "  </tbody>\n",
       "</table>\n",
       "</div>"
      ],
      "text/plain": [
       "Empty DataFrame\n",
       "Columns: [arrival, 枠番, course_num, 馬名, 性齢, handy_weight, 騎手, タイム, 着差, ﾀｲﾑ指数, 通過, uphill, odds, 人気, 馬体重, 調教ﾀｲﾑ, 厩舎ｺﾒﾝﾄ, 備考, 調教師, 馬主, got_prize, race_id, weight, weight_change, abs_weight_change, place, gender, age, born_year, horse_id]\n",
       "Index: []"
      ]
     },
     "execution_count": 91,
     "metadata": {},
     "output_type": "execute_result"
    }
   ],
   "source": [
    "transaction.loc[transaction.horse_id.isnull()]"
   ]
  },
  {
   "cell_type": "code",
   "execution_count": null,
   "metadata": {},
   "outputs": [],
   "source": []
  },
  {
   "cell_type": "code",
   "execution_count": 92,
   "metadata": {
    "ExecuteTime": {
     "end_time": "2020-12-17T15:01:01.617695Z",
     "start_time": "2020-12-17T15:01:01.211539Z"
    }
   },
   "outputs": [
    {
     "data": {
      "text/plain": [
       "arrival                   0\n",
       "枠番                        0\n",
       "course_num                0\n",
       "馬名                        0\n",
       "性齢                        0\n",
       "handy_weight              0\n",
       "騎手                        0\n",
       "タイム                       1\n",
       "着差                    27153\n",
       "ﾀｲﾑ指数                     3\n",
       "通過                      688\n",
       "uphill                    6\n",
       "odds                      4\n",
       "人気                        4\n",
       "馬体重                       4\n",
       "調教ﾀｲﾑ                387828\n",
       "厩舎ｺﾒﾝﾄ               387828\n",
       "備考                   387828\n",
       "調教師                       8\n",
       "馬主                        8\n",
       "got_prize            252129\n",
       "race_id                   0\n",
       "weight                    5\n",
       "weight_change             5\n",
       "abs_weight_change         5\n",
       "place                     8\n",
       "gender                    0\n",
       "age                       0\n",
       "born_year                 0\n",
       "horse_id                  0\n",
       "dtype: int64"
      ]
     },
     "execution_count": 92,
     "metadata": {},
     "output_type": "execute_result"
    }
   ],
   "source": [
    "transaction.isnull().sum()"
   ]
  },
  {
   "cell_type": "code",
   "execution_count": 47,
   "metadata": {
    "ExecuteTime": {
     "end_time": "2020-12-15T15:35:57.013703Z",
     "start_time": "2020-12-15T15:35:57.005892Z"
    }
   },
   "outputs": [
    {
     "data": {
      "text/plain": [
       "Index(['race_id', 'race_date', 'race_title', 'race_class', 'course_name',\n",
       "       'course_type', 'course_direction', 'course_distance', 'condition',\n",
       "       'weather', 'race_class_prize', 'condition_int', 'weather_int'],\n",
       "      dtype='object')"
      ]
     },
     "execution_count": 47,
     "metadata": {},
     "output_type": "execute_result"
    }
   ],
   "source": [
    "race_master.columns"
   ]
  },
  {
   "cell_type": "code",
   "execution_count": 59,
   "metadata": {
    "ExecuteTime": {
     "end_time": "2020-12-15T15:37:26.059511Z",
     "start_time": "2020-12-15T15:37:26.036076Z"
    },
    "scrolled": true
   },
   "outputs": [],
   "source": [
    "tmp = pd.read_csv('../../resource/common/raw_result/info/race_info_20201207.csv')"
   ]
  },
  {
   "cell_type": "code",
   "execution_count": 63,
   "metadata": {
    "ExecuteTime": {
     "end_time": "2020-12-15T15:41:01.355045Z",
     "start_time": "2020-12-15T15:41:01.347236Z"
    }
   },
   "outputs": [
    {
     "data": {
      "text/plain": [
       "(3193, 10)"
      ]
     },
     "execution_count": 63,
     "metadata": {},
     "output_type": "execute_result"
    }
   ],
   "source": [
    "tmp.shape"
   ]
  },
  {
   "cell_type": "code",
   "execution_count": 65,
   "metadata": {
    "ExecuteTime": {
     "end_time": "2020-12-15T15:41:36.935523Z",
     "start_time": "2020-12-15T15:41:36.894515Z"
    },
    "scrolled": true
   },
   "outputs": [],
   "source": [
    "tmp.query('(course_type==\"芝\") and (condition != \"不良\") and (weather != \"雨\") and (weather != \"雪\")').race_id.to_csv('20201207_race_id.csv', index=False)"
   ]
  },
  {
   "cell_type": "code",
   "execution_count": null,
   "metadata": {},
   "outputs": [],
   "source": []
  },
  {
   "cell_type": "code",
   "execution_count": 28,
   "metadata": {
    "ExecuteTime": {
     "end_time": "2020-12-15T15:27:36.246197Z",
     "start_time": "2020-12-15T15:27:36.238393Z"
    }
   },
   "outputs": [
    {
     "data": {
      "text/plain": [
       "array([201910021212, 202001010101, 202001010102, ..., 202010020810,\n",
       "       202010020811, 202010020812], dtype=int64)"
      ]
     },
     "execution_count": 28,
     "metadata": {},
     "output_type": "execute_result"
    }
   ],
   "source": [
    "drop_ids"
   ]
  },
  {
   "cell_type": "code",
   "execution_count": 48,
   "metadata": {
    "ExecuteTime": {
     "end_time": "2020-12-15T15:36:01.340402Z",
     "start_time": "2020-12-15T15:36:01.281822Z"
    },
    "scrolled": true
   },
   "outputs": [
    {
     "data": {
      "text/html": [
       "<div>\n",
       "<style scoped>\n",
       "    .dataframe tbody tr th:only-of-type {\n",
       "        vertical-align: middle;\n",
       "    }\n",
       "\n",
       "    .dataframe tbody tr th {\n",
       "        vertical-align: top;\n",
       "    }\n",
       "\n",
       "    .dataframe thead th {\n",
       "        text-align: right;\n",
       "    }\n",
       "</style>\n",
       "<table border=\"1\" class=\"dataframe\">\n",
       "  <thead>\n",
       "    <tr style=\"text-align: right;\">\n",
       "      <th></th>\n",
       "      <th>Unnamed: 0</th>\n",
       "      <th>arrival</th>\n",
       "      <th>枠番</th>\n",
       "      <th>course_num</th>\n",
       "      <th>馬名</th>\n",
       "      <th>性齢</th>\n",
       "      <th>handy_weight</th>\n",
       "      <th>騎手</th>\n",
       "      <th>タイム</th>\n",
       "      <th>着差</th>\n",
       "      <th>ﾀｲﾑ指数</th>\n",
       "      <th>通過</th>\n",
       "      <th>uphill</th>\n",
       "      <th>odds</th>\n",
       "      <th>人気</th>\n",
       "      <th>馬体重</th>\n",
       "      <th>調教ﾀｲﾑ</th>\n",
       "      <th>厩舎ｺﾒﾝﾄ</th>\n",
       "      <th>備考</th>\n",
       "      <th>調教師</th>\n",
       "      <th>馬主</th>\n",
       "      <th>got_prize</th>\n",
       "      <th>race_id</th>\n",
       "      <th>weight</th>\n",
       "      <th>weight_change</th>\n",
       "      <th>abs_weight_change</th>\n",
       "      <th>place</th>\n",
       "      <th>gender</th>\n",
       "      <th>age</th>\n",
       "      <th>born_year</th>\n",
       "      <th>horse_id</th>\n",
       "    </tr>\n",
       "  </thead>\n",
       "  <tbody>\n",
       "    <tr>\n",
       "      <th>0</th>\n",
       "      <td>0</td>\n",
       "      <td>1</td>\n",
       "      <td>3</td>\n",
       "      <td>3</td>\n",
       "      <td>マイネルギブソン</td>\n",
       "      <td>牡2</td>\n",
       "      <td>54.0</td>\n",
       "      <td>丹内祐次</td>\n",
       "      <td>1:52.1</td>\n",
       "      <td>NaN</td>\n",
       "      <td>**</td>\n",
       "      <td>1-1-1-1</td>\n",
       "      <td>34.7</td>\n",
       "      <td>6.0</td>\n",
       "      <td>5.0</td>\n",
       "      <td>432(+10)</td>\n",
       "      <td>NaN</td>\n",
       "      <td>NaN</td>\n",
       "      <td>NaN</td>\n",
       "      <td>[東] 萱野浩二</td>\n",
       "      <td>サラブレッドクラブ・ラフィアン</td>\n",
       "      <td>1623.1</td>\n",
       "      <td>201001020110</td>\n",
       "      <td>432.0</td>\n",
       "      <td>10.0</td>\n",
       "      <td>10.0</td>\n",
       "      <td>東</td>\n",
       "      <td>牡</td>\n",
       "      <td>2</td>\n",
       "      <td>2008.0</td>\n",
       "      <td>1</td>\n",
       "    </tr>\n",
       "    <tr>\n",
       "      <th>1</th>\n",
       "      <td>1</td>\n",
       "      <td>2</td>\n",
       "      <td>8</td>\n",
       "      <td>10</td>\n",
       "      <td>ロビンフット</td>\n",
       "      <td>牡2</td>\n",
       "      <td>55.0</td>\n",
       "      <td>勝浦正樹</td>\n",
       "      <td>1:52.2</td>\n",
       "      <td>1/2</td>\n",
       "      <td>**</td>\n",
       "      <td>4-3-3-2</td>\n",
       "      <td>34.5</td>\n",
       "      <td>2.7</td>\n",
       "      <td>1.0</td>\n",
       "      <td>488(-6)</td>\n",
       "      <td>NaN</td>\n",
       "      <td>NaN</td>\n",
       "      <td>NaN</td>\n",
       "      <td>[東] 堀井雅広</td>\n",
       "      <td>桐谷茂</td>\n",
       "      <td>646.6</td>\n",
       "      <td>201001020110</td>\n",
       "      <td>488.0</td>\n",
       "      <td>-6.0</td>\n",
       "      <td>6.0</td>\n",
       "      <td>東</td>\n",
       "      <td>牡</td>\n",
       "      <td>2</td>\n",
       "      <td>2008.0</td>\n",
       "      <td>2</td>\n",
       "    </tr>\n",
       "    <tr>\n",
       "      <th>2</th>\n",
       "      <td>2</td>\n",
       "      <td>3</td>\n",
       "      <td>4</td>\n",
       "      <td>4</td>\n",
       "      <td>ギリギリヒーロー</td>\n",
       "      <td>牡2</td>\n",
       "      <td>54.0</td>\n",
       "      <td>武幸四郎</td>\n",
       "      <td>1:52.3</td>\n",
       "      <td>1/2</td>\n",
       "      <td>**</td>\n",
       "      <td>10-8-9-5</td>\n",
       "      <td>34.0</td>\n",
       "      <td>5.7</td>\n",
       "      <td>4.0</td>\n",
       "      <td>416(-6)</td>\n",
       "      <td>NaN</td>\n",
       "      <td>NaN</td>\n",
       "      <td>NaN</td>\n",
       "      <td>[西] 荒川義之</td>\n",
       "      <td>小林けい子</td>\n",
       "      <td>403.3</td>\n",
       "      <td>201001020110</td>\n",
       "      <td>416.0</td>\n",
       "      <td>-6.0</td>\n",
       "      <td>6.0</td>\n",
       "      <td>西</td>\n",
       "      <td>牡</td>\n",
       "      <td>2</td>\n",
       "      <td>2008.0</td>\n",
       "      <td>3</td>\n",
       "    </tr>\n",
       "    <tr>\n",
       "      <th>3</th>\n",
       "      <td>3</td>\n",
       "      <td>4</td>\n",
       "      <td>8</td>\n",
       "      <td>11</td>\n",
       "      <td>マーベラスカイザー</td>\n",
       "      <td>牡2</td>\n",
       "      <td>54.0</td>\n",
       "      <td>古川吉洋</td>\n",
       "      <td>1:52.7</td>\n",
       "      <td>2.1/2</td>\n",
       "      <td>**</td>\n",
       "      <td>5-5-4-3</td>\n",
       "      <td>34.8</td>\n",
       "      <td>5.2</td>\n",
       "      <td>2.0</td>\n",
       "      <td>472(+2)</td>\n",
       "      <td>NaN</td>\n",
       "      <td>NaN</td>\n",
       "      <td>NaN</td>\n",
       "      <td>[西] 柴田政見</td>\n",
       "      <td>笹原貞生</td>\n",
       "      <td>240.0</td>\n",
       "      <td>201001020110</td>\n",
       "      <td>472.0</td>\n",
       "      <td>2.0</td>\n",
       "      <td>2.0</td>\n",
       "      <td>西</td>\n",
       "      <td>牡</td>\n",
       "      <td>2</td>\n",
       "      <td>2008.0</td>\n",
       "      <td>4</td>\n",
       "    </tr>\n",
       "    <tr>\n",
       "      <th>4</th>\n",
       "      <td>4</td>\n",
       "      <td>5</td>\n",
       "      <td>2</td>\n",
       "      <td>2</td>\n",
       "      <td>エルヘイロー</td>\n",
       "      <td>牡2</td>\n",
       "      <td>54.0</td>\n",
       "      <td>小国博行</td>\n",
       "      <td>1:52.7</td>\n",
       "      <td>クビ</td>\n",
       "      <td>**</td>\n",
       "      <td>6-6-6-5</td>\n",
       "      <td>34.7</td>\n",
       "      <td>13.5</td>\n",
       "      <td>6.0</td>\n",
       "      <td>466(-4)</td>\n",
       "      <td>NaN</td>\n",
       "      <td>NaN</td>\n",
       "      <td>NaN</td>\n",
       "      <td>[地] 堂山芳則</td>\n",
       "      <td>黒岩晴男</td>\n",
       "      <td>160.0</td>\n",
       "      <td>201001020110</td>\n",
       "      <td>466.0</td>\n",
       "      <td>-4.0</td>\n",
       "      <td>4.0</td>\n",
       "      <td>地</td>\n",
       "      <td>牡</td>\n",
       "      <td>2</td>\n",
       "      <td>2008.0</td>\n",
       "      <td>5</td>\n",
       "    </tr>\n",
       "  </tbody>\n",
       "</table>\n",
       "</div>"
      ],
      "text/plain": [
       "   Unnamed: 0  arrival  枠番  course_num         馬名  性齢  handy_weight    騎手  \\\n",
       "0           0        1   3           3   マイネルギブソン  牡2          54.0  丹内祐次   \n",
       "1           1        2   8          10     ロビンフット  牡2          55.0  勝浦正樹   \n",
       "2           2        3   4           4   ギリギリヒーロー  牡2          54.0  武幸四郎   \n",
       "3           3        4   8          11  マーベラスカイザー  牡2          54.0  古川吉洋   \n",
       "4           4        5   2           2     エルヘイロー  牡2          54.0  小国博行   \n",
       "\n",
       "      タイム     着差 ﾀｲﾑ指数        通過  uphill  odds   人気       馬体重  調教ﾀｲﾑ  厩舎ｺﾒﾝﾄ  \\\n",
       "0  1:52.1    NaN    **   1-1-1-1    34.7   6.0  5.0  432(+10)    NaN     NaN   \n",
       "1  1:52.2    1/2    **   4-3-3-2    34.5   2.7  1.0   488(-6)    NaN     NaN   \n",
       "2  1:52.3    1/2    **  10-8-9-5    34.0   5.7  4.0   416(-6)    NaN     NaN   \n",
       "3  1:52.7  2.1/2    **   5-5-4-3    34.8   5.2  2.0   472(+2)    NaN     NaN   \n",
       "4  1:52.7     クビ    **   6-6-6-5    34.7  13.5  6.0   466(-4)    NaN     NaN   \n",
       "\n",
       "   備考       調教師               馬主  got_prize       race_id  weight  \\\n",
       "0 NaN  [東] 萱野浩二  サラブレッドクラブ・ラフィアン     1623.1  201001020110   432.0   \n",
       "1 NaN  [東] 堀井雅広              桐谷茂      646.6  201001020110   488.0   \n",
       "2 NaN  [西] 荒川義之            小林けい子      403.3  201001020110   416.0   \n",
       "3 NaN  [西] 柴田政見             笹原貞生      240.0  201001020110   472.0   \n",
       "4 NaN  [地] 堂山芳則             黒岩晴男      160.0  201001020110   466.0   \n",
       "\n",
       "   weight_change  abs_weight_change place gender  age  born_year  horse_id  \n",
       "0           10.0               10.0     東      牡    2     2008.0         1  \n",
       "1           -6.0                6.0     東      牡    2     2008.0         2  \n",
       "2           -6.0                6.0     西      牡    2     2008.0         3  \n",
       "3            2.0                2.0     西      牡    2     2008.0         4  \n",
       "4           -4.0                4.0     地      牡    2     2008.0         5  "
      ]
     },
     "execution_count": 48,
     "metadata": {},
     "output_type": "execute_result"
    }
   ],
   "source": [
    "transaction.head()"
   ]
  },
  {
   "cell_type": "code",
   "execution_count": 77,
   "metadata": {
    "ExecuteTime": {
     "end_time": "2020-12-16T11:32:56.548475Z",
     "start_time": "2020-12-16T11:32:56.540665Z"
    }
   },
   "outputs": [
    {
     "data": {
      "text/plain": [
       "(430502, 29)"
      ]
     },
     "execution_count": 77,
     "metadata": {},
     "output_type": "execute_result"
    }
   ],
   "source": [
    "transaction.shape"
   ]
  },
  {
   "cell_type": "code",
   "execution_count": 93,
   "metadata": {
    "ExecuteTime": {
     "end_time": "2020-12-17T15:01:20.136976Z",
     "start_time": "2020-12-17T15:01:19.976338Z"
    }
   },
   "outputs": [
    {
     "data": {
      "text/html": [
       "<div>\n",
       "<style scoped>\n",
       "    .dataframe tbody tr th:only-of-type {\n",
       "        vertical-align: middle;\n",
       "    }\n",
       "\n",
       "    .dataframe tbody tr th {\n",
       "        vertical-align: top;\n",
       "    }\n",
       "\n",
       "    .dataframe thead th {\n",
       "        text-align: right;\n",
       "    }\n",
       "</style>\n",
       "<table border=\"1\" class=\"dataframe\">\n",
       "  <thead>\n",
       "    <tr style=\"text-align: right;\">\n",
       "      <th></th>\n",
       "      <th>arrival</th>\n",
       "      <th>枠番</th>\n",
       "      <th>course_num</th>\n",
       "      <th>馬名</th>\n",
       "      <th>性齢</th>\n",
       "      <th>handy_weight</th>\n",
       "      <th>騎手</th>\n",
       "      <th>タイム</th>\n",
       "      <th>着差</th>\n",
       "      <th>ﾀｲﾑ指数</th>\n",
       "      <th>通過</th>\n",
       "      <th>uphill</th>\n",
       "      <th>odds</th>\n",
       "      <th>人気</th>\n",
       "      <th>馬体重</th>\n",
       "      <th>調教ﾀｲﾑ</th>\n",
       "      <th>厩舎ｺﾒﾝﾄ</th>\n",
       "      <th>備考</th>\n",
       "      <th>調教師</th>\n",
       "      <th>馬主</th>\n",
       "      <th>got_prize</th>\n",
       "      <th>race_id</th>\n",
       "      <th>weight</th>\n",
       "      <th>weight_change</th>\n",
       "      <th>abs_weight_change</th>\n",
       "      <th>place</th>\n",
       "      <th>gender</th>\n",
       "      <th>age</th>\n",
       "      <th>born_year</th>\n",
       "      <th>horse_id</th>\n",
       "    </tr>\n",
       "    <tr>\n",
       "      <th>Unnamed: 0</th>\n",
       "      <th></th>\n",
       "      <th></th>\n",
       "      <th></th>\n",
       "      <th></th>\n",
       "      <th></th>\n",
       "      <th></th>\n",
       "      <th></th>\n",
       "      <th></th>\n",
       "      <th></th>\n",
       "      <th></th>\n",
       "      <th></th>\n",
       "      <th></th>\n",
       "      <th></th>\n",
       "      <th></th>\n",
       "      <th></th>\n",
       "      <th></th>\n",
       "      <th></th>\n",
       "      <th></th>\n",
       "      <th></th>\n",
       "      <th></th>\n",
       "      <th></th>\n",
       "      <th></th>\n",
       "      <th></th>\n",
       "      <th></th>\n",
       "      <th></th>\n",
       "      <th></th>\n",
       "      <th></th>\n",
       "      <th></th>\n",
       "      <th></th>\n",
       "      <th></th>\n",
       "    </tr>\n",
       "  </thead>\n",
       "  <tbody>\n",
       "  </tbody>\n",
       "</table>\n",
       "</div>"
      ],
      "text/plain": [
       "Empty DataFrame\n",
       "Columns: [arrival, 枠番, course_num, 馬名, 性齢, handy_weight, 騎手, タイム, 着差, ﾀｲﾑ指数, 通過, uphill, odds, 人気, 馬体重, 調教ﾀｲﾑ, 厩舎ｺﾒﾝﾄ, 備考, 調教師, 馬主, got_prize, race_id, weight, weight_change, abs_weight_change, place, gender, age, born_year, horse_id]\n",
       "Index: []"
      ]
     },
     "execution_count": 93,
     "metadata": {},
     "output_type": "execute_result"
    }
   ],
   "source": [
    "transaction.loc[transaction[['race_id', 'horse_id']].duplicated(keep=False)]"
   ]
  },
  {
   "cell_type": "code",
   "execution_count": 94,
   "metadata": {
    "ExecuteTime": {
     "end_time": "2020-12-17T15:01:22.144090Z",
     "start_time": "2020-12-17T15:01:22.004478Z"
    }
   },
   "outputs": [
    {
     "data": {
      "text/html": [
       "<div>\n",
       "<style scoped>\n",
       "    .dataframe tbody tr th:only-of-type {\n",
       "        vertical-align: middle;\n",
       "    }\n",
       "\n",
       "    .dataframe tbody tr th {\n",
       "        vertical-align: top;\n",
       "    }\n",
       "\n",
       "    .dataframe thead th {\n",
       "        text-align: right;\n",
       "    }\n",
       "</style>\n",
       "<table border=\"1\" class=\"dataframe\">\n",
       "  <thead>\n",
       "    <tr style=\"text-align: right;\">\n",
       "      <th></th>\n",
       "      <th>race_id</th>\n",
       "      <th>race_date</th>\n",
       "      <th>race_title</th>\n",
       "      <th>race_class</th>\n",
       "      <th>course_name</th>\n",
       "      <th>course_type</th>\n",
       "      <th>course_direction</th>\n",
       "      <th>course_distance</th>\n",
       "      <th>condition</th>\n",
       "      <th>weather</th>\n",
       "      <th>race_class_prize</th>\n",
       "      <th>condition_int</th>\n",
       "      <th>weather_int</th>\n",
       "    </tr>\n",
       "  </thead>\n",
       "  <tbody>\n",
       "    <tr>\n",
       "      <th>2872</th>\n",
       "      <td>201201010101</td>\n",
       "      <td>2012-07-21</td>\n",
       "      <td>2歳未勝利</td>\n",
       "      <td>2歳未勝利</td>\n",
       "      <td>札幌</td>\n",
       "      <td>芝</td>\n",
       "      <td>右</td>\n",
       "      <td>1500</td>\n",
       "      <td>良</td>\n",
       "      <td>晴</td>\n",
       "      <td>未勝利</td>\n",
       "      <td>1</td>\n",
       "      <td>1</td>\n",
       "    </tr>\n",
       "  </tbody>\n",
       "</table>\n",
       "</div>"
      ],
      "text/plain": [
       "           race_id   race_date race_title race_class course_name course_type  \\\n",
       "2872  201201010101  2012-07-21      2歳未勝利      2歳未勝利          札幌           芝   \n",
       "\n",
       "     course_direction  course_distance condition weather race_class_prize  \\\n",
       "2872                右             1500         良       晴              未勝利   \n",
       "\n",
       "      condition_int  weather_int  \n",
       "2872              1            1  "
      ]
     },
     "execution_count": 94,
     "metadata": {},
     "output_type": "execute_result"
    }
   ],
   "source": [
    "race_master = pd.read_csv('../../resource/common/race_info_master.csv')\n",
    "race_master.loc[race_master.race_id==201201010101]"
   ]
  },
  {
   "cell_type": "code",
   "execution_count": 95,
   "metadata": {
    "ExecuteTime": {
     "end_time": "2020-12-17T15:01:24.322720Z",
     "start_time": "2020-12-17T15:01:24.301240Z"
    }
   },
   "outputs": [
    {
     "data": {
      "text/html": [
       "<div>\n",
       "<style scoped>\n",
       "    .dataframe tbody tr th:only-of-type {\n",
       "        vertical-align: middle;\n",
       "    }\n",
       "\n",
       "    .dataframe tbody tr th {\n",
       "        vertical-align: top;\n",
       "    }\n",
       "\n",
       "    .dataframe thead th {\n",
       "        text-align: right;\n",
       "    }\n",
       "</style>\n",
       "<table border=\"1\" class=\"dataframe\">\n",
       "  <thead>\n",
       "    <tr style=\"text-align: right;\">\n",
       "      <th></th>\n",
       "      <th>race_id</th>\n",
       "      <th>race_date</th>\n",
       "      <th>race_title</th>\n",
       "      <th>race_class</th>\n",
       "      <th>course_name</th>\n",
       "      <th>course_type</th>\n",
       "      <th>course_direction</th>\n",
       "      <th>course_distance</th>\n",
       "      <th>condition</th>\n",
       "      <th>weather</th>\n",
       "      <th>race_class_prize</th>\n",
       "      <th>condition_int</th>\n",
       "      <th>weather_int</th>\n",
       "    </tr>\n",
       "  </thead>\n",
       "  <tbody>\n",
       "  </tbody>\n",
       "</table>\n",
       "</div>"
      ],
      "text/plain": [
       "Empty DataFrame\n",
       "Columns: [race_id, race_date, race_title, race_class, course_name, course_type, course_direction, course_distance, condition, weather, race_class_prize, condition_int, weather_int]\n",
       "Index: []"
      ]
     },
     "execution_count": 95,
     "metadata": {},
     "output_type": "execute_result"
    }
   ],
   "source": [
    "race_master.loc[race_master.duplicated('race_id', keep=False)]"
   ]
  },
  {
   "cell_type": "raw",
   "metadata": {
    "ExecuteTime": {
     "end_time": "2020-12-16T11:35:06.338754Z",
     "start_time": "2020-12-16T11:35:06.131752Z"
    }
   },
   "source": [
    "race_master.drop_duplicates('race_id').to_csv('../../resource/common/race_info_master.csv', index=False)"
   ]
  },
  {
   "cell_type": "code",
   "execution_count": 88,
   "metadata": {
    "ExecuteTime": {
     "end_time": "2020-12-16T11:35:15.429102Z",
     "start_time": "2020-12-16T11:35:15.421292Z"
    }
   },
   "outputs": [
    {
     "data": {
      "text/plain": [
       "(30202, 13)"
      ]
     },
     "execution_count": 88,
     "metadata": {},
     "output_type": "execute_result"
    }
   ],
   "source": [
    "race_master.shape"
   ]
  },
  {
   "cell_type": "code",
   "execution_count": 89,
   "metadata": {
    "ExecuteTime": {
     "end_time": "2020-12-16T11:35:16.054934Z",
     "start_time": "2020-12-16T11:35:16.027595Z"
    }
   },
   "outputs": [
    {
     "data": {
      "text/html": [
       "<div>\n",
       "<style scoped>\n",
       "    .dataframe tbody tr th:only-of-type {\n",
       "        vertical-align: middle;\n",
       "    }\n",
       "\n",
       "    .dataframe tbody tr th {\n",
       "        vertical-align: top;\n",
       "    }\n",
       "\n",
       "    .dataframe thead th {\n",
       "        text-align: right;\n",
       "    }\n",
       "</style>\n",
       "<table border=\"1\" class=\"dataframe\">\n",
       "  <thead>\n",
       "    <tr style=\"text-align: right;\">\n",
       "      <th></th>\n",
       "      <th>race_id</th>\n",
       "      <th>race_date</th>\n",
       "      <th>race_title</th>\n",
       "      <th>race_class</th>\n",
       "      <th>course_name</th>\n",
       "      <th>course_type</th>\n",
       "      <th>course_direction</th>\n",
       "      <th>course_distance</th>\n",
       "      <th>condition</th>\n",
       "      <th>weather</th>\n",
       "      <th>race_class_prize</th>\n",
       "      <th>condition_int</th>\n",
       "      <th>weather_int</th>\n",
       "    </tr>\n",
       "  </thead>\n",
       "  <tbody>\n",
       "    <tr>\n",
       "      <th>30197</th>\n",
       "      <td>202010020808</td>\n",
       "      <td>2020-09-06 00:00:00</td>\n",
       "      <td>3歳以上1勝クラス</td>\n",
       "      <td>3歳以上1勝クラス</td>\n",
       "      <td>小倉</td>\n",
       "      <td>ダ</td>\n",
       "      <td>右</td>\n",
       "      <td>1000</td>\n",
       "      <td>稍重</td>\n",
       "      <td>雨</td>\n",
       "      <td>1勝クラス</td>\n",
       "      <td>2</td>\n",
       "      <td>4</td>\n",
       "    </tr>\n",
       "    <tr>\n",
       "      <th>30198</th>\n",
       "      <td>202010020809</td>\n",
       "      <td>2020-09-06 00:00:00</td>\n",
       "      <td>別府特別</td>\n",
       "      <td>3歳以上1000万下</td>\n",
       "      <td>小倉</td>\n",
       "      <td>芝</td>\n",
       "      <td>右</td>\n",
       "      <td>1200</td>\n",
       "      <td>重</td>\n",
       "      <td>雨</td>\n",
       "      <td>2勝クラス</td>\n",
       "      <td>3</td>\n",
       "      <td>4</td>\n",
       "    </tr>\n",
       "    <tr>\n",
       "      <th>30199</th>\n",
       "      <td>202010020810</td>\n",
       "      <td>2020-09-06 00:00:00</td>\n",
       "      <td>西日本スポーツ杯</td>\n",
       "      <td>3歳以上1000万下</td>\n",
       "      <td>小倉</td>\n",
       "      <td>芝</td>\n",
       "      <td>右</td>\n",
       "      <td>1800</td>\n",
       "      <td>重</td>\n",
       "      <td>雨</td>\n",
       "      <td>2勝クラス</td>\n",
       "      <td>3</td>\n",
       "      <td>4</td>\n",
       "    </tr>\n",
       "    <tr>\n",
       "      <th>30200</th>\n",
       "      <td>202010020811</td>\n",
       "      <td>2020-09-06 00:00:00</td>\n",
       "      <td>第40回小倉2歳ステークス(G3)</td>\n",
       "      <td>2歳オープン</td>\n",
       "      <td>小倉</td>\n",
       "      <td>芝</td>\n",
       "      <td>右</td>\n",
       "      <td>1200</td>\n",
       "      <td>重</td>\n",
       "      <td>雨</td>\n",
       "      <td>G3</td>\n",
       "      <td>3</td>\n",
       "      <td>4</td>\n",
       "    </tr>\n",
       "    <tr>\n",
       "      <th>30201</th>\n",
       "      <td>202010020812</td>\n",
       "      <td>2020-09-06 00:00:00</td>\n",
       "      <td>3歳以上1勝クラス</td>\n",
       "      <td>3歳以上1勝クラス</td>\n",
       "      <td>小倉</td>\n",
       "      <td>ダ</td>\n",
       "      <td>右</td>\n",
       "      <td>1700</td>\n",
       "      <td>重</td>\n",
       "      <td>雨</td>\n",
       "      <td>1勝クラス</td>\n",
       "      <td>3</td>\n",
       "      <td>4</td>\n",
       "    </tr>\n",
       "  </tbody>\n",
       "</table>\n",
       "</div>"
      ],
      "text/plain": [
       "            race_id            race_date         race_title  race_class  \\\n",
       "30197  202010020808  2020-09-06 00:00:00          3歳以上1勝クラス   3歳以上1勝クラス   \n",
       "30198  202010020809  2020-09-06 00:00:00               別府特別  3歳以上1000万下   \n",
       "30199  202010020810  2020-09-06 00:00:00           西日本スポーツ杯  3歳以上1000万下   \n",
       "30200  202010020811  2020-09-06 00:00:00  第40回小倉2歳ステークス(G3)      2歳オープン   \n",
       "30201  202010020812  2020-09-06 00:00:00          3歳以上1勝クラス   3歳以上1勝クラス   \n",
       "\n",
       "      course_name course_type course_direction  course_distance condition  \\\n",
       "30197          小倉           ダ                右             1000        稍重   \n",
       "30198          小倉           芝                右             1200         重   \n",
       "30199          小倉           芝                右             1800         重   \n",
       "30200          小倉           芝                右             1200         重   \n",
       "30201          小倉           ダ                右             1700         重   \n",
       "\n",
       "      weather race_class_prize  condition_int  weather_int  \n",
       "30197       雨            1勝クラス              2            4  \n",
       "30198       雨            2勝クラス              3            4  \n",
       "30199       雨            2勝クラス              3            4  \n",
       "30200       雨               G3              3            4  \n",
       "30201       雨            1勝クラス              3            4  "
      ]
     },
     "execution_count": 89,
     "metadata": {},
     "output_type": "execute_result"
    }
   ],
   "source": [
    "race_master.tail()"
   ]
  },
  {
   "cell_type": "code",
   "execution_count": 61,
   "metadata": {
    "ExecuteTime": {
     "end_time": "2020-12-15T15:38:29.582921Z",
     "start_time": "2020-12-15T15:38:29.566326Z"
    }
   },
   "outputs": [
    {
     "data": {
      "text/plain": [
       "京都    4572\n",
       "東京    4517\n",
       "阪神    4358\n",
       "中山    4125\n",
       "新潟    2677\n",
       "小倉    2585\n",
       "中京    2488\n",
       "福島    2129\n",
       "函館    1488\n",
       "札幌    1264\n",
       "Name: course_name, dtype: int64"
      ]
     },
     "execution_count": 61,
     "metadata": {},
     "output_type": "execute_result"
    }
   ],
   "source": [
    "race_master.course_name.value_counts()"
   ]
  },
  {
   "cell_type": "code",
   "execution_count": 52,
   "metadata": {
    "ExecuteTime": {
     "end_time": "2020-12-15T15:36:07.816746Z",
     "start_time": "2020-12-15T15:36:07.798195Z"
    }
   },
   "outputs": [],
   "source": [
    "race_master.race_date = pd.to_datetime(race_master.race_date)"
   ]
  },
  {
   "cell_type": "code",
   "execution_count": 53,
   "metadata": {
    "ExecuteTime": {
     "end_time": "2020-12-15T15:36:08.526082Z",
     "start_time": "2020-12-15T15:36:08.510463Z"
    },
    "scrolled": true
   },
   "outputs": [
    {
     "data": {
      "text/plain": [
       "2010     175\n",
       "2011     639\n",
       "2012    3309\n",
       "2013    3312\n",
       "2014    3206\n",
       "2015    3325\n",
       "2016    3326\n",
       "2017    3329\n",
       "2018    3262\n",
       "2019    3243\n",
       "2020    3077\n",
       "Name: race_date, dtype: int64"
      ]
     },
     "execution_count": 53,
     "metadata": {},
     "output_type": "execute_result"
    }
   ],
   "source": [
    "# race_master = race_master.loc[race_master.race_date.dt.year==2020]\n",
    "race_master.race_date.dt.year.value_counts().sort_index()"
   ]
  },
  {
   "cell_type": "code",
   "execution_count": null,
   "metadata": {},
   "outputs": [],
   "source": []
  }
 ],
 "metadata": {
  "kernelspec": {
   "display_name": "Python 3",
   "language": "python",
   "name": "python3"
  },
  "language_info": {
   "codemirror_mode": {
    "name": "ipython",
    "version": 3
   },
   "file_extension": ".py",
   "mimetype": "text/x-python",
   "name": "python",
   "nbconvert_exporter": "python",
   "pygments_lexer": "ipython3",
   "version": "3.8.6"
  },
  "toc": {
   "base_numbering": 1,
   "nav_menu": {},
   "number_sections": true,
   "sideBar": true,
   "skip_h1_title": false,
   "title_cell": "Table of Contents",
   "title_sidebar": "Contents",
   "toc_cell": false,
   "toc_position": {},
   "toc_section_display": true,
   "toc_window_display": false
  }
 },
 "nbformat": 4,
 "nbformat_minor": 4
}
