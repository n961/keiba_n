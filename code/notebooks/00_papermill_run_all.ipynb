{
 "cells": [
  {
   "cell_type": "code",
   "execution_count": 1,
   "metadata": {
    "ExecuteTime": {
     "end_time": "2020-12-03T13:51:17.433277Z",
     "start_time": "2020-12-03T13:51:14.702842Z"
    }
   },
   "outputs": [],
   "source": [
    "import papermill as pm\n",
    "import pathlib\n",
    "import os\n",
    "import datetime"
   ]
  },
  {
   "cell_type": "code",
   "execution_count": 2,
   "metadata": {
    "ExecuteTime": {
     "end_time": "2020-12-03T13:51:17.467240Z",
     "start_time": "2020-12-03T13:51:17.436258Z"
    }
   },
   "outputs": [
    {
     "data": {
      "text/plain": [
       "'202012032251'"
      ]
     },
     "execution_count": 2,
     "metadata": {},
     "output_type": "execute_result"
    }
   ],
   "source": [
    "dt_now = datetime.datetime.now().strftime('%Y%m%d%H%M')\n",
    "dt_now"
   ]
  },
  {
   "cell_type": "code",
   "execution_count": 3,
   "metadata": {
    "ExecuteTime": {
     "end_time": "2020-12-03T13:51:17.484231Z",
     "start_time": "2020-12-03T13:51:17.475236Z"
    }
   },
   "outputs": [],
   "source": [
    "data_path = pathlib.Path('../../data')\n",
    "log_path = pathlib.Path(f'logs/{dt_now}')\n",
    "\n",
    "os.makedirs(log_path, exist_ok=True)"
   ]
  },
  {
   "cell_type": "code",
   "execution_count": 4,
   "metadata": {
    "ExecuteTime": {
     "end_time": "2020-12-03T13:51:18.483944Z",
     "start_time": "2020-12-03T13:51:18.386001Z"
    }
   },
   "outputs": [
    {
     "name": "stdout",
     "output_type": "stream",
     "text": [
      ".ipynb_checkpoints\n",
      "00_papermill_run_all.ipynb\n",
      "1_01_scraping.ipynb\n",
      "1_02_trim_scraped_data.ipynb\n",
      "2_01_RaceCourseClustering_preparation.ipynb\n",
      "2_02_RaceCourseClustering_run.ipynb\n",
      "3_01_data_cleansing.ipynb\n",
      "3_02_master.ipynb\n",
      "4_01_BinaryClassification_preparation.ipynb\n",
      "4_02_BinaryClassification_run.ipynb\n",
      "5_01_odds.ipynb\n",
      "logs\n",
      "old\n"
     ]
    }
   ],
   "source": [
    "!dir /b"
   ]
  },
  {
   "cell_type": "code",
   "execution_count": 12,
   "metadata": {
    "ExecuteTime": {
     "end_time": "2020-11-30T14:26:26.333506Z",
     "start_time": "2020-11-30T14:26:26.328511Z"
    }
   },
   "outputs": [],
   "source": [
    "input_nb_list = [\n",
    "    '1_01_scraping.ipynb',\n",
    "    '1_02_trim_scraped_data.ipynb',\n",
    "    '2_01_RaceCourseClustering_preparation.ipynb',\n",
    "    '2_02_RaceCourseClustering_run.ipynb',\n",
    "    '3_01_data_cleansing.ipynb',\n",
    "    '3_02_master.ipynb',\n",
    "    '4_01_BinaryClassification_preparation.ipynb',\n",
    "    '4_02_BinaryClassification_run.ipynb',\n",
    "    '5_01_odds.ipynb',\n",
    "]"
   ]
  },
  {
   "cell_type": "code",
   "execution_count": null,
   "metadata": {},
   "outputs": [],
   "source": [
    "for nb in input_nb_list:\n",
    "    pm.execute_notebook(\n",
    "        input_path=nb,\n",
    "        output_path=log_path/nb,\n",
    "        parameters=dict()\n",
    "    )"
   ]
  }
 ],
 "metadata": {
  "kernelspec": {
   "display_name": "Python 3",
   "language": "python",
   "name": "python3"
  },
  "language_info": {
   "codemirror_mode": {
    "name": "ipython",
    "version": 3
   },
   "file_extension": ".py",
   "mimetype": "text/x-python",
   "name": "python",
   "nbconvert_exporter": "python",
   "pygments_lexer": "ipython3",
   "version": "3.8.6"
  },
  "toc": {
   "base_numbering": 1,
   "nav_menu": {},
   "number_sections": true,
   "sideBar": true,
   "skip_h1_title": false,
   "title_cell": "Table of Contents",
   "title_sidebar": "Contents",
   "toc_cell": false,
   "toc_position": {},
   "toc_section_display": true,
   "toc_window_display": false
  }
 },
 "nbformat": 4,
 "nbformat_minor": 2
}
