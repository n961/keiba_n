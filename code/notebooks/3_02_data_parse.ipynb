{
 "cells": [
  {
   "cell_type": "markdown",
   "metadata": {},
   "source": [
    "# 変数"
   ]
  },
  {
   "cell_type": "code",
   "execution_count": 1,
   "metadata": {
    "ExecuteTime": {
     "end_time": "2020-12-07T10:45:03.677815Z",
     "start_time": "2020-12-07T10:45:02.109251Z"
    }
   },
   "outputs": [
    {
     "name": "stdout",
     "output_type": "stream",
     "text": [
      "RENEWAL_RESULT\n"
     ]
    }
   ],
   "source": [
    "import sys\n",
    "sys.path.append('../settings')\n",
    "from setting import *\n",
    "print(MODE)\n",
    "assert MODE != 'UPDATE_MODEL', '実行スクリプトが間違っているよ'"
   ]
  },
  {
   "cell_type": "code",
   "execution_count": 2,
   "metadata": {
    "ExecuteTime": {
     "end_time": "2020-12-07T10:45:04.371892Z",
     "start_time": "2020-12-07T10:45:04.366896Z"
    }
   },
   "outputs": [],
   "source": [
    "pd.options.display.max_columns = 100\n",
    "plt.rcParams['figure.dpi'] = 100\n",
    "plt.rcParams['font.family'] = 'Yu mincho'"
   ]
  },
  {
   "cell_type": "code",
   "execution_count": 16,
   "metadata": {
    "ExecuteTime": {
     "end_time": "2020-12-07T10:47:47.283933Z",
     "start_time": "2020-12-07T10:47:47.271938Z"
    }
   },
   "outputs": [
    {
     "data": {
      "text/plain": [
       "['../../data/scraped\\\\race_result.csv',\n",
       " '../../data/scraped\\\\race_result2.csv',\n",
       " '../../data/scraped\\\\race_result3.csv',\n",
       " '../../data/scraped\\\\race_result4.csv']"
      ]
     },
     "metadata": {},
     "output_type": "display_data"
    },
    {
     "data": {
      "text/plain": [
       "['../../data/scraped\\\\race_info.csv',\n",
       " '../../data/scraped\\\\race_info2.csv',\n",
       " '../../data/scraped\\\\race_info3.csv',\n",
       " '../../data/scraped\\\\race_info4.csv']"
      ]
     },
     "metadata": {},
     "output_type": "display_data"
    }
   ],
   "source": [
    "# input\n",
    "if MODE != 'RENEWAL_RESULT':\n",
    "    FILE_RESULT_ALL = config['INTER_RESULT']\n",
    "    FILE_INFO_ALL = config['INTER_INFO']\n",
    "    \n",
    "FILE_RACE_RESULT = list(glob.glob(config['SCRAPED_RESULT']))\n",
    "display(FILE_RACE_RESULT)\n",
    "FILE_RACE_INFO = list(glob.glob(config['SCRAPED_INFO']))\n",
    "display(FILE_RACE_INFO)"
   ]
  },
  {
   "cell_type": "code",
   "execution_count": 4,
   "metadata": {
    "ExecuteTime": {
     "end_time": "2020-12-07T10:45:05.409078Z",
     "start_time": "2020-12-07T10:45:05.401085Z"
    }
   },
   "outputs": [
    {
     "name": "stdout",
     "output_type": "stream",
     "text": [
      "../../data/inter/race_result_inter.csv\n",
      "../../data/inter/race_info_inter.csv\n",
      "../../data/inter/race_obstacle_result.csv\n",
      "../../data/inter/race_obstacle_info.csv\n"
     ]
    }
   ],
   "source": [
    "#output\n",
    "FILE_PARSED_RESULT = config[\"PARSED_RESULT\"]\n",
    "FILE_PARSED_INFO = config[\"PARSED_INFO\"]\n",
    "print(FILE_PARSED_RESULT)\n",
    "print(FILE_PARSED_INFO)\n",
    "\n",
    "if MODE in ['UPDATE_RESULT', 'RENEWAL_RESULT']:\n",
    "    FILE_OBSTACLE_RESULT = config['OBSTACLE_RESULT']\n",
    "    print(FILE_OBSTACLE_RESULT)\n",
    "    FILE_OBSTACLE_INFO = config['OBSTACLE_INFO']\n",
    "    print(FILE_OBSTACLE_INFO)"
   ]
  },
  {
   "cell_type": "markdown",
   "metadata": {},
   "source": [
    "# 読み込み"
   ]
  },
  {
   "cell_type": "code",
   "execution_count": 10,
   "metadata": {
    "ExecuteTime": {
     "end_time": "2020-12-07T10:46:42.208129Z",
     "start_time": "2020-12-07T10:46:39.988360Z"
    }
   },
   "outputs": [
    {
     "name": "stdout",
     "output_type": "stream",
     "text": [
      "../../data/scraped\\race_result.csv\n",
      "(35371, 22)\n",
      "../../data/scraped\\race_result2.csv\n",
      "(183678, 22)\n",
      "../../data/scraped\\race_result3.csv\n",
      "(102959, 22)\n",
      "../../data/scraped\\race_result4.csv\n",
      "(81209, 22)\n",
      "(403217, 22)\n"
     ]
    },
    {
     "data": {
      "text/html": [
       "<div>\n",
       "<style scoped>\n",
       "    .dataframe tbody tr th:only-of-type {\n",
       "        vertical-align: middle;\n",
       "    }\n",
       "\n",
       "    .dataframe tbody tr th {\n",
       "        vertical-align: top;\n",
       "    }\n",
       "\n",
       "    .dataframe thead th {\n",
       "        text-align: right;\n",
       "    }\n",
       "</style>\n",
       "<table border=\"1\" class=\"dataframe\">\n",
       "  <thead>\n",
       "    <tr style=\"text-align: right;\">\n",
       "      <th></th>\n",
       "      <th>着順</th>\n",
       "      <th>枠番</th>\n",
       "      <th>馬番</th>\n",
       "      <th>馬名</th>\n",
       "      <th>性齢</th>\n",
       "      <th>斤量</th>\n",
       "      <th>騎手</th>\n",
       "      <th>タイム</th>\n",
       "      <th>着差</th>\n",
       "      <th>ﾀｲﾑ指数</th>\n",
       "      <th>通過</th>\n",
       "      <th>上り</th>\n",
       "      <th>単勝</th>\n",
       "      <th>人気</th>\n",
       "      <th>馬体重</th>\n",
       "      <th>調教ﾀｲﾑ</th>\n",
       "      <th>厩舎ｺﾒﾝﾄ</th>\n",
       "      <th>備考</th>\n",
       "      <th>調教師</th>\n",
       "      <th>馬主</th>\n",
       "      <th>賞金(万円)</th>\n",
       "      <th>race_id</th>\n",
       "    </tr>\n",
       "  </thead>\n",
       "  <tbody>\n",
       "    <tr>\n",
       "      <th>0</th>\n",
       "      <td>1</td>\n",
       "      <td>3</td>\n",
       "      <td>3</td>\n",
       "      <td>マイネルギブソン</td>\n",
       "      <td>牡2</td>\n",
       "      <td>54.0</td>\n",
       "      <td>丹内祐次</td>\n",
       "      <td>1:52.1</td>\n",
       "      <td>NaN</td>\n",
       "      <td>**</td>\n",
       "      <td>1-1-1-1</td>\n",
       "      <td>34.7</td>\n",
       "      <td>6.0</td>\n",
       "      <td>5.0</td>\n",
       "      <td>432(+10)</td>\n",
       "      <td>NaN</td>\n",
       "      <td>NaN</td>\n",
       "      <td>NaN</td>\n",
       "      <td>[東] 萱野浩二</td>\n",
       "      <td>サラブレッドクラブ・ラフィアン</td>\n",
       "      <td>1623.1</td>\n",
       "      <td>201001020110</td>\n",
       "    </tr>\n",
       "  </tbody>\n",
       "</table>\n",
       "</div>"
      ],
      "text/plain": [
       "  着順  枠番  馬番        馬名  性齢    斤量    騎手     タイム   着差 ﾀｲﾑ指数       通過    上り   単勝  \\\n",
       "0  1   3   3  マイネルギブソン  牡2  54.0  丹内祐次  1:52.1  NaN    **  1-1-1-1  34.7  6.0   \n",
       "\n",
       "    人気       馬体重  調教ﾀｲﾑ  厩舎ｺﾒﾝﾄ  備考       調教師               馬主  賞金(万円)  \\\n",
       "0  5.0  432(+10)    NaN     NaN NaN  [東] 萱野浩二  サラブレッドクラブ・ラフィアン  1623.1   \n",
       "\n",
       "        race_id  \n",
       "0  201001020110  "
      ]
     },
     "execution_count": 10,
     "metadata": {},
     "output_type": "execute_result"
    }
   ],
   "source": [
    "df_list = [] \n",
    "for file in FILE_RACE_RESULT:\n",
    "    print(file)\n",
    "    df = pd.read_csv(file, index_col=0)\n",
    "    print(df.shape)\n",
    "    df_list.append(df)\n",
    "\n",
    "df_result = pd.concat(df_list, ignore_index=True)\n",
    "print(df_result.shape)\n",
    "df_result.head(1)"
   ]
  },
  {
   "cell_type": "code",
   "execution_count": 11,
   "metadata": {
    "ExecuteTime": {
     "end_time": "2020-12-07T10:46:45.746755Z",
     "start_time": "2020-12-07T10:46:45.295490Z"
    }
   },
   "outputs": [
    {
     "name": "stdout",
     "output_type": "stream",
     "text": [
      "<class 'pandas.core.frame.DataFrame'>\n",
      "RangeIndex: 403217 entries, 0 to 403216\n",
      "Data columns (total 22 columns):\n",
      " #   Column   Non-Null Count   Dtype  \n",
      "---  ------   --------------   -----  \n",
      " 0   着順       403217 non-null  object \n",
      " 1   枠番       403217 non-null  int64  \n",
      " 2   馬番       403217 non-null  int64  \n",
      " 3   馬名       403217 non-null  object \n",
      " 4   性齢       403217 non-null  object \n",
      " 5   斤量       403217 non-null  float64\n",
      " 6   騎手       403217 non-null  object \n",
      " 7   タイム      399898 non-null  object \n",
      " 8   着差       371712 non-null  object \n",
      " 9   ﾀｲﾑ指数    390445 non-null  object \n",
      " 10  通過       400535 non-null  object \n",
      " 11  上り       399893 non-null  float64\n",
      " 12  単勝       403213 non-null  object \n",
      " 13  人気       401833 non-null  float64\n",
      " 14  馬体重      403213 non-null  object \n",
      " 15  調教ﾀｲﾑ    0 non-null       float64\n",
      " 16  厩舎ｺﾒﾝﾄ   0 non-null       float64\n",
      " 17  備考       0 non-null       float64\n",
      " 18  調教師      403209 non-null  object \n",
      " 19  馬主       403209 non-null  object \n",
      " 20  賞金(万円)   140823 non-null  float64\n",
      " 21  race_id  403217 non-null  int64  \n",
      "dtypes: float64(7), int64(3), object(12)\n",
      "memory usage: 67.7+ MB\n"
     ]
    }
   ],
   "source": [
    "df_result.info()"
   ]
  },
  {
   "cell_type": "code",
   "execution_count": 12,
   "metadata": {
    "ExecuteTime": {
     "end_time": "2020-12-07T10:46:46.058556Z",
     "start_time": "2020-12-07T10:46:45.750733Z"
    }
   },
   "outputs": [
    {
     "data": {
      "text/plain": [
       "着順              0\n",
       "枠番              0\n",
       "馬番              0\n",
       "馬名              0\n",
       "性齢              0\n",
       "斤量              0\n",
       "騎手              0\n",
       "タイム          3319\n",
       "着差          31505\n",
       "ﾀｲﾑ指数       12772\n",
       "通過           2682\n",
       "上り           3324\n",
       "単勝              4\n",
       "人気           1384\n",
       "馬体重             4\n",
       "調教ﾀｲﾑ      403217\n",
       "厩舎ｺﾒﾝﾄ     403217\n",
       "備考         403217\n",
       "調教師             8\n",
       "馬主              8\n",
       "賞金(万円)     262394\n",
       "race_id         0\n",
       "dtype: int64"
      ]
     },
     "execution_count": 12,
     "metadata": {},
     "output_type": "execute_result"
    }
   ],
   "source": [
    "df_result.isnull().sum()"
   ]
  },
  {
   "cell_type": "code",
   "execution_count": 17,
   "metadata": {
    "ExecuteTime": {
     "end_time": "2020-12-07T10:47:52.391118Z",
     "start_time": "2020-12-07T10:47:52.221207Z"
    },
    "scrolled": true
   },
   "outputs": [
    {
     "name": "stdout",
     "output_type": "stream",
     "text": [
      "../../data/scraped\\race_info.csv\n",
      "(2509, 10)\n",
      "../../data/scraped\\race_info2.csv\n",
      "(12645, 10)\n",
      "../../data/scraped\\race_info3.csv\n",
      "(7170, 10)\n",
      "../../data/scraped\\race_info4.csv\n",
      "(5826, 10)\n",
      "(28150, 10)\n"
     ]
    },
    {
     "data": {
      "text/html": [
       "<div>\n",
       "<style scoped>\n",
       "    .dataframe tbody tr th:only-of-type {\n",
       "        vertical-align: middle;\n",
       "    }\n",
       "\n",
       "    .dataframe tbody tr th {\n",
       "        vertical-align: top;\n",
       "    }\n",
       "\n",
       "    .dataframe thead th {\n",
       "        text-align: right;\n",
       "    }\n",
       "</style>\n",
       "<table border=\"1\" class=\"dataframe\">\n",
       "  <thead>\n",
       "    <tr style=\"text-align: right;\">\n",
       "      <th></th>\n",
       "      <th>race_id</th>\n",
       "      <th>race_date</th>\n",
       "      <th>race_title</th>\n",
       "      <th>race_class</th>\n",
       "      <th>course_name</th>\n",
       "      <th>course_type</th>\n",
       "      <th>course_direction</th>\n",
       "      <th>course_distance</th>\n",
       "      <th>condition</th>\n",
       "      <th>whether</th>\n",
       "    </tr>\n",
       "  </thead>\n",
       "  <tbody>\n",
       "    <tr>\n",
       "      <th>0</th>\n",
       "      <td>201001020110</td>\n",
       "      <td>2010年9月11日</td>\n",
       "      <td>コスモス賞</td>\n",
       "      <td>2歳オープン</td>\n",
       "      <td>札幌</td>\n",
       "      <td>芝</td>\n",
       "      <td>右</td>\n",
       "      <td>1800</td>\n",
       "      <td>良</td>\n",
       "      <td>曇</td>\n",
       "    </tr>\n",
       "  </tbody>\n",
       "</table>\n",
       "</div>"
      ],
      "text/plain": [
       "        race_id   race_date race_title race_class course_name course_type  \\\n",
       "0  201001020110  2010年9月11日      コスモス賞     2歳オープン          札幌           芝   \n",
       "\n",
       "  course_direction course_distance condition whether  \n",
       "0                右            1800         良       曇  "
      ]
     },
     "execution_count": 17,
     "metadata": {},
     "output_type": "execute_result"
    }
   ],
   "source": [
    "df_list = [] \n",
    "for file in FILE_RACE_INFO:\n",
    "    print(file)\n",
    "    df = pd.read_csv(file)\n",
    "    print(df.shape)\n",
    "    df_list.append(df)\n",
    "\n",
    "df_info = pd.concat(df_list, ignore_index=True)\n",
    "print(df_info.shape)\n",
    "df_info.head(1)"
   ]
  },
  {
   "cell_type": "code",
   "execution_count": 18,
   "metadata": {
    "ExecuteTime": {
     "end_time": "2020-12-07T10:47:53.904364Z",
     "start_time": "2020-12-07T10:47:53.871400Z"
    }
   },
   "outputs": [
    {
     "name": "stdout",
     "output_type": "stream",
     "text": [
      "<class 'pandas.core.frame.DataFrame'>\n",
      "RangeIndex: 28150 entries, 0 to 28149\n",
      "Data columns (total 10 columns):\n",
      " #   Column            Non-Null Count  Dtype \n",
      "---  ------            --------------  ----- \n",
      " 0   race_id           28150 non-null  int64 \n",
      " 1   race_date         28150 non-null  object\n",
      " 2   race_title        28150 non-null  object\n",
      " 3   race_class        28150 non-null  object\n",
      " 4   course_name       28150 non-null  object\n",
      " 5   course_type       28150 non-null  object\n",
      " 6   course_direction  28150 non-null  object\n",
      " 7   course_distance   28150 non-null  object\n",
      " 8   condition         28150 non-null  object\n",
      " 9   whether           28150 non-null  object\n",
      "dtypes: int64(1), object(9)\n",
      "memory usage: 2.1+ MB\n"
     ]
    }
   ],
   "source": [
    "df_info.info()"
   ]
  },
  {
   "cell_type": "code",
   "execution_count": 19,
   "metadata": {
    "ExecuteTime": {
     "end_time": "2020-12-07T10:47:59.666851Z",
     "start_time": "2020-12-07T10:47:59.645863Z"
    }
   },
   "outputs": [],
   "source": [
    "assert df_info.isnull().sum().sum() == 0"
   ]
  },
  {
   "cell_type": "markdown",
   "metadata": {},
   "source": [
    "# レース結果"
   ]
  },
  {
   "cell_type": "code",
   "execution_count": 20,
   "metadata": {
    "ExecuteTime": {
     "end_time": "2020-12-07T10:48:01.093718Z",
     "start_time": "2020-12-07T10:48:01.035750Z"
    },
    "scrolled": true
   },
   "outputs": [
    {
     "data": {
      "text/html": [
       "<div>\n",
       "<style scoped>\n",
       "    .dataframe tbody tr th:only-of-type {\n",
       "        vertical-align: middle;\n",
       "    }\n",
       "\n",
       "    .dataframe tbody tr th {\n",
       "        vertical-align: top;\n",
       "    }\n",
       "\n",
       "    .dataframe thead th {\n",
       "        text-align: right;\n",
       "    }\n",
       "</style>\n",
       "<table border=\"1\" class=\"dataframe\">\n",
       "  <thead>\n",
       "    <tr style=\"text-align: right;\">\n",
       "      <th></th>\n",
       "      <th>着順</th>\n",
       "      <th>枠番</th>\n",
       "      <th>馬番</th>\n",
       "      <th>馬名</th>\n",
       "      <th>性齢</th>\n",
       "      <th>斤量</th>\n",
       "      <th>騎手</th>\n",
       "      <th>タイム</th>\n",
       "      <th>着差</th>\n",
       "      <th>ﾀｲﾑ指数</th>\n",
       "      <th>通過</th>\n",
       "      <th>上り</th>\n",
       "      <th>単勝</th>\n",
       "      <th>人気</th>\n",
       "      <th>馬体重</th>\n",
       "      <th>調教ﾀｲﾑ</th>\n",
       "      <th>厩舎ｺﾒﾝﾄ</th>\n",
       "      <th>備考</th>\n",
       "      <th>調教師</th>\n",
       "      <th>馬主</th>\n",
       "      <th>賞金(万円)</th>\n",
       "      <th>race_id</th>\n",
       "    </tr>\n",
       "  </thead>\n",
       "  <tbody>\n",
       "    <tr>\n",
       "      <th>0</th>\n",
       "      <td>1</td>\n",
       "      <td>3</td>\n",
       "      <td>3</td>\n",
       "      <td>マイネルギブソン</td>\n",
       "      <td>牡2</td>\n",
       "      <td>54.0</td>\n",
       "      <td>丹内祐次</td>\n",
       "      <td>1:52.1</td>\n",
       "      <td>NaN</td>\n",
       "      <td>**</td>\n",
       "      <td>1-1-1-1</td>\n",
       "      <td>34.7</td>\n",
       "      <td>6.0</td>\n",
       "      <td>5.0</td>\n",
       "      <td>432(+10)</td>\n",
       "      <td>NaN</td>\n",
       "      <td>NaN</td>\n",
       "      <td>NaN</td>\n",
       "      <td>[東] 萱野浩二</td>\n",
       "      <td>サラブレッドクラブ・ラフィアン</td>\n",
       "      <td>1623.1</td>\n",
       "      <td>201001020110</td>\n",
       "    </tr>\n",
       "    <tr>\n",
       "      <th>1</th>\n",
       "      <td>2</td>\n",
       "      <td>8</td>\n",
       "      <td>10</td>\n",
       "      <td>ロビンフット</td>\n",
       "      <td>牡2</td>\n",
       "      <td>55.0</td>\n",
       "      <td>勝浦正樹</td>\n",
       "      <td>1:52.2</td>\n",
       "      <td>1/2</td>\n",
       "      <td>**</td>\n",
       "      <td>4-3-3-2</td>\n",
       "      <td>34.5</td>\n",
       "      <td>2.7</td>\n",
       "      <td>1.0</td>\n",
       "      <td>488(-6)</td>\n",
       "      <td>NaN</td>\n",
       "      <td>NaN</td>\n",
       "      <td>NaN</td>\n",
       "      <td>[東] 堀井雅広</td>\n",
       "      <td>桐谷茂</td>\n",
       "      <td>646.6</td>\n",
       "      <td>201001020110</td>\n",
       "    </tr>\n",
       "    <tr>\n",
       "      <th>2</th>\n",
       "      <td>3</td>\n",
       "      <td>4</td>\n",
       "      <td>4</td>\n",
       "      <td>ギリギリヒーロー</td>\n",
       "      <td>牡2</td>\n",
       "      <td>54.0</td>\n",
       "      <td>武幸四郎</td>\n",
       "      <td>1:52.3</td>\n",
       "      <td>1/2</td>\n",
       "      <td>**</td>\n",
       "      <td>10-8-9-5</td>\n",
       "      <td>34.0</td>\n",
       "      <td>5.7</td>\n",
       "      <td>4.0</td>\n",
       "      <td>416(-6)</td>\n",
       "      <td>NaN</td>\n",
       "      <td>NaN</td>\n",
       "      <td>NaN</td>\n",
       "      <td>[西] 荒川義之</td>\n",
       "      <td>小林けい子</td>\n",
       "      <td>403.3</td>\n",
       "      <td>201001020110</td>\n",
       "    </tr>\n",
       "    <tr>\n",
       "      <th>3</th>\n",
       "      <td>4</td>\n",
       "      <td>8</td>\n",
       "      <td>11</td>\n",
       "      <td>マーベラスカイザー</td>\n",
       "      <td>牡2</td>\n",
       "      <td>54.0</td>\n",
       "      <td>古川吉洋</td>\n",
       "      <td>1:52.7</td>\n",
       "      <td>2.1/2</td>\n",
       "      <td>**</td>\n",
       "      <td>5-5-4-3</td>\n",
       "      <td>34.8</td>\n",
       "      <td>5.2</td>\n",
       "      <td>2.0</td>\n",
       "      <td>472(+2)</td>\n",
       "      <td>NaN</td>\n",
       "      <td>NaN</td>\n",
       "      <td>NaN</td>\n",
       "      <td>[西] 柴田政見</td>\n",
       "      <td>笹原貞生</td>\n",
       "      <td>240.0</td>\n",
       "      <td>201001020110</td>\n",
       "    </tr>\n",
       "    <tr>\n",
       "      <th>4</th>\n",
       "      <td>5</td>\n",
       "      <td>2</td>\n",
       "      <td>2</td>\n",
       "      <td>エルヘイロー</td>\n",
       "      <td>牡2</td>\n",
       "      <td>54.0</td>\n",
       "      <td>小国博行</td>\n",
       "      <td>1:52.7</td>\n",
       "      <td>クビ</td>\n",
       "      <td>**</td>\n",
       "      <td>6-6-6-5</td>\n",
       "      <td>34.7</td>\n",
       "      <td>13.5</td>\n",
       "      <td>6.0</td>\n",
       "      <td>466(-4)</td>\n",
       "      <td>NaN</td>\n",
       "      <td>NaN</td>\n",
       "      <td>NaN</td>\n",
       "      <td>[地] 堂山芳則</td>\n",
       "      <td>黒岩晴男</td>\n",
       "      <td>160.0</td>\n",
       "      <td>201001020110</td>\n",
       "    </tr>\n",
       "    <tr>\n",
       "      <th>...</th>\n",
       "      <td>...</td>\n",
       "      <td>...</td>\n",
       "      <td>...</td>\n",
       "      <td>...</td>\n",
       "      <td>...</td>\n",
       "      <td>...</td>\n",
       "      <td>...</td>\n",
       "      <td>...</td>\n",
       "      <td>...</td>\n",
       "      <td>...</td>\n",
       "      <td>...</td>\n",
       "      <td>...</td>\n",
       "      <td>...</td>\n",
       "      <td>...</td>\n",
       "      <td>...</td>\n",
       "      <td>...</td>\n",
       "      <td>...</td>\n",
       "      <td>...</td>\n",
       "      <td>...</td>\n",
       "      <td>...</td>\n",
       "      <td>...</td>\n",
       "      <td>...</td>\n",
       "    </tr>\n",
       "    <tr>\n",
       "      <th>403212</th>\n",
       "      <td>12</td>\n",
       "      <td>6</td>\n",
       "      <td>11</td>\n",
       "      <td>スリープレッピー</td>\n",
       "      <td>セ6</td>\n",
       "      <td>56.0</td>\n",
       "      <td>森裕太朗</td>\n",
       "      <td>2:45.7</td>\n",
       "      <td>1/2</td>\n",
       "      <td>**</td>\n",
       "      <td>11-11-12-12</td>\n",
       "      <td>37.3</td>\n",
       "      <td>120.3</td>\n",
       "      <td>15.0</td>\n",
       "      <td>458(+8)</td>\n",
       "      <td>NaN</td>\n",
       "      <td>NaN</td>\n",
       "      <td>NaN</td>\n",
       "      <td>[西] 藤沢則雄</td>\n",
       "      <td>永井商事</td>\n",
       "      <td>NaN</td>\n",
       "      <td>201910021212</td>\n",
       "    </tr>\n",
       "    <tr>\n",
       "      <th>403213</th>\n",
       "      <td>13</td>\n",
       "      <td>1</td>\n",
       "      <td>1</td>\n",
       "      <td>バリオラージュ</td>\n",
       "      <td>牡5</td>\n",
       "      <td>54.0</td>\n",
       "      <td>斎藤新</td>\n",
       "      <td>2:46.0</td>\n",
       "      <td>1.3/4</td>\n",
       "      <td>**</td>\n",
       "      <td>3-3-4-5</td>\n",
       "      <td>38.2</td>\n",
       "      <td>7.5</td>\n",
       "      <td>4.0</td>\n",
       "      <td>460(+2)</td>\n",
       "      <td>NaN</td>\n",
       "      <td>NaN</td>\n",
       "      <td>NaN</td>\n",
       "      <td>[西] 角居勝彦</td>\n",
       "      <td>社台レースホース</td>\n",
       "      <td>NaN</td>\n",
       "      <td>201910021212</td>\n",
       "    </tr>\n",
       "    <tr>\n",
       "      <th>403214</th>\n",
       "      <td>14</td>\n",
       "      <td>2</td>\n",
       "      <td>3</td>\n",
       "      <td>サンライズアミーゴ</td>\n",
       "      <td>牡4</td>\n",
       "      <td>54.0</td>\n",
       "      <td>亀田温心</td>\n",
       "      <td>2:46.2</td>\n",
       "      <td>1</td>\n",
       "      <td>**</td>\n",
       "      <td>11-11-15-16</td>\n",
       "      <td>37.6</td>\n",
       "      <td>99.2</td>\n",
       "      <td>12.0</td>\n",
       "      <td>478(+14)</td>\n",
       "      <td>NaN</td>\n",
       "      <td>NaN</td>\n",
       "      <td>NaN</td>\n",
       "      <td>[西] 牧浦充徳</td>\n",
       "      <td>松岡隆雄</td>\n",
       "      <td>NaN</td>\n",
       "      <td>201910021212</td>\n",
       "    </tr>\n",
       "    <tr>\n",
       "      <th>403215</th>\n",
       "      <td>15</td>\n",
       "      <td>6</td>\n",
       "      <td>12</td>\n",
       "      <td>トロハ</td>\n",
       "      <td>牝3</td>\n",
       "      <td>52.0</td>\n",
       "      <td>武豊</td>\n",
       "      <td>2:46.2</td>\n",
       "      <td>クビ</td>\n",
       "      <td>**</td>\n",
       "      <td>6-5-4-9</td>\n",
       "      <td>38.4</td>\n",
       "      <td>17.5</td>\n",
       "      <td>8.0</td>\n",
       "      <td>468(+2)</td>\n",
       "      <td>NaN</td>\n",
       "      <td>NaN</td>\n",
       "      <td>NaN</td>\n",
       "      <td>[西] 浜田多実</td>\n",
       "      <td>橋元勇氣</td>\n",
       "      <td>NaN</td>\n",
       "      <td>201910021212</td>\n",
       "    </tr>\n",
       "    <tr>\n",
       "      <th>403216</th>\n",
       "      <td>16</td>\n",
       "      <td>2</td>\n",
       "      <td>4</td>\n",
       "      <td>ダイシンステルラ</td>\n",
       "      <td>牝4</td>\n",
       "      <td>55.0</td>\n",
       "      <td>川須栄彦</td>\n",
       "      <td>2:47.0</td>\n",
       "      <td>5</td>\n",
       "      <td>**</td>\n",
       "      <td>6-5-9-14</td>\n",
       "      <td>38.9</td>\n",
       "      <td>110.3</td>\n",
       "      <td>14.0</td>\n",
       "      <td>450(+8)</td>\n",
       "      <td>NaN</td>\n",
       "      <td>NaN</td>\n",
       "      <td>NaN</td>\n",
       "      <td>[西] 牧田和弥</td>\n",
       "      <td>大八木信行</td>\n",
       "      <td>NaN</td>\n",
       "      <td>201910021212</td>\n",
       "    </tr>\n",
       "  </tbody>\n",
       "</table>\n",
       "<p>403217 rows × 22 columns</p>\n",
       "</div>"
      ],
      "text/plain": [
       "        着順  枠番  馬番         馬名  性齢    斤量    騎手     タイム     着差 ﾀｲﾑ指数  \\\n",
       "0        1   3   3   マイネルギブソン  牡2  54.0  丹内祐次  1:52.1    NaN    **   \n",
       "1        2   8  10     ロビンフット  牡2  55.0  勝浦正樹  1:52.2    1/2    **   \n",
       "2        3   4   4   ギリギリヒーロー  牡2  54.0  武幸四郎  1:52.3    1/2    **   \n",
       "3        4   8  11  マーベラスカイザー  牡2  54.0  古川吉洋  1:52.7  2.1/2    **   \n",
       "4        5   2   2     エルヘイロー  牡2  54.0  小国博行  1:52.7     クビ    **   \n",
       "...     ..  ..  ..        ...  ..   ...   ...     ...    ...   ...   \n",
       "403212  12   6  11   スリープレッピー  セ6  56.0  森裕太朗  2:45.7    1/2    **   \n",
       "403213  13   1   1    バリオラージュ  牡5  54.0   斎藤新  2:46.0  1.3/4    **   \n",
       "403214  14   2   3  サンライズアミーゴ  牡4  54.0  亀田温心  2:46.2      1    **   \n",
       "403215  15   6  12        トロハ  牝3  52.0    武豊  2:46.2     クビ    **   \n",
       "403216  16   2   4   ダイシンステルラ  牝4  55.0  川須栄彦  2:47.0      5    **   \n",
       "\n",
       "                 通過    上り     単勝    人気       馬体重  調教ﾀｲﾑ  厩舎ｺﾒﾝﾄ  備考       調教師  \\\n",
       "0           1-1-1-1  34.7    6.0   5.0  432(+10)    NaN     NaN NaN  [東] 萱野浩二   \n",
       "1           4-3-3-2  34.5    2.7   1.0   488(-6)    NaN     NaN NaN  [東] 堀井雅広   \n",
       "2          10-8-9-5  34.0    5.7   4.0   416(-6)    NaN     NaN NaN  [西] 荒川義之   \n",
       "3           5-5-4-3  34.8    5.2   2.0   472(+2)    NaN     NaN NaN  [西] 柴田政見   \n",
       "4           6-6-6-5  34.7   13.5   6.0   466(-4)    NaN     NaN NaN  [地] 堂山芳則   \n",
       "...             ...   ...    ...   ...       ...    ...     ...  ..       ...   \n",
       "403212  11-11-12-12  37.3  120.3  15.0   458(+8)    NaN     NaN NaN  [西] 藤沢則雄   \n",
       "403213      3-3-4-5  38.2    7.5   4.0   460(+2)    NaN     NaN NaN  [西] 角居勝彦   \n",
       "403214  11-11-15-16  37.6   99.2  12.0  478(+14)    NaN     NaN NaN  [西] 牧浦充徳   \n",
       "403215      6-5-4-9  38.4   17.5   8.0   468(+2)    NaN     NaN NaN  [西] 浜田多実   \n",
       "403216     6-5-9-14  38.9  110.3  14.0   450(+8)    NaN     NaN NaN  [西] 牧田和弥   \n",
       "\n",
       "                     馬主  賞金(万円)       race_id  \n",
       "0       サラブレッドクラブ・ラフィアン  1623.1  201001020110  \n",
       "1                   桐谷茂   646.6  201001020110  \n",
       "2                 小林けい子   403.3  201001020110  \n",
       "3                  笹原貞生   240.0  201001020110  \n",
       "4                  黒岩晴男   160.0  201001020110  \n",
       "...                 ...     ...           ...  \n",
       "403212             永井商事     NaN  201910021212  \n",
       "403213         社台レースホース     NaN  201910021212  \n",
       "403214             松岡隆雄     NaN  201910021212  \n",
       "403215             橋元勇氣     NaN  201910021212  \n",
       "403216            大八木信行     NaN  201910021212  \n",
       "\n",
       "[403217 rows x 22 columns]"
      ]
     },
     "execution_count": 20,
     "metadata": {},
     "output_type": "execute_result"
    }
   ],
   "source": [
    "df_result"
   ]
  },
  {
   "cell_type": "code",
   "execution_count": 21,
   "metadata": {
    "ExecuteTime": {
     "end_time": "2020-12-07T10:48:03.581425Z",
     "start_time": "2020-12-07T10:48:03.114646Z"
    }
   },
   "outputs": [],
   "source": [
    "# 不要カラム削除\n",
    "df_result.dropna(how='all', axis=1, inplace=True)\n",
    "df_result.drop('ﾀｲﾑ指数', axis=1, inplace=True)"
   ]
  },
  {
   "cell_type": "code",
   "execution_count": 22,
   "metadata": {
    "ExecuteTime": {
     "end_time": "2020-12-07T10:48:04.471020Z",
     "start_time": "2020-12-07T10:48:03.584403Z"
    }
   },
   "outputs": [],
   "source": [
    "# 着順\n",
    "df_result = df_result.loc[~df_result.着順.isin({'取', '中', '除', '失'})]\n",
    "df_result.着順 = df_result.着順.str.replace('\\(降\\)', '').str.replace('\\(再\\)', '')\n",
    "df_result.着順 = df_result.着順.astype(np.int)"
   ]
  },
  {
   "cell_type": "code",
   "execution_count": 23,
   "metadata": {
    "ExecuteTime": {
     "end_time": "2020-12-07T10:48:04.959833Z",
     "start_time": "2020-12-07T10:48:04.473984Z"
    }
   },
   "outputs": [],
   "source": [
    "# 性齢\n",
    "df_result['gender'] = df_result['性齢'].str[0]\n",
    "df_result['age'] = df_result['性齢'].str[1:].astype(np.int)"
   ]
  },
  {
   "cell_type": "code",
   "execution_count": 24,
   "metadata": {
    "ExecuteTime": {
     "end_time": "2020-12-07T10:48:05.001690Z",
     "start_time": "2020-12-07T10:48:04.995696Z"
    },
    "scrolled": true
   },
   "outputs": [],
   "source": [
    "# タイム\n",
    "# base_time = pd.to_datetime('00:00.0', format='%M:%S.%f')\n",
    "# df_result.タイム = pd.to_datetime(df_result.タイム, format=('%M:%S.%f')) - base_time"
   ]
  },
  {
   "cell_type": "code",
   "execution_count": 25,
   "metadata": {
    "ExecuteTime": {
     "end_time": "2020-12-07T10:48:07.838043Z",
     "start_time": "2020-12-07T10:48:05.441731Z"
    }
   },
   "outputs": [],
   "source": [
    "# 馬体重\n",
    "df_result['weight'] = df_result.馬体重.str.extract('(\\d+)\\(.*?\\d+\\)').astype(np.float)\n",
    "df_result['weight_change'] = df_result.馬体重.str.extract('\\d+\\((.*?\\d+)\\)').astype(np.float)\n",
    "df_result['abs_weight_change'] = abs(df_result.weight_change)"
   ]
  },
  {
   "cell_type": "code",
   "execution_count": 26,
   "metadata": {
    "ExecuteTime": {
     "end_time": "2020-12-07T10:48:07.845967Z",
     "start_time": "2020-12-07T10:48:07.840968Z"
    }
   },
   "outputs": [],
   "source": [
    "# 通過\n",
    "# df_prassing = df_result.通過.str.split('-', expand=True).astype(np.float)\n",
    "# df_passing.columns = ['passing1', 'passing2', 'passing3', 'passing4']\n",
    "# df_result = pd.concat([df_result, df_passing], axis=1)"
   ]
  },
  {
   "cell_type": "code",
   "execution_count": 27,
   "metadata": {
    "ExecuteTime": {
     "end_time": "2020-12-07T10:48:08.900146Z",
     "start_time": "2020-12-07T10:48:07.850962Z"
    },
    "scrolled": true
   },
   "outputs": [
    {
     "name": "stdout",
     "output_type": "stream",
     "text": [
      "西    207980\n",
      "東    191056\n",
      "地       799\n",
      "外        48\n",
      "Name: place, dtype: int64\n"
     ]
    }
   ],
   "source": [
    "# 東とか西とか\n",
    "df_result['place'] = df_result.調教師.str.extract('\\[(.+)\\].+')\n",
    "print(df_result.place.value_counts())"
   ]
  },
  {
   "cell_type": "markdown",
   "metadata": {},
   "source": [
    "# レース情報"
   ]
  },
  {
   "cell_type": "markdown",
   "metadata": {},
   "source": [
    "## 内容確認"
   ]
  },
  {
   "cell_type": "code",
   "execution_count": 21,
   "metadata": {
    "ExecuteTime": {
     "end_time": "2020-12-06T15:33:26.930299Z",
     "start_time": "2020-12-06T15:33:26.889619Z"
    }
   },
   "outputs": [
    {
     "data": {
      "text/html": [
       "<div>\n",
       "<style scoped>\n",
       "    .dataframe tbody tr th:only-of-type {\n",
       "        vertical-align: middle;\n",
       "    }\n",
       "\n",
       "    .dataframe tbody tr th {\n",
       "        vertical-align: top;\n",
       "    }\n",
       "\n",
       "    .dataframe thead th {\n",
       "        text-align: right;\n",
       "    }\n",
       "</style>\n",
       "<table border=\"1\" class=\"dataframe\">\n",
       "  <thead>\n",
       "    <tr style=\"text-align: right;\">\n",
       "      <th></th>\n",
       "      <th>race_id</th>\n",
       "      <th>race_date</th>\n",
       "      <th>race_title</th>\n",
       "      <th>race_class</th>\n",
       "      <th>course_name</th>\n",
       "      <th>course_type</th>\n",
       "      <th>course_direction</th>\n",
       "      <th>course_distance</th>\n",
       "      <th>condition</th>\n",
       "      <th>whether</th>\n",
       "    </tr>\n",
       "  </thead>\n",
       "  <tbody>\n",
       "    <tr>\n",
       "      <th>0</th>\n",
       "      <td>201001020110</td>\n",
       "      <td>2010年9月11日</td>\n",
       "      <td>コスモス賞</td>\n",
       "      <td>2歳オープン</td>\n",
       "      <td>札幌</td>\n",
       "      <td>芝</td>\n",
       "      <td>右</td>\n",
       "      <td>1800</td>\n",
       "      <td>良</td>\n",
       "      <td>曇</td>\n",
       "    </tr>\n",
       "    <tr>\n",
       "      <th>1</th>\n",
       "      <td>201001020111</td>\n",
       "      <td>2010年9月11日</td>\n",
       "      <td>報知杯大雪ハンデ</td>\n",
       "      <td>3歳以上1000万下</td>\n",
       "      <td>札幌</td>\n",
       "      <td>ダ</td>\n",
       "      <td>右</td>\n",
       "      <td>1700</td>\n",
       "      <td>良</td>\n",
       "      <td>曇</td>\n",
       "    </tr>\n",
       "    <tr>\n",
       "      <th>2</th>\n",
       "      <td>201001020112</td>\n",
       "      <td>2010年9月11日</td>\n",
       "      <td>手稲山特別</td>\n",
       "      <td>3歳以上500万下</td>\n",
       "      <td>札幌</td>\n",
       "      <td>芝</td>\n",
       "      <td>右</td>\n",
       "      <td>1500</td>\n",
       "      <td>良</td>\n",
       "      <td>曇</td>\n",
       "    </tr>\n",
       "    <tr>\n",
       "      <th>3</th>\n",
       "      <td>201001020210</td>\n",
       "      <td>2010年9月12日</td>\n",
       "      <td>おおぞら特別</td>\n",
       "      <td>3歳以上1000万下</td>\n",
       "      <td>札幌</td>\n",
       "      <td>芝</td>\n",
       "      <td>右</td>\n",
       "      <td>1800</td>\n",
       "      <td>良</td>\n",
       "      <td>晴</td>\n",
       "    </tr>\n",
       "    <tr>\n",
       "      <th>4</th>\n",
       "      <td>201001020211</td>\n",
       "      <td>2010年9月12日</td>\n",
       "      <td>UHB賞</td>\n",
       "      <td>3歳以上1000万下</td>\n",
       "      <td>札幌</td>\n",
       "      <td>芝</td>\n",
       "      <td>右</td>\n",
       "      <td>1500</td>\n",
       "      <td>良</td>\n",
       "      <td>晴</td>\n",
       "    </tr>\n",
       "  </tbody>\n",
       "</table>\n",
       "</div>"
      ],
      "text/plain": [
       "        race_id   race_date race_title  race_class course_name course_type  \\\n",
       "0  201001020110  2010年9月11日      コスモス賞      2歳オープン          札幌           芝   \n",
       "1  201001020111  2010年9月11日   報知杯大雪ハンデ  3歳以上1000万下          札幌           ダ   \n",
       "2  201001020112  2010年9月11日      手稲山特別   3歳以上500万下          札幌           芝   \n",
       "3  201001020210  2010年9月12日     おおぞら特別  3歳以上1000万下          札幌           芝   \n",
       "4  201001020211  2010年9月12日       UHB賞  3歳以上1000万下          札幌           芝   \n",
       "\n",
       "  course_direction course_distance condition whether  \n",
       "0                右            1800         良       曇  \n",
       "1                右            1700         良       曇  \n",
       "2                右            1500         良       曇  \n",
       "3                右            1800         良       晴  \n",
       "4                右            1500         良       晴  "
      ]
     },
     "execution_count": 21,
     "metadata": {},
     "output_type": "execute_result"
    }
   ],
   "source": [
    "df_info.head()"
   ]
  },
  {
   "cell_type": "code",
   "execution_count": 22,
   "metadata": {
    "ExecuteTime": {
     "end_time": "2020-12-06T15:33:27.010720Z",
     "start_time": "2020-12-06T15:33:26.930299Z"
    },
    "scrolled": true
   },
   "outputs": [
    {
     "name": "stdout",
     "output_type": "stream",
     "text": [
      "3歳未勝利         6582\n",
      "3歳以上500万下     4138\n",
      "4歳以上500万下     2643\n",
      "2歳未勝利         2629\n",
      "3歳以上1000万下    1958\n",
      "2歳新馬          1860\n",
      "4歳以上1000万下    1512\n",
      "3歳500万下       1108\n",
      "3歳以上1600万下     795\n",
      "3歳以上オープン       759\n",
      "4歳以上1600万下     677\n",
      "4歳以上オープン       565\n",
      "3歳以上1勝クラス      440\n",
      "3歳新馬           437\n",
      "3歳オープン         419\n",
      "障害3歳以上未勝利      402\n",
      "障害4歳以上未勝利      285\n",
      "2歳500万下        278\n",
      "2歳オープン         246\n",
      "障害3歳以上オープン     198\n",
      "障害4歳以上オープン     140\n",
      "3歳以上2勝クラス       69\n",
      "2歳1勝クラス         10\n",
      "Name: race_class, dtype: int64\n",
      "阪神     4029\n",
      "京都     3975\n",
      "中山     3846\n",
      "東京     3843\n",
      "中京     2448\n",
      "新潟     2304\n",
      "福島     2050\n",
      "小倉     2033\n",
      "函館     1344\n",
      "札幌     1096\n",
      "小倉1     384\n",
      "京都1     288\n",
      "新潟1     255\n",
      "東京1     252\n",
      "福島1       3\n",
      "Name: course_name, dtype: int64\n",
      "芝    13716\n",
      "ダ    13409\n",
      "障     1025\n",
      "Name: course_type, dtype: int64\n",
      "右    18455\n",
      "左     8456\n",
      "芝     1025\n",
      "直      214\n",
      "Name: course_direction, dtype: int64\n",
      "良       19711\n",
      "稍重       4693\n",
      "重        2286\n",
      "不良       1068\n",
      "良良        236\n",
      "良稍重        64\n",
      "稍重重        30\n",
      "良重         17\n",
      "稍重稍重       13\n",
      "重不良        13\n",
      "稍重不良        9\n",
      "不良不良        6\n",
      "重重          4\n",
      "Name: condition, dtype: int64\n",
      "晴     17770\n",
      "曇      7889\n",
      "雨      1496\n",
      "小雨      962\n",
      "小雪       25\n",
      "雪         8\n",
      "Name: whether, dtype: int64\n"
     ]
    }
   ],
   "source": [
    "for col in df_info.columns:\n",
    "    if df_info[col].nunique() > 25:\n",
    "        continue\n",
    "    print(df_info[col].value_counts())"
   ]
  },
  {
   "cell_type": "markdown",
   "metadata": {},
   "source": [
    "## 整形"
   ]
  },
  {
   "cell_type": "code",
   "execution_count": 23,
   "metadata": {
    "ExecuteTime": {
     "end_time": "2020-12-06T15:33:27.061433Z",
     "start_time": "2020-12-06T15:33:27.018696Z"
    }
   },
   "outputs": [
    {
     "name": "stdout",
     "output_type": "stream",
     "text": [
      "(1025, 10)\n"
     ]
    },
    {
     "data": {
      "text/html": [
       "<div>\n",
       "<style scoped>\n",
       "    .dataframe tbody tr th:only-of-type {\n",
       "        vertical-align: middle;\n",
       "    }\n",
       "\n",
       "    .dataframe tbody tr th {\n",
       "        vertical-align: top;\n",
       "    }\n",
       "\n",
       "    .dataframe thead th {\n",
       "        text-align: right;\n",
       "    }\n",
       "</style>\n",
       "<table border=\"1\" class=\"dataframe\">\n",
       "  <thead>\n",
       "    <tr style=\"text-align: right;\">\n",
       "      <th></th>\n",
       "      <th>race_id</th>\n",
       "      <th>race_date</th>\n",
       "      <th>race_title</th>\n",
       "      <th>race_class</th>\n",
       "      <th>course_name</th>\n",
       "      <th>course_type</th>\n",
       "      <th>course_direction</th>\n",
       "      <th>course_distance</th>\n",
       "      <th>condition</th>\n",
       "      <th>whether</th>\n",
       "    </tr>\n",
       "  </thead>\n",
       "  <tbody>\n",
       "    <tr>\n",
       "      <th>2631</th>\n",
       "      <td>201110040108</td>\n",
       "      <td>2011年7月30日</td>\n",
       "      <td>第13回小倉サマージャンプ(J.G3)</td>\n",
       "      <td>障害3歳以上オープン</td>\n",
       "      <td>小倉</td>\n",
       "      <td>障</td>\n",
       "      <td>芝</td>\n",
       "      <td>3390</td>\n",
       "      <td>良</td>\n",
       "      <td>晴</td>\n",
       "    </tr>\n",
       "    <tr>\n",
       "      <th>2637</th>\n",
       "      <td>201110040204</td>\n",
       "      <td>2011年7月31日</td>\n",
       "      <td>障害3歳以上未勝利</td>\n",
       "      <td>障害3歳以上未勝利</td>\n",
       "      <td>小倉</td>\n",
       "      <td>障</td>\n",
       "      <td>芝</td>\n",
       "      <td>2900</td>\n",
       "      <td>良</td>\n",
       "      <td>晴</td>\n",
       "    </tr>\n",
       "  </tbody>\n",
       "</table>\n",
       "</div>"
      ],
      "text/plain": [
       "           race_id   race_date           race_title  race_class course_name  \\\n",
       "2631  201110040108  2011年7月30日  第13回小倉サマージャンプ(J.G3)  障害3歳以上オープン          小倉   \n",
       "2637  201110040204  2011年7月31日            障害3歳以上未勝利   障害3歳以上未勝利          小倉   \n",
       "\n",
       "     course_type course_direction course_distance condition whether  \n",
       "2631           障                芝            3390         良       晴  \n",
       "2637           障                芝            2900         良       晴  "
      ]
     },
     "execution_count": 23,
     "metadata": {},
     "output_type": "execute_result"
    }
   ],
   "source": [
    "# 障害分ける\n",
    "df_obstacle = df_info.loc[df_info.course_type=='障']\n",
    "df_info = df_info.loc[df_info.course_type!='障']\n",
    "print(df_obstacle.shape)\n",
    "df_obstacle.head(2)"
   ]
  },
  {
   "cell_type": "code",
   "execution_count": 24,
   "metadata": {
    "ExecuteTime": {
     "end_time": "2020-12-06T15:33:27.087713Z",
     "start_time": "2020-12-06T15:33:27.061433Z"
    }
   },
   "outputs": [],
   "source": [
    "# 開催日\n",
    "df_info.race_date = pd.to_datetime(df_info.race_date, format=('%Y年%m月%d日'))"
   ]
  },
  {
   "cell_type": "code",
   "execution_count": 25,
   "metadata": {
    "ExecuteTime": {
     "end_time": "2020-12-06T15:33:27.123587Z",
     "start_time": "2020-12-06T15:33:27.087713Z"
    }
   },
   "outputs": [
    {
     "name": "stdout",
     "output_type": "stream",
     "text": [
      "京都    4142\n",
      "東京    3986\n",
      "阪神    3892\n",
      "中山    3719\n",
      "新潟    2388\n",
      "小倉    2349\n",
      "中京    2296\n",
      "福島    1913\n",
      "函館    1344\n",
      "札幌    1096\n",
      "Name: course_name, dtype: int64\n"
     ]
    }
   ],
   "source": [
    "# 開催地のゆれ\n",
    "df_info.course_name = df_info.course_name.str.replace('1', '')\n",
    "print(df_info.course_name.value_counts())"
   ]
  },
  {
   "cell_type": "code",
   "execution_count": 26,
   "metadata": {
    "ExecuteTime": {
     "end_time": "2020-12-06T15:33:27.163536Z",
     "start_time": "2020-12-06T15:33:27.123587Z"
    }
   },
   "outputs": [
    {
     "data": {
      "text/plain": [
       "1800    6361\n",
       "1200    5532\n",
       "1400    3748\n",
       "1600    3181\n",
       "2000    2751\n",
       "1700    1828\n",
       "1000     843\n",
       "2400     680\n",
       "2200     529\n",
       "2600     296\n",
       "1150     294\n",
       "1900     272\n",
       "2100     271\n",
       "1300     219\n",
       "1500     136\n",
       "2500     118\n",
       "3000      26\n",
       "2300      16\n",
       "3600      10\n",
       "3200       8\n",
       "3400       6\n",
       "Name: course_distance, dtype: int64"
      ]
     },
     "execution_count": 26,
     "metadata": {},
     "output_type": "execute_result"
    }
   ],
   "source": [
    "# 距離おかしいとこ\n",
    "df_info.course_distance = df_info.course_distance.replace({\n",
    "    ' 外16': '1600',\n",
    "    ' 外18': '1800',\n",
    "    '線100': '1000',\n",
    "    ' 外20': '2000',\n",
    "    ' 外14': '1400',\n",
    "    ' 外12': '1200',\n",
    "    ' 内2周': '3600',\n",
    "    ' 外24': '2400',\n",
    "    ' 外30': '3000',\n",
    "    ' 外22': '2200',\n",
    "    ' 外32': '3200',\n",
    "    ' 外26': '2600'\n",
    "})\n",
    "df_info.course_distance.value_counts()"
   ]
  },
  {
   "cell_type": "code",
   "execution_count": 27,
   "metadata": {
    "ExecuteTime": {
     "end_time": "2020-12-06T15:33:27.187529Z",
     "start_time": "2020-12-06T15:33:27.163536Z"
    }
   },
   "outputs": [],
   "source": [
    "df_info.course_distance = df_info.course_distance.astype(np.int)"
   ]
  },
  {
   "cell_type": "code",
   "execution_count": 28,
   "metadata": {
    "ExecuteTime": {
     "end_time": "2020-12-06T15:33:27.203540Z",
     "start_time": "2020-12-06T15:33:27.187529Z"
    }
   },
   "outputs": [
    {
     "data": {
      "text/plain": [
       "良     19229\n",
       "稍重     4588\n",
       "重      2247\n",
       "不良     1061\n",
       "Name: condition, dtype: int64"
      ]
     },
     "execution_count": 28,
     "metadata": {},
     "output_type": "execute_result"
    }
   ],
   "source": [
    "df_info.condition.value_counts(dropna=False)"
   ]
  },
  {
   "cell_type": "code",
   "execution_count": 29,
   "metadata": {
    "ExecuteTime": {
     "end_time": "2020-12-06T15:33:27.233989Z",
     "start_time": "2020-12-06T15:33:27.203540Z"
    }
   },
   "outputs": [
    {
     "data": {
      "text/plain": [
       "1    19229\n",
       "2     4588\n",
       "3     2247\n",
       "4     1061\n",
       "Name: condition_int, dtype: int64"
      ]
     },
     "execution_count": 29,
     "metadata": {},
     "output_type": "execute_result"
    }
   ],
   "source": [
    "# 馬場状態を数値に変換\n",
    "df_info['condition_int'] = df_info.condition.replace({\n",
    "    '良': 1,\n",
    "    '稍重': 2,\n",
    "    '重': 3,\n",
    "    '不良': 4\n",
    "})\n",
    "df_info.condition_int.value_counts(dropna=False)"
   ]
  },
  {
   "cell_type": "code",
   "execution_count": 30,
   "metadata": {
    "ExecuteTime": {
     "end_time": "2020-12-06T15:33:27.255406Z",
     "start_time": "2020-12-06T15:33:27.235006Z"
    }
   },
   "outputs": [
    {
     "data": {
      "text/plain": [
       "晴     17128\n",
       "曇      7612\n",
       "雨      1433\n",
       "小雨      920\n",
       "小雪       24\n",
       "雪         8\n",
       "Name: whether, dtype: int64"
      ]
     },
     "execution_count": 30,
     "metadata": {},
     "output_type": "execute_result"
    }
   ],
   "source": [
    "df_info.whether.value_counts(dropna=False)"
   ]
  },
  {
   "cell_type": "code",
   "execution_count": 31,
   "metadata": {
    "ExecuteTime": {
     "end_time": "2020-12-06T15:33:27.293454Z",
     "start_time": "2020-12-06T15:33:27.258388Z"
    }
   },
   "outputs": [
    {
     "data": {
      "text/plain": [
       "1    17128\n",
       "2     7612\n",
       "4     1441\n",
       "3      944\n",
       "Name: whether_int, dtype: int64"
      ]
     },
     "execution_count": 31,
     "metadata": {},
     "output_type": "execute_result"
    }
   ],
   "source": [
    "# 天気を数値に変換\n",
    "df_info['whether_int'] = df_info.whether.replace({\n",
    "    '晴': 1,\n",
    "    '曇': 2,\n",
    "    '小雨': 3,\n",
    "    '小雪': 3,\n",
    "    '雨': 4,\n",
    "    '雪': 4\n",
    "})\n",
    "df_info.whether_int.value_counts(dropna=False)"
   ]
  },
  {
   "cell_type": "code",
   "execution_count": 32,
   "metadata": {
    "ExecuteTime": {
     "end_time": "2020-12-06T15:33:27.367128Z",
     "start_time": "2020-12-06T15:33:27.296008Z"
    }
   },
   "outputs": [],
   "source": [
    "df_info['race_class_prize'] = df_info.race_class.str.extract('\\d+歳[以上]*(.*)', expand=True)"
   ]
  },
  {
   "cell_type": "code",
   "execution_count": 33,
   "metadata": {
    "ExecuteTime": {
     "end_time": "2020-12-06T15:33:27.387961Z",
     "start_time": "2020-12-06T15:33:27.367128Z"
    }
   },
   "outputs": [],
   "source": [
    "# 逆！\n",
    "df_info.race_class_prize = df_info.race_class_prize.replace({\n",
    "    '1勝クラス': '500万下',\n",
    "    '2勝クラス': '1000万下'\n",
    "})"
   ]
  },
  {
   "cell_type": "code",
   "execution_count": 34,
   "metadata": {
    "ExecuteTime": {
     "end_time": "2020-12-06T15:33:27.408186Z",
     "start_time": "2020-12-06T15:33:27.387961Z"
    }
   },
   "outputs": [],
   "source": [
    "def replace_new_class_prize(race_title, prize):\n",
    "    if prize == '500万下':\n",
    "        return '1勝クラス'\n",
    "    elif prize == '1000万下':\n",
    "        return '2勝クラス'\n",
    "    elif prize == '1600万下':\n",
    "        return '3勝クラス'\n",
    "    elif prize == 'オープン':\n",
    "        if 'G1' in race_title:\n",
    "            return 'G1'\n",
    "        elif 'G2' in race_title:\n",
    "            return 'G2'\n",
    "        elif 'G3' in race_title:\n",
    "            return 'G3'\n",
    "    return prize"
   ]
  },
  {
   "cell_type": "code",
   "execution_count": 35,
   "metadata": {
    "ExecuteTime": {
     "end_time": "2020-12-06T15:33:27.428222Z",
     "start_time": "2020-12-06T15:33:27.408186Z"
    }
   },
   "outputs": [
    {
     "data": {
      "text/html": [
       "<div>\n",
       "<style scoped>\n",
       "    .dataframe tbody tr th:only-of-type {\n",
       "        vertical-align: middle;\n",
       "    }\n",
       "\n",
       "    .dataframe tbody tr th {\n",
       "        vertical-align: top;\n",
       "    }\n",
       "\n",
       "    .dataframe thead th {\n",
       "        text-align: right;\n",
       "    }\n",
       "</style>\n",
       "<table border=\"1\" class=\"dataframe\">\n",
       "  <thead>\n",
       "    <tr style=\"text-align: right;\">\n",
       "      <th></th>\n",
       "      <th>race_id</th>\n",
       "      <th>race_date</th>\n",
       "      <th>race_title</th>\n",
       "      <th>race_class</th>\n",
       "      <th>course_name</th>\n",
       "      <th>course_type</th>\n",
       "      <th>course_direction</th>\n",
       "      <th>course_distance</th>\n",
       "      <th>condition</th>\n",
       "      <th>whether</th>\n",
       "      <th>condition_int</th>\n",
       "      <th>whether_int</th>\n",
       "      <th>race_class_prize</th>\n",
       "    </tr>\n",
       "  </thead>\n",
       "  <tbody>\n",
       "    <tr>\n",
       "      <th>0</th>\n",
       "      <td>201001020110</td>\n",
       "      <td>2010-09-11</td>\n",
       "      <td>コスモス賞</td>\n",
       "      <td>2歳オープン</td>\n",
       "      <td>札幌</td>\n",
       "      <td>芝</td>\n",
       "      <td>右</td>\n",
       "      <td>1800</td>\n",
       "      <td>良</td>\n",
       "      <td>曇</td>\n",
       "      <td>1</td>\n",
       "      <td>2</td>\n",
       "      <td>オープン</td>\n",
       "    </tr>\n",
       "    <tr>\n",
       "      <th>1</th>\n",
       "      <td>201001020111</td>\n",
       "      <td>2010-09-11</td>\n",
       "      <td>報知杯大雪ハンデ</td>\n",
       "      <td>3歳以上1000万下</td>\n",
       "      <td>札幌</td>\n",
       "      <td>ダ</td>\n",
       "      <td>右</td>\n",
       "      <td>1700</td>\n",
       "      <td>良</td>\n",
       "      <td>曇</td>\n",
       "      <td>1</td>\n",
       "      <td>2</td>\n",
       "      <td>1000万下</td>\n",
       "    </tr>\n",
       "    <tr>\n",
       "      <th>2</th>\n",
       "      <td>201001020112</td>\n",
       "      <td>2010-09-11</td>\n",
       "      <td>手稲山特別</td>\n",
       "      <td>3歳以上500万下</td>\n",
       "      <td>札幌</td>\n",
       "      <td>芝</td>\n",
       "      <td>右</td>\n",
       "      <td>1500</td>\n",
       "      <td>良</td>\n",
       "      <td>曇</td>\n",
       "      <td>1</td>\n",
       "      <td>2</td>\n",
       "      <td>500万下</td>\n",
       "    </tr>\n",
       "    <tr>\n",
       "      <th>3</th>\n",
       "      <td>201001020210</td>\n",
       "      <td>2010-09-12</td>\n",
       "      <td>おおぞら特別</td>\n",
       "      <td>3歳以上1000万下</td>\n",
       "      <td>札幌</td>\n",
       "      <td>芝</td>\n",
       "      <td>右</td>\n",
       "      <td>1800</td>\n",
       "      <td>良</td>\n",
       "      <td>晴</td>\n",
       "      <td>1</td>\n",
       "      <td>1</td>\n",
       "      <td>1000万下</td>\n",
       "    </tr>\n",
       "    <tr>\n",
       "      <th>4</th>\n",
       "      <td>201001020211</td>\n",
       "      <td>2010-09-12</td>\n",
       "      <td>UHB賞</td>\n",
       "      <td>3歳以上1000万下</td>\n",
       "      <td>札幌</td>\n",
       "      <td>芝</td>\n",
       "      <td>右</td>\n",
       "      <td>1500</td>\n",
       "      <td>良</td>\n",
       "      <td>晴</td>\n",
       "      <td>1</td>\n",
       "      <td>1</td>\n",
       "      <td>1000万下</td>\n",
       "    </tr>\n",
       "  </tbody>\n",
       "</table>\n",
       "</div>"
      ],
      "text/plain": [
       "        race_id  race_date race_title  race_class course_name course_type  \\\n",
       "0  201001020110 2010-09-11      コスモス賞      2歳オープン          札幌           芝   \n",
       "1  201001020111 2010-09-11   報知杯大雪ハンデ  3歳以上1000万下          札幌           ダ   \n",
       "2  201001020112 2010-09-11      手稲山特別   3歳以上500万下          札幌           芝   \n",
       "3  201001020210 2010-09-12     おおぞら特別  3歳以上1000万下          札幌           芝   \n",
       "4  201001020211 2010-09-12       UHB賞  3歳以上1000万下          札幌           芝   \n",
       "\n",
       "  course_direction  course_distance condition whether  condition_int  \\\n",
       "0                右             1800         良       曇              1   \n",
       "1                右             1700         良       曇              1   \n",
       "2                右             1500         良       曇              1   \n",
       "3                右             1800         良       晴              1   \n",
       "4                右             1500         良       晴              1   \n",
       "\n",
       "   whether_int race_class_prize  \n",
       "0            2             オープン  \n",
       "1            2           1000万下  \n",
       "2            2            500万下  \n",
       "3            1           1000万下  \n",
       "4            1           1000万下  "
      ]
     },
     "execution_count": 35,
     "metadata": {},
     "output_type": "execute_result"
    }
   ],
   "source": [
    "df_info.head()"
   ]
  },
  {
   "cell_type": "code",
   "execution_count": 36,
   "metadata": {
    "ExecuteTime": {
     "end_time": "2020-12-06T15:34:13.965121Z",
     "start_time": "2020-12-06T15:33:27.428222Z"
    }
   },
   "outputs": [],
   "source": [
    "for index in df_info.index:\n",
    "    df_info.loc[index, 'race_class_prize'] = replace_new_class_prize(\n",
    "        df_info.loc[index, 'race_title'],\n",
    "        df_info.loc[index, 'race_class_prize']\n",
    "    )"
   ]
  },
  {
   "cell_type": "code",
   "execution_count": 37,
   "metadata": {
    "ExecuteTime": {
     "end_time": "2020-12-06T15:34:14.004780Z",
     "start_time": "2020-12-06T15:34:13.965121Z"
    }
   },
   "outputs": [
    {
     "data": {
      "text/html": [
       "<div>\n",
       "<style scoped>\n",
       "    .dataframe tbody tr th:only-of-type {\n",
       "        vertical-align: middle;\n",
       "    }\n",
       "\n",
       "    .dataframe tbody tr th {\n",
       "        vertical-align: top;\n",
       "    }\n",
       "\n",
       "    .dataframe thead th {\n",
       "        text-align: right;\n",
       "    }\n",
       "</style>\n",
       "<table border=\"1\" class=\"dataframe\">\n",
       "  <thead>\n",
       "    <tr style=\"text-align: right;\">\n",
       "      <th></th>\n",
       "      <th>race_id</th>\n",
       "      <th>race_date</th>\n",
       "      <th>race_title</th>\n",
       "      <th>race_class</th>\n",
       "      <th>course_name</th>\n",
       "      <th>course_type</th>\n",
       "      <th>course_direction</th>\n",
       "      <th>course_distance</th>\n",
       "      <th>condition</th>\n",
       "      <th>whether</th>\n",
       "      <th>condition_int</th>\n",
       "      <th>whether_int</th>\n",
       "      <th>race_class_prize</th>\n",
       "    </tr>\n",
       "  </thead>\n",
       "  <tbody>\n",
       "    <tr>\n",
       "      <th>0</th>\n",
       "      <td>201001020110</td>\n",
       "      <td>2010-09-11</td>\n",
       "      <td>コスモス賞</td>\n",
       "      <td>2歳オープン</td>\n",
       "      <td>札幌</td>\n",
       "      <td>芝</td>\n",
       "      <td>右</td>\n",
       "      <td>1800</td>\n",
       "      <td>良</td>\n",
       "      <td>曇</td>\n",
       "      <td>1</td>\n",
       "      <td>2</td>\n",
       "      <td>オープン</td>\n",
       "    </tr>\n",
       "    <tr>\n",
       "      <th>1</th>\n",
       "      <td>201001020111</td>\n",
       "      <td>2010-09-11</td>\n",
       "      <td>報知杯大雪ハンデ</td>\n",
       "      <td>3歳以上1000万下</td>\n",
       "      <td>札幌</td>\n",
       "      <td>ダ</td>\n",
       "      <td>右</td>\n",
       "      <td>1700</td>\n",
       "      <td>良</td>\n",
       "      <td>曇</td>\n",
       "      <td>1</td>\n",
       "      <td>2</td>\n",
       "      <td>2勝クラス</td>\n",
       "    </tr>\n",
       "    <tr>\n",
       "      <th>2</th>\n",
       "      <td>201001020112</td>\n",
       "      <td>2010-09-11</td>\n",
       "      <td>手稲山特別</td>\n",
       "      <td>3歳以上500万下</td>\n",
       "      <td>札幌</td>\n",
       "      <td>芝</td>\n",
       "      <td>右</td>\n",
       "      <td>1500</td>\n",
       "      <td>良</td>\n",
       "      <td>曇</td>\n",
       "      <td>1</td>\n",
       "      <td>2</td>\n",
       "      <td>1勝クラス</td>\n",
       "    </tr>\n",
       "    <tr>\n",
       "      <th>3</th>\n",
       "      <td>201001020210</td>\n",
       "      <td>2010-09-12</td>\n",
       "      <td>おおぞら特別</td>\n",
       "      <td>3歳以上1000万下</td>\n",
       "      <td>札幌</td>\n",
       "      <td>芝</td>\n",
       "      <td>右</td>\n",
       "      <td>1800</td>\n",
       "      <td>良</td>\n",
       "      <td>晴</td>\n",
       "      <td>1</td>\n",
       "      <td>1</td>\n",
       "      <td>2勝クラス</td>\n",
       "    </tr>\n",
       "    <tr>\n",
       "      <th>4</th>\n",
       "      <td>201001020211</td>\n",
       "      <td>2010-09-12</td>\n",
       "      <td>UHB賞</td>\n",
       "      <td>3歳以上1000万下</td>\n",
       "      <td>札幌</td>\n",
       "      <td>芝</td>\n",
       "      <td>右</td>\n",
       "      <td>1500</td>\n",
       "      <td>良</td>\n",
       "      <td>晴</td>\n",
       "      <td>1</td>\n",
       "      <td>1</td>\n",
       "      <td>2勝クラス</td>\n",
       "    </tr>\n",
       "  </tbody>\n",
       "</table>\n",
       "</div>"
      ],
      "text/plain": [
       "        race_id  race_date race_title  race_class course_name course_type  \\\n",
       "0  201001020110 2010-09-11      コスモス賞      2歳オープン          札幌           芝   \n",
       "1  201001020111 2010-09-11   報知杯大雪ハンデ  3歳以上1000万下          札幌           ダ   \n",
       "2  201001020112 2010-09-11      手稲山特別   3歳以上500万下          札幌           芝   \n",
       "3  201001020210 2010-09-12     おおぞら特別  3歳以上1000万下          札幌           芝   \n",
       "4  201001020211 2010-09-12       UHB賞  3歳以上1000万下          札幌           芝   \n",
       "\n",
       "  course_direction  course_distance condition whether  condition_int  \\\n",
       "0                右             1800         良       曇              1   \n",
       "1                右             1700         良       曇              1   \n",
       "2                右             1500         良       曇              1   \n",
       "3                右             1800         良       晴              1   \n",
       "4                右             1500         良       晴              1   \n",
       "\n",
       "   whether_int race_class_prize  \n",
       "0            2             オープン  \n",
       "1            2            2勝クラス  \n",
       "2            2            1勝クラス  \n",
       "3            1            2勝クラス  \n",
       "4            1            2勝クラス  "
      ]
     },
     "execution_count": 37,
     "metadata": {},
     "output_type": "execute_result"
    }
   ],
   "source": [
    "df_info.head()"
   ]
  },
  {
   "cell_type": "markdown",
   "metadata": {},
   "source": [
    "# 障害"
   ]
  },
  {
   "cell_type": "code",
   "execution_count": 38,
   "metadata": {
    "ExecuteTime": {
     "end_time": "2020-12-06T15:34:14.036301Z",
     "start_time": "2020-12-06T15:34:14.004780Z"
    }
   },
   "outputs": [
    {
     "data": {
      "text/html": [
       "<div>\n",
       "<style scoped>\n",
       "    .dataframe tbody tr th:only-of-type {\n",
       "        vertical-align: middle;\n",
       "    }\n",
       "\n",
       "    .dataframe tbody tr th {\n",
       "        vertical-align: top;\n",
       "    }\n",
       "\n",
       "    .dataframe thead th {\n",
       "        text-align: right;\n",
       "    }\n",
       "</style>\n",
       "<table border=\"1\" class=\"dataframe\">\n",
       "  <thead>\n",
       "    <tr style=\"text-align: right;\">\n",
       "      <th></th>\n",
       "      <th>race_id</th>\n",
       "      <th>race_date</th>\n",
       "      <th>race_title</th>\n",
       "      <th>race_class</th>\n",
       "      <th>course_name</th>\n",
       "      <th>course_type</th>\n",
       "      <th>course_direction</th>\n",
       "      <th>course_distance</th>\n",
       "      <th>condition</th>\n",
       "      <th>whether</th>\n",
       "    </tr>\n",
       "  </thead>\n",
       "  <tbody>\n",
       "    <tr>\n",
       "      <th>2631</th>\n",
       "      <td>201110040108</td>\n",
       "      <td>2011年7月30日</td>\n",
       "      <td>第13回小倉サマージャンプ(J.G3)</td>\n",
       "      <td>障害3歳以上オープン</td>\n",
       "      <td>小倉</td>\n",
       "      <td>障</td>\n",
       "      <td>芝</td>\n",
       "      <td>3390</td>\n",
       "      <td>良</td>\n",
       "      <td>晴</td>\n",
       "    </tr>\n",
       "    <tr>\n",
       "      <th>2637</th>\n",
       "      <td>201110040204</td>\n",
       "      <td>2011年7月31日</td>\n",
       "      <td>障害3歳以上未勝利</td>\n",
       "      <td>障害3歳以上未勝利</td>\n",
       "      <td>小倉</td>\n",
       "      <td>障</td>\n",
       "      <td>芝</td>\n",
       "      <td>2900</td>\n",
       "      <td>良</td>\n",
       "      <td>晴</td>\n",
       "    </tr>\n",
       "  </tbody>\n",
       "</table>\n",
       "</div>"
      ],
      "text/plain": [
       "           race_id   race_date           race_title  race_class course_name  \\\n",
       "2631  201110040108  2011年7月30日  第13回小倉サマージャンプ(J.G3)  障害3歳以上オープン          小倉   \n",
       "2637  201110040204  2011年7月31日            障害3歳以上未勝利   障害3歳以上未勝利          小倉   \n",
       "\n",
       "     course_type course_direction course_distance condition whether  \n",
       "2631           障                芝            3390         良       晴  \n",
       "2637           障                芝            2900         良       晴  "
      ]
     },
     "execution_count": 38,
     "metadata": {},
     "output_type": "execute_result"
    }
   ],
   "source": [
    "df_obstacle.head(2)"
   ]
  },
  {
   "cell_type": "code",
   "execution_count": 39,
   "metadata": {
    "ExecuteTime": {
     "end_time": "2020-12-06T15:34:14.244576Z",
     "start_time": "2020-12-06T15:34:14.036301Z"
    }
   },
   "outputs": [
    {
     "name": "stdout",
     "output_type": "stream",
     "text": [
      "(399891, 28)\n",
      "(12063, 28)\n",
      "(387828, 28)\n"
     ]
    }
   ],
   "source": [
    "# レース結果から障害を抜く\n",
    "print(df_result.shape)\n",
    "df_obstacle_result = df_result.loc[df_result.race_id.isin(df_obstacle.race_id)]\n",
    "print(df_obstacle_result.shape)\n",
    "df_result = df_result.loc[~df_result.race_id.isin(df_obstacle.race_id)]\n",
    "print(df_result.shape)"
   ]
  },
  {
   "cell_type": "markdown",
   "metadata": {},
   "source": [
    "# 出力"
   ]
  },
  {
   "cell_type": "code",
   "execution_count": 40,
   "metadata": {
    "ExecuteTime": {
     "end_time": "2020-12-06T15:34:14.300725Z",
     "start_time": "2020-12-06T15:34:14.244576Z"
    },
    "scrolled": true
   },
   "outputs": [
    {
     "data": {
      "text/html": [
       "<div>\n",
       "<style scoped>\n",
       "    .dataframe tbody tr th:only-of-type {\n",
       "        vertical-align: middle;\n",
       "    }\n",
       "\n",
       "    .dataframe tbody tr th {\n",
       "        vertical-align: top;\n",
       "    }\n",
       "\n",
       "    .dataframe thead th {\n",
       "        text-align: right;\n",
       "    }\n",
       "</style>\n",
       "<table border=\"1\" class=\"dataframe\">\n",
       "  <thead>\n",
       "    <tr style=\"text-align: right;\">\n",
       "      <th></th>\n",
       "      <th>着順</th>\n",
       "      <th>枠番</th>\n",
       "      <th>馬番</th>\n",
       "      <th>馬名</th>\n",
       "      <th>性齢</th>\n",
       "      <th>斤量</th>\n",
       "      <th>騎手</th>\n",
       "      <th>タイム</th>\n",
       "      <th>着差</th>\n",
       "      <th>通過</th>\n",
       "      <th>上り</th>\n",
       "      <th>単勝</th>\n",
       "      <th>人気</th>\n",
       "      <th>馬体重</th>\n",
       "      <th>調教師</th>\n",
       "      <th>馬主</th>\n",
       "      <th>賞金(万円)</th>\n",
       "      <th>race_id</th>\n",
       "      <th>gender</th>\n",
       "      <th>age</th>\n",
       "      <th>weight</th>\n",
       "      <th>weight_change</th>\n",
       "      <th>abs_weight_change</th>\n",
       "      <th>passing1</th>\n",
       "      <th>passing2</th>\n",
       "      <th>passing3</th>\n",
       "      <th>passing4</th>\n",
       "      <th>place</th>\n",
       "    </tr>\n",
       "  </thead>\n",
       "  <tbody>\n",
       "    <tr>\n",
       "      <th>1</th>\n",
       "      <td>8</td>\n",
       "      <td>5</td>\n",
       "      <td>10</td>\n",
       "      <td>シゲルヒカルダイヤ</td>\n",
       "      <td>牡3</td>\n",
       "      <td>51.0</td>\n",
       "      <td>岩田望来</td>\n",
       "      <td>2:45.5</td>\n",
       "      <td>1</td>\n",
       "      <td>11-11-12-12</td>\n",
       "      <td>37.1</td>\n",
       "      <td>36.9</td>\n",
       "      <td>10.0</td>\n",
       "      <td>520(+24)</td>\n",
       "      <td>[西] 橋田満</td>\n",
       "      <td>森中蕃</td>\n",
       "      <td>NaN</td>\n",
       "      <td>201910021212</td>\n",
       "      <td>牡</td>\n",
       "      <td>3</td>\n",
       "      <td>520.0</td>\n",
       "      <td>24.0</td>\n",
       "      <td>24.0</td>\n",
       "      <td>11.0</td>\n",
       "      <td>11.0</td>\n",
       "      <td>12.0</td>\n",
       "      <td>12.0</td>\n",
       "      <td>西</td>\n",
       "    </tr>\n",
       "  </tbody>\n",
       "</table>\n",
       "</div>"
      ],
      "text/plain": [
       "   着順  枠番  馬番         馬名  性齢    斤量    騎手     タイム 着差           通過    上り    単勝  \\\n",
       "1   8   5  10  シゲルヒカルダイヤ  牡3  51.0  岩田望来  2:45.5  1  11-11-12-12  37.1  36.9   \n",
       "\n",
       "     人気       馬体重      調教師   馬主  賞金(万円)       race_id gender  age  weight  \\\n",
       "1  10.0  520(+24)  [西] 橋田満  森中蕃     NaN  201910021212      牡    3   520.0   \n",
       "\n",
       "   weight_change  abs_weight_change  passing1  passing2  passing3  passing4  \\\n",
       "1           24.0               24.0      11.0      11.0      12.0      12.0   \n",
       "\n",
       "  place  \n",
       "1     西  "
      ]
     },
     "execution_count": 40,
     "metadata": {},
     "output_type": "execute_result"
    }
   ],
   "source": [
    "df_result.head(1)"
   ]
  },
  {
   "cell_type": "code",
   "execution_count": 41,
   "metadata": {
    "ExecuteTime": {
     "end_time": "2020-12-06T15:34:14.330929Z",
     "start_time": "2020-12-06T15:34:14.300725Z"
    }
   },
   "outputs": [
    {
     "data": {
      "text/html": [
       "<div>\n",
       "<style scoped>\n",
       "    .dataframe tbody tr th:only-of-type {\n",
       "        vertical-align: middle;\n",
       "    }\n",
       "\n",
       "    .dataframe tbody tr th {\n",
       "        vertical-align: top;\n",
       "    }\n",
       "\n",
       "    .dataframe thead th {\n",
       "        text-align: right;\n",
       "    }\n",
       "</style>\n",
       "<table border=\"1\" class=\"dataframe\">\n",
       "  <thead>\n",
       "    <tr style=\"text-align: right;\">\n",
       "      <th></th>\n",
       "      <th>race_id</th>\n",
       "      <th>race_date</th>\n",
       "      <th>race_title</th>\n",
       "      <th>race_class</th>\n",
       "      <th>course_name</th>\n",
       "      <th>course_type</th>\n",
       "      <th>course_direction</th>\n",
       "      <th>course_distance</th>\n",
       "      <th>condition</th>\n",
       "      <th>whether</th>\n",
       "      <th>condition_int</th>\n",
       "      <th>whether_int</th>\n",
       "      <th>race_class_prize</th>\n",
       "    </tr>\n",
       "  </thead>\n",
       "  <tbody>\n",
       "    <tr>\n",
       "      <th>0</th>\n",
       "      <td>201001020110</td>\n",
       "      <td>2010-09-11</td>\n",
       "      <td>コスモス賞</td>\n",
       "      <td>2歳オープン</td>\n",
       "      <td>札幌</td>\n",
       "      <td>芝</td>\n",
       "      <td>右</td>\n",
       "      <td>1800</td>\n",
       "      <td>良</td>\n",
       "      <td>曇</td>\n",
       "      <td>1</td>\n",
       "      <td>2</td>\n",
       "      <td>オープン</td>\n",
       "    </tr>\n",
       "  </tbody>\n",
       "</table>\n",
       "</div>"
      ],
      "text/plain": [
       "        race_id  race_date race_title race_class course_name course_type  \\\n",
       "0  201001020110 2010-09-11      コスモス賞     2歳オープン          札幌           芝   \n",
       "\n",
       "  course_direction  course_distance condition whether  condition_int  \\\n",
       "0                右             1800         良       曇              1   \n",
       "\n",
       "   whether_int race_class_prize  \n",
       "0            2             オープン  "
      ]
     },
     "execution_count": 41,
     "metadata": {},
     "output_type": "execute_result"
    }
   ],
   "source": [
    "df_info.head(1)"
   ]
  },
  {
   "cell_type": "code",
   "execution_count": 42,
   "metadata": {
    "ExecuteTime": {
     "end_time": "2020-12-06T15:34:14.340390Z",
     "start_time": "2020-12-06T15:34:14.330929Z"
    }
   },
   "outputs": [
    {
     "data": {
      "text/plain": [
       "(387828, 28)"
      ]
     },
     "execution_count": 42,
     "metadata": {},
     "output_type": "execute_result"
    }
   ],
   "source": [
    "df_result.shape"
   ]
  },
  {
   "cell_type": "code",
   "execution_count": 43,
   "metadata": {
    "ExecuteTime": {
     "end_time": "2020-12-06T15:34:23.980731Z",
     "start_time": "2020-12-06T15:34:14.340390Z"
    }
   },
   "outputs": [],
   "source": [
    "df_result.to_csv(FILE_PARSED_RESULT, index=False)"
   ]
  },
  {
   "cell_type": "code",
   "execution_count": 44,
   "metadata": {
    "ExecuteTime": {
     "end_time": "2020-12-06T15:34:24.002294Z",
     "start_time": "2020-12-06T15:34:23.980731Z"
    }
   },
   "outputs": [
    {
     "data": {
      "text/plain": [
       "(27125, 13)"
      ]
     },
     "execution_count": 44,
     "metadata": {},
     "output_type": "execute_result"
    }
   ],
   "source": [
    "df_info.shape"
   ]
  },
  {
   "cell_type": "code",
   "execution_count": 45,
   "metadata": {
    "ExecuteTime": {
     "end_time": "2020-12-06T15:34:24.570975Z",
     "start_time": "2020-12-06T15:34:24.002294Z"
    }
   },
   "outputs": [],
   "source": [
    "df_info.to_csv(FILE_PARSED_INFO, index=False)"
   ]
  },
  {
   "cell_type": "code",
   "execution_count": 46,
   "metadata": {
    "ExecuteTime": {
     "end_time": "2020-12-06T15:34:24.926490Z",
     "start_time": "2020-12-06T15:34:24.570975Z"
    }
   },
   "outputs": [],
   "source": [
    "df_obstacle_result.to_csv(FILE_OBSTACLE_RESULT, index=False)"
   ]
  },
  {
   "cell_type": "code",
   "execution_count": 47,
   "metadata": {
    "ExecuteTime": {
     "end_time": "2020-12-06T15:34:24.947063Z",
     "start_time": "2020-12-06T15:34:24.926490Z"
    }
   },
   "outputs": [],
   "source": [
    "df_obstacle.to_csv(FILE_OBSTACLE_INFO, index=False)"
   ]
  }
 ],
 "metadata": {
  "kernelspec": {
   "display_name": "Python 3",
   "language": "python",
   "name": "python3"
  },
  "language_info": {
   "codemirror_mode": {
    "name": "ipython",
    "version": 3
   },
   "file_extension": ".py",
   "mimetype": "text/x-python",
   "name": "python",
   "nbconvert_exporter": "python",
   "pygments_lexer": "ipython3",
   "version": "3.8.6"
  },
  "toc": {
   "base_numbering": 1,
   "nav_menu": {},
   "number_sections": true,
   "sideBar": true,
   "skip_h1_title": false,
   "title_cell": "Table of Contents",
   "title_sidebar": "Contents",
   "toc_cell": false,
   "toc_position": {},
   "toc_section_display": true,
   "toc_window_display": true
  }
 },
 "nbformat": 4,
 "nbformat_minor": 2
}
