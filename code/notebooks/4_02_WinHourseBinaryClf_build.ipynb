{
 "cells": [
  {
   "cell_type": "markdown",
   "metadata": {},
   "source": [
    "# 準備"
   ]
  },
  {
   "cell_type": "code",
   "execution_count": 1,
   "metadata": {
    "ExecuteTime": {
     "end_time": "2020-12-06T10:18:56.263673Z",
     "start_time": "2020-12-06T10:18:54.542862Z"
    }
   },
   "outputs": [],
   "source": [
    "import sys\n",
    "sys.path.append('../')\n",
    "from setting import *"
   ]
  },
  {
   "cell_type": "code",
   "execution_count": 3,
   "metadata": {
    "ExecuteTime": {
     "end_time": "2020-12-06T10:18:57.829726Z",
     "start_time": "2020-12-06T10:18:57.824732Z"
    }
   },
   "outputs": [],
   "source": [
    "COMMENT = ''"
   ]
  },
  {
   "cell_type": "code",
   "execution_count": 4,
   "metadata": {
    "ExecuteTime": {
     "end_time": "2020-12-06T10:19:03.624278Z",
     "start_time": "2020-12-06T10:19:03.620280Z"
    }
   },
   "outputs": [],
   "source": [
    "file_input = data_path/'tmp/1206test2.csv'"
   ]
  },
  {
   "cell_type": "code",
   "execution_count": 5,
   "metadata": {
    "ExecuteTime": {
     "end_time": "2020-12-06T10:19:05.053133Z",
     "start_time": "2020-12-06T10:19:04.966182Z"
    }
   },
   "outputs": [
    {
     "name": "stdout",
     "output_type": "stream",
     "text": [
      "(27125, 2)\n"
     ]
    },
    {
     "data": {
      "text/html": [
       "<div>\n",
       "<style scoped>\n",
       "    .dataframe tbody tr th:only-of-type {\n",
       "        vertical-align: middle;\n",
       "    }\n",
       "\n",
       "    .dataframe tbody tr th {\n",
       "        vertical-align: top;\n",
       "    }\n",
       "\n",
       "    .dataframe thead th {\n",
       "        text-align: right;\n",
       "    }\n",
       "</style>\n",
       "<table border=\"1\" class=\"dataframe\">\n",
       "  <thead>\n",
       "    <tr style=\"text-align: right;\">\n",
       "      <th></th>\n",
       "      <th>race_id</th>\n",
       "      <th>race_class_prize</th>\n",
       "    </tr>\n",
       "  </thead>\n",
       "  <tbody>\n",
       "    <tr>\n",
       "      <th>0</th>\n",
       "      <td>201001020110</td>\n",
       "      <td>オープン</td>\n",
       "    </tr>\n",
       "  </tbody>\n",
       "</table>\n",
       "</div>"
      ],
      "text/plain": [
       "        race_id race_class_prize\n",
       "0  201001020110             オープン"
      ]
     },
     "execution_count": 5,
     "metadata": {},
     "output_type": "execute_result"
    }
   ],
   "source": [
    "df_info = pd.read_csv(data_path / 'inter/race_info_inter.csv', usecols=['race_id', 'race_class_prize'])\n",
    "print(df_info.shape)\n",
    "df_info.head(1)"
   ]
  },
  {
   "cell_type": "code",
   "execution_count": 6,
   "metadata": {
    "ExecuteTime": {
     "end_time": "2020-12-06T10:19:05.577496Z",
     "start_time": "2020-12-06T10:19:05.559774Z"
    }
   },
   "outputs": [],
   "source": [
    "use_race_id = set(df_info.loc[~df_info.race_class_prize.isin({'新馬'})].race_id)"
   ]
  },
  {
   "cell_type": "code",
   "execution_count": 7,
   "metadata": {
    "ExecuteTime": {
     "end_time": "2020-12-06T10:19:07.564983Z",
     "start_time": "2020-12-06T10:19:07.556987Z"
    }
   },
   "outputs": [
    {
     "data": {
      "text/plain": [
       "'202012061919'"
      ]
     },
     "execution_count": 7,
     "metadata": {},
     "output_type": "execute_result"
    }
   ],
   "source": [
    "dt_now = datetime.datetime.now().strftime('%Y%m%d%H%M')\n",
    "dt_now"
   ]
  },
  {
   "cell_type": "code",
   "execution_count": 8,
   "metadata": {
    "ExecuteTime": {
     "end_time": "2020-12-06T10:19:13.118237Z",
     "start_time": "2020-12-06T10:19:13.097151Z"
    }
   },
   "outputs": [],
   "source": [
    "log_path = data_path /'logs' /dt_now\n",
    "os.makedirs(log_path/'image', exist_ok=True)"
   ]
  },
  {
   "cell_type": "markdown",
   "metadata": {},
   "source": [
    "# 読み込み"
   ]
  },
  {
   "cell_type": "code",
   "execution_count": 14,
   "metadata": {
    "ExecuteTime": {
     "end_time": "2020-12-06T10:21:57.877809Z",
     "start_time": "2020-12-06T10:21:51.082970Z"
    }
   },
   "outputs": [
    {
     "name": "stdout",
     "output_type": "stream",
     "text": [
      "(148567, 37)\n"
     ]
    },
    {
     "data": {
      "text/html": [
       "<div>\n",
       "<style scoped>\n",
       "    .dataframe tbody tr th:only-of-type {\n",
       "        vertical-align: middle;\n",
       "    }\n",
       "\n",
       "    .dataframe tbody tr th {\n",
       "        vertical-align: top;\n",
       "    }\n",
       "\n",
       "    .dataframe thead th {\n",
       "        text-align: right;\n",
       "    }\n",
       "</style>\n",
       "<table border=\"1\" class=\"dataframe\">\n",
       "  <thead>\n",
       "    <tr style=\"text-align: right;\">\n",
       "      <th></th>\n",
       "      <th>arrival</th>\n",
       "      <th>course_num</th>\n",
       "      <th>馬名</th>\n",
       "      <th>handy_weight</th>\n",
       "      <th>race_id</th>\n",
       "      <th>age</th>\n",
       "      <th>weight</th>\n",
       "      <th>race_date</th>\n",
       "      <th>first_data_flg</th>\n",
       "      <th>pre_weight_3_mean</th>\n",
       "      <th>weight_null_flg</th>\n",
       "      <th>weight_change_rate</th>\n",
       "      <th>handy_rate</th>\n",
       "      <th>interval_days</th>\n",
       "      <th>last_turf_flg</th>\n",
       "      <th>distance_diff</th>\n",
       "      <th>last_wheter</th>\n",
       "      <th>last_condition</th>\n",
       "      <th>is_first_in_prize</th>\n",
       "      <th>last_arrival</th>\n",
       "      <th>p2_arrival</th>\n",
       "      <th>p3_arrival</th>\n",
       "      <th>last_speed</th>\n",
       "      <th>last_uphill_speed</th>\n",
       "      <th>same_cluster_flg</th>\n",
       "      <th>last_uphill</th>\n",
       "      <th>last_uphill_samecc</th>\n",
       "      <th>got_prize</th>\n",
       "      <th>is_same_place</th>\n",
       "      <th>gender_セ</th>\n",
       "      <th>gender_牝</th>\n",
       "      <th>gender_牡</th>\n",
       "      <th>place_なし</th>\n",
       "      <th>place_地</th>\n",
       "      <th>place_外</th>\n",
       "      <th>place_東</th>\n",
       "      <th>place_西</th>\n",
       "    </tr>\n",
       "  </thead>\n",
       "  <tbody>\n",
       "    <tr>\n",
       "      <th>0</th>\n",
       "      <td>1</td>\n",
       "      <td>7</td>\n",
       "      <td>エネアド</td>\n",
       "      <td>54.0</td>\n",
       "      <td>201205030110</td>\n",
       "      <td>3</td>\n",
       "      <td>436.0</td>\n",
       "      <td>2012-06-02</td>\n",
       "      <td>0</td>\n",
       "      <td>438.666667</td>\n",
       "      <td>0</td>\n",
       "      <td>0.993921</td>\n",
       "      <td>0.123853</td>\n",
       "      <td>41.0</td>\n",
       "      <td>1</td>\n",
       "      <td>0.0</td>\n",
       "      <td>2.0</td>\n",
       "      <td>1.0</td>\n",
       "      <td>1</td>\n",
       "      <td>1.0</td>\n",
       "      <td>NaN</td>\n",
       "      <td>NaN</td>\n",
       "      <td>58428.0</td>\n",
       "      <td>0.000587</td>\n",
       "      <td>0</td>\n",
       "      <td>34.3</td>\n",
       "      <td>34.3</td>\n",
       "      <td>700.0</td>\n",
       "      <td>1</td>\n",
       "      <td>0</td>\n",
       "      <td>0</td>\n",
       "      <td>1</td>\n",
       "      <td>0</td>\n",
       "      <td>0</td>\n",
       "      <td>0</td>\n",
       "      <td>1</td>\n",
       "      <td>0</td>\n",
       "    </tr>\n",
       "    <tr>\n",
       "      <th>1</th>\n",
       "      <td>4</td>\n",
       "      <td>12</td>\n",
       "      <td>ショウナンバーズ</td>\n",
       "      <td>57.0</td>\n",
       "      <td>201205030109</td>\n",
       "      <td>4</td>\n",
       "      <td>496.0</td>\n",
       "      <td>2012-06-02</td>\n",
       "      <td>0</td>\n",
       "      <td>NaN</td>\n",
       "      <td>0</td>\n",
       "      <td>NaN</td>\n",
       "      <td>0.114919</td>\n",
       "      <td>238.0</td>\n",
       "      <td>1</td>\n",
       "      <td>-600.0</td>\n",
       "      <td>1.0</td>\n",
       "      <td>1.0</td>\n",
       "      <td>1</td>\n",
       "      <td>5.0</td>\n",
       "      <td>NaN</td>\n",
       "      <td>NaN</td>\n",
       "      <td>62250.0</td>\n",
       "      <td>0.000545</td>\n",
       "      <td>0</td>\n",
       "      <td>33.9</td>\n",
       "      <td>33.9</td>\n",
       "      <td>147.0</td>\n",
       "      <td>1</td>\n",
       "      <td>0</td>\n",
       "      <td>0</td>\n",
       "      <td>1</td>\n",
       "      <td>0</td>\n",
       "      <td>0</td>\n",
       "      <td>0</td>\n",
       "      <td>1</td>\n",
       "      <td>0</td>\n",
       "    </tr>\n",
       "  </tbody>\n",
       "</table>\n",
       "</div>"
      ],
      "text/plain": [
       "   arrival  course_num        馬名  handy_weight       race_id  age  weight  \\\n",
       "0        1           7      エネアド          54.0  201205030110    3   436.0   \n",
       "1        4          12  ショウナンバーズ          57.0  201205030109    4   496.0   \n",
       "\n",
       "    race_date  first_data_flg  pre_weight_3_mean  weight_null_flg  \\\n",
       "0  2012-06-02               0         438.666667                0   \n",
       "1  2012-06-02               0                NaN                0   \n",
       "\n",
       "   weight_change_rate  handy_rate  interval_days  last_turf_flg  \\\n",
       "0            0.993921    0.123853           41.0              1   \n",
       "1                 NaN    0.114919          238.0              1   \n",
       "\n",
       "   distance_diff  last_wheter  last_condition  is_first_in_prize  \\\n",
       "0            0.0          2.0             1.0                  1   \n",
       "1         -600.0          1.0             1.0                  1   \n",
       "\n",
       "   last_arrival  p2_arrival  p3_arrival  last_speed  last_uphill_speed  \\\n",
       "0           1.0         NaN         NaN     58428.0           0.000587   \n",
       "1           5.0         NaN         NaN     62250.0           0.000545   \n",
       "\n",
       "   same_cluster_flg  last_uphill  last_uphill_samecc  got_prize  \\\n",
       "0                 0         34.3                34.3      700.0   \n",
       "1                 0         33.9                33.9      147.0   \n",
       "\n",
       "   is_same_place  gender_セ  gender_牝  gender_牡  place_なし  place_地  place_外  \\\n",
       "0              1         0         0         1         0        0        0   \n",
       "1              1         0         0         1         0        0        0   \n",
       "\n",
       "   place_東  place_西  \n",
       "0        1        0  \n",
       "1        1        0  "
      ]
     },
     "execution_count": 14,
     "metadata": {},
     "output_type": "execute_result"
    }
   ],
   "source": [
    "df_main = pd.read_csv(file_input, engine='python')\n",
    "df_main = df_main.query('race_id in @use_race_id')\n",
    "print(df_main.shape)\n",
    "df_main.head(2)"
   ]
  },
  {
   "cell_type": "code",
   "execution_count": 15,
   "metadata": {
    "ExecuteTime": {
     "end_time": "2020-12-06T10:21:57.906790Z",
     "start_time": "2020-12-06T10:21:57.881806Z"
    }
   },
   "outputs": [
    {
     "data": {
      "text/html": [
       "<div>\n",
       "<style scoped>\n",
       "    .dataframe tbody tr th:only-of-type {\n",
       "        vertical-align: middle;\n",
       "    }\n",
       "\n",
       "    .dataframe tbody tr th {\n",
       "        vertical-align: top;\n",
       "    }\n",
       "\n",
       "    .dataframe thead th {\n",
       "        text-align: right;\n",
       "    }\n",
       "</style>\n",
       "<table border=\"1\" class=\"dataframe\">\n",
       "  <thead>\n",
       "    <tr style=\"text-align: right;\">\n",
       "      <th></th>\n",
       "      <th>arrival</th>\n",
       "      <th>course_num</th>\n",
       "      <th>馬名</th>\n",
       "      <th>handy_weight</th>\n",
       "      <th>race_id</th>\n",
       "      <th>age</th>\n",
       "      <th>weight</th>\n",
       "      <th>race_date</th>\n",
       "      <th>first_data_flg</th>\n",
       "      <th>pre_weight_3_mean</th>\n",
       "      <th>weight_null_flg</th>\n",
       "      <th>weight_change_rate</th>\n",
       "      <th>handy_rate</th>\n",
       "      <th>interval_days</th>\n",
       "      <th>last_turf_flg</th>\n",
       "      <th>distance_diff</th>\n",
       "      <th>last_wheter</th>\n",
       "      <th>last_condition</th>\n",
       "      <th>is_first_in_prize</th>\n",
       "      <th>last_arrival</th>\n",
       "      <th>p2_arrival</th>\n",
       "      <th>p3_arrival</th>\n",
       "      <th>last_speed</th>\n",
       "      <th>last_uphill_speed</th>\n",
       "      <th>same_cluster_flg</th>\n",
       "      <th>last_uphill</th>\n",
       "      <th>last_uphill_samecc</th>\n",
       "      <th>got_prize</th>\n",
       "      <th>is_same_place</th>\n",
       "      <th>gender_セ</th>\n",
       "      <th>gender_牝</th>\n",
       "      <th>gender_牡</th>\n",
       "      <th>place_なし</th>\n",
       "      <th>place_地</th>\n",
       "      <th>place_外</th>\n",
       "      <th>place_東</th>\n",
       "      <th>place_西</th>\n",
       "    </tr>\n",
       "  </thead>\n",
       "  <tbody>\n",
       "  </tbody>\n",
       "</table>\n",
       "</div>"
      ],
      "text/plain": [
       "Empty DataFrame\n",
       "Columns: [arrival, course_num, 馬名, handy_weight, race_id, age, weight, race_date, first_data_flg, pre_weight_3_mean, weight_null_flg, weight_change_rate, handy_rate, interval_days, last_turf_flg, distance_diff, last_wheter, last_condition, is_first_in_prize, last_arrival, p2_arrival, p3_arrival, last_speed, last_uphill_speed, same_cluster_flg, last_uphill, last_uphill_samecc, got_prize, is_same_place, gender_セ, gender_牝, gender_牡, place_なし, place_地, place_外, place_東, place_西]\n",
       "Index: []"
      ]
     },
     "execution_count": 15,
     "metadata": {},
     "output_type": "execute_result"
    }
   ],
   "source": [
    "df_main.loc[df_main.race_id.isnull()]"
   ]
  },
  {
   "cell_type": "code",
   "execution_count": 16,
   "metadata": {
    "ExecuteTime": {
     "end_time": "2020-12-06T10:21:57.919783Z",
     "start_time": "2020-12-06T10:21:57.910788Z"
    }
   },
   "outputs": [
    {
     "data": {
      "text/plain": [
       "(148567, 37)"
      ]
     },
     "execution_count": 16,
     "metadata": {},
     "output_type": "execute_result"
    }
   ],
   "source": [
    "df_main.shape"
   ]
  },
  {
   "cell_type": "markdown",
   "metadata": {},
   "source": [
    "# 標準化"
   ]
  },
  {
   "cell_type": "code",
   "execution_count": 20,
   "metadata": {
    "ExecuteTime": {
     "end_time": "2020-12-06T10:25:42.129586Z",
     "start_time": "2020-12-06T10:25:42.124587Z"
    }
   },
   "outputs": [],
   "source": [
    "ss_col = [\n",
    "    'weight',\n",
    "    'weight_change_rate',\n",
    "    'handy_rate',\n",
    "    'handy_weight',\n",
    "#     'course_num',\n",
    "    'age',\n",
    "#     'arrival_mean_total',\n",
    "#     'speed_mean_total',\n",
    "#     'weight_mean_total',\n",
    "#     'arrival_mean_upper',\n",
    "#     'speed_mean_upper',\n",
    "#     'weight_mean_upper',\n",
    "    'interval_days',\n",
    "#     'last_arrival',\n",
    "    'distance_diff',\n",
    "#     'p2_arrival',\n",
    "#     'p3_arrival',\n",
    "    'last_speed',\n",
    "    'last_uphill_speed',\n",
    "    'last_uphill',\n",
    "    'last_uphill_samecc',\n",
    "    'pre_weight_3_mean',\n",
    "    'got_prize',\n",
    "]\n",
    "\n",
    "mm_col = [\n",
    "    'course_num',\n",
    "#     'arrival_mean_total',\n",
    "#     'arrival_mean_upper',\n",
    "    'last_arrival',\n",
    "    'p2_arrival',\n",
    "    'p3_arrival',\n",
    "]"
   ]
  },
  {
   "cell_type": "code",
   "execution_count": 21,
   "metadata": {
    "ExecuteTime": {
     "end_time": "2020-12-06T10:28:17.104441Z",
     "start_time": "2020-12-06T10:25:42.677721Z"
    },
    "scrolled": true
   },
   "outputs": [
    {
     "name": "stderr",
     "output_type": "stream",
     "text": [
      "100%|████████████████████████████████████████████████████████████████████████████| 10469/10469 [02:34<00:00, 67.85it/s]\n"
     ]
    }
   ],
   "source": [
    "data_list = []\n",
    "not_z_col = [col for col in df_main.columns if col not in set(ss_col)|set(mm_col)]\n",
    "for k,v in tqdm.tqdm(df_main.groupby('race_id')):\n",
    "    ss = pd.DataFrame(StandardScaler().fit_transform(v[ss_col]), columns=ss_col)\n",
    "    mm = pd.DataFrame(MinMaxScaler().fit_transform(v[mm_col]), columns=mm_col)\n",
    "    tmp_data = pd.concat([\n",
    "        v[not_z_col].reset_index(drop=True),\n",
    "        ss.reset_index(drop=True),\n",
    "        mm.reset_index(drop=True)\n",
    "    ], axis=1)\n",
    "    assert tmp_data.race_id.isnull().sum() == 0\n",
    "    data_list.append(tmp_data)"
   ]
  },
  {
   "cell_type": "code",
   "execution_count": 22,
   "metadata": {
    "ExecuteTime": {
     "end_time": "2020-12-06T10:28:31.493938Z",
     "start_time": "2020-12-06T10:28:17.108438Z"
    }
   },
   "outputs": [
    {
     "name": "stdout",
     "output_type": "stream",
     "text": [
      "(148567, 37)\n"
     ]
    },
    {
     "data": {
      "text/html": [
       "<div>\n",
       "<style scoped>\n",
       "    .dataframe tbody tr th:only-of-type {\n",
       "        vertical-align: middle;\n",
       "    }\n",
       "\n",
       "    .dataframe tbody tr th {\n",
       "        vertical-align: top;\n",
       "    }\n",
       "\n",
       "    .dataframe thead th {\n",
       "        text-align: right;\n",
       "    }\n",
       "</style>\n",
       "<table border=\"1\" class=\"dataframe\">\n",
       "  <thead>\n",
       "    <tr style=\"text-align: right;\">\n",
       "      <th></th>\n",
       "      <th>arrival</th>\n",
       "      <th>馬名</th>\n",
       "      <th>race_id</th>\n",
       "      <th>race_date</th>\n",
       "      <th>first_data_flg</th>\n",
       "      <th>weight_null_flg</th>\n",
       "      <th>last_turf_flg</th>\n",
       "      <th>last_wheter</th>\n",
       "      <th>last_condition</th>\n",
       "      <th>is_first_in_prize</th>\n",
       "      <th>same_cluster_flg</th>\n",
       "      <th>is_same_place</th>\n",
       "      <th>gender_セ</th>\n",
       "      <th>gender_牝</th>\n",
       "      <th>gender_牡</th>\n",
       "      <th>place_なし</th>\n",
       "      <th>place_地</th>\n",
       "      <th>place_外</th>\n",
       "      <th>place_東</th>\n",
       "      <th>place_西</th>\n",
       "      <th>weight</th>\n",
       "      <th>weight_change_rate</th>\n",
       "      <th>handy_rate</th>\n",
       "      <th>handy_weight</th>\n",
       "      <th>age</th>\n",
       "      <th>interval_days</th>\n",
       "      <th>distance_diff</th>\n",
       "      <th>last_speed</th>\n",
       "      <th>last_uphill_speed</th>\n",
       "      <th>last_uphill</th>\n",
       "      <th>last_uphill_samecc</th>\n",
       "      <th>pre_weight_3_mean</th>\n",
       "      <th>got_prize</th>\n",
       "      <th>course_num</th>\n",
       "      <th>last_arrival</th>\n",
       "      <th>p2_arrival</th>\n",
       "      <th>p3_arrival</th>\n",
       "    </tr>\n",
       "  </thead>\n",
       "  <tbody>\n",
       "    <tr>\n",
       "      <th>0</th>\n",
       "      <td>9</td>\n",
       "      <td>スリースペシャル</td>\n",
       "      <td>201201010101</td>\n",
       "      <td>2012-07-21</td>\n",
       "      <td>0</td>\n",
       "      <td>0</td>\n",
       "      <td>1</td>\n",
       "      <td>1.0</td>\n",
       "      <td>1.0</td>\n",
       "      <td>0</td>\n",
       "      <td>0</td>\n",
       "      <td>0</td>\n",
       "      <td>0</td>\n",
       "      <td>0</td>\n",
       "      <td>1</td>\n",
       "      <td>0</td>\n",
       "      <td>0</td>\n",
       "      <td>0</td>\n",
       "      <td>0</td>\n",
       "      <td>1</td>\n",
       "      <td>-0.288009</td>\n",
       "      <td>0.0</td>\n",
       "      <td>-0.587379</td>\n",
       "      <td>-2.828427</td>\n",
       "      <td>0.0</td>\n",
       "      <td>-1.392631</td>\n",
       "      <td>-2.695819</td>\n",
       "      <td>2.422728</td>\n",
       "      <td>-1.899604</td>\n",
       "      <td>0.189358</td>\n",
       "      <td>0.279713</td>\n",
       "      <td>0.0</td>\n",
       "      <td>NaN</td>\n",
       "      <td>0.000000</td>\n",
       "      <td>1.0</td>\n",
       "      <td>0.0</td>\n",
       "      <td>NaN</td>\n",
       "    </tr>\n",
       "    <tr>\n",
       "      <th>1</th>\n",
       "      <td>1</td>\n",
       "      <td>アウトシャイン</td>\n",
       "      <td>201201010101</td>\n",
       "      <td>2012-07-21</td>\n",
       "      <td>0</td>\n",
       "      <td>0</td>\n",
       "      <td>1</td>\n",
       "      <td>3.0</td>\n",
       "      <td>2.0</td>\n",
       "      <td>0</td>\n",
       "      <td>0</td>\n",
       "      <td>0</td>\n",
       "      <td>0</td>\n",
       "      <td>1</td>\n",
       "      <td>0</td>\n",
       "      <td>0</td>\n",
       "      <td>0</td>\n",
       "      <td>0</td>\n",
       "      <td>0</td>\n",
       "      <td>1</td>\n",
       "      <td>-0.720023</td>\n",
       "      <td>NaN</td>\n",
       "      <td>0.775686</td>\n",
       "      <td>0.353553</td>\n",
       "      <td>0.0</td>\n",
       "      <td>2.340805</td>\n",
       "      <td>0.215666</td>\n",
       "      <td>-0.857141</td>\n",
       "      <td>1.311880</td>\n",
       "      <td>0.946792</td>\n",
       "      <td>1.013961</td>\n",
       "      <td>NaN</td>\n",
       "      <td>1.496492</td>\n",
       "      <td>0.777778</td>\n",
       "      <td>0.0</td>\n",
       "      <td>NaN</td>\n",
       "      <td>NaN</td>\n",
       "    </tr>\n",
       "  </tbody>\n",
       "</table>\n",
       "</div>"
      ],
      "text/plain": [
       "   arrival        馬名       race_id   race_date  first_data_flg  \\\n",
       "0        9  スリースペシャル  201201010101  2012-07-21               0   \n",
       "1        1   アウトシャイン  201201010101  2012-07-21               0   \n",
       "\n",
       "   weight_null_flg  last_turf_flg  last_wheter  last_condition  \\\n",
       "0                0              1          1.0             1.0   \n",
       "1                0              1          3.0             2.0   \n",
       "\n",
       "   is_first_in_prize  same_cluster_flg  is_same_place  gender_セ  gender_牝  \\\n",
       "0                  0                 0              0         0         0   \n",
       "1                  0                 0              0         0         1   \n",
       "\n",
       "   gender_牡  place_なし  place_地  place_外  place_東  place_西    weight  \\\n",
       "0         1         0        0        0        0        1 -0.288009   \n",
       "1         0         0        0        0        0        1 -0.720023   \n",
       "\n",
       "   weight_change_rate  handy_rate  handy_weight  age  interval_days  \\\n",
       "0                 0.0   -0.587379     -2.828427  0.0      -1.392631   \n",
       "1                 NaN    0.775686      0.353553  0.0       2.340805   \n",
       "\n",
       "   distance_diff  last_speed  last_uphill_speed  last_uphill  \\\n",
       "0      -2.695819    2.422728          -1.899604     0.189358   \n",
       "1       0.215666   -0.857141           1.311880     0.946792   \n",
       "\n",
       "   last_uphill_samecc  pre_weight_3_mean  got_prize  course_num  last_arrival  \\\n",
       "0            0.279713                0.0        NaN    0.000000           1.0   \n",
       "1            1.013961                NaN   1.496492    0.777778           0.0   \n",
       "\n",
       "   p2_arrival  p3_arrival  \n",
       "0         0.0         NaN  \n",
       "1         NaN         NaN  "
      ]
     },
     "execution_count": 22,
     "metadata": {},
     "output_type": "execute_result"
    }
   ],
   "source": [
    "df_use = pd.concat(data_list, axis=0, ignore_index=True)\n",
    "print(df_use.shape)\n",
    "df_use.head(2)"
   ]
  },
  {
   "cell_type": "code",
   "execution_count": 23,
   "metadata": {
    "ExecuteTime": {
     "end_time": "2020-12-06T10:28:31.619868Z",
     "start_time": "2020-12-06T10:28:31.497941Z"
    }
   },
   "outputs": [
    {
     "data": {
      "text/html": [
       "<div>\n",
       "<style scoped>\n",
       "    .dataframe tbody tr th:only-of-type {\n",
       "        vertical-align: middle;\n",
       "    }\n",
       "\n",
       "    .dataframe tbody tr th {\n",
       "        vertical-align: top;\n",
       "    }\n",
       "\n",
       "    .dataframe thead th {\n",
       "        text-align: right;\n",
       "    }\n",
       "</style>\n",
       "<table border=\"1\" class=\"dataframe\">\n",
       "  <thead>\n",
       "    <tr style=\"text-align: right;\">\n",
       "      <th></th>\n",
       "      <th>arrival</th>\n",
       "      <th>馬名</th>\n",
       "      <th>race_id</th>\n",
       "      <th>race_date</th>\n",
       "      <th>first_data_flg</th>\n",
       "      <th>weight_null_flg</th>\n",
       "      <th>last_turf_flg</th>\n",
       "      <th>last_wheter</th>\n",
       "      <th>last_condition</th>\n",
       "      <th>is_first_in_prize</th>\n",
       "      <th>same_cluster_flg</th>\n",
       "      <th>is_same_place</th>\n",
       "      <th>gender_セ</th>\n",
       "      <th>gender_牝</th>\n",
       "      <th>gender_牡</th>\n",
       "      <th>place_なし</th>\n",
       "      <th>place_地</th>\n",
       "      <th>place_外</th>\n",
       "      <th>place_東</th>\n",
       "      <th>place_西</th>\n",
       "      <th>weight</th>\n",
       "      <th>weight_change_rate</th>\n",
       "      <th>handy_rate</th>\n",
       "      <th>handy_weight</th>\n",
       "      <th>age</th>\n",
       "      <th>interval_days</th>\n",
       "      <th>distance_diff</th>\n",
       "      <th>last_speed</th>\n",
       "      <th>last_uphill_speed</th>\n",
       "      <th>last_uphill</th>\n",
       "      <th>last_uphill_samecc</th>\n",
       "      <th>pre_weight_3_mean</th>\n",
       "      <th>got_prize</th>\n",
       "      <th>course_num</th>\n",
       "      <th>last_arrival</th>\n",
       "      <th>p2_arrival</th>\n",
       "      <th>p3_arrival</th>\n",
       "    </tr>\n",
       "  </thead>\n",
       "  <tbody>\n",
       "  </tbody>\n",
       "</table>\n",
       "</div>"
      ],
      "text/plain": [
       "Empty DataFrame\n",
       "Columns: [arrival, 馬名, race_id, race_date, first_data_flg, weight_null_flg, last_turf_flg, last_wheter, last_condition, is_first_in_prize, same_cluster_flg, is_same_place, gender_セ, gender_牝, gender_牡, place_なし, place_地, place_外, place_東, place_西, weight, weight_change_rate, handy_rate, handy_weight, age, interval_days, distance_diff, last_speed, last_uphill_speed, last_uphill, last_uphill_samecc, pre_weight_3_mean, got_prize, course_num, last_arrival, p2_arrival, p3_arrival]\n",
       "Index: []"
      ]
     },
     "execution_count": 23,
     "metadata": {},
     "output_type": "execute_result"
    }
   ],
   "source": [
    "df_use.loc[df_use.race_id.isnull()]"
   ]
  },
  {
   "cell_type": "code",
   "execution_count": 24,
   "metadata": {
    "ExecuteTime": {
     "end_time": "2020-12-06T10:28:31.637861Z",
     "start_time": "2020-12-06T10:28:31.625862Z"
    }
   },
   "outputs": [
    {
     "data": {
      "text/plain": [
       "3     10485\n",
       "1     10482\n",
       "2     10481\n",
       "5     10473\n",
       "6     10465\n",
       "4     10456\n",
       "7     10424\n",
       "8     10277\n",
       "9      9979\n",
       "10     9482\n",
       "11     8849\n",
       "12     8132\n",
       "13     7334\n",
       "14     6577\n",
       "15     5718\n",
       "16     4855\n",
       "17     2298\n",
       "18     1800\n",
       "Name: arrival, dtype: int64"
      ]
     },
     "execution_count": 24,
     "metadata": {},
     "output_type": "execute_result"
    }
   ],
   "source": [
    "df_use.arrival.value_counts()"
   ]
  },
  {
   "cell_type": "code",
   "execution_count": 94,
   "metadata": {
    "ExecuteTime": {
     "end_time": "2020-12-06T10:33:52.728457Z",
     "start_time": "2020-12-06T10:33:52.704471Z"
    }
   },
   "outputs": [
    {
     "data": {
      "text/plain": [
       "0    117119\n",
       "1     31448\n",
       "Name: target, dtype: int64"
      ]
     },
     "execution_count": 94,
     "metadata": {},
     "output_type": "execute_result"
    }
   ],
   "source": [
    "TARGET_VALUE = 3\n",
    "df_use['target'] = 0\n",
    "df_use.loc[df_use.arrival<=TARGET_VALUE, 'target'] = 1\n",
    "df_use.target.value_counts()"
   ]
  },
  {
   "cell_type": "code",
   "execution_count": 95,
   "metadata": {
    "ExecuteTime": {
     "end_time": "2020-12-06T10:33:53.103869Z",
     "start_time": "2020-12-06T10:33:53.049901Z"
    }
   },
   "outputs": [
    {
     "data": {
      "text/html": [
       "<div>\n",
       "<style scoped>\n",
       "    .dataframe tbody tr th:only-of-type {\n",
       "        vertical-align: middle;\n",
       "    }\n",
       "\n",
       "    .dataframe tbody tr th {\n",
       "        vertical-align: top;\n",
       "    }\n",
       "\n",
       "    .dataframe thead th {\n",
       "        text-align: right;\n",
       "    }\n",
       "</style>\n",
       "<table border=\"1\" class=\"dataframe\">\n",
       "  <thead>\n",
       "    <tr style=\"text-align: right;\">\n",
       "      <th></th>\n",
       "      <th>arrival</th>\n",
       "      <th>馬名</th>\n",
       "      <th>race_id</th>\n",
       "      <th>race_date</th>\n",
       "      <th>first_data_flg</th>\n",
       "      <th>weight_null_flg</th>\n",
       "      <th>last_turf_flg</th>\n",
       "      <th>last_wheter</th>\n",
       "      <th>last_condition</th>\n",
       "      <th>is_first_in_prize</th>\n",
       "      <th>same_cluster_flg</th>\n",
       "      <th>is_same_place</th>\n",
       "      <th>gender_セ</th>\n",
       "      <th>gender_牝</th>\n",
       "      <th>gender_牡</th>\n",
       "      <th>place_なし</th>\n",
       "      <th>place_地</th>\n",
       "      <th>place_外</th>\n",
       "      <th>place_東</th>\n",
       "      <th>place_西</th>\n",
       "      <th>weight</th>\n",
       "      <th>weight_change_rate</th>\n",
       "      <th>handy_rate</th>\n",
       "      <th>handy_weight</th>\n",
       "      <th>age</th>\n",
       "      <th>interval_days</th>\n",
       "      <th>distance_diff</th>\n",
       "      <th>last_speed</th>\n",
       "      <th>last_uphill_speed</th>\n",
       "      <th>last_uphill</th>\n",
       "      <th>last_uphill_samecc</th>\n",
       "      <th>pre_weight_3_mean</th>\n",
       "      <th>got_prize</th>\n",
       "      <th>course_num</th>\n",
       "      <th>last_arrival</th>\n",
       "      <th>p2_arrival</th>\n",
       "      <th>p3_arrival</th>\n",
       "      <th>target</th>\n",
       "    </tr>\n",
       "  </thead>\n",
       "  <tbody>\n",
       "    <tr>\n",
       "      <th>0</th>\n",
       "      <td>9</td>\n",
       "      <td>スリースペシャル</td>\n",
       "      <td>201201010101</td>\n",
       "      <td>2012-07-21</td>\n",
       "      <td>0</td>\n",
       "      <td>0</td>\n",
       "      <td>1</td>\n",
       "      <td>1.0</td>\n",
       "      <td>1.0</td>\n",
       "      <td>0</td>\n",
       "      <td>0</td>\n",
       "      <td>0</td>\n",
       "      <td>0</td>\n",
       "      <td>0</td>\n",
       "      <td>1</td>\n",
       "      <td>0</td>\n",
       "      <td>0</td>\n",
       "      <td>0</td>\n",
       "      <td>0</td>\n",
       "      <td>1</td>\n",
       "      <td>-0.288009</td>\n",
       "      <td>0.0</td>\n",
       "      <td>-0.587379</td>\n",
       "      <td>-2.828427</td>\n",
       "      <td>0.0</td>\n",
       "      <td>-1.392631</td>\n",
       "      <td>-2.695819</td>\n",
       "      <td>2.422728</td>\n",
       "      <td>-1.899604</td>\n",
       "      <td>0.189358</td>\n",
       "      <td>0.279713</td>\n",
       "      <td>0.0</td>\n",
       "      <td>-2.000000</td>\n",
       "      <td>0.000000</td>\n",
       "      <td>1.0</td>\n",
       "      <td>0.0</td>\n",
       "      <td>-2.0</td>\n",
       "      <td>0</td>\n",
       "    </tr>\n",
       "    <tr>\n",
       "      <th>1</th>\n",
       "      <td>1</td>\n",
       "      <td>アウトシャイン</td>\n",
       "      <td>201201010101</td>\n",
       "      <td>2012-07-21</td>\n",
       "      <td>0</td>\n",
       "      <td>0</td>\n",
       "      <td>1</td>\n",
       "      <td>3.0</td>\n",
       "      <td>2.0</td>\n",
       "      <td>0</td>\n",
       "      <td>0</td>\n",
       "      <td>0</td>\n",
       "      <td>0</td>\n",
       "      <td>1</td>\n",
       "      <td>0</td>\n",
       "      <td>0</td>\n",
       "      <td>0</td>\n",
       "      <td>0</td>\n",
       "      <td>0</td>\n",
       "      <td>1</td>\n",
       "      <td>-0.720023</td>\n",
       "      <td>-2.0</td>\n",
       "      <td>0.775686</td>\n",
       "      <td>0.353553</td>\n",
       "      <td>0.0</td>\n",
       "      <td>2.340805</td>\n",
       "      <td>0.215666</td>\n",
       "      <td>-0.857141</td>\n",
       "      <td>1.311880</td>\n",
       "      <td>0.946792</td>\n",
       "      <td>1.013961</td>\n",
       "      <td>-2.0</td>\n",
       "      <td>1.496492</td>\n",
       "      <td>0.777778</td>\n",
       "      <td>0.0</td>\n",
       "      <td>-2.0</td>\n",
       "      <td>-2.0</td>\n",
       "      <td>1</td>\n",
       "    </tr>\n",
       "  </tbody>\n",
       "</table>\n",
       "</div>"
      ],
      "text/plain": [
       "   arrival        馬名       race_id   race_date  first_data_flg  \\\n",
       "0        9  スリースペシャル  201201010101  2012-07-21               0   \n",
       "1        1   アウトシャイン  201201010101  2012-07-21               0   \n",
       "\n",
       "   weight_null_flg  last_turf_flg  last_wheter  last_condition  \\\n",
       "0                0              1          1.0             1.0   \n",
       "1                0              1          3.0             2.0   \n",
       "\n",
       "   is_first_in_prize  same_cluster_flg  is_same_place  gender_セ  gender_牝  \\\n",
       "0                  0                 0              0         0         0   \n",
       "1                  0                 0              0         0         1   \n",
       "\n",
       "   gender_牡  place_なし  place_地  place_外  place_東  place_西    weight  \\\n",
       "0         1         0        0        0        0        1 -0.288009   \n",
       "1         0         0        0        0        0        1 -0.720023   \n",
       "\n",
       "   weight_change_rate  handy_rate  handy_weight  age  interval_days  \\\n",
       "0                 0.0   -0.587379     -2.828427  0.0      -1.392631   \n",
       "1                -2.0    0.775686      0.353553  0.0       2.340805   \n",
       "\n",
       "   distance_diff  last_speed  last_uphill_speed  last_uphill  \\\n",
       "0      -2.695819    2.422728          -1.899604     0.189358   \n",
       "1       0.215666   -0.857141           1.311880     0.946792   \n",
       "\n",
       "   last_uphill_samecc  pre_weight_3_mean  got_prize  course_num  last_arrival  \\\n",
       "0            0.279713                0.0  -2.000000    0.000000           1.0   \n",
       "1            1.013961               -2.0   1.496492    0.777778           0.0   \n",
       "\n",
       "   p2_arrival  p3_arrival  target  \n",
       "0         0.0        -2.0       0  \n",
       "1        -2.0        -2.0       1  "
      ]
     },
     "execution_count": 95,
     "metadata": {},
     "output_type": "execute_result"
    }
   ],
   "source": [
    "df_use.head(2)"
   ]
  },
  {
   "cell_type": "markdown",
   "metadata": {},
   "source": [
    "# モデル"
   ]
  },
  {
   "cell_type": "code",
   "execution_count": 96,
   "metadata": {
    "ExecuteTime": {
     "end_time": "2020-12-06T10:33:53.613060Z",
     "start_time": "2020-12-06T10:33:53.605066Z"
    }
   },
   "outputs": [],
   "source": []
  },
  {
   "cell_type": "raw",
   "metadata": {
    "ExecuteTime": {
     "end_time": "2020-11-28T09:33:00.826074Z",
     "start_time": "2020-11-28T09:33:00.646179Z"
    }
   },
   "source": [
    "df_train, df_test= train_test_split(df_use)\n",
    "\n",
    "print(df_train.shape, df_test.shape)"
   ]
  },
  {
   "cell_type": "code",
   "execution_count": 97,
   "metadata": {
    "ExecuteTime": {
     "end_time": "2020-12-06T10:33:54.239255Z",
     "start_time": "2020-12-06T10:33:54.171290Z"
    }
   },
   "outputs": [
    {
     "data": {
      "text/plain": [
       "arrival               0\n",
       "馬名                    0\n",
       "race_id               0\n",
       "race_date             0\n",
       "first_data_flg        0\n",
       "weight_null_flg       0\n",
       "last_turf_flg         0\n",
       "last_wheter           0\n",
       "last_condition        0\n",
       "is_first_in_prize     0\n",
       "same_cluster_flg      0\n",
       "is_same_place         0\n",
       "gender_セ              0\n",
       "gender_牝              0\n",
       "gender_牡              0\n",
       "place_なし              0\n",
       "place_地               0\n",
       "place_外               0\n",
       "place_東               0\n",
       "place_西               0\n",
       "weight                0\n",
       "weight_change_rate    0\n",
       "handy_rate            0\n",
       "handy_weight          0\n",
       "age                   0\n",
       "interval_days         0\n",
       "distance_diff         0\n",
       "last_speed            0\n",
       "last_uphill_speed     0\n",
       "last_uphill           0\n",
       "last_uphill_samecc    0\n",
       "pre_weight_3_mean     0\n",
       "got_prize             0\n",
       "course_num            0\n",
       "last_arrival          0\n",
       "p2_arrival            0\n",
       "p3_arrival            0\n",
       "target                0\n",
       "dtype: int64"
      ]
     },
     "execution_count": 97,
     "metadata": {},
     "output_type": "execute_result"
    }
   ],
   "source": [
    "df_use.isnull().sum()"
   ]
  },
  {
   "cell_type": "code",
   "execution_count": 98,
   "metadata": {
    "ExecuteTime": {
     "end_time": "2020-12-06T10:33:54.446662Z",
     "start_time": "2020-12-06T10:33:54.402264Z"
    }
   },
   "outputs": [],
   "source": [
    "FILL_VALUE = -2\n",
    "df_use.fillna(FILL_VALUE, inplace=True)"
   ]
  },
  {
   "cell_type": "code",
   "execution_count": null,
   "metadata": {},
   "outputs": [],
   "source": []
  },
  {
   "cell_type": "code",
   "execution_count": 99,
   "metadata": {
    "ExecuteTime": {
     "end_time": "2020-12-06T10:33:54.943977Z",
     "start_time": "2020-12-06T10:33:54.786070Z"
    }
   },
   "outputs": [
    {
     "name": "stdout",
     "output_type": "stream",
     "text": [
      "1046\n",
      "(14938, 38) 1046\n",
      "(133629, 38) 9423\n"
     ]
    }
   ],
   "source": [
    "valid_id = np.random.choice(df_use.race_id.unique(), size=int(df_use.race_id.nunique() * 0.1), replace=False)\n",
    "print(len(valid_id))\n",
    "\n",
    "df_test = df_use.query('race_id in @valid_id')\n",
    "print(df_test.shape, df_test.race_id.nunique())\n",
    "df_train = df_use.query('race_id not in @valid_id')\n",
    "print(df_train.shape, df_train.race_id.nunique())"
   ]
  },
  {
   "cell_type": "code",
   "execution_count": 100,
   "metadata": {
    "ExecuteTime": {
     "end_time": "2020-12-06T10:33:55.022931Z",
     "start_time": "2020-12-06T10:33:55.008944Z"
    }
   },
   "outputs": [
    {
     "data": {
      "text/plain": [
       "Index(['arrival', '馬名', 'race_id', 'race_date', 'first_data_flg',\n",
       "       'weight_null_flg', 'last_turf_flg', 'last_wheter', 'last_condition',\n",
       "       'is_first_in_prize', 'same_cluster_flg', 'is_same_place', 'gender_セ',\n",
       "       'gender_牝', 'gender_牡', 'place_なし', 'place_地', 'place_外', 'place_東',\n",
       "       'place_西', 'weight', 'weight_change_rate', 'handy_rate', 'handy_weight',\n",
       "       'age', 'interval_days', 'distance_diff', 'last_speed',\n",
       "       'last_uphill_speed', 'last_uphill', 'last_uphill_samecc',\n",
       "       'pre_weight_3_mean', 'got_prize', 'course_num', 'last_arrival',\n",
       "       'p2_arrival', 'p3_arrival', 'target'],\n",
       "      dtype='object')"
      ]
     },
     "execution_count": 100,
     "metadata": {},
     "output_type": "execute_result"
    }
   ],
   "source": [
    "df_train.columns"
   ]
  },
  {
   "cell_type": "code",
   "execution_count": 101,
   "metadata": {
    "ExecuteTime": {
     "end_time": "2020-12-06T10:33:55.207166Z",
     "start_time": "2020-12-06T10:33:55.200170Z"
    }
   },
   "outputs": [
    {
     "name": "stdout",
     "output_type": "stream",
     "text": [
      "33\n"
     ]
    }
   ],
   "source": [
    "X_cols = [col for col in df_train.columns if col not in {'arrival', 'target', 'race_id', '馬名', 'race_date'}]\n",
    "print(len(X_cols))"
   ]
  },
  {
   "cell_type": "code",
   "execution_count": 102,
   "metadata": {
    "ExecuteTime": {
     "end_time": "2020-12-06T10:33:55.591346Z",
     "start_time": "2020-12-06T10:33:55.419440Z"
    }
   },
   "outputs": [],
   "source": [
    "target_size = (df_train.target==1).sum()\n",
    "\n",
    "df_train_0 = df_train[df_train.target==0]\n",
    "df_train_use = df_train_0.sample(target_size, random_state=0)\n",
    "df_train_use = pd.concat([df_train_use, df_train[df_train.target==1]])\n",
    "\n",
    "# X_train_use = X_train.loc[y_train_use.index]"
   ]
  },
  {
   "cell_type": "code",
   "execution_count": 103,
   "metadata": {
    "ExecuteTime": {
     "end_time": "2020-12-06T10:33:55.714270Z",
     "start_time": "2020-12-06T10:33:55.646310Z"
    }
   },
   "outputs": [],
   "source": [
    "X_train = df_train_use[X_cols]\n",
    "X_test = df_test[X_cols]\n",
    "y_train = df_train_use['target']\n",
    "y_test = df_test['target']                "
   ]
  },
  {
   "cell_type": "raw",
   "metadata": {
    "ExecuteTime": {
     "end_time": "2020-11-28T09:55:29.954559Z",
     "start_time": "2020-11-28T09:55:29.923556Z"
    }
   },
   "source": [
    "target_size = (y_train==1).sum()\n",
    "\n",
    "y_train_0 = y_train[y_train==0]\n",
    "y_train_use = y_train_0.sample(target_size, random_state=0)\n",
    "y_train_use = pd.concat([y_train_use, y_train[y_train==1]])\n",
    "\n",
    "# X_train_use = X_train.loc[y_train_use.index]"
   ]
  },
  {
   "cell_type": "code",
   "execution_count": 104,
   "metadata": {
    "ExecuteTime": {
     "end_time": "2020-12-06T10:33:56.346940Z",
     "start_time": "2020-12-06T10:33:56.186030Z"
    }
   },
   "outputs": [
    {
     "data": {
      "text/html": [
       "<div>\n",
       "<style scoped>\n",
       "    .dataframe tbody tr th:only-of-type {\n",
       "        vertical-align: middle;\n",
       "    }\n",
       "\n",
       "    .dataframe tbody tr th {\n",
       "        vertical-align: top;\n",
       "    }\n",
       "\n",
       "    .dataframe thead th {\n",
       "        text-align: right;\n",
       "    }\n",
       "</style>\n",
       "<table border=\"1\" class=\"dataframe\">\n",
       "  <thead>\n",
       "    <tr style=\"text-align: right;\">\n",
       "      <th>target</th>\n",
       "      <th>0</th>\n",
       "      <th>1</th>\n",
       "      <th>All</th>\n",
       "    </tr>\n",
       "    <tr>\n",
       "      <th>種類</th>\n",
       "      <th></th>\n",
       "      <th></th>\n",
       "      <th></th>\n",
       "    </tr>\n",
       "  </thead>\n",
       "  <tbody>\n",
       "    <tr>\n",
       "      <th>test</th>\n",
       "      <td>11797</td>\n",
       "      <td>3141</td>\n",
       "      <td>14938</td>\n",
       "    </tr>\n",
       "    <tr>\n",
       "      <th>train</th>\n",
       "      <td>28307</td>\n",
       "      <td>28307</td>\n",
       "      <td>56614</td>\n",
       "    </tr>\n",
       "    <tr>\n",
       "      <th>All</th>\n",
       "      <td>40104</td>\n",
       "      <td>31448</td>\n",
       "      <td>71552</td>\n",
       "    </tr>\n",
       "  </tbody>\n",
       "</table>\n",
       "</div>"
      ],
      "text/plain": [
       "target      0      1    All\n",
       "種類                         \n",
       "test    11797   3141  14938\n",
       "train   28307  28307  56614\n",
       "All     40104  31448  71552"
      ]
     },
     "execution_count": 104,
     "metadata": {},
     "output_type": "execute_result"
    }
   ],
   "source": [
    "tmp = y_train.to_frame()\n",
    "tmp['種類'] = 'train'\n",
    "tmp2 = y_test.to_frame()\n",
    "tmp2['種類'] = 'test'\n",
    "tmp3 = pd.concat([tmp, tmp2])\n",
    "df_sampling = pd.crosstab(tmp3.種類, tmp3.target, margins=True)\n",
    "df_sampling"
   ]
  },
  {
   "cell_type": "code",
   "execution_count": 105,
   "metadata": {
    "ExecuteTime": {
     "end_time": "2020-12-06T10:33:56.816668Z",
     "start_time": "2020-12-06T10:33:56.805677Z"
    }
   },
   "outputs": [
    {
     "data": {
      "text/plain": [
       "0.210269112330968"
      ]
     },
     "execution_count": 105,
     "metadata": {},
     "output_type": "execute_result"
    }
   ],
   "source": [
    "s_rate = y_test.sum() / len(y_test)\n",
    "# s_rate = (y_test==1).sum() / y_test.shape[0]\n",
    "s_rate"
   ]
  },
  {
   "cell_type": "code",
   "execution_count": 106,
   "metadata": {
    "ExecuteTime": {
     "end_time": "2020-12-06T10:33:57.252120Z",
     "start_time": "2020-12-06T10:33:57.233003Z"
    },
    "scrolled": true
   },
   "outputs": [
    {
     "data": {
      "text/plain": [
       "0.17373748548039164"
      ]
     },
     "execution_count": 106,
     "metadata": {},
     "output_type": "execute_result"
    }
   ],
   "source": [
    "p = 0.5\n",
    "p / (p + (1 - p) / s_rate)"
   ]
  },
  {
   "cell_type": "code",
   "execution_count": 107,
   "metadata": {
    "ExecuteTime": {
     "end_time": "2020-12-06T10:33:57.676886Z",
     "start_time": "2020-12-06T10:33:57.664893Z"
    }
   },
   "outputs": [
    {
     "data": {
      "text/plain": [
       "0.8262625145196084"
      ]
     },
     "execution_count": 107,
     "metadata": {},
     "output_type": "execute_result"
    }
   ],
   "source": [
    "p / (p  +(s_rate * (1 - p)))"
   ]
  },
  {
   "cell_type": "code",
   "execution_count": 109,
   "metadata": {
    "ExecuteTime": {
     "end_time": "2020-12-06T10:33:58.590122Z",
     "start_time": "2020-12-06T10:33:58.275153Z"
    }
   },
   "outputs": [],
   "source": [
    "dtrain = xgb.DMatrix(X_train, label=y_train)\n",
    "dvalid = xgb.DMatrix(X_test, label=y_test)\n",
    "dtest = xgb.DMatrix(X_test)"
   ]
  },
  {
   "cell_type": "code",
   "execution_count": 122,
   "metadata": {
    "ExecuteTime": {
     "end_time": "2020-12-06T10:35:12.487187Z",
     "start_time": "2020-12-06T10:35:12.483189Z"
    }
   },
   "outputs": [],
   "source": [
    "params = {\n",
    "        'objective': 'binary:logistic',\n",
    "        'silent':0, \n",
    "        'gamma':10,\n",
    "        'random_state':0, \n",
    "        # 学習用の指標 (RMSE)\n",
    "        'eval_metric': 'logloss',\n",
    "    }\n",
    "num_round = 200\n",
    "watchlist = [(dtrain, 'train'), (dvalid, 'eval')]"
   ]
  },
  {
   "cell_type": "code",
   "execution_count": 123,
   "metadata": {
    "ExecuteTime": {
     "end_time": "2020-12-06T10:35:32.237312Z",
     "start_time": "2020-12-06T10:35:12.736588Z"
    },
    "scrolled": true
   },
   "outputs": [
    {
     "name": "stdout",
     "output_type": "stream",
     "text": [
      "[19:35:12] WARNING: C:\\Users\\Administrator\\workspace\\xgboost-win64_release_1.2.0\\src\\learner.cc:516: \n",
      "Parameters: { silent } might not be used.\n",
      "\n",
      "  This may not be accurate due to some parameters are only used in language bindings but\n",
      "  passed down to XGBoost core.  Or some parameters are not used but slip through this\n",
      "  verification. Please open an issue if you find above cases.\n",
      "\n",
      "\n"
     ]
    }
   ],
   "source": [
    "model = xgb.train(params,\n",
    "                    dtrain,#訓練データ\n",
    "                    num_round,#設定した学習回数\n",
    "#                     early_stopping_rounds=20,\n",
    "#                     evals=watchlist,\n",
    "                    )"
   ]
  },
  {
   "cell_type": "code",
   "execution_count": 157,
   "metadata": {
    "ExecuteTime": {
     "end_time": "2020-12-06T15:44:12.310553Z",
     "start_time": "2020-12-06T15:44:12.198718Z"
    }
   },
   "outputs": [
    {
     "name": "stdout",
     "output_type": "stream",
     "text": [
      "0.7400988687517267\n"
     ]
    }
   ],
   "source": [
    "y_pred_prob = model.predict(dtest)\n",
    "y_pred = np.where(y_pred_prob < 0.5, 0, 1)\n",
    "prob2 = y_pred_prob / (y_pred_prob + (1 - y_pred_prob) / s_rate)\n",
    "\n",
    "print(roc_auc_score(y_test, y_pred_prob))"
   ]
  },
  {
   "cell_type": "code",
   "execution_count": null,
   "metadata": {},
   "outputs": [],
   "source": []
  },
  {
   "cell_type": "code",
   "execution_count": 158,
   "metadata": {
    "ExecuteTime": {
     "end_time": "2020-12-06T15:44:13.782840Z",
     "start_time": "2020-12-06T15:44:13.632238Z"
    }
   },
   "outputs": [],
   "source": [
    "pickle.dump(model,open(log_path/'model.pickle', 'wb'))\n",
    "model.trees_to_dataframe().to_csv(log_path/'model_trees.csv', encoding='utf-8-sig', index=False)"
   ]
  },
  {
   "cell_type": "code",
   "execution_count": 159,
   "metadata": {
    "ExecuteTime": {
     "end_time": "2020-12-06T15:44:15.500283Z",
     "start_time": "2020-12-06T15:44:14.383061Z"
    },
    "scrolled": true
   },
   "outputs": [
    {
     "data": {
      "image/png": "[encoded data removed]",
      "text/plain": [
       "<Figure size 600x400 with 1 Axes>"
      ]
     },
     "metadata": {
      "needs_background": "light"
     },
     "output_type": "display_data"
    }
   ],
   "source": [
    "xgb.plot_importance(\n",
    "    model,\n",
    "#     cls_rdn.best_estimator_,\n",
    "    importance_type='gain',\n",
    "    show_values=False,\n",
    "    max_num_features=40\n",
    ")\n",
    "plt.savefig(log_path/'image/feature_importance.png', pad_inches=.05, bbox_inches='tight')"
   ]
  },
  {
   "cell_type": "code",
   "execution_count": 160,
   "metadata": {
    "ExecuteTime": {
     "end_time": "2020-12-06T15:44:16.161162Z",
     "start_time": "2020-12-06T15:44:15.500283Z"
    },
    "scrolled": true
   },
   "outputs": [],
   "source": [
    "df_score = pd.DataFrame(columns=['acc', 'rec', 'prec', 'f1'])\n",
    "for th in np.arange(0, 1, 0.05):\n",
    "    th = round(th, 2)\n",
    "    tmp = np.where(prob2 < th, 0, 1)\n",
    "    acc = accuracy_score(y_test, tmp)\n",
    "    rec = recall_score(y_test, tmp)\n",
    "    prec = precision_score(y_test, tmp)\n",
    "    f1 = f1_score(y_test, tmp)\n",
    "    df_score.loc[th] = [acc, rec, prec, f1]\n",
    "df_score.index.name = 'thresh'\n",
    "\n",
    "df_score.to_csv(log_path/'score.csv', encoding='utf-8-sig')"
   ]
  },
  {
   "cell_type": "code",
   "execution_count": 161,
   "metadata": {
    "ExecuteTime": {
     "end_time": "2020-12-06T15:44:17.003576Z",
     "start_time": "2020-12-06T15:44:16.161162Z"
    },
    "scrolled": false
   },
   "outputs": [
    {
     "data": {
      "image/png": "[encoded data removed]",
      "text/plain": [
       "<Figure size 600x400 with 1 Axes>"
      ]
     },
     "metadata": {
      "needs_background": "light"
     },
     "output_type": "display_data"
    }
   ],
   "source": [
    "df_score.plot()\n",
    "plt.legend(bbox_to_anchor=(1, 1))\n",
    "plt.ylabel('score')\n",
    "plt.savefig(log_path/'image/score_by_th.png', pad_inches=.05, bbox_inches='tight')"
   ]
  },
  {
   "cell_type": "code",
   "execution_count": 162,
   "metadata": {
    "ExecuteTime": {
     "end_time": "2020-12-06T15:44:17.603709Z",
     "start_time": "2020-12-06T15:44:17.014094Z"
    }
   },
   "outputs": [
    {
     "data": {
      "image/png": "[encoded data removed]",
      "text/plain": [
       "<Figure size 600x400 with 2 Axes>"
      ]
     },
     "metadata": {
      "needs_background": "light"
     },
     "output_type": "display_data"
    }
   ],
   "source": [
    "prob_true, prob_pred = calibration_curve(y_true=y_test, y_prob=y_pred_prob, n_bins=20)\n",
    "\n",
    "fig, ax1 = plt.subplots()\n",
    "ax1.plot(prob_pred, prob_true, marker='s', label='calibration plot', color='skyblue')\n",
    "ax1.plot([0, 1], [0, 1], linestyle='--', label='ideal', color='limegreen')\n",
    "ax1.legend(bbox_to_anchor=(1.12, 1), loc='upper left')\n",
    "ax2 = ax1.twinx()\n",
    "ax2.hist(y_pred_prob, bins=20, histtype='step', color='orangered')\n",
    "ax1.set_ylabel('accuracy')\n",
    "ax1.set_xlabel('score')\n",
    "ax2.set_ylabel('frequency')\n",
    "# fig.savefig(log_path/'image/calibration_plot.png', bbox_inches='tight', pad_inche=.05)\n",
    "plt.show()"
   ]
  },
  {
   "cell_type": "code",
   "execution_count": 163,
   "metadata": {
    "ExecuteTime": {
     "end_time": "2020-12-06T15:44:18.506938Z",
     "start_time": "2020-12-06T15:44:17.603709Z"
    }
   },
   "outputs": [
    {
     "data": {
      "image/png": "[encoded data removed]",
      "text/plain": [
       "<Figure size 600x400 with 2 Axes>"
      ]
     },
     "metadata": {
      "needs_background": "light"
     },
     "output_type": "display_data"
    }
   ],
   "source": [
    "prob_true, prob_pred = calibration_curve(y_true=y_test, y_prob=prob2, n_bins=20)\n",
    "\n",
    "fig, ax1 = plt.subplots()\n",
    "ax1.plot(prob_pred, prob_true, marker='s', label='calibration plot', color='skyblue')\n",
    "ax1.plot([0, 1], [0, 1], linestyle='--', label='ideal', color='limegreen')\n",
    "ax1.legend(bbox_to_anchor=(1.12, 1), loc='upper left')\n",
    "ax2 = ax1.twinx()\n",
    "ax2.hist(prob2, bins=20, histtype='step', color='orangered')\n",
    "ax1.set_ylabel('accuracy')\n",
    "ax1.set_xlabel('score')\n",
    "ax2.set_ylabel('frequency')\n",
    "fig.savefig(log_path/'image/calibration_plot.png', bbox_inches='tight', pad_inche=.05)\n",
    "plt.show()"
   ]
  },
  {
   "cell_type": "code",
   "execution_count": 164,
   "metadata": {
    "ExecuteTime": {
     "end_time": "2020-12-06T15:44:19.188593Z",
     "start_time": "2020-12-06T15:44:18.506938Z"
    },
    "scrolled": true
   },
   "outputs": [
    {
     "data": {
      "image/png": "[encoded data removed]",
      "text/plain": [
       "<Figure size 600x400 with 1 Axes>"
      ]
     },
     "metadata": {
      "needs_background": "light"
     },
     "output_type": "display_data"
    }
   ],
   "source": [
    "fpr_all, tpr_all, thresholds_all = roc_curve(y_test, y_pred_prob, drop_intermediate=False)\n",
    "fig, ax = plt.subplots()\n",
    "ax.plot(fpr_all, tpr_all, marker='o', markersize=.01)\n",
    "ax.plot([0,1],[0,1], color='red', linewidth=.5)\n",
    "ax.set_xlabel('FPR: False positive rate')\n",
    "ax.set_ylabel('TPR: True positive rate')\n",
    "ax.grid()\n",
    "fig.savefig(log_path/'image/roc_plot.png', bbox_inches='tight', pad_inche=.05)"
   ]
  },
  {
   "cell_type": "code",
   "execution_count": 165,
   "metadata": {
    "ExecuteTime": {
     "end_time": "2020-12-06T15:44:19.208793Z",
     "start_time": "2020-12-06T15:44:19.188593Z"
    },
    "scrolled": true
   },
   "outputs": [
    {
     "data": {
      "text/plain": [
       "0.7400988687517267"
      ]
     },
     "execution_count": 165,
     "metadata": {},
     "output_type": "execute_result"
    }
   ],
   "source": [
    "roc_auc_score(y_test, y_pred_prob)"
   ]
  },
  {
   "cell_type": "code",
   "execution_count": 166,
   "metadata": {
    "ExecuteTime": {
     "end_time": "2020-12-06T15:44:19.217833Z",
     "start_time": "2020-12-06T15:44:19.208793Z"
    }
   },
   "outputs": [
    {
     "data": {
      "text/plain": [
       "'202012061919'"
      ]
     },
     "execution_count": 166,
     "metadata": {},
     "output_type": "execute_result"
    }
   ],
   "source": [
    "dt_now"
   ]
  },
  {
   "cell_type": "code",
   "execution_count": 167,
   "metadata": {
    "ExecuteTime": {
     "end_time": "2020-12-06T15:44:19.329711Z",
     "start_time": "2020-12-06T15:44:19.217833Z"
    },
    "scrolled": true
   },
   "outputs": [
    {
     "data": {
      "text/html": [
       "<div>\n",
       "<style scoped>\n",
       "    .dataframe tbody tr th:only-of-type {\n",
       "        vertical-align: middle;\n",
       "    }\n",
       "\n",
       "    .dataframe tbody tr th {\n",
       "        vertical-align: top;\n",
       "    }\n",
       "\n",
       "    .dataframe thead th {\n",
       "        text-align: right;\n",
       "    }\n",
       "</style>\n",
       "<table border=\"1\" class=\"dataframe\">\n",
       "  <thead>\n",
       "    <tr style=\"text-align: right;\">\n",
       "      <th></th>\n",
       "      <th>arrival</th>\n",
       "      <th>馬名</th>\n",
       "      <th>race_id</th>\n",
       "      <th>race_date</th>\n",
       "      <th>first_data_flg</th>\n",
       "      <th>weight_null_flg</th>\n",
       "      <th>last_turf_flg</th>\n",
       "      <th>last_wheter</th>\n",
       "      <th>last_condition</th>\n",
       "      <th>is_first_in_prize</th>\n",
       "      <th>same_cluster_flg</th>\n",
       "      <th>is_same_place</th>\n",
       "      <th>gender_セ</th>\n",
       "      <th>gender_牝</th>\n",
       "      <th>gender_牡</th>\n",
       "      <th>place_なし</th>\n",
       "      <th>place_地</th>\n",
       "      <th>place_外</th>\n",
       "      <th>place_東</th>\n",
       "      <th>place_西</th>\n",
       "      <th>weight</th>\n",
       "      <th>weight_change_rate</th>\n",
       "      <th>handy_rate</th>\n",
       "      <th>handy_weight</th>\n",
       "      <th>age</th>\n",
       "      <th>interval_days</th>\n",
       "      <th>distance_diff</th>\n",
       "      <th>last_speed</th>\n",
       "      <th>last_uphill_speed</th>\n",
       "      <th>last_uphill</th>\n",
       "      <th>last_uphill_samecc</th>\n",
       "      <th>pre_weight_3_mean</th>\n",
       "      <th>got_prize</th>\n",
       "      <th>course_num</th>\n",
       "      <th>last_arrival</th>\n",
       "      <th>p2_arrival</th>\n",
       "      <th>p3_arrival</th>\n",
       "      <th>target</th>\n",
       "    </tr>\n",
       "  </thead>\n",
       "  <tbody>\n",
       "    <tr>\n",
       "      <th>0</th>\n",
       "      <td>9</td>\n",
       "      <td>スリースペシャル</td>\n",
       "      <td>201201010101</td>\n",
       "      <td>2012-07-21</td>\n",
       "      <td>0</td>\n",
       "      <td>0</td>\n",
       "      <td>1</td>\n",
       "      <td>1.0</td>\n",
       "      <td>1.0</td>\n",
       "      <td>0</td>\n",
       "      <td>0</td>\n",
       "      <td>0</td>\n",
       "      <td>0</td>\n",
       "      <td>0</td>\n",
       "      <td>1</td>\n",
       "      <td>0</td>\n",
       "      <td>0</td>\n",
       "      <td>0</td>\n",
       "      <td>0</td>\n",
       "      <td>1</td>\n",
       "      <td>-0.288009</td>\n",
       "      <td>0.000000</td>\n",
       "      <td>-0.587379</td>\n",
       "      <td>-2.828427</td>\n",
       "      <td>0.000000</td>\n",
       "      <td>-1.392631</td>\n",
       "      <td>-2.695819</td>\n",
       "      <td>2.422728</td>\n",
       "      <td>-1.899604</td>\n",
       "      <td>0.189358</td>\n",
       "      <td>0.279713</td>\n",
       "      <td>0.000000</td>\n",
       "      <td>-2.000000</td>\n",
       "      <td>0.000000</td>\n",
       "      <td>1.000000</td>\n",
       "      <td>0.000000</td>\n",
       "      <td>-2.000</td>\n",
       "      <td>0</td>\n",
       "    </tr>\n",
       "    <tr>\n",
       "      <th>1</th>\n",
       "      <td>1</td>\n",
       "      <td>アウトシャイン</td>\n",
       "      <td>201201010101</td>\n",
       "      <td>2012-07-21</td>\n",
       "      <td>0</td>\n",
       "      <td>0</td>\n",
       "      <td>1</td>\n",
       "      <td>3.0</td>\n",
       "      <td>2.0</td>\n",
       "      <td>0</td>\n",
       "      <td>0</td>\n",
       "      <td>0</td>\n",
       "      <td>0</td>\n",
       "      <td>1</td>\n",
       "      <td>0</td>\n",
       "      <td>0</td>\n",
       "      <td>0</td>\n",
       "      <td>0</td>\n",
       "      <td>0</td>\n",
       "      <td>1</td>\n",
       "      <td>-0.720023</td>\n",
       "      <td>-2.000000</td>\n",
       "      <td>0.775686</td>\n",
       "      <td>0.353553</td>\n",
       "      <td>0.000000</td>\n",
       "      <td>2.340805</td>\n",
       "      <td>0.215666</td>\n",
       "      <td>-0.857141</td>\n",
       "      <td>1.311880</td>\n",
       "      <td>0.946792</td>\n",
       "      <td>1.013961</td>\n",
       "      <td>-2.000000</td>\n",
       "      <td>1.496492</td>\n",
       "      <td>0.777778</td>\n",
       "      <td>0.000000</td>\n",
       "      <td>-2.000000</td>\n",
       "      <td>-2.000</td>\n",
       "      <td>1</td>\n",
       "    </tr>\n",
       "    <tr>\n",
       "      <th>2</th>\n",
       "      <td>6</td>\n",
       "      <td>コスモソーク</td>\n",
       "      <td>201201010101</td>\n",
       "      <td>2012-07-21</td>\n",
       "      <td>0</td>\n",
       "      <td>0</td>\n",
       "      <td>1</td>\n",
       "      <td>1.0</td>\n",
       "      <td>1.0</td>\n",
       "      <td>0</td>\n",
       "      <td>0</td>\n",
       "      <td>1</td>\n",
       "      <td>0</td>\n",
       "      <td>0</td>\n",
       "      <td>1</td>\n",
       "      <td>0</td>\n",
       "      <td>0</td>\n",
       "      <td>0</td>\n",
       "      <td>1</td>\n",
       "      <td>0</td>\n",
       "      <td>1.656053</td>\n",
       "      <td>-2.000000</td>\n",
       "      <td>-1.423689</td>\n",
       "      <td>0.353553</td>\n",
       "      <td>0.000000</td>\n",
       "      <td>0.340750</td>\n",
       "      <td>0.215666</td>\n",
       "      <td>-0.410520</td>\n",
       "      <td>0.148863</td>\n",
       "      <td>-0.315597</td>\n",
       "      <td>-0.209785</td>\n",
       "      <td>-2.000000</td>\n",
       "      <td>0.299298</td>\n",
       "      <td>0.222222</td>\n",
       "      <td>0.125000</td>\n",
       "      <td>-2.000000</td>\n",
       "      <td>-2.000</td>\n",
       "      <td>0</td>\n",
       "    </tr>\n",
       "    <tr>\n",
       "      <th>3</th>\n",
       "      <td>4</td>\n",
       "      <td>ユキカゼ</td>\n",
       "      <td>201201010101</td>\n",
       "      <td>2012-07-21</td>\n",
       "      <td>0</td>\n",
       "      <td>0</td>\n",
       "      <td>1</td>\n",
       "      <td>1.0</td>\n",
       "      <td>1.0</td>\n",
       "      <td>0</td>\n",
       "      <td>0</td>\n",
       "      <td>0</td>\n",
       "      <td>0</td>\n",
       "      <td>0</td>\n",
       "      <td>1</td>\n",
       "      <td>0</td>\n",
       "      <td>0</td>\n",
       "      <td>0</td>\n",
       "      <td>0</td>\n",
       "      <td>1</td>\n",
       "      <td>1.152037</td>\n",
       "      <td>-2.000000</td>\n",
       "      <td>-1.006264</td>\n",
       "      <td>0.353553</td>\n",
       "      <td>0.000000</td>\n",
       "      <td>0.340750</td>\n",
       "      <td>0.215666</td>\n",
       "      <td>-0.320337</td>\n",
       "      <td>0.071102</td>\n",
       "      <td>-0.315597</td>\n",
       "      <td>-0.209785</td>\n",
       "      <td>-2.000000</td>\n",
       "      <td>-1.068923</td>\n",
       "      <td>0.666667</td>\n",
       "      <td>0.375000</td>\n",
       "      <td>-2.000000</td>\n",
       "      <td>-2.000</td>\n",
       "      <td>0</td>\n",
       "    </tr>\n",
       "    <tr>\n",
       "      <th>4</th>\n",
       "      <td>2</td>\n",
       "      <td>マイネルブルズアイ</td>\n",
       "      <td>201201010101</td>\n",
       "      <td>2012-07-21</td>\n",
       "      <td>0</td>\n",
       "      <td>0</td>\n",
       "      <td>0</td>\n",
       "      <td>-2.0</td>\n",
       "      <td>-2.0</td>\n",
       "      <td>1</td>\n",
       "      <td>0</td>\n",
       "      <td>1</td>\n",
       "      <td>0</td>\n",
       "      <td>0</td>\n",
       "      <td>1</td>\n",
       "      <td>0</td>\n",
       "      <td>0</td>\n",
       "      <td>0</td>\n",
       "      <td>1</td>\n",
       "      <td>0</td>\n",
       "      <td>-0.360012</td>\n",
       "      <td>-2.000000</td>\n",
       "      <td>0.401161</td>\n",
       "      <td>0.353553</td>\n",
       "      <td>0.000000</td>\n",
       "      <td>-0.459272</td>\n",
       "      <td>1.186161</td>\n",
       "      <td>-2.000000</td>\n",
       "      <td>-2.000000</td>\n",
       "      <td>-2.000000</td>\n",
       "      <td>-2.000000</td>\n",
       "      <td>-2.000000</td>\n",
       "      <td>-2.000000</td>\n",
       "      <td>1.000000</td>\n",
       "      <td>-2.000000</td>\n",
       "      <td>-2.000000</td>\n",
       "      <td>-2.000</td>\n",
       "      <td>1</td>\n",
       "    </tr>\n",
       "    <tr>\n",
       "      <th>...</th>\n",
       "      <td>...</td>\n",
       "      <td>...</td>\n",
       "      <td>...</td>\n",
       "      <td>...</td>\n",
       "      <td>...</td>\n",
       "      <td>...</td>\n",
       "      <td>...</td>\n",
       "      <td>...</td>\n",
       "      <td>...</td>\n",
       "      <td>...</td>\n",
       "      <td>...</td>\n",
       "      <td>...</td>\n",
       "      <td>...</td>\n",
       "      <td>...</td>\n",
       "      <td>...</td>\n",
       "      <td>...</td>\n",
       "      <td>...</td>\n",
       "      <td>...</td>\n",
       "      <td>...</td>\n",
       "      <td>...</td>\n",
       "      <td>...</td>\n",
       "      <td>...</td>\n",
       "      <td>...</td>\n",
       "      <td>...</td>\n",
       "      <td>...</td>\n",
       "      <td>...</td>\n",
       "      <td>...</td>\n",
       "      <td>...</td>\n",
       "      <td>...</td>\n",
       "      <td>...</td>\n",
       "      <td>...</td>\n",
       "      <td>...</td>\n",
       "      <td>...</td>\n",
       "      <td>...</td>\n",
       "      <td>...</td>\n",
       "      <td>...</td>\n",
       "      <td>...</td>\n",
       "      <td>...</td>\n",
       "    </tr>\n",
       "    <tr>\n",
       "      <th>148562</th>\n",
       "      <td>16</td>\n",
       "      <td>ダイシンステルラ</td>\n",
       "      <td>201910021212</td>\n",
       "      <td>2019-09-01</td>\n",
       "      <td>0</td>\n",
       "      <td>0</td>\n",
       "      <td>0</td>\n",
       "      <td>1.0</td>\n",
       "      <td>1.0</td>\n",
       "      <td>0</td>\n",
       "      <td>0</td>\n",
       "      <td>1</td>\n",
       "      <td>0</td>\n",
       "      <td>1</td>\n",
       "      <td>0</td>\n",
       "      <td>0</td>\n",
       "      <td>0</td>\n",
       "      <td>0</td>\n",
       "      <td>0</td>\n",
       "      <td>1</td>\n",
       "      <td>-1.284832</td>\n",
       "      <td>0.718404</td>\n",
       "      <td>1.164040</td>\n",
       "      <td>0.238283</td>\n",
       "      <td>0.301511</td>\n",
       "      <td>-0.137629</td>\n",
       "      <td>1.025320</td>\n",
       "      <td>-1.612326</td>\n",
       "      <td>0.585796</td>\n",
       "      <td>-0.213449</td>\n",
       "      <td>-1.196459</td>\n",
       "      <td>-1.729250</td>\n",
       "      <td>-2.000000</td>\n",
       "      <td>0.200000</td>\n",
       "      <td>1.000000</td>\n",
       "      <td>0.307692</td>\n",
       "      <td>1.000</td>\n",
       "      <td>0</td>\n",
       "    </tr>\n",
       "    <tr>\n",
       "      <th>148563</th>\n",
       "      <td>11</td>\n",
       "      <td>マセラシオン</td>\n",
       "      <td>201910021212</td>\n",
       "      <td>2019-09-01</td>\n",
       "      <td>0</td>\n",
       "      <td>0</td>\n",
       "      <td>1</td>\n",
       "      <td>1.0</td>\n",
       "      <td>1.0</td>\n",
       "      <td>0</td>\n",
       "      <td>0</td>\n",
       "      <td>1</td>\n",
       "      <td>0</td>\n",
       "      <td>1</td>\n",
       "      <td>0</td>\n",
       "      <td>0</td>\n",
       "      <td>0</td>\n",
       "      <td>0</td>\n",
       "      <td>0</td>\n",
       "      <td>1</td>\n",
       "      <td>-1.482499</td>\n",
       "      <td>-1.193582</td>\n",
       "      <td>1.337010</td>\n",
       "      <td>0.238283</td>\n",
       "      <td>0.301511</td>\n",
       "      <td>-0.760433</td>\n",
       "      <td>0.225070</td>\n",
       "      <td>-0.630987</td>\n",
       "      <td>-0.684380</td>\n",
       "      <td>-0.849255</td>\n",
       "      <td>-0.531048</td>\n",
       "      <td>-1.305956</td>\n",
       "      <td>-2.000000</td>\n",
       "      <td>1.000000</td>\n",
       "      <td>0.538462</td>\n",
       "      <td>0.307692</td>\n",
       "      <td>0.625</td>\n",
       "      <td>0</td>\n",
       "    </tr>\n",
       "    <tr>\n",
       "      <th>148564</th>\n",
       "      <td>4</td>\n",
       "      <td>オーラロード</td>\n",
       "      <td>201910021212</td>\n",
       "      <td>2019-09-01</td>\n",
       "      <td>0</td>\n",
       "      <td>0</td>\n",
       "      <td>1</td>\n",
       "      <td>2.0</td>\n",
       "      <td>3.0</td>\n",
       "      <td>0</td>\n",
       "      <td>0</td>\n",
       "      <td>1</td>\n",
       "      <td>1</td>\n",
       "      <td>0</td>\n",
       "      <td>0</td>\n",
       "      <td>0</td>\n",
       "      <td>0</td>\n",
       "      <td>0</td>\n",
       "      <td>0</td>\n",
       "      <td>1</td>\n",
       "      <td>-0.494166</td>\n",
       "      <td>-0.525920</td>\n",
       "      <td>1.179090</td>\n",
       "      <td>1.327575</td>\n",
       "      <td>0.301511</td>\n",
       "      <td>-0.604732</td>\n",
       "      <td>-0.575180</td>\n",
       "      <td>1.401660</td>\n",
       "      <td>2.269097</td>\n",
       "      <td>2.584096</td>\n",
       "      <td>-1.196459</td>\n",
       "      <td>-0.382407</td>\n",
       "      <td>-2.000000</td>\n",
       "      <td>0.533333</td>\n",
       "      <td>0.769231</td>\n",
       "      <td>0.461538</td>\n",
       "      <td>-2.000</td>\n",
       "      <td>0</td>\n",
       "    </tr>\n",
       "    <tr>\n",
       "      <th>148565</th>\n",
       "      <td>8</td>\n",
       "      <td>シゲルヒカルダイヤ</td>\n",
       "      <td>201910021212</td>\n",
       "      <td>2019-09-01</td>\n",
       "      <td>0</td>\n",
       "      <td>0</td>\n",
       "      <td>0</td>\n",
       "      <td>-2.0</td>\n",
       "      <td>-2.0</td>\n",
       "      <td>1</td>\n",
       "      <td>0</td>\n",
       "      <td>1</td>\n",
       "      <td>0</td>\n",
       "      <td>0</td>\n",
       "      <td>1</td>\n",
       "      <td>0</td>\n",
       "      <td>0</td>\n",
       "      <td>0</td>\n",
       "      <td>0</td>\n",
       "      <td>1</td>\n",
       "      <td>2.174331</td>\n",
       "      <td>2.374541</td>\n",
       "      <td>-2.645977</td>\n",
       "      <td>-1.940303</td>\n",
       "      <td>-0.904534</td>\n",
       "      <td>0.785457</td>\n",
       "      <td>1.025320</td>\n",
       "      <td>-2.000000</td>\n",
       "      <td>-2.000000</td>\n",
       "      <td>-2.000000</td>\n",
       "      <td>-2.000000</td>\n",
       "      <td>1.618616</td>\n",
       "      <td>-2.000000</td>\n",
       "      <td>0.600000</td>\n",
       "      <td>-2.000000</td>\n",
       "      <td>-2.000000</td>\n",
       "      <td>-2.000</td>\n",
       "      <td>0</td>\n",
       "    </tr>\n",
       "    <tr>\n",
       "      <th>148566</th>\n",
       "      <td>10</td>\n",
       "      <td>レッドエンヴィー</td>\n",
       "      <td>201910021212</td>\n",
       "      <td>2019-09-01</td>\n",
       "      <td>0</td>\n",
       "      <td>0</td>\n",
       "      <td>1</td>\n",
       "      <td>2.0</td>\n",
       "      <td>1.0</td>\n",
       "      <td>0</td>\n",
       "      <td>0</td>\n",
       "      <td>1</td>\n",
       "      <td>0</td>\n",
       "      <td>0</td>\n",
       "      <td>1</td>\n",
       "      <td>0</td>\n",
       "      <td>0</td>\n",
       "      <td>0</td>\n",
       "      <td>0</td>\n",
       "      <td>1</td>\n",
       "      <td>0.494166</td>\n",
       "      <td>0.518752</td>\n",
       "      <td>-0.589242</td>\n",
       "      <td>-0.306364</td>\n",
       "      <td>-0.904534</td>\n",
       "      <td>-0.682583</td>\n",
       "      <td>0.225070</td>\n",
       "      <td>-1.029546</td>\n",
       "      <td>-0.635895</td>\n",
       "      <td>-0.976416</td>\n",
       "      <td>-0.697401</td>\n",
       "      <td>0.387217</td>\n",
       "      <td>-0.628082</td>\n",
       "      <td>0.333333</td>\n",
       "      <td>0.307692</td>\n",
       "      <td>-2.000000</td>\n",
       "      <td>-2.000</td>\n",
       "      <td>0</td>\n",
       "    </tr>\n",
       "  </tbody>\n",
       "</table>\n",
       "<p>133629 rows × 38 columns</p>\n",
       "</div>"
      ],
      "text/plain": [
       "        arrival         馬名       race_id   race_date  first_data_flg  \\\n",
       "0             9   スリースペシャル  201201010101  2012-07-21               0   \n",
       "1             1    アウトシャイン  201201010101  2012-07-21               0   \n",
       "2             6     コスモソーク  201201010101  2012-07-21               0   \n",
       "3             4       ユキカゼ  201201010101  2012-07-21               0   \n",
       "4             2  マイネルブルズアイ  201201010101  2012-07-21               0   \n",
       "...         ...        ...           ...         ...             ...   \n",
       "148562       16   ダイシンステルラ  201910021212  2019-09-01               0   \n",
       "148563       11     マセラシオン  201910021212  2019-09-01               0   \n",
       "148564        4     オーラロード  201910021212  2019-09-01               0   \n",
       "148565        8  シゲルヒカルダイヤ  201910021212  2019-09-01               0   \n",
       "148566       10   レッドエンヴィー  201910021212  2019-09-01               0   \n",
       "\n",
       "        weight_null_flg  last_turf_flg  last_wheter  last_condition  \\\n",
       "0                     0              1          1.0             1.0   \n",
       "1                     0              1          3.0             2.0   \n",
       "2                     0              1          1.0             1.0   \n",
       "3                     0              1          1.0             1.0   \n",
       "4                     0              0         -2.0            -2.0   \n",
       "...                 ...            ...          ...             ...   \n",
       "148562                0              0          1.0             1.0   \n",
       "148563                0              1          1.0             1.0   \n",
       "148564                0              1          2.0             3.0   \n",
       "148565                0              0         -2.0            -2.0   \n",
       "148566                0              1          2.0             1.0   \n",
       "\n",
       "        is_first_in_prize  same_cluster_flg  is_same_place  gender_セ  \\\n",
       "0                       0                 0              0         0   \n",
       "1                       0                 0              0         0   \n",
       "2                       0                 0              1         0   \n",
       "3                       0                 0              0         0   \n",
       "4                       1                 0              1         0   \n",
       "...                   ...               ...            ...       ...   \n",
       "148562                  0                 0              1         0   \n",
       "148563                  0                 0              1         0   \n",
       "148564                  0                 0              1         1   \n",
       "148565                  1                 0              1         0   \n",
       "148566                  0                 0              1         0   \n",
       "\n",
       "        gender_牝  gender_牡  place_なし  place_地  place_外  place_東  place_西  \\\n",
       "0              0         1         0        0        0        0        1   \n",
       "1              1         0         0        0        0        0        1   \n",
       "2              0         1         0        0        0        1        0   \n",
       "3              0         1         0        0        0        0        1   \n",
       "4              0         1         0        0        0        1        0   \n",
       "...          ...       ...       ...      ...      ...      ...      ...   \n",
       "148562         1         0         0        0        0        0        1   \n",
       "148563         1         0         0        0        0        0        1   \n",
       "148564         0         0         0        0        0        0        1   \n",
       "148565         0         1         0        0        0        0        1   \n",
       "148566         0         1         0        0        0        0        1   \n",
       "\n",
       "          weight  weight_change_rate  handy_rate  handy_weight       age  \\\n",
       "0      -0.288009            0.000000   -0.587379     -2.828427  0.000000   \n",
       "1      -0.720023           -2.000000    0.775686      0.353553  0.000000   \n",
       "2       1.656053           -2.000000   -1.423689      0.353553  0.000000   \n",
       "3       1.152037           -2.000000   -1.006264      0.353553  0.000000   \n",
       "4      -0.360012           -2.000000    0.401161      0.353553  0.000000   \n",
       "...          ...                 ...         ...           ...       ...   \n",
       "148562 -1.284832            0.718404    1.164040      0.238283  0.301511   \n",
       "148563 -1.482499           -1.193582    1.337010      0.238283  0.301511   \n",
       "148564 -0.494166           -0.525920    1.179090      1.327575  0.301511   \n",
       "148565  2.174331            2.374541   -2.645977     -1.940303 -0.904534   \n",
       "148566  0.494166            0.518752   -0.589242     -0.306364 -0.904534   \n",
       "\n",
       "        interval_days  distance_diff  last_speed  last_uphill_speed  \\\n",
       "0           -1.392631      -2.695819    2.422728          -1.899604   \n",
       "1            2.340805       0.215666   -0.857141           1.311880   \n",
       "2            0.340750       0.215666   -0.410520           0.148863   \n",
       "3            0.340750       0.215666   -0.320337           0.071102   \n",
       "4           -0.459272       1.186161   -2.000000          -2.000000   \n",
       "...               ...            ...         ...                ...   \n",
       "148562      -0.137629       1.025320   -1.612326           0.585796   \n",
       "148563      -0.760433       0.225070   -0.630987          -0.684380   \n",
       "148564      -0.604732      -0.575180    1.401660           2.269097   \n",
       "148565       0.785457       1.025320   -2.000000          -2.000000   \n",
       "148566      -0.682583       0.225070   -1.029546          -0.635895   \n",
       "\n",
       "        last_uphill  last_uphill_samecc  pre_weight_3_mean  got_prize  \\\n",
       "0          0.189358            0.279713           0.000000  -2.000000   \n",
       "1          0.946792            1.013961          -2.000000   1.496492   \n",
       "2         -0.315597           -0.209785          -2.000000   0.299298   \n",
       "3         -0.315597           -0.209785          -2.000000  -1.068923   \n",
       "4         -2.000000           -2.000000          -2.000000  -2.000000   \n",
       "...             ...                 ...                ...        ...   \n",
       "148562    -0.213449           -1.196459          -1.729250  -2.000000   \n",
       "148563    -0.849255           -0.531048          -1.305956  -2.000000   \n",
       "148564     2.584096           -1.196459          -0.382407  -2.000000   \n",
       "148565    -2.000000           -2.000000           1.618616  -2.000000   \n",
       "148566    -0.976416           -0.697401           0.387217  -0.628082   \n",
       "\n",
       "        course_num  last_arrival  p2_arrival  p3_arrival  target  \n",
       "0         0.000000      1.000000    0.000000      -2.000       0  \n",
       "1         0.777778      0.000000   -2.000000      -2.000       1  \n",
       "2         0.222222      0.125000   -2.000000      -2.000       0  \n",
       "3         0.666667      0.375000   -2.000000      -2.000       0  \n",
       "4         1.000000     -2.000000   -2.000000      -2.000       1  \n",
       "...            ...           ...         ...         ...     ...  \n",
       "148562    0.200000      1.000000    0.307692       1.000       0  \n",
       "148563    1.000000      0.538462    0.307692       0.625       0  \n",
       "148564    0.533333      0.769231    0.461538      -2.000       0  \n",
       "148565    0.600000     -2.000000   -2.000000      -2.000       0  \n",
       "148566    0.333333      0.307692   -2.000000      -2.000       0  \n",
       "\n",
       "[133629 rows x 38 columns]"
      ]
     },
     "execution_count": 167,
     "metadata": {},
     "output_type": "execute_result"
    }
   ],
   "source": [
    "df_train"
   ]
  },
  {
   "cell_type": "code",
   "execution_count": 168,
   "metadata": {
    "ExecuteTime": {
     "end_time": "2020-12-06T15:44:19.345691Z",
     "start_time": "2020-12-06T15:44:19.329711Z"
    }
   },
   "outputs": [
    {
     "data": {
      "text/plain": [
       "(56614, 33)"
      ]
     },
     "execution_count": 168,
     "metadata": {},
     "output_type": "execute_result"
    }
   ],
   "source": [
    "X_train.shape"
   ]
  },
  {
   "cell_type": "code",
   "execution_count": 169,
   "metadata": {
    "ExecuteTime": {
     "end_time": "2020-12-06T15:44:19.360858Z",
     "start_time": "2020-12-06T15:44:19.345691Z"
    }
   },
   "outputs": [
    {
     "data": {
      "text/plain": [
       "(133629, 38)"
      ]
     },
     "execution_count": 169,
     "metadata": {},
     "output_type": "execute_result"
    }
   ],
   "source": [
    "df_train.shape"
   ]
  },
  {
   "cell_type": "code",
   "execution_count": 170,
   "metadata": {
    "ExecuteTime": {
     "end_time": "2020-12-06T15:44:20.640939Z",
     "start_time": "2020-12-06T15:44:19.360858Z"
    }
   },
   "outputs": [
    {
     "name": "stdout",
     "output_type": "stream",
     "text": [
      "0.7564492177603688\n"
     ]
    },
    {
     "data": {
      "image/png": "[encoded data removed]",
      "text/plain": [
       "<Figure size 600x400 with 2 Axes>"
      ]
     },
     "metadata": {
      "needs_background": "light"
     },
     "output_type": "display_data"
    }
   ],
   "source": [
    "y_pred_all = model.predict(xgb.DMatrix(df_use[X_cols]))\n",
    "y_all = df_use['target']\n",
    "prob3 = y_pred_all / (y_pred_all + (1 - y_pred_all) / s_rate)\n",
    "\n",
    "print(roc_auc_score(y_all, y_pred_all))\n",
    "\n",
    "prob_true, prob_pred = calibration_curve(y_true=y_all, y_prob=prob3, n_bins=20)\n",
    "fig, ax1 = plt.subplots()\n",
    "ax1.plot(prob_pred, prob_true, marker='s', label='calibration plot', color='skyblue')\n",
    "ax1.plot([0, 1], [0, 1], linestyle='--', label='ideal', color='limegreen')\n",
    "ax1.legend(bbox_to_anchor=(1.12, 1), loc='upper left')\n",
    "ax2 = ax1.twinx()\n",
    "ax2.hist(prob3, bins=20, histtype='step', color='orangered')\n",
    "ax1.set_ylabel('accuracy')\n",
    "ax1.set_xlabel('score')\n",
    "ax2.set_ylabel('frequency')\n",
    "plt.show()"
   ]
  },
  {
   "cell_type": "code",
   "execution_count": 171,
   "metadata": {
    "ExecuteTime": {
     "end_time": "2020-12-06T15:44:21.611951Z",
     "start_time": "2020-12-06T15:44:20.640939Z"
    }
   },
   "outputs": [],
   "source": [
    "df_use['pred_prob'] = prob3\n",
    "df_use[['arrival', '馬名', 'race_id', 'pred_prob']].to_csv(data_path/f'tmp/{dt_now}_all.csv', index=False, encoding='cp932')"
   ]
  },
  {
   "cell_type": "code",
   "execution_count": 172,
   "metadata": {
    "ExecuteTime": {
     "end_time": "2020-12-06T15:44:21.778554Z",
     "start_time": "2020-12-06T15:44:21.615975Z"
    }
   },
   "outputs": [],
   "source": [
    "df_test['pred_prob'] = prob2\n",
    "df_test[['arrival', '馬名', 'race_id', 'pred_prob']].to_csv(data_path/f'tmp/{dt_now}.csv', index=False, encoding='cp932')"
   ]
  },
  {
   "cell_type": "code",
   "execution_count": 174,
   "metadata": {
    "ExecuteTime": {
     "end_time": "2020-12-06T15:44:21.819405Z",
     "start_time": "2020-12-06T15:44:21.804180Z"
    }
   },
   "outputs": [],
   "source": [
    "with open(log_path/'model_config.json', 'w') as f:\n",
    "    json.dump({\n",
    "            'ss_col': ss_col, \n",
    "            'mm_col': mm_col,\n",
    "            'TARGET_VALUE': TARGET_VALUE,\n",
    "            'FILL_VALUE': FILL_VALUE,\n",
    "            'params': params,\n",
    "            'num_round': num_round\n",
    "        },\n",
    "        f,\n",
    "        indent=4\n",
    "    )"
   ]
  },
  {
   "cell_type": "code",
   "execution_count": 175,
   "metadata": {
    "ExecuteTime": {
     "end_time": "2020-12-06T15:44:21.854609Z",
     "start_time": "2020-12-06T15:44:21.819405Z"
    }
   },
   "outputs": [],
   "source": [
    "df_sampling.loc['test', 'num_id'] = len(valid_id)\n",
    "df_sampling.loc['All', 'num_id'] = df_use.race_id.nunique()\n",
    "\n",
    "df_sampling.to_csv(log_path/'data_num.csv', encoding='utf-8-sig')"
   ]
  },
  {
   "cell_type": "code",
   "execution_count": 176,
   "metadata": {
    "ExecuteTime": {
     "end_time": "2020-12-06T15:44:21.870033Z",
     "start_time": "2020-12-06T15:44:21.854609Z"
    }
   },
   "outputs": [],
   "source": [
    "# COMMENT = '標準化と正規化を混ぜた'"
   ]
  },
  {
   "cell_type": "code",
   "execution_count": 177,
   "metadata": {
    "ExecuteTime": {
     "end_time": "2020-12-06T15:44:21.900719Z",
     "start_time": "2020-12-06T15:44:21.870033Z"
    }
   },
   "outputs": [],
   "source": [
    "with open(data_path/'logs/AUC.csv', 'a') as f:\n",
    "    writer = csv.writer(f, lineterminator='\\n') # 行末は改行\n",
    "    writer.writerow([dt_now, roc_auc_score(y_test, y_pred_prob), TARGET_VALUE, COMMENT])"
   ]
  }
 ],
 "metadata": {
  "kernelspec": {
   "display_name": "Python 3",
   "language": "python",
   "name": "python3"
  },
  "language_info": {
   "codemirror_mode": {
    "name": "ipython",
    "version": 3
   },
   "file_extension": ".py",
   "mimetype": "text/x-python",
   "name": "python",
   "nbconvert_exporter": "python",
   "pygments_lexer": "ipython3",
   "version": "3.8.6"
  },
  "toc": {
   "base_numbering": 1,
   "nav_menu": {},
   "number_sections": true,
   "sideBar": true,
   "skip_h1_title": false,
   "title_cell": "Table of Contents",
   "title_sidebar": "Contents",
   "toc_cell": false,
   "toc_position": {},
   "toc_section_display": true,
   "toc_window_display": true
  }
 },
 "nbformat": 4,
 "nbformat_minor": 2
}
